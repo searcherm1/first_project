{
 "cells": [
  {
   "cell_type": "markdown",
   "id": "39f83107",
   "metadata": {},
   "source": [
    "<div style=\"border:solid steelblue 3px; padding: 20px; border-radius: 10px\">\n",
    "\n",
    "**Вячеслав, привет!** 👋\n",
    "\n",
    "Меня зовут Алексей Манелюк, я буду проверять твой проект. В Яндекс Практикуме принято общаться на \"ты\", но если некомфортно - скажи и перейдем на \"Вы\".\n",
    "\n",
    "Моя основная цель - не указать на ошибки, а поделиться опытом и помочь в освоении анализа данных.\n",
    "\n",
    "В тетрадке ты увидишь мои комментарии, пожалуйста, не удаляй, не перемещай и не изменяй их. У комментариев могут быть приписки **V2**, **V3**, **V...**, которые соответствуют каждой версии проверки.\n",
    "\n",
    "Я буду использовать цветовую разметку:\n",
    "<p>\n",
    "<div class=\"alert-danger\" style=\"padding: 20px; border-radius: 10px\">\n",
    "<b>Комментарий ревьюера ❌</b>\n",
    "\n",
    "Так выделены критические замечания. Без их отработки я не смогу принять проект. </div>\n",
    "\n",
    "<div class=\"alert-warning\" style=\"padding: 20px; border-radius: 10px\">\n",
    "<b>  Комментарий ревьюера ⚠️</b>\n",
    "\n",
    "Так выделены небольшие замечания или полезные советы. Постарайся учесть их.</div>\n",
    "<p>\n",
    "<div class=\"alert-success\" style=\"padding: 20px; border-radius: 10px\">\n",
    "<b>Комментарий ревьюера ✔️</b>\n",
    "\n",
    "Так выделены правильные решения.</div>\n",
    "\n",
    "Предлагаю работать в диалоге: если что-то дорабатываешь или отвечаешь на мой комментарий - пиши об этом. Мне будет удобней, если ты выделишь свои комментарии:\n",
    "<p>\n",
    "<div class=\"alert-info\" style=\"padding: 20px; border-radius: 10px\">\n",
    "<b>Комментарий студента 💎</b>\n",
    "\n",
    "Здесь исправил.</div>\n",
    "\n",
    "Все это поможет мне быстрее принять твой проект.</div>"
   ]
  },
  {
   "cell_type": "markdown",
   "id": "bea8fb1f",
   "metadata": {},
   "source": [
    "<div class=\"alert-info\" style=\"padding: 20px; border-radius: 10px\">\n",
    "<b>Комментарий студента 💎</b>\n",
    "\n",
    "Привет, Алексей! Приятно познакомиться! Проверка</div>"
   ]
  },
  {
   "cell_type": "markdown",
   "id": "ebae7017",
   "metadata": {},
   "source": [
    "<div class=\"alert-success\" style=\"padding: 20px; border-radius: 10px\">\n",
    "<b>Комментарий ревьюера V2 ✔️</b>\n",
    "\n",
    "Вячеслав, спасибо за обратную связь! 🤝</div>"
   ]
  },
  {
   "cell_type": "markdown",
   "id": "f08f7c18",
   "metadata": {
    "deletable": false,
    "editable": false,
    "id": "c81daeeb"
   },
   "source": [
    "# Исследование надежности заемщиков\n"
   ]
  },
  {
   "cell_type": "markdown",
   "id": "4f6272d3",
   "metadata": {
    "deletable": false,
    "editable": false,
    "id": "827c20bf"
   },
   "source": [
    "Во второй части проекта вы выполните шаги 3 и 4. Их вручную проверит ревьюер.\n",
    "Чтобы вам не пришлось писать код заново для шагов 1 и 2, мы добавили авторские решения в ячейки с кодом. \n",
    "\n"
   ]
  },
  {
   "cell_type": "markdown",
   "id": "4bab1e8e",
   "metadata": {},
   "source": [
    "Описание данных:\n",
    "- children — количество детей в семье\n",
    "- days_employed — общий трудовой стаж в днях\n",
    "- dob_years — возраст клиента в годах\n",
    "- education — уровень образования клиента\n",
    "- education_id — идентификатор уровня образования\n",
    "- family_status — семейное положение\n",
    "- family_status_id — идентификатор семейного положения\n",
    "- gender — пол клиента\n",
    "- income_type — тип занятости\n",
    "- debt — имел ли задолженность по возврату кредитов\n",
    "- total_income — ежемесячный доход\n",
    "- purpose — цель получения кредита\n"
   ]
  },
  {
   "cell_type": "markdown",
   "id": "61917fa0",
   "metadata": {
    "deletable": false,
    "editable": false,
    "id": "744d7639"
   },
   "source": [
    "## Откройте таблицу и изучите общую информацию о данных"
   ]
  },
  {
   "cell_type": "markdown",
   "id": "8ec442c7",
   "metadata": {
    "deletable": false,
    "editable": false,
    "id": "e7a14c31"
   },
   "source": [
    "**Задание 1. Импортируйте библиотеку pandas. Считайте данные из csv-файла в датафрейм и сохраните в переменную `data`. Путь к файлу:**\n",
    "\n",
    "`/datasets/data.csv`"
   ]
  },
  {
   "cell_type": "code",
   "execution_count": 1,
   "id": "5fd485b3",
   "metadata": {
    "deletable": false,
    "id": "7bcf75c9"
   },
   "outputs": [],
   "source": [
    "import pandas as pd\n",
    "\n",
    "try:\n",
    "    data = pd.read_csv('/datasets/data.csv')\n",
    "except:\n",
    "    data = pd.read_csv('https://code.s3.yandex.net/datasets/data.csv')"
   ]
  },
  {
   "cell_type": "markdown",
   "id": "e02a1e63",
   "metadata": {
    "deletable": false,
    "editable": false,
    "id": "b8038fe3"
   },
   "source": [
    "**Задание 2. Выведите первые 20 строчек датафрейма `data` на экран.**"
   ]
  },
  {
   "cell_type": "code",
   "execution_count": 2,
   "id": "2e958b6c",
   "metadata": {
    "deletable": false,
    "id": "2a7cab99",
    "outputId": "1a8f3ef2-d323-4ec2-ddf7-89670b5944c4"
   },
   "outputs": [
    {
     "data": {
      "text/html": [
       "<div>\n",
       "<style scoped>\n",
       "    .dataframe tbody tr th:only-of-type {\n",
       "        vertical-align: middle;\n",
       "    }\n",
       "\n",
       "    .dataframe tbody tr th {\n",
       "        vertical-align: top;\n",
       "    }\n",
       "\n",
       "    .dataframe thead th {\n",
       "        text-align: right;\n",
       "    }\n",
       "</style>\n",
       "<table border=\"1\" class=\"dataframe\">\n",
       "  <thead>\n",
       "    <tr style=\"text-align: right;\">\n",
       "      <th></th>\n",
       "      <th>children</th>\n",
       "      <th>days_employed</th>\n",
       "      <th>dob_years</th>\n",
       "      <th>education</th>\n",
       "      <th>education_id</th>\n",
       "      <th>family_status</th>\n",
       "      <th>family_status_id</th>\n",
       "      <th>gender</th>\n",
       "      <th>income_type</th>\n",
       "      <th>debt</th>\n",
       "      <th>total_income</th>\n",
       "      <th>purpose</th>\n",
       "    </tr>\n",
       "  </thead>\n",
       "  <tbody>\n",
       "    <tr>\n",
       "      <th>0</th>\n",
       "      <td>1</td>\n",
       "      <td>-8437.673028</td>\n",
       "      <td>42</td>\n",
       "      <td>высшее</td>\n",
       "      <td>0</td>\n",
       "      <td>женат / замужем</td>\n",
       "      <td>0</td>\n",
       "      <td>F</td>\n",
       "      <td>сотрудник</td>\n",
       "      <td>0</td>\n",
       "      <td>253875.639453</td>\n",
       "      <td>покупка жилья</td>\n",
       "    </tr>\n",
       "    <tr>\n",
       "      <th>1</th>\n",
       "      <td>1</td>\n",
       "      <td>-4024.803754</td>\n",
       "      <td>36</td>\n",
       "      <td>среднее</td>\n",
       "      <td>1</td>\n",
       "      <td>женат / замужем</td>\n",
       "      <td>0</td>\n",
       "      <td>F</td>\n",
       "      <td>сотрудник</td>\n",
       "      <td>0</td>\n",
       "      <td>112080.014102</td>\n",
       "      <td>приобретение автомобиля</td>\n",
       "    </tr>\n",
       "    <tr>\n",
       "      <th>2</th>\n",
       "      <td>0</td>\n",
       "      <td>-5623.422610</td>\n",
       "      <td>33</td>\n",
       "      <td>Среднее</td>\n",
       "      <td>1</td>\n",
       "      <td>женат / замужем</td>\n",
       "      <td>0</td>\n",
       "      <td>M</td>\n",
       "      <td>сотрудник</td>\n",
       "      <td>0</td>\n",
       "      <td>145885.952297</td>\n",
       "      <td>покупка жилья</td>\n",
       "    </tr>\n",
       "    <tr>\n",
       "      <th>3</th>\n",
       "      <td>3</td>\n",
       "      <td>-4124.747207</td>\n",
       "      <td>32</td>\n",
       "      <td>среднее</td>\n",
       "      <td>1</td>\n",
       "      <td>женат / замужем</td>\n",
       "      <td>0</td>\n",
       "      <td>M</td>\n",
       "      <td>сотрудник</td>\n",
       "      <td>0</td>\n",
       "      <td>267628.550329</td>\n",
       "      <td>дополнительное образование</td>\n",
       "    </tr>\n",
       "    <tr>\n",
       "      <th>4</th>\n",
       "      <td>0</td>\n",
       "      <td>340266.072047</td>\n",
       "      <td>53</td>\n",
       "      <td>среднее</td>\n",
       "      <td>1</td>\n",
       "      <td>гражданский брак</td>\n",
       "      <td>1</td>\n",
       "      <td>F</td>\n",
       "      <td>пенсионер</td>\n",
       "      <td>0</td>\n",
       "      <td>158616.077870</td>\n",
       "      <td>сыграть свадьбу</td>\n",
       "    </tr>\n",
       "    <tr>\n",
       "      <th>5</th>\n",
       "      <td>0</td>\n",
       "      <td>-926.185831</td>\n",
       "      <td>27</td>\n",
       "      <td>высшее</td>\n",
       "      <td>0</td>\n",
       "      <td>гражданский брак</td>\n",
       "      <td>1</td>\n",
       "      <td>M</td>\n",
       "      <td>компаньон</td>\n",
       "      <td>0</td>\n",
       "      <td>255763.565419</td>\n",
       "      <td>покупка жилья</td>\n",
       "    </tr>\n",
       "    <tr>\n",
       "      <th>6</th>\n",
       "      <td>0</td>\n",
       "      <td>-2879.202052</td>\n",
       "      <td>43</td>\n",
       "      <td>высшее</td>\n",
       "      <td>0</td>\n",
       "      <td>женат / замужем</td>\n",
       "      <td>0</td>\n",
       "      <td>F</td>\n",
       "      <td>компаньон</td>\n",
       "      <td>0</td>\n",
       "      <td>240525.971920</td>\n",
       "      <td>операции с жильем</td>\n",
       "    </tr>\n",
       "    <tr>\n",
       "      <th>7</th>\n",
       "      <td>0</td>\n",
       "      <td>-152.779569</td>\n",
       "      <td>50</td>\n",
       "      <td>СРЕДНЕЕ</td>\n",
       "      <td>1</td>\n",
       "      <td>женат / замужем</td>\n",
       "      <td>0</td>\n",
       "      <td>M</td>\n",
       "      <td>сотрудник</td>\n",
       "      <td>0</td>\n",
       "      <td>135823.934197</td>\n",
       "      <td>образование</td>\n",
       "    </tr>\n",
       "    <tr>\n",
       "      <th>8</th>\n",
       "      <td>2</td>\n",
       "      <td>-6929.865299</td>\n",
       "      <td>35</td>\n",
       "      <td>ВЫСШЕЕ</td>\n",
       "      <td>0</td>\n",
       "      <td>гражданский брак</td>\n",
       "      <td>1</td>\n",
       "      <td>F</td>\n",
       "      <td>сотрудник</td>\n",
       "      <td>0</td>\n",
       "      <td>95856.832424</td>\n",
       "      <td>на проведение свадьбы</td>\n",
       "    </tr>\n",
       "    <tr>\n",
       "      <th>9</th>\n",
       "      <td>0</td>\n",
       "      <td>-2188.756445</td>\n",
       "      <td>41</td>\n",
       "      <td>среднее</td>\n",
       "      <td>1</td>\n",
       "      <td>женат / замужем</td>\n",
       "      <td>0</td>\n",
       "      <td>M</td>\n",
       "      <td>сотрудник</td>\n",
       "      <td>0</td>\n",
       "      <td>144425.938277</td>\n",
       "      <td>покупка жилья для семьи</td>\n",
       "    </tr>\n",
       "    <tr>\n",
       "      <th>10</th>\n",
       "      <td>2</td>\n",
       "      <td>-4171.483647</td>\n",
       "      <td>36</td>\n",
       "      <td>высшее</td>\n",
       "      <td>0</td>\n",
       "      <td>женат / замужем</td>\n",
       "      <td>0</td>\n",
       "      <td>M</td>\n",
       "      <td>компаньон</td>\n",
       "      <td>0</td>\n",
       "      <td>113943.491460</td>\n",
       "      <td>покупка недвижимости</td>\n",
       "    </tr>\n",
       "    <tr>\n",
       "      <th>11</th>\n",
       "      <td>0</td>\n",
       "      <td>-792.701887</td>\n",
       "      <td>40</td>\n",
       "      <td>среднее</td>\n",
       "      <td>1</td>\n",
       "      <td>женат / замужем</td>\n",
       "      <td>0</td>\n",
       "      <td>F</td>\n",
       "      <td>сотрудник</td>\n",
       "      <td>0</td>\n",
       "      <td>77069.234271</td>\n",
       "      <td>покупка коммерческой недвижимости</td>\n",
       "    </tr>\n",
       "    <tr>\n",
       "      <th>12</th>\n",
       "      <td>0</td>\n",
       "      <td>NaN</td>\n",
       "      <td>65</td>\n",
       "      <td>среднее</td>\n",
       "      <td>1</td>\n",
       "      <td>гражданский брак</td>\n",
       "      <td>1</td>\n",
       "      <td>M</td>\n",
       "      <td>пенсионер</td>\n",
       "      <td>0</td>\n",
       "      <td>NaN</td>\n",
       "      <td>сыграть свадьбу</td>\n",
       "    </tr>\n",
       "    <tr>\n",
       "      <th>13</th>\n",
       "      <td>0</td>\n",
       "      <td>-1846.641941</td>\n",
       "      <td>54</td>\n",
       "      <td>неоконченное высшее</td>\n",
       "      <td>2</td>\n",
       "      <td>женат / замужем</td>\n",
       "      <td>0</td>\n",
       "      <td>F</td>\n",
       "      <td>сотрудник</td>\n",
       "      <td>0</td>\n",
       "      <td>130458.228857</td>\n",
       "      <td>приобретение автомобиля</td>\n",
       "    </tr>\n",
       "    <tr>\n",
       "      <th>14</th>\n",
       "      <td>0</td>\n",
       "      <td>-1844.956182</td>\n",
       "      <td>56</td>\n",
       "      <td>высшее</td>\n",
       "      <td>0</td>\n",
       "      <td>гражданский брак</td>\n",
       "      <td>1</td>\n",
       "      <td>F</td>\n",
       "      <td>компаньон</td>\n",
       "      <td>1</td>\n",
       "      <td>165127.911772</td>\n",
       "      <td>покупка жилой недвижимости</td>\n",
       "    </tr>\n",
       "    <tr>\n",
       "      <th>15</th>\n",
       "      <td>1</td>\n",
       "      <td>-972.364419</td>\n",
       "      <td>26</td>\n",
       "      <td>среднее</td>\n",
       "      <td>1</td>\n",
       "      <td>женат / замужем</td>\n",
       "      <td>0</td>\n",
       "      <td>F</td>\n",
       "      <td>сотрудник</td>\n",
       "      <td>0</td>\n",
       "      <td>116820.904450</td>\n",
       "      <td>строительство собственной недвижимости</td>\n",
       "    </tr>\n",
       "    <tr>\n",
       "      <th>16</th>\n",
       "      <td>0</td>\n",
       "      <td>-1719.934226</td>\n",
       "      <td>35</td>\n",
       "      <td>среднее</td>\n",
       "      <td>1</td>\n",
       "      <td>женат / замужем</td>\n",
       "      <td>0</td>\n",
       "      <td>F</td>\n",
       "      <td>сотрудник</td>\n",
       "      <td>0</td>\n",
       "      <td>289202.704229</td>\n",
       "      <td>недвижимость</td>\n",
       "    </tr>\n",
       "    <tr>\n",
       "      <th>17</th>\n",
       "      <td>0</td>\n",
       "      <td>-2369.999720</td>\n",
       "      <td>33</td>\n",
       "      <td>высшее</td>\n",
       "      <td>0</td>\n",
       "      <td>гражданский брак</td>\n",
       "      <td>1</td>\n",
       "      <td>M</td>\n",
       "      <td>сотрудник</td>\n",
       "      <td>0</td>\n",
       "      <td>90410.586745</td>\n",
       "      <td>строительство недвижимости</td>\n",
       "    </tr>\n",
       "    <tr>\n",
       "      <th>18</th>\n",
       "      <td>0</td>\n",
       "      <td>400281.136913</td>\n",
       "      <td>53</td>\n",
       "      <td>среднее</td>\n",
       "      <td>1</td>\n",
       "      <td>вдовец / вдова</td>\n",
       "      <td>2</td>\n",
       "      <td>F</td>\n",
       "      <td>пенсионер</td>\n",
       "      <td>0</td>\n",
       "      <td>56823.777243</td>\n",
       "      <td>на покупку подержанного автомобиля</td>\n",
       "    </tr>\n",
       "    <tr>\n",
       "      <th>19</th>\n",
       "      <td>0</td>\n",
       "      <td>-10038.818549</td>\n",
       "      <td>48</td>\n",
       "      <td>СРЕДНЕЕ</td>\n",
       "      <td>1</td>\n",
       "      <td>в разводе</td>\n",
       "      <td>3</td>\n",
       "      <td>F</td>\n",
       "      <td>сотрудник</td>\n",
       "      <td>0</td>\n",
       "      <td>242831.107982</td>\n",
       "      <td>на покупку своего автомобиля</td>\n",
       "    </tr>\n",
       "  </tbody>\n",
       "</table>\n",
       "</div>"
      ],
      "text/plain": [
       "    children  days_employed  dob_years            education  education_id  \\\n",
       "0          1   -8437.673028         42               высшее             0   \n",
       "1          1   -4024.803754         36              среднее             1   \n",
       "2          0   -5623.422610         33              Среднее             1   \n",
       "3          3   -4124.747207         32              среднее             1   \n",
       "4          0  340266.072047         53              среднее             1   \n",
       "5          0    -926.185831         27               высшее             0   \n",
       "6          0   -2879.202052         43               высшее             0   \n",
       "7          0    -152.779569         50              СРЕДНЕЕ             1   \n",
       "8          2   -6929.865299         35               ВЫСШЕЕ             0   \n",
       "9          0   -2188.756445         41              среднее             1   \n",
       "10         2   -4171.483647         36               высшее             0   \n",
       "11         0    -792.701887         40              среднее             1   \n",
       "12         0            NaN         65              среднее             1   \n",
       "13         0   -1846.641941         54  неоконченное высшее             2   \n",
       "14         0   -1844.956182         56               высшее             0   \n",
       "15         1    -972.364419         26              среднее             1   \n",
       "16         0   -1719.934226         35              среднее             1   \n",
       "17         0   -2369.999720         33               высшее             0   \n",
       "18         0  400281.136913         53              среднее             1   \n",
       "19         0  -10038.818549         48              СРЕДНЕЕ             1   \n",
       "\n",
       "       family_status  family_status_id gender income_type  debt  \\\n",
       "0    женат / замужем                 0      F   сотрудник     0   \n",
       "1    женат / замужем                 0      F   сотрудник     0   \n",
       "2    женат / замужем                 0      M   сотрудник     0   \n",
       "3    женат / замужем                 0      M   сотрудник     0   \n",
       "4   гражданский брак                 1      F   пенсионер     0   \n",
       "5   гражданский брак                 1      M   компаньон     0   \n",
       "6    женат / замужем                 0      F   компаньон     0   \n",
       "7    женат / замужем                 0      M   сотрудник     0   \n",
       "8   гражданский брак                 1      F   сотрудник     0   \n",
       "9    женат / замужем                 0      M   сотрудник     0   \n",
       "10   женат / замужем                 0      M   компаньон     0   \n",
       "11   женат / замужем                 0      F   сотрудник     0   \n",
       "12  гражданский брак                 1      M   пенсионер     0   \n",
       "13   женат / замужем                 0      F   сотрудник     0   \n",
       "14  гражданский брак                 1      F   компаньон     1   \n",
       "15   женат / замужем                 0      F   сотрудник     0   \n",
       "16   женат / замужем                 0      F   сотрудник     0   \n",
       "17  гражданский брак                 1      M   сотрудник     0   \n",
       "18    вдовец / вдова                 2      F   пенсионер     0   \n",
       "19         в разводе                 3      F   сотрудник     0   \n",
       "\n",
       "     total_income                                 purpose  \n",
       "0   253875.639453                           покупка жилья  \n",
       "1   112080.014102                 приобретение автомобиля  \n",
       "2   145885.952297                           покупка жилья  \n",
       "3   267628.550329              дополнительное образование  \n",
       "4   158616.077870                         сыграть свадьбу  \n",
       "5   255763.565419                           покупка жилья  \n",
       "6   240525.971920                       операции с жильем  \n",
       "7   135823.934197                             образование  \n",
       "8    95856.832424                   на проведение свадьбы  \n",
       "9   144425.938277                 покупка жилья для семьи  \n",
       "10  113943.491460                    покупка недвижимости  \n",
       "11   77069.234271       покупка коммерческой недвижимости  \n",
       "12            NaN                         сыграть свадьбу  \n",
       "13  130458.228857                 приобретение автомобиля  \n",
       "14  165127.911772              покупка жилой недвижимости  \n",
       "15  116820.904450  строительство собственной недвижимости  \n",
       "16  289202.704229                            недвижимость  \n",
       "17   90410.586745              строительство недвижимости  \n",
       "18   56823.777243      на покупку подержанного автомобиля  \n",
       "19  242831.107982            на покупку своего автомобиля  "
      ]
     },
     "execution_count": 2,
     "metadata": {},
     "output_type": "execute_result"
    }
   ],
   "source": [
    "data.head(20)"
   ]
  },
  {
   "cell_type": "markdown",
   "id": "15e09776",
   "metadata": {
    "deletable": false,
    "editable": false,
    "id": "1c12e233"
   },
   "source": [
    "**Задание 3. Выведите основную информацию о датафрейме с помощью метода `info()`.**"
   ]
  },
  {
   "cell_type": "code",
   "execution_count": 3,
   "id": "d65eb323",
   "metadata": {
    "deletable": false,
    "id": "2b757bca",
    "outputId": "15376089-8dad-46c9-b520-c05248d43158"
   },
   "outputs": [
    {
     "name": "stdout",
     "output_type": "stream",
     "text": [
      "<class 'pandas.core.frame.DataFrame'>\n",
      "RangeIndex: 21525 entries, 0 to 21524\n",
      "Data columns (total 12 columns):\n",
      " #   Column            Non-Null Count  Dtype  \n",
      "---  ------            --------------  -----  \n",
      " 0   children          21525 non-null  int64  \n",
      " 1   days_employed     19351 non-null  float64\n",
      " 2   dob_years         21525 non-null  int64  \n",
      " 3   education         21525 non-null  object \n",
      " 4   education_id      21525 non-null  int64  \n",
      " 5   family_status     21525 non-null  object \n",
      " 6   family_status_id  21525 non-null  int64  \n",
      " 7   gender            21525 non-null  object \n",
      " 8   income_type       21525 non-null  object \n",
      " 9   debt              21525 non-null  int64  \n",
      " 10  total_income      19351 non-null  float64\n",
      " 11  purpose           21525 non-null  object \n",
      "dtypes: float64(2), int64(5), object(5)\n",
      "memory usage: 2.0+ MB\n"
     ]
    }
   ],
   "source": [
    "data.info()"
   ]
  },
  {
   "cell_type": "markdown",
   "id": "c7021646",
   "metadata": {
    "deletable": false,
    "editable": false,
    "id": "333ec665"
   },
   "source": [
    "## Предобработка данных"
   ]
  },
  {
   "cell_type": "markdown",
   "id": "afce6709",
   "metadata": {
    "deletable": false,
    "editable": false,
    "id": "02d92d53"
   },
   "source": [
    "### Удаление пропусков"
   ]
  },
  {
   "cell_type": "markdown",
   "id": "a0d106d7",
   "metadata": {
    "deletable": false,
    "editable": false,
    "id": "cd84967c"
   },
   "source": [
    "**Задание 4. Выведите количество пропущенных значений для каждого столбца. Используйте комбинацию двух методов.**"
   ]
  },
  {
   "cell_type": "code",
   "execution_count": 4,
   "id": "1b63e5cf",
   "metadata": {
    "deletable": false,
    "id": "7f9b2309",
    "outputId": "81f4d817-781c-465c-ed15-91ce4446810d"
   },
   "outputs": [
    {
     "data": {
      "text/plain": [
       "children               0\n",
       "days_employed       2174\n",
       "dob_years              0\n",
       "education              0\n",
       "education_id           0\n",
       "family_status          0\n",
       "family_status_id       0\n",
       "gender                 0\n",
       "income_type            0\n",
       "debt                   0\n",
       "total_income        2174\n",
       "purpose                0\n",
       "dtype: int64"
      ]
     },
     "execution_count": 4,
     "metadata": {},
     "output_type": "execute_result"
    }
   ],
   "source": [
    "data.isna().sum()"
   ]
  },
  {
   "cell_type": "markdown",
   "id": "ce3edc80",
   "metadata": {},
   "source": [
    "Для анализа природы пропусков определим их закономерность. Видя совпадение количества пропусков в столбцах days_employed и total_income проверим, совпадают ли их строки:"
   ]
  },
  {
   "cell_type": "code",
   "execution_count": 5,
   "id": "cfeebbb9",
   "metadata": {},
   "outputs": [
    {
     "data": {
      "text/plain": [
       "2174"
      ]
     },
     "execution_count": 5,
     "metadata": {},
     "output_type": "execute_result"
    }
   ],
   "source": [
    "cond = (data['days_employed'].isna()) & (data['total_income'].isna())\n",
    "data.loc[cond, 'income_type'].count()"
   ]
  },
  {
   "cell_type": "markdown",
   "id": "f92499d8",
   "metadata": {},
   "source": [
    "Как видно, пропуски в обоих столбцах для одних и тех же строк."
   ]
  },
  {
   "cell_type": "markdown",
   "id": "e7d91053",
   "metadata": {
    "deletable": false,
    "editable": false,
    "id": "db86e27b"
   },
   "source": [
    "**Задание 5. В двух столбцах есть пропущенные значения. Один из них — `days_employed`. Пропуски в этом столбце вы обработаете на следующем этапе. Другой столбец с пропущенными значениями — `total_income` — хранит данные о доходах. На сумму дохода сильнее всего влияет тип занятости, поэтому заполнить пропуски в этом столбце нужно медианным значением по каждому типу из столбца `income_type`. Например, у человека с типом занятости `сотрудник` пропуск в столбце `total_income` должен быть заполнен медианным доходом среди всех записей с тем же типом.**"
   ]
  },
  {
   "cell_type": "code",
   "execution_count": 6,
   "id": "4056b252",
   "metadata": {
    "deletable": false,
    "id": "42006a93"
   },
   "outputs": [],
   "source": [
    "for t in data['income_type'].unique():\n",
    "    data.loc[(data['income_type'] == t) & (data['total_income'].isna()), 'total_income'] = \\\n",
    "    data.loc[(data['income_type'] == t), 'total_income'].median()"
   ]
  },
  {
   "cell_type": "markdown",
   "id": "e7c9839d",
   "metadata": {
    "deletable": false,
    "editable": false,
    "id": "89da5ece"
   },
   "source": [
    "### Обработка аномальных значений"
   ]
  },
  {
   "cell_type": "markdown",
   "id": "21c095f5",
   "metadata": {
    "deletable": false,
    "editable": false,
    "id": "57964554"
   },
   "source": [
    "**Задание 6. В данных могут встречаться артефакты (аномалии) — значения, которые не отражают действительность и появились по какой-то ошибке. таким артефактом будет отрицательное количество дней трудового стажа в столбце `days_employed`. Для реальных данных это нормально. Обработайте значения в этом столбце: замените все отрицательные значения положительными с помощью метода `abs()`.**"
   ]
  },
  {
   "cell_type": "code",
   "execution_count": 7,
   "id": "8008e567",
   "metadata": {
    "deletable": false,
    "id": "f6f055bf"
   },
   "outputs": [],
   "source": [
    "data['days_employed'] = data['days_employed'].abs()"
   ]
  },
  {
   "cell_type": "markdown",
   "id": "6498d261",
   "metadata": {
    "deletable": false,
    "editable": false,
    "id": "6107dd2f"
   },
   "source": [
    "**Задание 7. Для каждого типа занятости выведите медианное значение трудового стажа `days_employed` в днях.**"
   ]
  },
  {
   "cell_type": "code",
   "execution_count": 8,
   "id": "164ba730",
   "metadata": {
    "deletable": false,
    "id": "85a5faf6",
    "outputId": "801ef80e-522b-4668-f34e-565af7432bcf"
   },
   "outputs": [
    {
     "data": {
      "text/plain": [
       "income_type\n",
       "безработный        366413.652744\n",
       "в декрете            3296.759962\n",
       "госслужащий          2689.368353\n",
       "компаньон            1547.382223\n",
       "пенсионер          365213.306266\n",
       "предприниматель       520.848083\n",
       "сотрудник            1574.202821\n",
       "студент               578.751554\n",
       "Name: days_employed, dtype: float64"
      ]
     },
     "execution_count": 8,
     "metadata": {},
     "output_type": "execute_result"
    }
   ],
   "source": [
    "data.groupby('income_type')['days_employed'].agg('median')"
   ]
  },
  {
   "cell_type": "markdown",
   "id": "4e634240",
   "metadata": {
    "deletable": false,
    "editable": false,
    "id": "38d1a030"
   },
   "source": [
    "У двух типов (безработные и пенсионеры) получатся аномально большие значения. Исправить такие значения сложно, поэтому оставьте их как есть. Тем более этот столбец не понадобится вам для исследования."
   ]
  },
  {
   "cell_type": "markdown",
   "id": "a153b017",
   "metadata": {
    "deletable": false,
    "editable": false,
    "id": "d8a9f147"
   },
   "source": [
    "**Задание 8. Выведите перечень уникальных значений столбца `children`.**"
   ]
  },
  {
   "cell_type": "code",
   "execution_count": 9,
   "id": "611f30ac",
   "metadata": {
    "deletable": false,
    "id": "ef5056eb",
    "outputId": "6975b15c-7f95-4697-d16d-a0c79b657b03"
   },
   "outputs": [
    {
     "data": {
      "text/plain": [
       "array([ 1,  0,  3,  2, -1,  4, 20,  5])"
      ]
     },
     "execution_count": 9,
     "metadata": {},
     "output_type": "execute_result"
    }
   ],
   "source": [
    "data['children'].unique()"
   ]
  },
  {
   "cell_type": "markdown",
   "id": "ad49c014",
   "metadata": {
    "deletable": false,
    "editable": false,
    "id": "40b9ebf2"
   },
   "source": [
    "**Задание 9. В столбце `children` есть два аномальных значения. Удалите строки, в которых встречаются такие аномальные значения из датафрейма `data`.**"
   ]
  },
  {
   "cell_type": "code",
   "execution_count": 10,
   "id": "600de478",
   "metadata": {
    "deletable": false,
    "id": "3ff9801d"
   },
   "outputs": [],
   "source": [
    "data = data[(data['children'] != -1) & (data['children'] != 20)]"
   ]
  },
  {
   "cell_type": "markdown",
   "id": "21f9e3c5",
   "metadata": {
    "deletable": false,
    "editable": false,
    "id": "bbc4d0ce"
   },
   "source": [
    "**Задание 10. Ещё раз выведите перечень уникальных значений столбца `children`, чтобы убедиться, что артефакты удалены.**"
   ]
  },
  {
   "cell_type": "code",
   "execution_count": 11,
   "id": "be4daf5a",
   "metadata": {
    "deletable": false,
    "id": "ad4fa8b7",
    "outputId": "b2097101-d49d-44d9-901b-32a65c9463d1"
   },
   "outputs": [
    {
     "data": {
      "text/plain": [
       "array([1, 0, 3, 2, 4, 5])"
      ]
     },
     "execution_count": 11,
     "metadata": {},
     "output_type": "execute_result"
    }
   ],
   "source": [
    "data['children'].unique()"
   ]
  },
  {
   "cell_type": "markdown",
   "id": "9057dde4",
   "metadata": {
    "deletable": false,
    "editable": false,
    "id": "75440b63"
   },
   "source": [
    "### Удаление пропусков (продолжение)"
   ]
  },
  {
   "cell_type": "markdown",
   "id": "457ce69f",
   "metadata": {
    "deletable": false,
    "editable": false,
    "id": "f4ea573f"
   },
   "source": [
    "**Задание 11. Заполните пропуски в столбце `days_employed` медианными значениями по каждого типа занятости `income_type`.**"
   ]
  },
  {
   "cell_type": "code",
   "execution_count": 12,
   "id": "d735099b",
   "metadata": {
    "deletable": false,
    "id": "af6b1a7e"
   },
   "outputs": [],
   "source": [
    "for t in data['income_type'].unique():\n",
    "    data.loc[(data['income_type'] == t) & (data['days_employed'].isna()), 'days_employed'] = \\\n",
    "    data.loc[(data['income_type'] == t), 'days_employed'].median()"
   ]
  },
  {
   "cell_type": "markdown",
   "id": "a4bf48e4",
   "metadata": {
    "deletable": false,
    "editable": false,
    "id": "2753f40d"
   },
   "source": [
    "**Задание 12. Убедитесь, что все пропуски заполнены. Проверьте себя и ещё раз выведите количество пропущенных значений для каждого столбца с помощью двух методов.**"
   ]
  },
  {
   "cell_type": "code",
   "execution_count": 13,
   "id": "8a5ceaf7",
   "metadata": {
    "deletable": false,
    "id": "55f78bc2",
    "outputId": "8da1e4e1-358e-4e87-98c9-f261bce0a7b2"
   },
   "outputs": [
    {
     "data": {
      "text/plain": [
       "children            0\n",
       "days_employed       0\n",
       "dob_years           0\n",
       "education           0\n",
       "education_id        0\n",
       "family_status       0\n",
       "family_status_id    0\n",
       "gender              0\n",
       "income_type         0\n",
       "debt                0\n",
       "total_income        0\n",
       "purpose             0\n",
       "dtype: int64"
      ]
     },
     "execution_count": 13,
     "metadata": {},
     "output_type": "execute_result"
    }
   ],
   "source": [
    "data.isna().sum()"
   ]
  },
  {
   "cell_type": "markdown",
   "id": "916e4dd7",
   "metadata": {
    "deletable": false,
    "editable": false,
    "id": "ddc81e43"
   },
   "source": [
    "### Изменение типов данных"
   ]
  },
  {
   "cell_type": "markdown",
   "id": "238bd6e1",
   "metadata": {
    "deletable": false,
    "editable": false,
    "id": "42d19d24"
   },
   "source": [
    "**Задание 13. Замените вещественный тип данных в столбце `total_income` на целочисленный с помощью метода `astype()`.**"
   ]
  },
  {
   "cell_type": "code",
   "execution_count": 14,
   "id": "110937a0",
   "metadata": {
    "deletable": false,
    "id": "920b65ad"
   },
   "outputs": [],
   "source": [
    "data['total_income'] = data['total_income'].astype(int)"
   ]
  },
  {
   "cell_type": "markdown",
   "id": "98f61c4e",
   "metadata": {
    "deletable": false,
    "editable": false,
    "id": "80c420ba"
   },
   "source": [
    "### Обработка дубликатов"
   ]
  },
  {
   "cell_type": "markdown",
   "id": "0e5b62db",
   "metadata": {
    "deletable": false,
    "editable": false
   },
   "source": [
    "**Задание 14. Обработайте неявные дубликаты в столбце `education`. В этом столбце есть одни и те же значения, но записанные по-разному: с использованием заглавных и строчных букв. Приведите их к нижнему регистру. Проверьте остальные столбцы.**"
   ]
  },
  {
   "cell_type": "code",
   "execution_count": 15,
   "id": "6a1cec8f",
   "metadata": {
    "deletable": false
   },
   "outputs": [],
   "source": [
    "data['education'] = data['education'].str.lower()"
   ]
  },
  {
   "cell_type": "markdown",
   "id": "06997b6b",
   "metadata": {
    "deletable": false,
    "editable": false,
    "id": "dc587695"
   },
   "source": [
    "**Задание 15. Выведите на экран количество строк-дубликатов в данных. Если такие строки присутствуют, удалите их.**"
   ]
  },
  {
   "cell_type": "code",
   "execution_count": 16,
   "id": "b2c92dd2",
   "metadata": {
    "deletable": false,
    "id": "3ee445e4",
    "outputId": "9684deba-1934-42d1-99e1-cda61740f822"
   },
   "outputs": [
    {
     "data": {
      "text/plain": [
       "71"
      ]
     },
     "execution_count": 16,
     "metadata": {},
     "output_type": "execute_result"
    }
   ],
   "source": [
    "data.duplicated().sum()"
   ]
  },
  {
   "cell_type": "code",
   "execution_count": 17,
   "id": "586fc363",
   "metadata": {
    "deletable": false,
    "id": "8575fe05"
   },
   "outputs": [],
   "source": [
    "data = data.drop_duplicates()"
   ]
  },
  {
   "cell_type": "markdown",
   "id": "bcbaccc4",
   "metadata": {
    "deletable": false,
    "editable": false,
    "id": "9904cf55"
   },
   "source": [
    "### Категоризация данных"
   ]
  },
  {
   "cell_type": "markdown",
   "id": "c8d3902a",
   "metadata": {
    "deletable": false,
    "editable": false,
    "id": "72fcc8a2"
   },
   "source": [
    "**Задание 16. На основании диапазонов, указанных ниже, создайте в датафрейме `data` столбец `total_income_category` с категориями:**\n",
    "\n",
    "- 0–30000 — `'E'`;\n",
    "- 30001–50000 — `'D'`;\n",
    "- 50001–200000 — `'C'`;\n",
    "- 200001–1000000 — `'B'`;\n",
    "- 1000001 и выше — `'A'`.\n",
    "\n",
    "\n",
    "**Например, кредитополучателю с доходом 25000 нужно назначить категорию `'E'`, а клиенту, получающему 235000, — `'B'`. Используйте собственную функцию с именем `categorize_income()` и метод `apply()`.**"
   ]
  },
  {
   "cell_type": "code",
   "execution_count": 18,
   "id": "91c929c8",
   "metadata": {
    "deletable": false,
    "id": "e1771346"
   },
   "outputs": [],
   "source": [
    "def categorize_income(income):\n",
    "    try:\n",
    "        if 0 <= income <= 30000:\n",
    "            return 'E'\n",
    "        elif 30001 <= income <= 50000:\n",
    "            return 'D'\n",
    "        elif 50001 <= income <= 200000:\n",
    "            return 'C'\n",
    "        elif 200001 <= income <= 1000000:\n",
    "            return 'B'\n",
    "        elif income >= 1000001:\n",
    "            return 'A'\n",
    "    except:\n",
    "        pass"
   ]
  },
  {
   "cell_type": "code",
   "execution_count": 19,
   "id": "39c8932b",
   "metadata": {
    "deletable": false,
    "id": "d5f3586d"
   },
   "outputs": [],
   "source": [
    "data['total_income_category'] = data['total_income'].apply(categorize_income)"
   ]
  },
  {
   "cell_type": "markdown",
   "id": "b718a438",
   "metadata": {
    "deletable": false,
    "editable": false,
    "id": "dde49b5c"
   },
   "source": [
    "**Задание 17. Выведите на экран перечень уникальных целей взятия кредита из столбца `purpose`.**"
   ]
  },
  {
   "cell_type": "code",
   "execution_count": 20,
   "id": "87fbfa87",
   "metadata": {
    "deletable": false,
    "id": "f67ce9b3",
    "outputId": "673c12d9-7d7e-4ae0-9812-c622c89dd244"
   },
   "outputs": [
    {
     "data": {
      "text/plain": [
       "array(['покупка жилья', 'приобретение автомобиля',\n",
       "       'дополнительное образование', 'сыграть свадьбу',\n",
       "       'операции с жильем', 'образование', 'на проведение свадьбы',\n",
       "       'покупка жилья для семьи', 'покупка недвижимости',\n",
       "       'покупка коммерческой недвижимости', 'покупка жилой недвижимости',\n",
       "       'строительство собственной недвижимости', 'недвижимость',\n",
       "       'строительство недвижимости', 'на покупку подержанного автомобиля',\n",
       "       'на покупку своего автомобиля',\n",
       "       'операции с коммерческой недвижимостью',\n",
       "       'строительство жилой недвижимости', 'жилье',\n",
       "       'операции со своей недвижимостью', 'автомобили',\n",
       "       'заняться образованием', 'сделка с подержанным автомобилем',\n",
       "       'получение образования', 'автомобиль', 'свадьба',\n",
       "       'получение дополнительного образования', 'покупка своего жилья',\n",
       "       'операции с недвижимостью', 'получение высшего образования',\n",
       "       'свой автомобиль', 'сделка с автомобилем',\n",
       "       'профильное образование', 'высшее образование',\n",
       "       'покупка жилья для сдачи', 'на покупку автомобиля', 'ремонт жилью',\n",
       "       'заняться высшим образованием'], dtype=object)"
      ]
     },
     "execution_count": 20,
     "metadata": {},
     "output_type": "execute_result"
    }
   ],
   "source": [
    "data['purpose'].unique()"
   ]
  },
  {
   "cell_type": "markdown",
   "id": "21d0a6ba",
   "metadata": {
    "deletable": false,
    "editable": false,
    "id": "85d0aef0"
   },
   "source": [
    "**Задание 18. Создайте функцию, которая на основании данных из столбца `purpose` сформирует новый столбец `purpose_category`, в который войдут следующие категории:**\n",
    "\n",
    "- `'операции с автомобилем'`,\n",
    "- `'операции с недвижимостью'`,\n",
    "- `'проведение свадьбы'`,\n",
    "- `'получение образования'`.\n",
    "\n",
    "**Например, если в столбце `purpose` находится подстрока `'на покупку автомобиля'`, то в столбце `purpose_category` должна появиться строка `'операции с автомобилем'`.**\n",
    "\n",
    "**Используйте собственную функцию с именем `categorize_purpose()` и метод `apply()`. Изучите данные в столбце `purpose` и определите, какие подстроки помогут вам правильно определить категорию.**"
   ]
  },
  {
   "cell_type": "code",
   "execution_count": 21,
   "id": "49ae3eb3",
   "metadata": {
    "deletable": false,
    "id": "e149fab4"
   },
   "outputs": [],
   "source": [
    "def categorize_purpose(row):\n",
    "    try:\n",
    "        if 'автом' in row:\n",
    "            return 'операции с автомобилем'\n",
    "        elif 'жил' in row or 'недвиж' in row:\n",
    "            return 'операции с недвижимостью'\n",
    "        elif 'свад' in row:\n",
    "            return 'проведение свадьбы'\n",
    "        elif 'образов' in row:\n",
    "            return 'получение образования'\n",
    "    except:\n",
    "        return 'нет категории'"
   ]
  },
  {
   "cell_type": "code",
   "execution_count": 22,
   "id": "b7eccdb5",
   "metadata": {
    "deletable": false,
    "id": "bf36e69b"
   },
   "outputs": [],
   "source": [
    "data['purpose_category'] = data['purpose'].apply(categorize_purpose)"
   ]
  },
  {
   "cell_type": "markdown",
   "id": "7a1d8b60",
   "metadata": {
    "deletable": false,
    "editable": false,
    "id": "09b242bf"
   },
   "source": [
    "### Шаг 3. Исследуйте данные и ответьте на вопросы"
   ]
  },
  {
   "cell_type": "markdown",
   "id": "fdf42c2f",
   "metadata": {
    "deletable": false,
    "editable": false,
    "id": "c5d66278"
   },
   "source": [
    "#### 3.1 Есть ли зависимость между количеством детей и возвратом кредита в срок?"
   ]
  },
  {
   "cell_type": "markdown",
   "id": "8cf149bf",
   "metadata": {},
   "source": [
    "Для ответа на вопрос о наличии зависимости возврата крелдита в срок от количества детей создаю сводную таблицу, в которой для групп заемщиков по количеству детей выводятся следующие столбцы:\n",
    "- 'arrear_quantaty' - количество просрочек; \n",
    "- 'loans_quantaty' - общее количество взятых кредитов;\n",
    "- 'intime_return_precent' - процент возврата кредита в срок. \n",
    "\n",
    "По столбцу 'intime_return_precent' будет осуществляться сравнение категорий для анализа наличия зависимости."
   ]
  },
  {
   "cell_type": "code",
   "execution_count": 23,
   "id": "2dd5e6ea",
   "metadata": {
    "deletable": false,
    "id": "2cacfc4a"
   },
   "outputs": [
    {
     "data": {
      "text/html": [
       "<div>\n",
       "<style scoped>\n",
       "    .dataframe tbody tr th:only-of-type {\n",
       "        vertical-align: middle;\n",
       "    }\n",
       "\n",
       "    .dataframe tbody tr th {\n",
       "        vertical-align: top;\n",
       "    }\n",
       "\n",
       "    .dataframe thead th {\n",
       "        text-align: right;\n",
       "    }\n",
       "</style>\n",
       "<table border=\"1\" class=\"dataframe\">\n",
       "  <thead>\n",
       "    <tr style=\"text-align: right;\">\n",
       "      <th></th>\n",
       "      <th>num_of_kids</th>\n",
       "      <th>arrear_quantaty</th>\n",
       "      <th>loans_quantaty</th>\n",
       "      <th>intime_return_precent</th>\n",
       "    </tr>\n",
       "  </thead>\n",
       "  <tbody>\n",
       "    <tr>\n",
       "      <th>0</th>\n",
       "      <td>0</td>\n",
       "      <td>1063</td>\n",
       "      <td>14091</td>\n",
       "      <td>92.46</td>\n",
       "    </tr>\n",
       "    <tr>\n",
       "      <th>1</th>\n",
       "      <td>1</td>\n",
       "      <td>444</td>\n",
       "      <td>4808</td>\n",
       "      <td>90.77</td>\n",
       "    </tr>\n",
       "    <tr>\n",
       "      <th>2</th>\n",
       "      <td>2</td>\n",
       "      <td>194</td>\n",
       "      <td>2052</td>\n",
       "      <td>90.55</td>\n",
       "    </tr>\n",
       "    <tr>\n",
       "      <th>3</th>\n",
       "      <td>3</td>\n",
       "      <td>27</td>\n",
       "      <td>330</td>\n",
       "      <td>91.82</td>\n",
       "    </tr>\n",
       "    <tr>\n",
       "      <th>4</th>\n",
       "      <td>4</td>\n",
       "      <td>4</td>\n",
       "      <td>41</td>\n",
       "      <td>90.24</td>\n",
       "    </tr>\n",
       "    <tr>\n",
       "      <th>5</th>\n",
       "      <td>5</td>\n",
       "      <td>0</td>\n",
       "      <td>9</td>\n",
       "      <td>100.00</td>\n",
       "    </tr>\n",
       "  </tbody>\n",
       "</table>\n",
       "</div>"
      ],
      "text/plain": [
       "   num_of_kids  arrear_quantaty  loans_quantaty  intime_return_precent\n",
       "0            0             1063           14091                  92.46\n",
       "1            1              444            4808                  90.77\n",
       "2            2              194            2052                  90.55\n",
       "3            3               27             330                  91.82\n",
       "4            4                4              41                  90.24\n",
       "5            5                0               9                 100.00"
      ]
     },
     "execution_count": 23,
     "metadata": {},
     "output_type": "execute_result"
    }
   ],
   "source": [
    "# создание сводной таблицы просрочки по группам заемщиков по количеству их детей \n",
    "pt_chld_vs_debt = data.pivot_table(index='children', values='debt', \\\n",
    "                                   aggfunc=['sum', 'count'], \n",
    "                                   )\n",
    "#меняем названия колонок сводной таблицы для ясности\n",
    "pt_chld_vs_debt.columns = ['arrear_quantaty', 'loans_quantaty']\n",
    "pt_chld_vs_debt.index.name = 'num_of_kids'\n",
    "\n",
    "#добавляем колонку с процентом просрочек\n",
    "pt_chld_vs_debt['intime_return_precent'] = ((1 - pt_chld_vs_debt['arrear_quantaty'] / \\\n",
    "                                               pt_chld_vs_debt['loans_quantaty']) * 100).round(2)\n",
    "#сбрасываем мультииндекс\n",
    "pt_chld_vs_debt = pt_chld_vs_debt.reset_index()\n",
    "pt_chld_vs_debt\n"
   ]
  },
  {
   "cell_type": "markdown",
   "id": "3c335917",
   "metadata": {},
   "source": [
    "<div class=\"alert-success\" style=\"padding: 20px; border-radius: 10px\">\n",
    "<b>Комментарий ревьюера ✔️</b>\n",
    "\n",
    "Это правильная сводная таблица, все нужные данные для сравнения категорий есть! 👍</div>"
   ]
  },
  {
   "cell_type": "markdown",
   "id": "a7ad914c",
   "metadata": {},
   "source": [
    "**Что показывает сводная таблица**\n",
    "\n",
    "У заемщиков с детьми процент возврата кредита в срок выше, чем у заемщиков без детей, кроме группы заемщиков с 5 детьми. Эта группа самая минимальная по количеству займов, поэтому процент возврата по ней не информативен и её можно исключить из выборки. Группа заемщиков, воспитывающих троих детей имеет меньший процент просрочек, чем группа заемщиков с двумя или четырьмя детьми.  Следовательно четкой зависимости возврата кредита в срок с увеличением количества детей нет.  "
   ]
  },
  {
   "cell_type": "markdown",
   "id": "bfa09aac",
   "metadata": {
    "deletable": false,
    "id": "3a6b99ec"
   },
   "source": [
    "**Вывод:** у заемщиков с детьми процент возврата кредита в срок ниже, чем у заемщиков без детей, однако четкой монотонной зависимости возврата кредита в срок с увеличением количества детей нет.  "
   ]
  },
  {
   "cell_type": "markdown",
   "id": "90bb7dc4",
   "metadata": {},
   "source": [
    "<div class=\"alert-warning\" style=\"padding: 20px; border-radius: 10px\">\n",
    "<b>Комментарий ревьюера ⚠️</b>\n",
    "\n",
    "<s>Ты правильно обратил внимание на то, что выборки несбалансированы. Поэтому выявлять зависимость стоит, сравнивая доли должников в самых больших, сопоставимых по размеру категориях заемщиков. Как можно сформулировать зависимость, сравнив категории с 0, 1 и 2 детьми?</div>"
   ]
  },
  {
   "cell_type": "markdown",
   "id": "861cb67a",
   "metadata": {},
   "source": [
    "<div class=\"alert-info\" style=\"padding: 20px; border-radius: 10px\">\n",
    "<b>Комментарий студента 💎</b>\n",
    "\n",
    "Действительно, если сравнить выборку только из категорий по количеству детей от 0 до 2, то виден явный рост просрочек по кредиту с увеличением количества детей у заемщика.</div>"
   ]
  },
  {
   "cell_type": "markdown",
   "id": "12ddb222",
   "metadata": {},
   "source": [
    "<div class=\"alert-success\" style=\"padding: 20px; border-radius: 10px\">\n",
    "<b>Комментарий ревьюера V2 ✔️</b>\n",
    "\n",
    "Точно!"
   ]
  },
  {
   "cell_type": "markdown",
   "id": "5b25414f",
   "metadata": {
    "deletable": false,
    "editable": false,
    "id": "97be82ca"
   },
   "source": [
    "#### 3.2 Есть ли зависимость между семейным положением и возвратом кредита в срок?"
   ]
  },
  {
   "cell_type": "markdown",
   "id": "7ce02e9b",
   "metadata": {},
   "source": [
    "Для ответа на вопрос о наличии зависимости возврата крелдита в срок от семейного положения заемщика создаю сводную таблицу, в которой для групп заемщиков по семейному положению выводятся следующие столбцы:\n",
    "- 'arrear_quantaty' - количество просрочек; \n",
    "- 'loans_quantaty' - общее количество взятых кредитов;\n",
    "- 'intime_return_precent' - процент возврата кредита в срок. \n",
    "\n",
    "По столбцу 'intime_return_precent' будет осуществляться сравнение категорий для анализа наличия зависимости."
   ]
  },
  {
   "cell_type": "code",
   "execution_count": 24,
   "id": "af7de791",
   "metadata": {
    "deletable": false,
    "id": "dc3f7ee8"
   },
   "outputs": [
    {
     "data": {
      "text/html": [
       "<div>\n",
       "<style scoped>\n",
       "    .dataframe tbody tr th:only-of-type {\n",
       "        vertical-align: middle;\n",
       "    }\n",
       "\n",
       "    .dataframe tbody tr th {\n",
       "        vertical-align: top;\n",
       "    }\n",
       "\n",
       "    .dataframe thead th {\n",
       "        text-align: right;\n",
       "    }\n",
       "</style>\n",
       "<table border=\"1\" class=\"dataframe\">\n",
       "  <thead>\n",
       "    <tr style=\"text-align: right;\">\n",
       "      <th></th>\n",
       "      <th>family_status</th>\n",
       "      <th>arrear_quantaty</th>\n",
       "      <th>loans_quantaty</th>\n",
       "      <th>intime_return_precent</th>\n",
       "    </tr>\n",
       "  </thead>\n",
       "  <tbody>\n",
       "    <tr>\n",
       "      <th>2</th>\n",
       "      <td>вдовец / вдова</td>\n",
       "      <td>63</td>\n",
       "      <td>951</td>\n",
       "      <td>93.38</td>\n",
       "    </tr>\n",
       "    <tr>\n",
       "      <th>1</th>\n",
       "      <td>в разводе</td>\n",
       "      <td>84</td>\n",
       "      <td>1189</td>\n",
       "      <td>92.94</td>\n",
       "    </tr>\n",
       "    <tr>\n",
       "      <th>4</th>\n",
       "      <td>женат / замужем</td>\n",
       "      <td>927</td>\n",
       "      <td>12261</td>\n",
       "      <td>92.44</td>\n",
       "    </tr>\n",
       "    <tr>\n",
       "      <th>3</th>\n",
       "      <td>гражданский брак</td>\n",
       "      <td>385</td>\n",
       "      <td>4134</td>\n",
       "      <td>90.69</td>\n",
       "    </tr>\n",
       "    <tr>\n",
       "      <th>0</th>\n",
       "      <td>Не женат / не замужем</td>\n",
       "      <td>273</td>\n",
       "      <td>2796</td>\n",
       "      <td>90.24</td>\n",
       "    </tr>\n",
       "  </tbody>\n",
       "</table>\n",
       "</div>"
      ],
      "text/plain": [
       "           family_status  arrear_quantaty  loans_quantaty  \\\n",
       "2         вдовец / вдова               63             951   \n",
       "1              в разводе               84            1189   \n",
       "4        женат / замужем              927           12261   \n",
       "3       гражданский брак              385            4134   \n",
       "0  Не женат / не замужем              273            2796   \n",
       "\n",
       "   intime_return_precent  \n",
       "2                  93.38  \n",
       "1                  92.94  \n",
       "4                  92.44  \n",
       "3                  90.69  \n",
       "0                  90.24  "
      ]
     },
     "execution_count": 24,
     "metadata": {},
     "output_type": "execute_result"
    }
   ],
   "source": [
    "# создание сводной таблицы просрочки по группам заемщиков по семейному положению \n",
    "pt_fam_stat_vs_debt = data.pivot_table(index='family_status', values='debt', \\\n",
    "                                   aggfunc=['sum', 'count'], \n",
    "                                   )\n",
    "#меняем названия колонок сводной таблицы для ясности\n",
    "pt_fam_stat_vs_debt.columns = ['arrear_quantaty', 'loans_quantaty']\n",
    "\n",
    "#добавляем колонку с процентом просрочек\n",
    "pt_fam_stat_vs_debt['intime_return_precent'] = ((1 - pt_fam_stat_vs_debt['arrear_quantaty'] / \\\n",
    "                                                   pt_fam_stat_vs_debt['loans_quantaty']) * 100).round(2)\n",
    "\n",
    "#убираем мультииндекс\n",
    "pt_fam_stat_vs_debt = pt_fam_stat_vs_debt.reset_index()\n",
    "\n",
    "#сортируем данные в таблице по убыванию процента возврата в срок\n",
    "pt_fam_stat_vs_debt.sort_values(by = 'intime_return_precent', ascending=False)"
   ]
  },
  {
   "cell_type": "markdown",
   "id": "debae694",
   "metadata": {},
   "source": [
    "Самый высокий процент возврата у категории заемщиков с семейным положением «вдовец/вдова», а самый низкий у категории заемщиков с семейным положением «не женат/не замужем». Зависимости между семейным положением и возвратом кредита в срок не прослеживается."
   ]
  },
  {
   "cell_type": "markdown",
   "id": "6638a332",
   "metadata": {
    "deletable": false,
    "id": "1cef7837"
   },
   "source": [
    "**Вывод:** зависимости между семейным положением и возвратом кредита в срок нет."
   ]
  },
  {
   "cell_type": "markdown",
   "id": "6c58a8ad",
   "metadata": {},
   "source": [
    "<div class=\"alert-danger\" style=\"padding: 20px; border-radius: 10px\">\n",
    "<b>Комментарий ревьюера ❌</b></h5>\n",
    "    \n",
    "<s>А почему ты считаешь, что зависимости нет, ведь процент должников в каждой категории заемщиков разный. Давай будем ориентироваться на то, что на большом кредитном портфеле, разница даже в доли процента будет важна для заказчика.\n",
    "\n",
    "Какую можно выявить зависимость, если обобщить категории по отношению к официальному браку?"
   ]
  },
  {
   "cell_type": "markdown",
   "id": "c9185100",
   "metadata": {},
   "source": [
    "<div class=\"alert-info\" style=\"padding: 20px; border-radius: 10px\">\n",
    "<b>Комментарий студента 💎</b>\n",
    "\n",
    "Да, сравнение \"в лоб\" не показало ничего. Если объединить заемщиков без супруга/ги и заемщиков в гражданском браке в одну категорию 'не в офиц. браке', то получу следующее: </div>"
   ]
  },
  {
   "cell_type": "code",
   "execution_count": 25,
   "id": "9294cc0d",
   "metadata": {},
   "outputs": [
    {
     "data": {
      "text/html": [
       "<div>\n",
       "<style scoped>\n",
       "    .dataframe tbody tr th:only-of-type {\n",
       "        vertical-align: middle;\n",
       "    }\n",
       "\n",
       "    .dataframe tbody tr th {\n",
       "        vertical-align: top;\n",
       "    }\n",
       "\n",
       "    .dataframe thead th {\n",
       "        text-align: right;\n",
       "    }\n",
       "</style>\n",
       "<table border=\"1\" class=\"dataframe\">\n",
       "  <thead>\n",
       "    <tr style=\"text-align: right;\">\n",
       "      <th></th>\n",
       "      <th>family_status</th>\n",
       "      <th>arrear_quantaty</th>\n",
       "      <th>loans_quantaty</th>\n",
       "      <th>intime_return_precent</th>\n",
       "    </tr>\n",
       "  </thead>\n",
       "  <tbody>\n",
       "    <tr>\n",
       "      <th>0</th>\n",
       "      <td>женат / замужем</td>\n",
       "      <td>927.0</td>\n",
       "      <td>12261.0</td>\n",
       "      <td>92.44</td>\n",
       "    </tr>\n",
       "    <tr>\n",
       "      <th>1</th>\n",
       "      <td>не в офиц. браке</td>\n",
       "      <td>805.0</td>\n",
       "      <td>9070.0</td>\n",
       "      <td>91.12</td>\n",
       "    </tr>\n",
       "  </tbody>\n",
       "</table>\n",
       "</div>"
      ],
      "text/plain": [
       "      family_status  arrear_quantaty  loans_quantaty  intime_return_precent\n",
       "0   женат / замужем            927.0         12261.0                  92.44\n",
       "1  не в офиц. браке            805.0          9070.0                  91.12"
      ]
     },
     "execution_count": 25,
     "metadata": {},
     "output_type": "execute_result"
    }
   ],
   "source": [
    "# добавляю строку со статусом \"не в офиц. браке\", не буду создавать новый датафрейм\n",
    "pt_fam_stat_vs_debt.loc[5, 'family_status'] = 'не в офиц. браке'\n",
    "\n",
    "#суммирую данные объединяемых категорий для новой категории\n",
    "pt_fam_stat_vs_debt.loc[5, ['arrear_quantaty', 'loans_quantaty']] = \\\n",
    "                    pt_fam_stat_vs_debt.loc[0:3, ['arrear_quantaty', 'loans_quantaty']].sum()\n",
    "#pt_fam_stat_vs_debt.loc[5, 'loans_quantaty'] = pt_fam_stat_vs_debt.loc[0:3, 'loans_quantaty'].sum()\n",
    "\n",
    "#высчитываю процент возврата в срок для новой категории\n",
    "pt_fam_stat_vs_debt.loc[5, 'intime_return_precent'] =  ((1- pt_fam_stat_vs_debt.loc[5, 'arrear_quantaty'] / \\\n",
    "                                                    pt_fam_stat_vs_debt.loc[5, 'loans_quantaty'])*100).round(2)\n",
    "\n",
    "#высчитываю процент возврата в срок для новой категории\n",
    "pt_fam_stat_vs_debt = pt_fam_stat_vs_debt.loc[4:]\n",
    "\n",
    "#обновляю нумерацию индексов\n",
    "pt_fam_stat_vs_debt.reset_index(drop=True, inplace=True)\n",
    "\n",
    "pt_fam_stat_vs_debt"
   ]
  },
  {
   "cell_type": "markdown",
   "id": "4dd07d83",
   "metadata": {},
   "source": [
    "<div class=\"alert-info\" style=\"padding: 20px; border-radius: 10px\">\n",
    "<b>Комментарий студента 💎</b>\n",
    "\n",
    "Теперь видно, что процент возврата кредита в срок у заемщиков, состоящих в официальном браке выше, чем у заемщиков, не состоящих в официальном браке. </div>"
   ]
  },
  {
   "cell_type": "markdown",
   "id": "2cb1eee0",
   "metadata": {},
   "source": [
    "<div class=\"alert-success\" style=\"border-radius: 10px; padding: 20px\">\n",
    "<b>Комментарий ревьюера V2 ✔️</b>\n",
    "\n",
    "Согласен, заемщики состоящие или состоявшие в браке выглядят более надежными.</div>"
   ]
  },
  {
   "cell_type": "markdown",
   "id": "665bedee",
   "metadata": {
    "deletable": false,
    "editable": false,
    "id": "1e8b2fca"
   },
   "source": [
    "#### 3.3 Есть ли зависимость между уровнем дохода и возвратом кредита в срок?"
   ]
  },
  {
   "cell_type": "markdown",
   "id": "1bcab0b3",
   "metadata": {},
   "source": [
    "Для ответа на вопрос о наличии зависимости возврата крелдита в срок от уровня дохода заемщика создаю сводную таблицу, в которой для групп заемщиков по семейному положению выводятся следующие столбцы:\n",
    "- 'arrear_quantaty' - количество просрочек; \n",
    "- 'loans_quantaty' - общее количество взятых кредитов;\n",
    "- 'intime_return_precent' - процент возврата кредита в срок. \n",
    "\n",
    "По столбцу 'intime_return_precent' будет осуществляться сравнение категорий для анализа наличия зависимости."
   ]
  },
  {
   "cell_type": "code",
   "execution_count": 26,
   "id": "f3715ab7",
   "metadata": {
    "deletable": false,
    "id": "cd7e3720"
   },
   "outputs": [
    {
     "data": {
      "text/html": [
       "<div>\n",
       "<style scoped>\n",
       "    .dataframe tbody tr th:only-of-type {\n",
       "        vertical-align: middle;\n",
       "    }\n",
       "\n",
       "    .dataframe tbody tr th {\n",
       "        vertical-align: top;\n",
       "    }\n",
       "\n",
       "    .dataframe thead th {\n",
       "        text-align: right;\n",
       "    }\n",
       "</style>\n",
       "<table border=\"1\" class=\"dataframe\">\n",
       "  <thead>\n",
       "    <tr style=\"text-align: right;\">\n",
       "      <th></th>\n",
       "      <th>total_income_category</th>\n",
       "      <th>arrear_quantaty</th>\n",
       "      <th>loans_quantaty</th>\n",
       "      <th>intime_return_precent</th>\n",
       "    </tr>\n",
       "  </thead>\n",
       "  <tbody>\n",
       "    <tr>\n",
       "      <th>3</th>\n",
       "      <td>D</td>\n",
       "      <td>21</td>\n",
       "      <td>349</td>\n",
       "      <td>93.98</td>\n",
       "    </tr>\n",
       "    <tr>\n",
       "      <th>1</th>\n",
       "      <td>B</td>\n",
       "      <td>354</td>\n",
       "      <td>5014</td>\n",
       "      <td>92.94</td>\n",
       "    </tr>\n",
       "    <tr>\n",
       "      <th>0</th>\n",
       "      <td>A</td>\n",
       "      <td>2</td>\n",
       "      <td>25</td>\n",
       "      <td>92.00</td>\n",
       "    </tr>\n",
       "    <tr>\n",
       "      <th>2</th>\n",
       "      <td>C</td>\n",
       "      <td>1353</td>\n",
       "      <td>15921</td>\n",
       "      <td>91.50</td>\n",
       "    </tr>\n",
       "    <tr>\n",
       "      <th>4</th>\n",
       "      <td>E</td>\n",
       "      <td>2</td>\n",
       "      <td>22</td>\n",
       "      <td>90.91</td>\n",
       "    </tr>\n",
       "  </tbody>\n",
       "</table>\n",
       "</div>"
      ],
      "text/plain": [
       "  total_income_category  arrear_quantaty  loans_quantaty  \\\n",
       "3                     D               21             349   \n",
       "1                     B              354            5014   \n",
       "0                     A                2              25   \n",
       "2                     C             1353           15921   \n",
       "4                     E                2              22   \n",
       "\n",
       "   intime_return_precent  \n",
       "3                  93.98  \n",
       "1                  92.94  \n",
       "0                  92.00  \n",
       "2                  91.50  \n",
       "4                  90.91  "
      ]
     },
     "execution_count": 26,
     "metadata": {},
     "output_type": "execute_result"
    }
   ],
   "source": [
    "# создание сводной таблицы просрочки по группам заемщиков по категории дохода\n",
    "pt_inc_cat_vs_debt = data.pivot_table(index='total_income_category', values='debt', \\\n",
    "                                   aggfunc=['sum', 'count'], \n",
    "                                   )\n",
    "#меняем названия колонок сводной таблицы для ясности\n",
    "pt_inc_cat_vs_debt.columns = ['arrear_quantaty', 'loans_quantaty']\n",
    "\n",
    "#добавляем колонку с прокентом возврата в срок\n",
    "pt_inc_cat_vs_debt['intime_return_precent'] = ((1 - pt_inc_cat_vs_debt['arrear_quantaty'] / \\\n",
    "                                                  pt_inc_cat_vs_debt['loans_quantaty']) * 100).round(2)\n",
    "#убираем мультииндекс\n",
    "pt_inc_cat_vs_debt = pt_inc_cat_vs_debt.reset_index()\n",
    "\n",
    "#сортируем данные в таблице по убыванию процента возврата в срок\n",
    "pt_inc_cat_vs_debt.sort_values(by = 'intime_return_precent', ascending=False)\n"
   ]
  },
  {
   "cell_type": "markdown",
   "id": "b13e5d5d",
   "metadata": {},
   "source": [
    "Определим средний процент возврата кредита в срок при группировке по категориям дохода:"
   ]
  },
  {
   "cell_type": "code",
   "execution_count": 27,
   "id": "a2e893ca",
   "metadata": {},
   "outputs": [
    {
     "data": {
      "text/plain": [
       "92.266"
      ]
     },
     "execution_count": 27,
     "metadata": {},
     "output_type": "execute_result"
    }
   ],
   "source": [
    "mean_return_percent = pt_inc_cat_vs_debt['intime_return_precent'].mean()\n",
    "mean_return_percent"
   ]
  },
  {
   "cell_type": "markdown",
   "id": "ca4eafbc",
   "metadata": {},
   "source": [
    "Из таблицы видно, что группа заемщиков с категорией дохода E (доход 0–30000) имеет наименьший процент возврата кредита в срок. Наибольший процент возврата кредита в срок показывает группа заемщиков с категорий дохода D (доход 30001–50000). А вот группа заемщиков с категорией дохода A (доход 1000001 и выше) имеет близкий к среднему процент возврата кредита в срок. Таким образом четкой монотонной зависимости между уровнем дохода выше минимального и возвратом кредита в срок нет."
   ]
  },
  {
   "cell_type": "markdown",
   "id": "2ab5003b",
   "metadata": {
    "deletable": false,
    "id": "e8593def"
   },
   "source": [
    "**Вывод:** группа заемщиков с минимальным уровнем дохода имеет нименьший процент возврата кредита в срок, но монотонной зависимости процента возврата с ростом уровня дохода нет."
   ]
  },
  {
   "cell_type": "markdown",
   "id": "b9f6e880",
   "metadata": {},
   "source": [
    "<div class=\"alert-danger\" style=\"padding: 20px; border-radius: 10px\">\n",
    "<b>Комментарий ревьюера ❌</b></h5>\n",
    "\n",
    "<s>Посмотри, как сильно отличаются группы по количеству участников.\n",
    "\n",
    "Какую можно выявить зависимость, если сравнить только две самые многочисленные выборки? И какую рекомендацию можно предложить заказчику по данному фактору?"
   ]
  },
  {
   "cell_type": "markdown",
   "id": "ef214e39",
   "metadata": {},
   "source": [
    "<div class=\"alert-info\" style=\"padding: 20px; border-radius: 10px\">\n",
    "<b>Комментарий студента 💎</b>\n",
    "\n",
    "Если сравнить только самые многочисленные выборки, то явно видно, что с ростом уровня дохода у заемщиков меньше просрочек. Можно предложить изменить диапазоны уровня дохода категорий, например объединив в одну категорию C и D, А и В: <div>"
   ]
  },
  {
   "cell_type": "code",
   "execution_count": 28,
   "id": "cd572575",
   "metadata": {},
   "outputs": [
    {
     "data": {
      "text/html": [
       "<div>\n",
       "<style scoped>\n",
       "    .dataframe tbody tr th:only-of-type {\n",
       "        vertical-align: middle;\n",
       "    }\n",
       "\n",
       "    .dataframe tbody tr th {\n",
       "        vertical-align: top;\n",
       "    }\n",
       "\n",
       "    .dataframe thead th {\n",
       "        text-align: right;\n",
       "    }\n",
       "</style>\n",
       "<table border=\"1\" class=\"dataframe\">\n",
       "  <thead>\n",
       "    <tr style=\"text-align: right;\">\n",
       "      <th></th>\n",
       "      <th>total_income_category</th>\n",
       "      <th>arrear_quantaty</th>\n",
       "      <th>loans_quantaty</th>\n",
       "      <th>intime_return_precent</th>\n",
       "    </tr>\n",
       "  </thead>\n",
       "  <tbody>\n",
       "    <tr>\n",
       "      <th>0</th>\n",
       "      <td>A</td>\n",
       "      <td>2.0</td>\n",
       "      <td>25.0</td>\n",
       "      <td>92.00</td>\n",
       "    </tr>\n",
       "    <tr>\n",
       "      <th>1</th>\n",
       "      <td>B</td>\n",
       "      <td>354.0</td>\n",
       "      <td>5014.0</td>\n",
       "      <td>92.94</td>\n",
       "    </tr>\n",
       "    <tr>\n",
       "      <th>2</th>\n",
       "      <td>C</td>\n",
       "      <td>1353.0</td>\n",
       "      <td>15921.0</td>\n",
       "      <td>91.50</td>\n",
       "    </tr>\n",
       "    <tr>\n",
       "      <th>3</th>\n",
       "      <td>D</td>\n",
       "      <td>21.0</td>\n",
       "      <td>349.0</td>\n",
       "      <td>93.98</td>\n",
       "    </tr>\n",
       "    <tr>\n",
       "      <th>4</th>\n",
       "      <td>E</td>\n",
       "      <td>2.0</td>\n",
       "      <td>22.0</td>\n",
       "      <td>90.91</td>\n",
       "    </tr>\n",
       "    <tr>\n",
       "      <th>5</th>\n",
       "      <td>A + B</td>\n",
       "      <td>356.0</td>\n",
       "      <td>5039.0</td>\n",
       "      <td>92.94</td>\n",
       "    </tr>\n",
       "    <tr>\n",
       "      <th>6</th>\n",
       "      <td>C + D</td>\n",
       "      <td>1374.0</td>\n",
       "      <td>16270.0</td>\n",
       "      <td>91.56</td>\n",
       "    </tr>\n",
       "  </tbody>\n",
       "</table>\n",
       "</div>"
      ],
      "text/plain": [
       "  total_income_category  arrear_quantaty  loans_quantaty  \\\n",
       "0                     A              2.0            25.0   \n",
       "1                     B            354.0          5014.0   \n",
       "2                     C           1353.0         15921.0   \n",
       "3                     D             21.0           349.0   \n",
       "4                     E              2.0            22.0   \n",
       "5                 A + B            356.0          5039.0   \n",
       "6                 C + D           1374.0         16270.0   \n",
       "\n",
       "   intime_return_precent  \n",
       "0                  92.00  \n",
       "1                  92.94  \n",
       "2                  91.50  \n",
       "3                  93.98  \n",
       "4                  90.91  \n",
       "5                  92.94  \n",
       "6                  91.56  "
      ]
     },
     "execution_count": 28,
     "metadata": {},
     "output_type": "execute_result"
    }
   ],
   "source": [
    "pt_inc_cat_vs_debt.loc[5, ['arrear_quantaty', 'loans_quantaty']] = \\\n",
    "                    pt_inc_cat_vs_debt.loc[:1, ['arrear_quantaty', 'loans_quantaty']].sum()\n",
    "pt_inc_cat_vs_debt.loc[5, 'total_income_category'] = 'A + B'\n",
    "\n",
    "pt_inc_cat_vs_debt.loc[6, ['arrear_quantaty', 'loans_quantaty']] = \\\n",
    "                    pt_inc_cat_vs_debt.loc[2:3, ['arrear_quantaty', 'loans_quantaty']].sum()\n",
    "pt_inc_cat_vs_debt.loc[6, 'total_income_category'] = 'C + D'\n",
    "\n",
    "pt_inc_cat_vs_debt['intime_return_precent'] = ((1 - pt_inc_cat_vs_debt['arrear_quantaty'] / \\\n",
    "                                                  pt_inc_cat_vs_debt['loans_quantaty']) * 100).round(2)\n",
    "pt_inc_cat_vs_debt"
   ]
  },
  {
   "cell_type": "markdown",
   "id": "8c099c14",
   "metadata": {},
   "source": [
    "<div class=\"alert-success\" style=\"border-radius: 10px; padding: 20px\">\n",
    "<b>Комментарий ревьюера V2 ✔️</b>\n",
    "\n",
    "Верно, если сравнить самые большие категории B и C, можно сказать, что заемщики с более высоким доходом платят кредиты вовремя лучше.\n",
    "    \n",
    "📌 Разбить генеральную совокупность на равные по размеру выборки можно методом `qcut()`"
   ]
  },
  {
   "cell_type": "markdown",
   "id": "2a9a2302",
   "metadata": {
    "deletable": false,
    "editable": false,
    "id": "99ecbd1f"
   },
   "source": [
    "#### 3.4 Как разные цели кредита влияют на его возврат в срок?"
   ]
  },
  {
   "cell_type": "markdown",
   "id": "ac81ada9",
   "metadata": {},
   "source": [
    "Для ответа на вопрос о влиянии целей кредита на его возврат в срок создаю сводную таблицу, в которой для групп заемщиков по семейному положению выводятся следующие столбцы:\n",
    "- 'arrear_quantaty' - количество просрочек; \n",
    "- 'loans_quantaty' - общее количество взятых кредитов;\n",
    "- 'intime_return_precent' - процент возврата кредита в срок. \n",
    "\n",
    "По столбцу 'intime_return_precent' будет осуществляться сравнение категорий для анализа наличия зависимости."
   ]
  },
  {
   "cell_type": "code",
   "execution_count": 29,
   "id": "fe9dc9b8",
   "metadata": {
    "deletable": false,
    "id": "2b687290"
   },
   "outputs": [
    {
     "data": {
      "text/html": [
       "<div>\n",
       "<style scoped>\n",
       "    .dataframe tbody tr th:only-of-type {\n",
       "        vertical-align: middle;\n",
       "    }\n",
       "\n",
       "    .dataframe tbody tr th {\n",
       "        vertical-align: top;\n",
       "    }\n",
       "\n",
       "    .dataframe thead th {\n",
       "        text-align: right;\n",
       "    }\n",
       "</style>\n",
       "<table border=\"1\" class=\"dataframe\">\n",
       "  <thead>\n",
       "    <tr style=\"text-align: right;\">\n",
       "      <th></th>\n",
       "      <th>purpose_category</th>\n",
       "      <th>arrear_quantaty</th>\n",
       "      <th>loans_quantaty</th>\n",
       "      <th>intime_return_precent</th>\n",
       "    </tr>\n",
       "  </thead>\n",
       "  <tbody>\n",
       "    <tr>\n",
       "      <th>1</th>\n",
       "      <td>операции с недвижимостью</td>\n",
       "      <td>780</td>\n",
       "      <td>10751</td>\n",
       "      <td>92.74</td>\n",
       "    </tr>\n",
       "    <tr>\n",
       "      <th>3</th>\n",
       "      <td>проведение свадьбы</td>\n",
       "      <td>183</td>\n",
       "      <td>2313</td>\n",
       "      <td>92.09</td>\n",
       "    </tr>\n",
       "    <tr>\n",
       "      <th>2</th>\n",
       "      <td>получение образования</td>\n",
       "      <td>369</td>\n",
       "      <td>3988</td>\n",
       "      <td>90.75</td>\n",
       "    </tr>\n",
       "    <tr>\n",
       "      <th>0</th>\n",
       "      <td>операции с автомобилем</td>\n",
       "      <td>400</td>\n",
       "      <td>4279</td>\n",
       "      <td>90.65</td>\n",
       "    </tr>\n",
       "  </tbody>\n",
       "</table>\n",
       "</div>"
      ],
      "text/plain": [
       "           purpose_category  arrear_quantaty  loans_quantaty  \\\n",
       "1  операции с недвижимостью              780           10751   \n",
       "3        проведение свадьбы              183            2313   \n",
       "2     получение образования              369            3988   \n",
       "0    операции с автомобилем              400            4279   \n",
       "\n",
       "   intime_return_precent  \n",
       "1                  92.74  \n",
       "3                  92.09  \n",
       "2                  90.75  \n",
       "0                  90.65  "
      ]
     },
     "execution_count": 29,
     "metadata": {},
     "output_type": "execute_result"
    }
   ],
   "source": [
    "# создание сводной таблицы просрочки по группам заемщиков по категории цели кредита\n",
    "pt_purp_cat_vs_debt = data.pivot_table(index='purpose_category', values='debt', \\\n",
    "                                   aggfunc=['sum', 'count'], \n",
    "                                   )\n",
    "#меняем названия колонок сводной таблицы для ясности\n",
    "pt_purp_cat_vs_debt.columns = ['arrear_quantaty', 'loans_quantaty']\n",
    "\n",
    "#добавляем колонку с процентом просрочек\n",
    "pt_purp_cat_vs_debt['intime_return_precent'] = ((1 - pt_purp_cat_vs_debt['arrear_quantaty'] / \\\n",
    "                                                  pt_purp_cat_vs_debt['loans_quantaty']) * 100).round(2)\n",
    "#убираем мультииндекс\n",
    "pt_purp_cat_vs_debt = pt_purp_cat_vs_debt.reset_index()# Ваш код будет здесь. Вы можете создавать новые ячейки.\n",
    "\n",
    "#выводим сводную таблицу с сортировкой по убыванию процента возврата кредита в срок \n",
    "pt_purp_cat_vs_debt.sort_values(by='intime_return_precent', ascending=False)"
   ]
  },
  {
   "cell_type": "markdown",
   "id": "a97e6a82",
   "metadata": {
    "deletable": false,
    "id": "b4bb2ce6"
   },
   "source": [
    "**Вывод:** кредиты, целью которых служат «операции с недвижимостью»\tи «проведение свадьбы» имеют более высокий процент возврата в срок, чем кредиты с целью «получение образования» и «операции с автомобилем». "
   ]
  },
  {
   "cell_type": "markdown",
   "id": "28fb4919",
   "metadata": {},
   "source": [
    "<div class=\"alert-success\" style=\"padding: 20px; border-radius: 10px\">\n",
    "<b>Комментарий ревьюера ✔️</b>\n",
    "\n",
    "Всё правильно. 👌</div>"
   ]
  },
  {
   "cell_type": "markdown",
   "id": "f7e9be9a",
   "metadata": {
    "deletable": false,
    "editable": false,
    "id": "09c3ac4c"
   },
   "source": [
    "#### 3.5 Приведите возможные причины появления пропусков в исходных данных."
   ]
  },
  {
   "cell_type": "markdown",
   "id": "cc6c1084",
   "metadata": {
    "deletable": false,
    "id": "9da2ceda"
   },
   "source": [
    "*Ответ:* поскольку было обнаружено, что пропуски в столбцах \"days_employed\" и \"total_income\" имеют одинаковое количество, а также оказалось что они находятся в одних и тех же строках таблицы, то это не случайный вид пропусков, а систематический. Скорее всего наличие пропусков связано с ошибкой выгрузки данных. "
   ]
  },
  {
   "cell_type": "markdown",
   "id": "c736e9d8",
   "metadata": {},
   "source": [
    "<div class=\"alert-success\" style=\"padding: 20px; border-radius: 10px\">\n",
    "<b>Комментарий ревьюера ✔️</b>\n",
    "\n",
    "Согласен, но и человеческий фактор (кто-то не ввел данные) я бы исключать не стал."
   ]
  },
  {
   "cell_type": "markdown",
   "id": "81c29663",
   "metadata": {
    "deletable": false,
    "editable": false,
    "id": "7b0487d6"
   },
   "source": [
    "#### 3.6 Объясните, почему заполнить пропуски медианным значением — лучшее решение для количественных переменных."
   ]
  },
  {
   "cell_type": "markdown",
   "id": "f366a669",
   "metadata": {
    "deletable": false,
    "id": "7ecf2b8e"
   },
   "source": [
    "*Ответ: Значений с пропусками 10% от общего количества значений. Даже если среди пропущенных значений были бы \"выбросы\", то есть значения с большими величинами параметра или очень маленькими, то на общую картину распеределения они бы не повлияли.* "
   ]
  },
  {
   "cell_type": "markdown",
   "id": "9b9b0ebb",
   "metadata": {},
   "source": [
    "<div class=\"alert-warning\" style=\"padding: 20px; border-radius: 10px\">\n",
    "<b>Комментарий ревьюера ⚠️</b>\n",
    "\n",
    "<s>Поясни пожалуйста поподробнее, почему медиана предпочтительнее чем среднее значение?"
   ]
  },
  {
   "cell_type": "markdown",
   "id": "e1d4b57d",
   "metadata": {},
   "source": [
    "<div class=\"alert-info\" style=\"padding: 20px; border-radius: 10px\">\n",
    "<b>Комментарий студента 💎</b>\n",
    "\n",
    " По своему смыслу медиана делит всю выборку на две равные части, одна из которых ниже, а другая выше медианы и, в отличие от среднего значения, не подвержена влиянию выбросов в данных выборки.  <div>"
   ]
  },
  {
   "cell_type": "markdown",
   "id": "fb53ebbf",
   "metadata": {},
   "source": [
    "<div class=\"alert-success\" style=\"border-radius: 10px; padding: 20px\">\n",
    "<b>Комментарий ревьюера V2 ✔️</b>\n",
    "\n",
    "Верно, медиана менее чувствительна к выбросам. Убедиться в этом если расчитать и сравнить эти метрики для столбца `days_employed`, где как раз есть выбросы.</div>"
   ]
  },
  {
   "cell_type": "markdown",
   "id": "77b840c7",
   "metadata": {
    "deletable": false,
    "editable": false,
    "id": "6db5255a"
   },
   "source": [
    "### Шаг 4: общий вывод."
   ]
  },
  {
   "cell_type": "markdown",
   "id": "4b147efe",
   "metadata": {
    "deletable": false,
    "id": "bad65432"
   },
   "source": [
    "По результатам обработки данных заемщиков было обнаружено, что:\n",
    "- наличие детей у заемщика снижает количество возвратов в срок, но четкой связи увеличения количества просрочек с увеличением количества детей не обнаружено;\n",
    "- влияние семейного положения заемщика на возврат кредита в срок не обнаружено;\n",
    "- заемщики с наименьшим уровнем дохода (категория Е) показывают наименьшее относительное количество возврата кредита в срок, а вот дальнейшее влияние уровня дохода на возврат в срок обнаружено не было;\n",
    "- кредиты, цель которых «операции с недвижимостью»\tи «проведение свадьбы» имеют более высокий процент возврата в срок, чем кредиты с целью «получение образования» и «операции с автомобилем»"
   ]
  },
  {
   "cell_type": "markdown",
   "id": "5d5e243b",
   "metadata": {},
   "source": [
    "<div class=\"alert-danger\" style=\"padding: 20px; border-radius: 10px\">\n",
    "    \n",
    "<b>Комментарий ревьюера ❌</b></h5>\n",
    "\n",
    "<s>Я бы предложил немного поправить итоговый вывод:\n",
    "    \n",
    "- изменить формулировки зависимостей после доработки проекта\n",
    "- добавить первым абзацем информацию об исходных данных и о том, что было сделано в шаге предобработки\n",
    "- завершить вывод какой-нибудь рекомендацией заказчику, например по улучшению сбора данных"
   ]
  },
  {
   "cell_type": "markdown",
   "id": "43ba58fe",
   "metadata": {},
   "source": [
    "<div style=\"border:solid steelblue 3px; padding: 20px; border-radius: 10px\">\n",
    "\n",
    "<h5><b>🏁 Общий комментарий ревьюера</b></h5>\n",
    "\n",
    "Ты хорошо поработал над проектом. Но нужно кое-что поправить, чтобы я его принял.\n",
    "\n",
    "Критические замечания я добавил в меню **Contents** слева.\n",
    "\n",
    "Также, постарайся отработать желтые комментарии.\n",
    "\n",
    "Буду ждать твой доработанный проект. ⌛️"
   ]
  },
  {
   "cell_type": "markdown",
   "id": "8a4246f9",
   "metadata": {},
   "source": [
    "<div class=\"alert-info\" style=\"padding: 20px; border-radius: 10px\">\n",
    "<b>Комментарий студента 💎</b>\n",
    "\n",
    "Для ответа на поставленные заказчиком вопросы была выполнена предобработка данных. \n",
    "\n",
    "Оказалось, что данные содержали пропуски (10% от общего количества) в столбцах days_employed и total_income. Их заполнили медианным значением, полученным для каждой категории. \n",
    "\n",
    "Кроме того были аномалии в виде отрицательных занчений в столбцах days_employed и children, которые были устранены. Найденые дубликаты данных были удалены.\n",
    "\n",
    "После обработки и анализа данных выявлено следующее:\n",
    "- с увеличением количества детей у заемщика наблюдается уменьшение количества возвратов кредита в срок, что явно видно только при рассмотрении категорий заемщиков с 0, 1, 2 и 4 детьми;\n",
    "- процент возврата кредита в срок у заемщиков, состоящих в официальном браке выше, чем у заемщиков, не состоящих в официальном браке;\n",
    "- рост уровня дохода заемщиков повышает процент возврата кредита в срок, однако рекомендуется пересмотреть границы категорий по уровню дохода для уточнения характера закономерности роста;\n",
    "- кредиты, цель которых «операции с недвижимостью» и «проведение свадьбы» имеют более высокий процент возврата в срок, чем кредиты с целью «получение образования» и «операции с автомобилем»\n",
    "\n",
    "**Рекомендации**\n",
    "\n",
    "Поскольку обнаруженные пропуски данных свидетельствуют о возможных проблемах выгрузки данных, то рекомендуется произвести повторную выгрузку с полными данными. \n",
    "   \n",
    "Также рекомендуется поставить блокировку на возможность ввода отрицательных значений во всех столбцах, содержащих числовые значения.\n",
    "\n",
    "Дни стажа должны быть только целыми числами, нужно выяснить причину их попадания в виде вещественных чисел в таблицу.\n",
    "  <div>"
   ]
  },
  {
   "cell_type": "markdown",
   "id": "49408333",
   "metadata": {},
   "source": [
    "<div class=\"alert-success\" style=\"border-radius: 10px; padding: 20px\">\n",
    "<b>Комментарий ревьюера V2 ✔️</b>\n",
    "\n",
    "Теперь у тебя подробный и правильный вывод, отражающий основные результаты исследования. 👌</div>"
   ]
  },
  {
   "cell_type": "markdown",
   "id": "e2b758bb",
   "metadata": {},
   "source": [
    "<div style=\"border:solid steelblue 3px; padding: 20px; border-radius: 10px\">\n",
    "\n",
    "<h5><b>🏁 Общий комментарий ревьюера V2</b></h5>\n",
    "\n",
    "Спасибо, что учел мои замечания и доработал проект, получилась отличная работа!\n",
    "\n",
    "Успехов в дальнейшем обучении! 🏆\n",
    "\n",
    "</div>"
   ]
  }
 ],
 "metadata": {
  "ExecuteTimeLog": [
   {
    "duration": 100,
    "start_time": "2024-01-07T20:40:09.565Z"
   },
   {
    "duration": 500,
    "start_time": "2024-01-07T20:40:34.291Z"
   },
   {
    "duration": 23,
    "start_time": "2024-01-07T20:40:35.898Z"
   },
   {
    "duration": 15,
    "start_time": "2024-01-07T20:40:37.050Z"
   },
   {
    "duration": 13,
    "start_time": "2024-01-07T20:40:38.745Z"
   },
   {
    "duration": 36,
    "start_time": "2024-01-07T20:40:39.773Z"
   },
   {
    "duration": 3,
    "start_time": "2024-01-07T20:40:41.094Z"
   },
   {
    "duration": 10,
    "start_time": "2024-01-07T20:40:42.082Z"
   },
   {
    "duration": 4,
    "start_time": "2024-01-07T20:40:43.737Z"
   },
   {
    "duration": 7,
    "start_time": "2024-01-07T20:40:44.772Z"
   },
   {
    "duration": 4,
    "start_time": "2024-01-07T20:40:45.746Z"
   },
   {
    "duration": 49,
    "start_time": "2024-01-07T20:40:47.527Z"
   },
   {
    "duration": 10,
    "start_time": "2024-01-07T20:40:49.673Z"
   },
   {
    "duration": 4,
    "start_time": "2024-01-07T20:41:15.014Z"
   },
   {
    "duration": 14,
    "start_time": "2024-01-07T20:41:17.199Z"
   },
   {
    "duration": 26,
    "start_time": "2024-01-07T20:41:18.520Z"
   },
   {
    "duration": 17,
    "start_time": "2024-01-07T20:41:19.120Z"
   },
   {
    "duration": 4,
    "start_time": "2024-01-07T20:41:21.399Z"
   },
   {
    "duration": 16,
    "start_time": "2024-01-07T20:41:21.938Z"
   },
   {
    "duration": 6,
    "start_time": "2024-01-07T20:41:23.402Z"
   },
   {
    "duration": 3,
    "start_time": "2024-01-07T20:41:24.819Z"
   },
   {
    "duration": 9,
    "start_time": "2024-01-07T20:41:25.176Z"
   },
   {
    "duration": 99,
    "start_time": "2024-01-07T20:41:26.662Z"
   },
   {
    "duration": 7,
    "start_time": "2024-01-07T20:41:35.853Z"
   },
   {
    "duration": 5,
    "start_time": "2024-01-07T20:41:56.486Z"
   },
   {
    "duration": 4,
    "start_time": "2024-01-07T20:41:59.913Z"
   },
   {
    "duration": 9,
    "start_time": "2024-01-07T20:42:04.480Z"
   },
   {
    "duration": 5,
    "start_time": "2024-01-07T20:42:06.718Z"
   },
   {
    "duration": 4,
    "start_time": "2024-01-07T20:42:17.071Z"
   },
   {
    "duration": 4,
    "start_time": "2024-01-07T20:42:29.859Z"
   },
   {
    "duration": 3,
    "start_time": "2024-01-07T20:42:35.876Z"
   },
   {
    "duration": 5,
    "start_time": "2024-01-07T20:42:38.837Z"
   },
   {
    "duration": 10,
    "start_time": "2024-01-07T20:42:39.478Z"
   },
   {
    "duration": 5,
    "start_time": "2024-01-07T20:42:41.324Z"
   },
   {
    "duration": 3,
    "start_time": "2024-01-07T20:43:27.065Z"
   },
   {
    "duration": 515,
    "start_time": "2024-01-07T20:43:38.581Z"
   },
   {
    "duration": 23,
    "start_time": "2024-01-07T20:43:39.575Z"
   },
   {
    "duration": 16,
    "start_time": "2024-01-07T20:43:40.794Z"
   },
   {
    "duration": 12,
    "start_time": "2024-01-07T20:43:42.931Z"
   },
   {
    "duration": 35,
    "start_time": "2024-01-07T20:43:44.104Z"
   },
   {
    "duration": 4,
    "start_time": "2024-01-07T20:43:45.599Z"
   },
   {
    "duration": 8,
    "start_time": "2024-01-07T20:43:46.668Z"
   },
   {
    "duration": 5,
    "start_time": "2024-01-07T20:43:48.465Z"
   },
   {
    "duration": 6,
    "start_time": "2024-01-07T20:43:49.493Z"
   },
   {
    "duration": 4,
    "start_time": "2024-01-07T20:43:50.530Z"
   },
   {
    "duration": 34,
    "start_time": "2024-01-07T20:43:52.289Z"
   },
   {
    "duration": 10,
    "start_time": "2024-01-07T20:44:10.355Z"
   },
   {
    "duration": 4,
    "start_time": "2024-01-07T20:44:13.988Z"
   },
   {
    "duration": 12,
    "start_time": "2024-01-07T20:44:15.508Z"
   },
   {
    "duration": 20,
    "start_time": "2024-01-07T20:44:16.585Z"
   },
   {
    "duration": 18,
    "start_time": "2024-01-07T20:44:17.209Z"
   },
   {
    "duration": 4,
    "start_time": "2024-01-07T20:44:19.134Z"
   },
   {
    "duration": 10,
    "start_time": "2024-01-07T20:44:21.524Z"
   },
   {
    "duration": 5,
    "start_time": "2024-01-07T20:44:22.688Z"
   },
   {
    "duration": 3,
    "start_time": "2024-01-07T20:44:26.886Z"
   },
   {
    "duration": 11,
    "start_time": "2024-01-07T20:44:27.946Z"
   },
   {
    "duration": 4,
    "start_time": "2024-01-07T20:44:31.240Z"
   },
   {
    "duration": 5,
    "start_time": "2024-01-07T20:44:53.193Z"
   },
   {
    "duration": 4,
    "start_time": "2024-01-07T20:44:55.940Z"
   },
   {
    "duration": 4,
    "start_time": "2024-01-07T20:45:26.453Z"
   },
   {
    "duration": 81,
    "start_time": "2024-01-07T20:45:42.983Z"
   },
   {
    "duration": 15,
    "start_time": "2024-01-07T20:45:43.621Z"
   },
   {
    "duration": 16,
    "start_time": "2024-01-07T20:45:44.706Z"
   },
   {
    "duration": 10,
    "start_time": "2024-01-07T20:45:56.859Z"
   },
   {
    "duration": 34,
    "start_time": "2024-01-07T20:45:57.532Z"
   },
   {
    "duration": 4,
    "start_time": "2024-01-07T20:46:00.905Z"
   },
   {
    "duration": 7,
    "start_time": "2024-01-07T20:46:02.466Z"
   },
   {
    "duration": 5,
    "start_time": "2024-01-07T20:46:29.594Z"
   },
   {
    "duration": 7,
    "start_time": "2024-01-07T20:46:30.711Z"
   },
   {
    "duration": 5,
    "start_time": "2024-01-07T20:46:35.099Z"
   },
   {
    "duration": 35,
    "start_time": "2024-01-07T20:46:36.577Z"
   },
   {
    "duration": 12,
    "start_time": "2024-01-07T20:46:37.867Z"
   },
   {
    "duration": 4,
    "start_time": "2024-01-07T20:46:41.075Z"
   },
   {
    "duration": 12,
    "start_time": "2024-01-07T20:46:42.778Z"
   },
   {
    "duration": 21,
    "start_time": "2024-01-07T20:46:43.918Z"
   },
   {
    "duration": 17,
    "start_time": "2024-01-07T20:46:44.447Z"
   },
   {
    "duration": 4,
    "start_time": "2024-01-07T20:46:47.542Z"
   },
   {
    "duration": 11,
    "start_time": "2024-01-07T20:46:49.411Z"
   },
   {
    "duration": 5,
    "start_time": "2024-01-07T20:46:50.543Z"
   },
   {
    "duration": 4,
    "start_time": "2024-01-07T20:46:54.327Z"
   },
   {
    "duration": 9,
    "start_time": "2024-01-07T20:46:55.000Z"
   },
   {
    "duration": 5,
    "start_time": "2024-01-07T20:46:57.081Z"
   },
   {
    "duration": 4,
    "start_time": "2024-01-07T20:47:16.179Z"
   },
   {
    "duration": 704,
    "start_time": "2024-01-09T07:24:23.494Z"
   },
   {
    "duration": 21,
    "start_time": "2024-01-09T07:24:24.200Z"
   },
   {
    "duration": 16,
    "start_time": "2024-01-09T07:24:24.222Z"
   },
   {
    "duration": 11,
    "start_time": "2024-01-09T07:24:24.240Z"
   },
   {
    "duration": 46,
    "start_time": "2024-01-09T07:24:24.252Z"
   },
   {
    "duration": 3,
    "start_time": "2024-01-09T07:24:24.301Z"
   },
   {
    "duration": 10,
    "start_time": "2024-01-09T07:24:24.307Z"
   },
   {
    "duration": 5,
    "start_time": "2024-01-09T07:24:24.319Z"
   },
   {
    "duration": 7,
    "start_time": "2024-01-09T07:24:24.326Z"
   },
   {
    "duration": 33,
    "start_time": "2024-01-09T07:24:24.335Z"
   },
   {
    "duration": 38,
    "start_time": "2024-01-09T07:24:24.370Z"
   },
   {
    "duration": 11,
    "start_time": "2024-01-09T07:24:24.409Z"
   },
   {
    "duration": 4,
    "start_time": "2024-01-09T07:24:24.422Z"
   },
   {
    "duration": 39,
    "start_time": "2024-01-09T07:24:24.427Z"
   },
   {
    "duration": 20,
    "start_time": "2024-01-09T07:24:24.467Z"
   },
   {
    "duration": 17,
    "start_time": "2024-01-09T07:24:24.488Z"
   },
   {
    "duration": 4,
    "start_time": "2024-01-09T07:24:24.507Z"
   },
   {
    "duration": 12,
    "start_time": "2024-01-09T07:24:24.512Z"
   },
   {
    "duration": 5,
    "start_time": "2024-01-09T07:24:24.526Z"
   },
   {
    "duration": 35,
    "start_time": "2024-01-09T07:24:24.533Z"
   },
   {
    "duration": 15,
    "start_time": "2024-01-09T07:24:24.570Z"
   },
   {
    "duration": 22,
    "start_time": "2024-01-09T07:24:24.586Z"
   },
   {
    "duration": 3,
    "start_time": "2024-01-09T07:24:24.609Z"
   },
   {
    "duration": 4,
    "start_time": "2024-01-09T07:24:24.613Z"
   },
   {
    "duration": 3,
    "start_time": "2024-01-09T07:24:24.619Z"
   },
   {
    "duration": 3,
    "start_time": "2024-01-09T07:25:47.352Z"
   },
   {
    "duration": 69,
    "start_time": "2024-01-09T07:26:03.555Z"
   },
   {
    "duration": 17,
    "start_time": "2024-01-09T07:26:43.110Z"
   },
   {
    "duration": 17,
    "start_time": "2024-01-09T07:33:56.121Z"
   },
   {
    "duration": 15,
    "start_time": "2024-01-09T07:43:59.654Z"
   },
   {
    "duration": 13,
    "start_time": "2024-01-09T07:45:52.098Z"
   },
   {
    "duration": 23,
    "start_time": "2024-01-09T07:46:11.593Z"
   },
   {
    "duration": 16,
    "start_time": "2024-01-09T07:49:04.790Z"
   },
   {
    "duration": 19,
    "start_time": "2024-01-09T07:49:41.627Z"
   },
   {
    "duration": 15,
    "start_time": "2024-01-09T07:49:45.742Z"
   },
   {
    "duration": 19,
    "start_time": "2024-01-09T07:50:13.291Z"
   },
   {
    "duration": 19,
    "start_time": "2024-01-09T07:53:17.056Z"
   },
   {
    "duration": 19,
    "start_time": "2024-01-09T07:53:52.376Z"
   },
   {
    "duration": 19,
    "start_time": "2024-01-09T07:54:20.368Z"
   },
   {
    "duration": 28,
    "start_time": "2024-01-09T08:01:06.023Z"
   },
   {
    "duration": 33,
    "start_time": "2024-01-09T08:02:08.326Z"
   },
   {
    "duration": 474,
    "start_time": "2024-01-09T08:02:20.956Z"
   },
   {
    "duration": 20,
    "start_time": "2024-01-09T08:02:21.432Z"
   },
   {
    "duration": 30,
    "start_time": "2024-01-09T08:02:21.453Z"
   },
   {
    "duration": 43,
    "start_time": "2024-01-09T08:02:21.485Z"
   },
   {
    "duration": 45,
    "start_time": "2024-01-09T08:02:21.529Z"
   },
   {
    "duration": 3,
    "start_time": "2024-01-09T08:02:21.576Z"
   },
   {
    "duration": 43,
    "start_time": "2024-01-09T08:02:21.580Z"
   },
   {
    "duration": 27,
    "start_time": "2024-01-09T08:02:21.624Z"
   },
   {
    "duration": 50,
    "start_time": "2024-01-09T08:02:21.652Z"
   },
   {
    "duration": 7,
    "start_time": "2024-01-09T08:02:21.705Z"
   },
   {
    "duration": 68,
    "start_time": "2024-01-09T08:02:21.713Z"
   },
   {
    "duration": 9,
    "start_time": "2024-01-09T08:02:21.782Z"
   },
   {
    "duration": 26,
    "start_time": "2024-01-09T08:02:21.792Z"
   },
   {
    "duration": 45,
    "start_time": "2024-01-09T08:02:21.819Z"
   },
   {
    "duration": 44,
    "start_time": "2024-01-09T08:02:21.865Z"
   },
   {
    "duration": 35,
    "start_time": "2024-01-09T08:02:21.910Z"
   },
   {
    "duration": 3,
    "start_time": "2024-01-09T08:02:21.946Z"
   },
   {
    "duration": 40,
    "start_time": "2024-01-09T08:02:21.951Z"
   },
   {
    "duration": 51,
    "start_time": "2024-01-09T08:02:21.992Z"
   },
   {
    "duration": 30,
    "start_time": "2024-01-09T08:02:22.044Z"
   },
   {
    "duration": 37,
    "start_time": "2024-01-09T08:02:22.076Z"
   },
   {
    "duration": 62,
    "start_time": "2024-01-09T08:02:22.115Z"
   },
   {
    "duration": 2,
    "start_time": "2024-01-09T08:02:22.178Z"
   },
   {
    "duration": 45,
    "start_time": "2024-01-09T08:02:22.182Z"
   },
   {
    "duration": 41,
    "start_time": "2024-01-09T08:02:22.228Z"
   },
   {
    "duration": 17,
    "start_time": "2024-01-09T08:02:36.710Z"
   },
   {
    "duration": 14,
    "start_time": "2024-01-09T08:04:33.114Z"
   },
   {
    "duration": 15,
    "start_time": "2024-01-09T08:04:35.784Z"
   },
   {
    "duration": 13,
    "start_time": "2024-01-09T08:04:51.524Z"
   },
   {
    "duration": 20,
    "start_time": "2024-01-09T08:05:25.056Z"
   },
   {
    "duration": 17,
    "start_time": "2024-01-09T08:06:21.818Z"
   },
   {
    "duration": 20,
    "start_time": "2024-01-09T08:09:34.492Z"
   },
   {
    "duration": 18,
    "start_time": "2024-01-09T08:10:59.934Z"
   },
   {
    "duration": 397,
    "start_time": "2024-01-09T08:12:34.126Z"
   },
   {
    "duration": 20,
    "start_time": "2024-01-09T08:16:05.758Z"
   },
   {
    "duration": 19,
    "start_time": "2024-01-09T08:17:00.714Z"
   },
   {
    "duration": 21,
    "start_time": "2024-01-09T13:58:17.160Z"
   },
   {
    "duration": 22,
    "start_time": "2024-01-09T13:58:44.621Z"
   },
   {
    "duration": 48,
    "start_time": "2024-01-10T06:33:32.776Z"
   },
   {
    "duration": 630,
    "start_time": "2024-01-10T06:33:39.916Z"
   },
   {
    "duration": 25,
    "start_time": "2024-01-10T06:33:40.548Z"
   },
   {
    "duration": 14,
    "start_time": "2024-01-10T06:33:40.576Z"
   },
   {
    "duration": 10,
    "start_time": "2024-01-10T06:33:40.592Z"
   },
   {
    "duration": 36,
    "start_time": "2024-01-10T06:33:40.603Z"
   },
   {
    "duration": 3,
    "start_time": "2024-01-10T06:33:40.640Z"
   },
   {
    "duration": 7,
    "start_time": "2024-01-10T06:33:40.665Z"
   },
   {
    "duration": 9,
    "start_time": "2024-01-10T06:33:40.673Z"
   },
   {
    "duration": 11,
    "start_time": "2024-01-10T06:33:40.683Z"
   },
   {
    "duration": 6,
    "start_time": "2024-01-10T06:33:40.697Z"
   },
   {
    "duration": 61,
    "start_time": "2024-01-10T06:33:40.704Z"
   },
   {
    "duration": 11,
    "start_time": "2024-01-10T06:33:40.766Z"
   },
   {
    "duration": 12,
    "start_time": "2024-01-10T06:33:40.778Z"
   },
   {
    "duration": 12,
    "start_time": "2024-01-10T06:33:40.791Z"
   },
   {
    "duration": 18,
    "start_time": "2024-01-10T06:33:40.804Z"
   },
   {
    "duration": 42,
    "start_time": "2024-01-10T06:33:40.823Z"
   },
   {
    "duration": 3,
    "start_time": "2024-01-10T06:33:40.867Z"
   },
   {
    "duration": 11,
    "start_time": "2024-01-10T06:33:40.871Z"
   },
   {
    "duration": 5,
    "start_time": "2024-01-10T06:33:40.883Z"
   },
   {
    "duration": 4,
    "start_time": "2024-01-10T06:33:40.889Z"
   },
   {
    "duration": 16,
    "start_time": "2024-01-10T06:33:40.894Z"
   },
   {
    "duration": 24,
    "start_time": "2024-01-10T06:33:40.911Z"
   },
   {
    "duration": 48,
    "start_time": "2024-01-10T06:33:40.936Z"
   },
   {
    "duration": 2,
    "start_time": "2024-01-10T06:33:40.986Z"
   },
   {
    "duration": 8,
    "start_time": "2024-01-10T06:33:40.990Z"
   },
   {
    "duration": 27,
    "start_time": "2024-01-10T06:38:19.624Z"
   },
   {
    "duration": 20,
    "start_time": "2024-01-10T06:41:19.193Z"
   },
   {
    "duration": 468,
    "start_time": "2024-01-10T06:41:40.072Z"
   },
   {
    "duration": 20,
    "start_time": "2024-01-10T06:41:40.542Z"
   },
   {
    "duration": 20,
    "start_time": "2024-01-10T06:41:40.563Z"
   },
   {
    "duration": 14,
    "start_time": "2024-01-10T06:41:40.585Z"
   },
   {
    "duration": 38,
    "start_time": "2024-01-10T06:41:40.600Z"
   },
   {
    "duration": 4,
    "start_time": "2024-01-10T06:41:40.639Z"
   },
   {
    "duration": 23,
    "start_time": "2024-01-10T06:41:40.644Z"
   },
   {
    "duration": 4,
    "start_time": "2024-01-10T06:41:40.669Z"
   },
   {
    "duration": 11,
    "start_time": "2024-01-10T06:41:40.675Z"
   },
   {
    "duration": 4,
    "start_time": "2024-01-10T06:41:40.689Z"
   },
   {
    "duration": 44,
    "start_time": "2024-01-10T06:41:40.695Z"
   },
   {
    "duration": 29,
    "start_time": "2024-01-10T06:41:40.740Z"
   },
   {
    "duration": 8,
    "start_time": "2024-01-10T06:41:40.770Z"
   },
   {
    "duration": 13,
    "start_time": "2024-01-10T06:41:40.780Z"
   },
   {
    "duration": 44,
    "start_time": "2024-01-10T06:41:40.794Z"
   },
   {
    "duration": 16,
    "start_time": "2024-01-10T06:41:40.839Z"
   },
   {
    "duration": 3,
    "start_time": "2024-01-10T06:41:40.856Z"
   },
   {
    "duration": 11,
    "start_time": "2024-01-10T06:41:40.860Z"
   },
   {
    "duration": 5,
    "start_time": "2024-01-10T06:41:40.872Z"
   },
   {
    "duration": 20,
    "start_time": "2024-01-10T06:41:40.878Z"
   },
   {
    "duration": 24,
    "start_time": "2024-01-10T06:41:40.899Z"
   },
   {
    "duration": 32,
    "start_time": "2024-01-10T06:41:40.925Z"
   },
   {
    "duration": 29,
    "start_time": "2024-01-10T06:41:40.959Z"
   },
   {
    "duration": 2,
    "start_time": "2024-01-10T06:41:40.989Z"
   },
   {
    "duration": 29,
    "start_time": "2024-01-10T06:41:40.993Z"
   },
   {
    "duration": 34,
    "start_time": "2024-01-10T06:53:50.913Z"
   },
   {
    "duration": 27,
    "start_time": "2024-01-10T06:54:24.699Z"
   },
   {
    "duration": 31,
    "start_time": "2024-01-10T06:54:41.588Z"
   },
   {
    "duration": 25,
    "start_time": "2024-01-10T06:55:07.188Z"
   },
   {
    "duration": 22,
    "start_time": "2024-01-10T07:01:31.822Z"
   },
   {
    "duration": 22,
    "start_time": "2024-01-10T07:01:55.805Z"
   },
   {
    "duration": 21,
    "start_time": "2024-01-10T07:06:16.161Z"
   },
   {
    "duration": 18,
    "start_time": "2024-01-10T07:06:39.178Z"
   },
   {
    "duration": 20,
    "start_time": "2024-01-10T07:06:46.338Z"
   },
   {
    "duration": 24,
    "start_time": "2024-01-10T07:14:36.568Z"
   },
   {
    "duration": 23,
    "start_time": "2024-01-10T07:16:22.814Z"
   },
   {
    "duration": 4,
    "start_time": "2024-01-10T07:30:08.506Z"
   },
   {
    "duration": 5,
    "start_time": "2024-01-10T07:45:04.704Z"
   },
   {
    "duration": 25,
    "start_time": "2024-01-10T07:51:02.280Z"
   },
   {
    "duration": 24,
    "start_time": "2024-01-10T08:21:48.080Z"
   },
   {
    "duration": 25,
    "start_time": "2024-01-10T08:30:00.034Z"
   },
   {
    "duration": 25,
    "start_time": "2024-01-10T08:47:32.000Z"
   },
   {
    "duration": 10,
    "start_time": "2024-01-10T14:37:29.482Z"
   },
   {
    "duration": 68,
    "start_time": "2024-01-10T14:37:56.880Z"
   },
   {
    "duration": 5,
    "start_time": "2024-01-10T14:38:28.081Z"
   },
   {
    "duration": 5,
    "start_time": "2024-01-10T14:38:42.420Z"
   },
   {
    "duration": 445,
    "start_time": "2024-01-10T14:39:09.214Z"
   },
   {
    "duration": 21,
    "start_time": "2024-01-10T14:39:09.661Z"
   },
   {
    "duration": 15,
    "start_time": "2024-01-10T14:39:09.684Z"
   },
   {
    "duration": 10,
    "start_time": "2024-01-10T14:39:09.700Z"
   },
   {
    "duration": 7,
    "start_time": "2024-01-10T14:39:09.712Z"
   },
   {
    "duration": 53,
    "start_time": "2024-01-10T14:39:09.720Z"
   },
   {
    "duration": 4,
    "start_time": "2024-01-10T14:39:09.774Z"
   },
   {
    "duration": 13,
    "start_time": "2024-01-10T14:39:09.779Z"
   },
   {
    "duration": 9,
    "start_time": "2024-01-10T14:39:09.793Z"
   },
   {
    "duration": 9,
    "start_time": "2024-01-10T14:39:09.804Z"
   },
   {
    "duration": 5,
    "start_time": "2024-01-10T14:39:09.814Z"
   },
   {
    "duration": 56,
    "start_time": "2024-01-10T14:39:09.820Z"
   },
   {
    "duration": 12,
    "start_time": "2024-01-10T14:39:09.877Z"
   },
   {
    "duration": 7,
    "start_time": "2024-01-10T14:39:09.890Z"
   },
   {
    "duration": 15,
    "start_time": "2024-01-10T14:39:09.898Z"
   },
   {
    "duration": 18,
    "start_time": "2024-01-10T14:39:09.915Z"
   },
   {
    "duration": 33,
    "start_time": "2024-01-10T14:39:09.935Z"
   },
   {
    "duration": 4,
    "start_time": "2024-01-10T14:39:09.969Z"
   },
   {
    "duration": 19,
    "start_time": "2024-01-10T14:39:09.974Z"
   },
   {
    "duration": 7,
    "start_time": "2024-01-10T14:39:09.995Z"
   },
   {
    "duration": 6,
    "start_time": "2024-01-10T14:39:10.004Z"
   },
   {
    "duration": 23,
    "start_time": "2024-01-10T14:39:10.011Z"
   },
   {
    "duration": 35,
    "start_time": "2024-01-10T14:39:10.036Z"
   },
   {
    "duration": 23,
    "start_time": "2024-01-10T14:39:10.073Z"
   },
   {
    "duration": 21,
    "start_time": "2024-01-10T14:39:10.097Z"
   },
   {
    "duration": 4,
    "start_time": "2024-01-10T14:39:10.119Z"
   },
   {
    "duration": 49,
    "start_time": "2024-01-10T14:39:10.124Z"
   },
   {
    "duration": 491,
    "start_time": "2024-01-10T14:39:41.033Z"
   },
   {
    "duration": 22,
    "start_time": "2024-01-10T14:39:41.526Z"
   },
   {
    "duration": 16,
    "start_time": "2024-01-10T14:39:41.549Z"
   },
   {
    "duration": 10,
    "start_time": "2024-01-10T14:39:41.566Z"
   },
   {
    "duration": 6,
    "start_time": "2024-01-10T14:39:41.577Z"
   },
   {
    "duration": 43,
    "start_time": "2024-01-10T14:39:41.584Z"
   },
   {
    "duration": 3,
    "start_time": "2024-01-10T14:39:41.629Z"
   },
   {
    "duration": 9,
    "start_time": "2024-01-10T14:39:41.633Z"
   },
   {
    "duration": 22,
    "start_time": "2024-01-10T14:39:41.644Z"
   },
   {
    "duration": 6,
    "start_time": "2024-01-10T14:39:41.669Z"
   },
   {
    "duration": 17,
    "start_time": "2024-01-10T14:39:41.676Z"
   },
   {
    "duration": 36,
    "start_time": "2024-01-10T14:39:41.694Z"
   },
   {
    "duration": 10,
    "start_time": "2024-01-10T14:39:41.731Z"
   },
   {
    "duration": 4,
    "start_time": "2024-01-10T14:39:41.743Z"
   },
   {
    "duration": 11,
    "start_time": "2024-01-10T14:39:41.764Z"
   },
   {
    "duration": 19,
    "start_time": "2024-01-10T14:39:41.777Z"
   },
   {
    "duration": 17,
    "start_time": "2024-01-10T14:39:41.797Z"
   },
   {
    "duration": 3,
    "start_time": "2024-01-10T14:39:41.815Z"
   },
   {
    "duration": 13,
    "start_time": "2024-01-10T14:39:41.819Z"
   },
   {
    "duration": 32,
    "start_time": "2024-01-10T14:39:41.833Z"
   },
   {
    "duration": 3,
    "start_time": "2024-01-10T14:39:41.867Z"
   },
   {
    "duration": 9,
    "start_time": "2024-01-10T14:39:41.871Z"
   },
   {
    "duration": 23,
    "start_time": "2024-01-10T14:39:41.881Z"
   },
   {
    "duration": 25,
    "start_time": "2024-01-10T14:39:41.905Z"
   },
   {
    "duration": 50,
    "start_time": "2024-01-10T14:39:41.931Z"
   },
   {
    "duration": 4,
    "start_time": "2024-01-10T14:39:41.983Z"
   },
   {
    "duration": 25,
    "start_time": "2024-01-10T14:39:41.988Z"
   },
   {
    "duration": 435,
    "start_time": "2024-01-10T14:47:53.219Z"
   },
   {
    "duration": 20,
    "start_time": "2024-01-10T14:47:53.656Z"
   },
   {
    "duration": 14,
    "start_time": "2024-01-10T14:47:53.677Z"
   },
   {
    "duration": 9,
    "start_time": "2024-01-10T14:47:53.693Z"
   },
   {
    "duration": 6,
    "start_time": "2024-01-10T14:47:53.704Z"
   },
   {
    "duration": 56,
    "start_time": "2024-01-10T14:47:53.711Z"
   },
   {
    "duration": 3,
    "start_time": "2024-01-10T14:47:53.769Z"
   },
   {
    "duration": 9,
    "start_time": "2024-01-10T14:47:53.773Z"
   },
   {
    "duration": 5,
    "start_time": "2024-01-10T14:47:53.783Z"
   },
   {
    "duration": 6,
    "start_time": "2024-01-10T14:47:53.790Z"
   },
   {
    "duration": 4,
    "start_time": "2024-01-10T14:47:53.797Z"
   },
   {
    "duration": 33,
    "start_time": "2024-01-10T14:47:53.803Z"
   },
   {
    "duration": 11,
    "start_time": "2024-01-10T14:47:53.864Z"
   },
   {
    "duration": 4,
    "start_time": "2024-01-10T14:47:53.877Z"
   },
   {
    "duration": 12,
    "start_time": "2024-01-10T14:47:53.883Z"
   },
   {
    "duration": 22,
    "start_time": "2024-01-10T14:47:53.897Z"
   },
   {
    "duration": 47,
    "start_time": "2024-01-10T14:47:53.921Z"
   },
   {
    "duration": 4,
    "start_time": "2024-01-10T14:47:53.969Z"
   },
   {
    "duration": 14,
    "start_time": "2024-01-10T14:47:53.975Z"
   },
   {
    "duration": 6,
    "start_time": "2024-01-10T14:47:53.991Z"
   },
   {
    "duration": 4,
    "start_time": "2024-01-10T14:47:53.998Z"
   },
   {
    "duration": 9,
    "start_time": "2024-01-10T14:47:54.004Z"
   },
   {
    "duration": 54,
    "start_time": "2024-01-10T14:47:54.014Z"
   },
   {
    "duration": 25,
    "start_time": "2024-01-10T14:47:54.069Z"
   },
   {
    "duration": 22,
    "start_time": "2024-01-10T14:47:54.096Z"
   },
   {
    "duration": 4,
    "start_time": "2024-01-10T14:47:54.120Z"
   },
   {
    "duration": 50,
    "start_time": "2024-01-10T14:47:54.125Z"
   },
   {
    "duration": 484,
    "start_time": "2024-01-10T14:49:21.255Z"
   },
   {
    "duration": 23,
    "start_time": "2024-01-10T14:49:21.740Z"
   },
   {
    "duration": 15,
    "start_time": "2024-01-10T14:49:21.765Z"
   },
   {
    "duration": 10,
    "start_time": "2024-01-10T14:49:21.783Z"
   },
   {
    "duration": 6,
    "start_time": "2024-01-10T14:49:21.795Z"
   },
   {
    "duration": 6,
    "start_time": "2024-01-10T14:49:21.802Z"
   },
   {
    "duration": 71,
    "start_time": "2024-01-10T14:49:21.809Z"
   },
   {
    "duration": 3,
    "start_time": "2024-01-10T14:49:21.882Z"
   },
   {
    "duration": 12,
    "start_time": "2024-01-10T14:49:21.886Z"
   },
   {
    "duration": 3,
    "start_time": "2024-01-10T14:49:21.901Z"
   },
   {
    "duration": 6,
    "start_time": "2024-01-10T14:49:21.906Z"
   },
   {
    "duration": 5,
    "start_time": "2024-01-10T14:49:21.913Z"
   },
   {
    "duration": 55,
    "start_time": "2024-01-10T14:49:21.919Z"
   },
   {
    "duration": 11,
    "start_time": "2024-01-10T14:49:21.975Z"
   },
   {
    "duration": 5,
    "start_time": "2024-01-10T14:49:21.987Z"
   },
   {
    "duration": 22,
    "start_time": "2024-01-10T14:49:21.993Z"
   },
   {
    "duration": 29,
    "start_time": "2024-01-10T14:49:22.017Z"
   },
   {
    "duration": 34,
    "start_time": "2024-01-10T14:49:22.048Z"
   },
   {
    "duration": 5,
    "start_time": "2024-01-10T14:49:22.084Z"
   },
   {
    "duration": 11,
    "start_time": "2024-01-10T14:49:22.091Z"
   },
   {
    "duration": 6,
    "start_time": "2024-01-10T14:49:22.103Z"
   },
   {
    "duration": 3,
    "start_time": "2024-01-10T14:49:22.111Z"
   },
   {
    "duration": 9,
    "start_time": "2024-01-10T14:49:22.115Z"
   },
   {
    "duration": 57,
    "start_time": "2024-01-10T14:49:22.125Z"
   },
   {
    "duration": 30,
    "start_time": "2024-01-10T14:49:22.185Z"
   },
   {
    "duration": 23,
    "start_time": "2024-01-10T14:49:22.216Z"
   },
   {
    "duration": 25,
    "start_time": "2024-01-10T14:49:22.240Z"
   },
   {
    "duration": 22,
    "start_time": "2024-01-10T14:49:22.268Z"
   },
   {
    "duration": 473,
    "start_time": "2024-01-10T14:49:45.766Z"
   },
   {
    "duration": 20,
    "start_time": "2024-01-10T14:49:46.241Z"
   },
   {
    "duration": 14,
    "start_time": "2024-01-10T14:49:46.262Z"
   },
   {
    "duration": 9,
    "start_time": "2024-01-10T14:49:46.278Z"
   },
   {
    "duration": 6,
    "start_time": "2024-01-10T14:49:46.288Z"
   },
   {
    "duration": 12,
    "start_time": "2024-01-10T14:49:46.295Z"
   },
   {
    "duration": 56,
    "start_time": "2024-01-10T14:49:46.309Z"
   },
   {
    "duration": 3,
    "start_time": "2024-01-10T14:49:46.367Z"
   },
   {
    "duration": 14,
    "start_time": "2024-01-10T14:49:46.371Z"
   },
   {
    "duration": 6,
    "start_time": "2024-01-10T14:49:46.388Z"
   },
   {
    "duration": 5,
    "start_time": "2024-01-10T14:49:46.396Z"
   },
   {
    "duration": 4,
    "start_time": "2024-01-10T14:49:46.402Z"
   },
   {
    "duration": 37,
    "start_time": "2024-01-10T14:49:46.408Z"
   },
   {
    "duration": 10,
    "start_time": "2024-01-10T14:49:46.464Z"
   },
   {
    "duration": 4,
    "start_time": "2024-01-10T14:49:46.475Z"
   },
   {
    "duration": 12,
    "start_time": "2024-01-10T14:49:46.480Z"
   },
   {
    "duration": 20,
    "start_time": "2024-01-10T14:49:46.493Z"
   },
   {
    "duration": 16,
    "start_time": "2024-01-10T14:49:46.514Z"
   },
   {
    "duration": 4,
    "start_time": "2024-01-10T14:49:46.531Z"
   },
   {
    "duration": 37,
    "start_time": "2024-01-10T14:49:46.537Z"
   },
   {
    "duration": 7,
    "start_time": "2024-01-10T14:49:46.576Z"
   },
   {
    "duration": 10,
    "start_time": "2024-01-10T14:49:46.585Z"
   },
   {
    "duration": 8,
    "start_time": "2024-01-10T14:49:46.597Z"
   },
   {
    "duration": 25,
    "start_time": "2024-01-10T14:49:46.607Z"
   },
   {
    "duration": 56,
    "start_time": "2024-01-10T14:49:46.634Z"
   },
   {
    "duration": 26,
    "start_time": "2024-01-10T14:49:46.692Z"
   },
   {
    "duration": 4,
    "start_time": "2024-01-10T14:49:46.720Z"
   },
   {
    "duration": 49,
    "start_time": "2024-01-10T14:49:46.727Z"
   },
   {
    "duration": 515,
    "start_time": "2024-01-10T14:54:39.043Z"
   },
   {
    "duration": 21,
    "start_time": "2024-01-10T14:54:39.560Z"
   },
   {
    "duration": 26,
    "start_time": "2024-01-10T14:54:39.582Z"
   },
   {
    "duration": 11,
    "start_time": "2024-01-10T14:54:39.610Z"
   },
   {
    "duration": 23,
    "start_time": "2024-01-10T14:54:39.622Z"
   },
   {
    "duration": 6,
    "start_time": "2024-01-10T14:54:39.647Z"
   },
   {
    "duration": 43,
    "start_time": "2024-01-10T14:54:39.655Z"
   },
   {
    "duration": 3,
    "start_time": "2024-01-10T14:54:39.700Z"
   },
   {
    "duration": 27,
    "start_time": "2024-01-10T14:54:39.704Z"
   },
   {
    "duration": 9,
    "start_time": "2024-01-10T14:54:39.734Z"
   },
   {
    "duration": 7,
    "start_time": "2024-01-10T14:54:39.744Z"
   },
   {
    "duration": 5,
    "start_time": "2024-01-10T14:54:39.752Z"
   },
   {
    "duration": 34,
    "start_time": "2024-01-10T14:54:39.759Z"
   },
   {
    "duration": 11,
    "start_time": "2024-01-10T14:54:39.795Z"
   },
   {
    "duration": 4,
    "start_time": "2024-01-10T14:54:39.808Z"
   },
   {
    "duration": 12,
    "start_time": "2024-01-10T14:54:39.813Z"
   },
   {
    "duration": 41,
    "start_time": "2024-01-10T14:54:39.826Z"
   },
   {
    "duration": 17,
    "start_time": "2024-01-10T14:54:39.869Z"
   },
   {
    "duration": 3,
    "start_time": "2024-01-10T14:54:39.887Z"
   },
   {
    "duration": 10,
    "start_time": "2024-01-10T14:54:39.892Z"
   },
   {
    "duration": 5,
    "start_time": "2024-01-10T14:54:39.903Z"
   },
   {
    "duration": 2,
    "start_time": "2024-01-10T14:54:39.910Z"
   },
   {
    "duration": 11,
    "start_time": "2024-01-10T14:54:39.914Z"
   },
   {
    "duration": 56,
    "start_time": "2024-01-10T14:54:39.927Z"
   },
   {
    "duration": 21,
    "start_time": "2024-01-10T14:54:39.985Z"
   },
   {
    "duration": 20,
    "start_time": "2024-01-10T14:54:40.008Z"
   },
   {
    "duration": 6,
    "start_time": "2024-01-10T14:54:40.030Z"
   },
   {
    "duration": 44,
    "start_time": "2024-01-10T14:54:40.038Z"
   },
   {
    "duration": 484,
    "start_time": "2024-01-10T14:55:30.057Z"
   },
   {
    "duration": 22,
    "start_time": "2024-01-10T14:55:30.543Z"
   },
   {
    "duration": 33,
    "start_time": "2024-01-10T14:55:30.570Z"
   },
   {
    "duration": 40,
    "start_time": "2024-01-10T14:55:30.605Z"
   },
   {
    "duration": 50,
    "start_time": "2024-01-10T14:55:30.648Z"
   },
   {
    "duration": 41,
    "start_time": "2024-01-10T14:55:30.700Z"
   },
   {
    "duration": 71,
    "start_time": "2024-01-10T14:55:30.742Z"
   },
   {
    "duration": 3,
    "start_time": "2024-01-10T14:55:30.814Z"
   },
   {
    "duration": 36,
    "start_time": "2024-01-10T14:55:30.820Z"
   },
   {
    "duration": 22,
    "start_time": "2024-01-10T14:55:30.857Z"
   },
   {
    "duration": 25,
    "start_time": "2024-01-10T14:55:30.881Z"
   },
   {
    "duration": 6,
    "start_time": "2024-01-10T14:55:30.908Z"
   },
   {
    "duration": 50,
    "start_time": "2024-01-10T14:55:30.916Z"
   },
   {
    "duration": 10,
    "start_time": "2024-01-10T14:55:30.968Z"
   },
   {
    "duration": 20,
    "start_time": "2024-01-10T14:55:30.979Z"
   },
   {
    "duration": 34,
    "start_time": "2024-01-10T14:55:31.001Z"
   },
   {
    "duration": 48,
    "start_time": "2024-01-10T14:55:31.036Z"
   },
   {
    "duration": 41,
    "start_time": "2024-01-10T14:55:31.086Z"
   },
   {
    "duration": 16,
    "start_time": "2024-01-10T14:55:31.129Z"
   },
   {
    "duration": 30,
    "start_time": "2024-01-10T14:55:31.147Z"
   },
   {
    "duration": 16,
    "start_time": "2024-01-10T14:55:31.179Z"
   },
   {
    "duration": 9,
    "start_time": "2024-01-10T14:55:31.197Z"
   },
   {
    "duration": 38,
    "start_time": "2024-01-10T14:55:31.207Z"
   },
   {
    "duration": 59,
    "start_time": "2024-01-10T14:55:31.246Z"
   },
   {
    "duration": 26,
    "start_time": "2024-01-10T14:55:31.306Z"
   },
   {
    "duration": 30,
    "start_time": "2024-01-10T14:55:31.334Z"
   },
   {
    "duration": 43,
    "start_time": "2024-01-10T14:55:31.367Z"
   },
   {
    "duration": 91,
    "start_time": "2024-01-10T14:55:31.412Z"
   },
   {
    "duration": 482,
    "start_time": "2024-01-11T06:13:25.251Z"
   },
   {
    "duration": 23,
    "start_time": "2024-01-11T06:13:25.735Z"
   },
   {
    "duration": 15,
    "start_time": "2024-01-11T06:13:25.760Z"
   },
   {
    "duration": 11,
    "start_time": "2024-01-11T06:13:25.778Z"
   },
   {
    "duration": 6,
    "start_time": "2024-01-11T06:13:25.790Z"
   },
   {
    "duration": 42,
    "start_time": "2024-01-11T06:13:25.797Z"
   },
   {
    "duration": 26,
    "start_time": "2024-01-11T06:13:25.840Z"
   },
   {
    "duration": 16,
    "start_time": "2024-01-11T06:13:25.867Z"
   },
   {
    "duration": 5,
    "start_time": "2024-01-11T06:13:25.885Z"
   },
   {
    "duration": 11,
    "start_time": "2024-01-11T06:13:25.893Z"
   },
   {
    "duration": 6,
    "start_time": "2024-01-11T06:13:25.906Z"
   },
   {
    "duration": 37,
    "start_time": "2024-01-11T06:13:25.914Z"
   },
   {
    "duration": 15,
    "start_time": "2024-01-11T06:13:25.953Z"
   },
   {
    "duration": 3,
    "start_time": "2024-01-11T06:13:25.970Z"
   },
   {
    "duration": 17,
    "start_time": "2024-01-11T06:13:25.974Z"
   },
   {
    "duration": 17,
    "start_time": "2024-01-11T06:13:25.993Z"
   },
   {
    "duration": 15,
    "start_time": "2024-01-11T06:13:26.011Z"
   },
   {
    "duration": 3,
    "start_time": "2024-01-11T06:13:26.027Z"
   },
   {
    "duration": 39,
    "start_time": "2024-01-11T06:13:26.031Z"
   },
   {
    "duration": 5,
    "start_time": "2024-01-11T06:13:26.071Z"
   },
   {
    "duration": 10,
    "start_time": "2024-01-11T06:13:26.077Z"
   },
   {
    "duration": 8,
    "start_time": "2024-01-11T06:13:26.088Z"
   },
   {
    "duration": 20,
    "start_time": "2024-01-11T06:13:26.098Z"
   },
   {
    "duration": 21,
    "start_time": "2024-01-11T06:13:26.120Z"
   },
   {
    "duration": 37,
    "start_time": "2024-01-11T06:13:26.143Z"
   },
   {
    "duration": 6,
    "start_time": "2024-01-11T06:13:26.182Z"
   },
   {
    "duration": 27,
    "start_time": "2024-01-11T06:13:26.189Z"
   },
   {
    "duration": 404,
    "start_time": "2024-01-11T06:24:47.123Z"
   },
   {
    "duration": 21,
    "start_time": "2024-01-11T06:24:47.528Z"
   },
   {
    "duration": 15,
    "start_time": "2024-01-11T06:24:47.550Z"
   },
   {
    "duration": 15,
    "start_time": "2024-01-11T06:24:47.567Z"
   },
   {
    "duration": 6,
    "start_time": "2024-01-11T06:24:47.584Z"
   },
   {
    "duration": 40,
    "start_time": "2024-01-11T06:24:47.592Z"
   },
   {
    "duration": 4,
    "start_time": "2024-01-11T06:24:47.633Z"
   },
   {
    "duration": 29,
    "start_time": "2024-01-11T06:24:47.638Z"
   },
   {
    "duration": 4,
    "start_time": "2024-01-11T06:24:47.668Z"
   },
   {
    "duration": 6,
    "start_time": "2024-01-11T06:24:47.675Z"
   },
   {
    "duration": 4,
    "start_time": "2024-01-11T06:24:47.683Z"
   },
   {
    "duration": 35,
    "start_time": "2024-01-11T06:24:47.688Z"
   },
   {
    "duration": 10,
    "start_time": "2024-01-11T06:24:47.724Z"
   },
   {
    "duration": 3,
    "start_time": "2024-01-11T06:24:47.735Z"
   },
   {
    "duration": 11,
    "start_time": "2024-01-11T06:24:47.765Z"
   },
   {
    "duration": 22,
    "start_time": "2024-01-11T06:24:47.778Z"
   },
   {
    "duration": 17,
    "start_time": "2024-01-11T06:24:47.802Z"
   },
   {
    "duration": 3,
    "start_time": "2024-01-11T06:24:47.820Z"
   },
   {
    "duration": 13,
    "start_time": "2024-01-11T06:24:47.824Z"
   },
   {
    "duration": 5,
    "start_time": "2024-01-11T06:24:47.838Z"
   },
   {
    "duration": 22,
    "start_time": "2024-01-11T06:24:47.844Z"
   },
   {
    "duration": 13,
    "start_time": "2024-01-11T06:24:47.867Z"
   },
   {
    "duration": 22,
    "start_time": "2024-01-11T06:24:47.882Z"
   },
   {
    "duration": 23,
    "start_time": "2024-01-11T06:24:47.905Z"
   },
   {
    "duration": 40,
    "start_time": "2024-01-11T06:24:47.929Z"
   },
   {
    "duration": 1191,
    "start_time": "2024-01-11T06:24:47.970Z"
   },
   {
    "duration": 0,
    "start_time": "2024-01-11T06:24:49.163Z"
   },
   {
    "duration": 433,
    "start_time": "2024-01-11T06:25:09.312Z"
   },
   {
    "duration": 23,
    "start_time": "2024-01-11T06:25:09.747Z"
   },
   {
    "duration": 17,
    "start_time": "2024-01-11T06:25:09.772Z"
   },
   {
    "duration": 11,
    "start_time": "2024-01-11T06:25:09.791Z"
   },
   {
    "duration": 5,
    "start_time": "2024-01-11T06:25:09.803Z"
   },
   {
    "duration": 62,
    "start_time": "2024-01-11T06:25:09.810Z"
   },
   {
    "duration": 3,
    "start_time": "2024-01-11T06:25:09.874Z"
   },
   {
    "duration": 19,
    "start_time": "2024-01-11T06:25:09.878Z"
   },
   {
    "duration": 4,
    "start_time": "2024-01-11T06:25:09.898Z"
   },
   {
    "duration": 6,
    "start_time": "2024-01-11T06:25:09.905Z"
   },
   {
    "duration": 7,
    "start_time": "2024-01-11T06:25:09.912Z"
   },
   {
    "duration": 48,
    "start_time": "2024-01-11T06:25:09.921Z"
   },
   {
    "duration": 11,
    "start_time": "2024-01-11T06:25:09.970Z"
   },
   {
    "duration": 4,
    "start_time": "2024-01-11T06:25:09.982Z"
   },
   {
    "duration": 12,
    "start_time": "2024-01-11T06:25:09.987Z"
   },
   {
    "duration": 29,
    "start_time": "2024-01-11T06:25:10.000Z"
   },
   {
    "duration": 16,
    "start_time": "2024-01-11T06:25:10.030Z"
   },
   {
    "duration": 18,
    "start_time": "2024-01-11T06:25:10.047Z"
   },
   {
    "duration": 11,
    "start_time": "2024-01-11T06:25:10.066Z"
   },
   {
    "duration": 13,
    "start_time": "2024-01-11T06:25:10.078Z"
   },
   {
    "duration": 5,
    "start_time": "2024-01-11T06:25:10.092Z"
   },
   {
    "duration": 9,
    "start_time": "2024-01-11T06:25:10.098Z"
   },
   {
    "duration": 23,
    "start_time": "2024-01-11T06:25:10.109Z"
   },
   {
    "duration": 46,
    "start_time": "2024-01-11T06:25:10.133Z"
   },
   {
    "duration": 22,
    "start_time": "2024-01-11T06:25:10.181Z"
   },
   {
    "duration": 8,
    "start_time": "2024-01-11T06:25:10.204Z"
   },
   {
    "duration": 43,
    "start_time": "2024-01-11T06:25:10.214Z"
   },
   {
    "duration": 506,
    "start_time": "2024-01-11T06:30:38.443Z"
   },
   {
    "duration": 30,
    "start_time": "2024-01-11T06:30:38.951Z"
   },
   {
    "duration": 15,
    "start_time": "2024-01-11T06:30:38.983Z"
   },
   {
    "duration": 10,
    "start_time": "2024-01-11T06:30:39.000Z"
   },
   {
    "duration": 7,
    "start_time": "2024-01-11T06:30:39.011Z"
   },
   {
    "duration": 50,
    "start_time": "2024-01-11T06:30:39.019Z"
   },
   {
    "duration": 3,
    "start_time": "2024-01-11T06:30:39.071Z"
   },
   {
    "duration": 14,
    "start_time": "2024-01-11T06:30:39.075Z"
   },
   {
    "duration": 9,
    "start_time": "2024-01-11T06:30:39.090Z"
   },
   {
    "duration": 12,
    "start_time": "2024-01-11T06:30:39.102Z"
   },
   {
    "duration": 21,
    "start_time": "2024-01-11T06:30:39.115Z"
   },
   {
    "duration": 46,
    "start_time": "2024-01-11T06:30:39.138Z"
   },
   {
    "duration": 12,
    "start_time": "2024-01-11T06:30:39.185Z"
   },
   {
    "duration": 4,
    "start_time": "2024-01-11T06:30:39.198Z"
   },
   {
    "duration": 13,
    "start_time": "2024-01-11T06:30:39.203Z"
   },
   {
    "duration": 31,
    "start_time": "2024-01-11T06:30:39.217Z"
   },
   {
    "duration": 27,
    "start_time": "2024-01-11T06:30:39.250Z"
   },
   {
    "duration": 4,
    "start_time": "2024-01-11T06:30:39.278Z"
   },
   {
    "duration": 13,
    "start_time": "2024-01-11T06:30:39.284Z"
   },
   {
    "duration": 6,
    "start_time": "2024-01-11T06:30:39.299Z"
   },
   {
    "duration": 3,
    "start_time": "2024-01-11T06:30:39.307Z"
   },
   {
    "duration": 10,
    "start_time": "2024-01-11T06:30:39.312Z"
   },
   {
    "duration": 51,
    "start_time": "2024-01-11T06:30:39.324Z"
   },
   {
    "duration": 23,
    "start_time": "2024-01-11T06:30:39.377Z"
   },
   {
    "duration": 23,
    "start_time": "2024-01-11T06:30:39.402Z"
   },
   {
    "duration": 4,
    "start_time": "2024-01-11T06:30:39.427Z"
   },
   {
    "duration": 56,
    "start_time": "2024-01-11T06:30:39.433Z"
   },
   {
    "duration": 431,
    "start_time": "2024-01-11T06:39:07.513Z"
   },
   {
    "duration": 22,
    "start_time": "2024-01-11T06:39:07.946Z"
   },
   {
    "duration": 15,
    "start_time": "2024-01-11T06:39:07.969Z"
   },
   {
    "duration": 10,
    "start_time": "2024-01-11T06:39:07.986Z"
   },
   {
    "duration": 16,
    "start_time": "2024-01-11T06:39:07.997Z"
   },
   {
    "duration": 37,
    "start_time": "2024-01-11T06:39:08.015Z"
   },
   {
    "duration": 3,
    "start_time": "2024-01-11T06:39:08.054Z"
   },
   {
    "duration": 10,
    "start_time": "2024-01-11T06:39:08.065Z"
   },
   {
    "duration": 7,
    "start_time": "2024-01-11T06:39:08.077Z"
   },
   {
    "duration": 19,
    "start_time": "2024-01-11T06:39:08.087Z"
   },
   {
    "duration": 5,
    "start_time": "2024-01-11T06:39:08.107Z"
   },
   {
    "duration": 40,
    "start_time": "2024-01-11T06:39:08.113Z"
   },
   {
    "duration": 11,
    "start_time": "2024-01-11T06:39:08.154Z"
   },
   {
    "duration": 12,
    "start_time": "2024-01-11T06:39:08.166Z"
   },
   {
    "duration": 14,
    "start_time": "2024-01-11T06:39:08.179Z"
   },
   {
    "duration": 23,
    "start_time": "2024-01-11T06:39:08.194Z"
   },
   {
    "duration": 15,
    "start_time": "2024-01-11T06:39:08.218Z"
   },
   {
    "duration": 3,
    "start_time": "2024-01-11T06:39:08.235Z"
   },
   {
    "duration": 10,
    "start_time": "2024-01-11T06:39:08.239Z"
   },
   {
    "duration": 14,
    "start_time": "2024-01-11T06:39:08.251Z"
   },
   {
    "duration": 2,
    "start_time": "2024-01-11T06:39:08.267Z"
   },
   {
    "duration": 8,
    "start_time": "2024-01-11T06:39:08.271Z"
   },
   {
    "duration": 23,
    "start_time": "2024-01-11T06:39:08.280Z"
   },
   {
    "duration": 22,
    "start_time": "2024-01-11T06:39:08.305Z"
   },
   {
    "duration": 52,
    "start_time": "2024-01-11T06:39:08.328Z"
   },
   {
    "duration": 3,
    "start_time": "2024-01-11T06:39:08.381Z"
   },
   {
    "duration": 23,
    "start_time": "2024-01-11T06:39:08.386Z"
   },
   {
    "duration": 32,
    "start_time": "2024-01-11T06:51:57.093Z"
   },
   {
    "duration": 29,
    "start_time": "2024-01-11T06:53:19.043Z"
   },
   {
    "duration": 30,
    "start_time": "2024-01-11T06:53:30.391Z"
   },
   {
    "duration": 26,
    "start_time": "2024-01-11T06:53:49.902Z"
   },
   {
    "duration": 23,
    "start_time": "2024-01-11T06:55:08.130Z"
   },
   {
    "duration": 82,
    "start_time": "2024-01-11T06:55:38.535Z"
   },
   {
    "duration": 23,
    "start_time": "2024-01-11T06:55:50.919Z"
   },
   {
    "duration": 22,
    "start_time": "2024-01-11T06:56:19.623Z"
   },
   {
    "duration": 22,
    "start_time": "2024-01-11T06:56:41.247Z"
   },
   {
    "duration": 28,
    "start_time": "2024-01-11T06:56:56.360Z"
   },
   {
    "duration": 27,
    "start_time": "2024-01-11T06:57:09.945Z"
   },
   {
    "duration": 26,
    "start_time": "2024-01-11T06:57:32.400Z"
   },
   {
    "duration": 134,
    "start_time": "2024-01-11T07:01:16.178Z"
   },
   {
    "duration": 23,
    "start_time": "2024-01-11T07:01:21.644Z"
   },
   {
    "duration": 24,
    "start_time": "2024-01-11T07:01:29.017Z"
   },
   {
    "duration": 22,
    "start_time": "2024-01-11T07:01:46.459Z"
   },
   {
    "duration": 27,
    "start_time": "2024-01-11T07:02:08.726Z"
   },
   {
    "duration": 25,
    "start_time": "2024-01-11T07:02:37.860Z"
   },
   {
    "duration": 4,
    "start_time": "2024-01-11T07:03:39.923Z"
   },
   {
    "duration": 31,
    "start_time": "2024-01-11T07:03:44.907Z"
   },
   {
    "duration": 30,
    "start_time": "2024-01-11T07:04:11.347Z"
   },
   {
    "duration": 486,
    "start_time": "2024-01-11T07:09:50.057Z"
   },
   {
    "duration": 21,
    "start_time": "2024-01-11T07:09:50.545Z"
   },
   {
    "duration": 15,
    "start_time": "2024-01-11T07:09:50.567Z"
   },
   {
    "duration": 9,
    "start_time": "2024-01-11T07:09:50.584Z"
   },
   {
    "duration": 5,
    "start_time": "2024-01-11T07:09:50.595Z"
   },
   {
    "duration": 64,
    "start_time": "2024-01-11T07:09:50.601Z"
   },
   {
    "duration": 3,
    "start_time": "2024-01-11T07:09:50.667Z"
   },
   {
    "duration": 12,
    "start_time": "2024-01-11T07:09:50.671Z"
   },
   {
    "duration": 4,
    "start_time": "2024-01-11T07:09:50.684Z"
   },
   {
    "duration": 6,
    "start_time": "2024-01-11T07:09:50.691Z"
   },
   {
    "duration": 5,
    "start_time": "2024-01-11T07:09:50.699Z"
   },
   {
    "duration": 34,
    "start_time": "2024-01-11T07:09:50.705Z"
   },
   {
    "duration": 27,
    "start_time": "2024-01-11T07:09:50.741Z"
   },
   {
    "duration": 3,
    "start_time": "2024-01-11T07:09:50.770Z"
   },
   {
    "duration": 17,
    "start_time": "2024-01-11T07:09:50.775Z"
   },
   {
    "duration": 31,
    "start_time": "2024-01-11T07:09:50.794Z"
   },
   {
    "duration": 17,
    "start_time": "2024-01-11T07:09:50.826Z"
   },
   {
    "duration": 3,
    "start_time": "2024-01-11T07:09:50.844Z"
   },
   {
    "duration": 23,
    "start_time": "2024-01-11T07:09:50.849Z"
   },
   {
    "duration": 5,
    "start_time": "2024-01-11T07:09:50.874Z"
   },
   {
    "duration": 26,
    "start_time": "2024-01-11T07:09:50.880Z"
   },
   {
    "duration": 21,
    "start_time": "2024-01-11T07:09:50.907Z"
   },
   {
    "duration": 22,
    "start_time": "2024-01-11T07:09:50.929Z"
   },
   {
    "duration": 22,
    "start_time": "2024-01-11T07:09:50.953Z"
   },
   {
    "duration": 22,
    "start_time": "2024-01-11T07:09:50.976Z"
   },
   {
    "duration": 3,
    "start_time": "2024-01-11T07:09:51.000Z"
   },
   {
    "duration": 24,
    "start_time": "2024-01-11T07:09:51.004Z"
   },
   {
    "duration": 478,
    "start_time": "2024-01-11T08:20:53.264Z"
   },
   {
    "duration": 21,
    "start_time": "2024-01-11T08:20:53.744Z"
   },
   {
    "duration": 15,
    "start_time": "2024-01-11T08:20:53.766Z"
   },
   {
    "duration": 10,
    "start_time": "2024-01-11T08:20:53.783Z"
   },
   {
    "duration": 7,
    "start_time": "2024-01-11T08:20:53.794Z"
   },
   {
    "duration": 32,
    "start_time": "2024-01-11T08:20:53.803Z"
   },
   {
    "duration": 3,
    "start_time": "2024-01-11T08:20:53.837Z"
   },
   {
    "duration": 7,
    "start_time": "2024-01-11T08:20:53.865Z"
   },
   {
    "duration": 4,
    "start_time": "2024-01-11T08:20:53.874Z"
   },
   {
    "duration": 6,
    "start_time": "2024-01-11T08:20:53.880Z"
   },
   {
    "duration": 4,
    "start_time": "2024-01-11T08:20:53.887Z"
   },
   {
    "duration": 38,
    "start_time": "2024-01-11T08:20:53.892Z"
   },
   {
    "duration": 35,
    "start_time": "2024-01-11T08:20:53.931Z"
   },
   {
    "duration": 4,
    "start_time": "2024-01-11T08:20:53.968Z"
   },
   {
    "duration": 13,
    "start_time": "2024-01-11T08:20:53.973Z"
   },
   {
    "duration": 24,
    "start_time": "2024-01-11T08:20:53.987Z"
   },
   {
    "duration": 16,
    "start_time": "2024-01-11T08:20:54.012Z"
   },
   {
    "duration": 4,
    "start_time": "2024-01-11T08:20:54.029Z"
   },
   {
    "duration": 31,
    "start_time": "2024-01-11T08:20:54.034Z"
   },
   {
    "duration": 5,
    "start_time": "2024-01-11T08:20:54.067Z"
   },
   {
    "duration": 4,
    "start_time": "2024-01-11T08:20:54.073Z"
   },
   {
    "duration": 9,
    "start_time": "2024-01-11T08:20:54.078Z"
   },
   {
    "duration": 22,
    "start_time": "2024-01-11T08:20:54.089Z"
   },
   {
    "duration": 23,
    "start_time": "2024-01-11T08:20:54.112Z"
   },
   {
    "duration": 22,
    "start_time": "2024-01-11T08:20:54.165Z"
   },
   {
    "duration": 5,
    "start_time": "2024-01-11T08:20:54.188Z"
   },
   {
    "duration": 23,
    "start_time": "2024-01-11T08:20:54.194Z"
   },
   {
    "duration": 51,
    "start_time": "2024-01-11T11:51:07.869Z"
   },
   {
    "duration": 697,
    "start_time": "2024-01-11T13:09:31.666Z"
   },
   {
    "duration": 20,
    "start_time": "2024-01-11T13:09:32.364Z"
   },
   {
    "duration": 14,
    "start_time": "2024-01-11T13:09:32.386Z"
   },
   {
    "duration": 27,
    "start_time": "2024-01-11T13:09:32.403Z"
   },
   {
    "duration": 5,
    "start_time": "2024-01-11T13:09:32.432Z"
   },
   {
    "duration": 40,
    "start_time": "2024-01-11T13:09:32.438Z"
   },
   {
    "duration": 3,
    "start_time": "2024-01-11T13:09:32.479Z"
   },
   {
    "duration": 17,
    "start_time": "2024-01-11T13:09:32.483Z"
   },
   {
    "duration": 10,
    "start_time": "2024-01-11T13:09:32.501Z"
   },
   {
    "duration": 6,
    "start_time": "2024-01-11T13:09:32.514Z"
   },
   {
    "duration": 9,
    "start_time": "2024-01-11T13:09:32.521Z"
   },
   {
    "duration": 46,
    "start_time": "2024-01-11T13:09:32.531Z"
   },
   {
    "duration": 10,
    "start_time": "2024-01-11T13:09:32.578Z"
   },
   {
    "duration": 6,
    "start_time": "2024-01-11T13:09:32.589Z"
   },
   {
    "duration": 12,
    "start_time": "2024-01-11T13:09:32.596Z"
   },
   {
    "duration": 27,
    "start_time": "2024-01-11T13:09:32.609Z"
   },
   {
    "duration": 33,
    "start_time": "2024-01-11T13:09:32.637Z"
   },
   {
    "duration": 4,
    "start_time": "2024-01-11T13:09:32.671Z"
   },
   {
    "duration": 17,
    "start_time": "2024-01-11T13:09:32.676Z"
   },
   {
    "duration": 23,
    "start_time": "2024-01-11T13:09:32.695Z"
   },
   {
    "duration": 4,
    "start_time": "2024-01-11T13:09:32.719Z"
   },
   {
    "duration": 41,
    "start_time": "2024-01-11T13:09:32.724Z"
   },
   {
    "duration": 35,
    "start_time": "2024-01-11T13:09:32.766Z"
   },
   {
    "duration": 24,
    "start_time": "2024-01-11T13:09:32.803Z"
   },
   {
    "duration": 4,
    "start_time": "2024-01-11T13:09:32.828Z"
   },
   {
    "duration": 37,
    "start_time": "2024-01-11T13:09:32.833Z"
   },
   {
    "duration": 4,
    "start_time": "2024-01-11T13:09:32.871Z"
   },
   {
    "duration": 32,
    "start_time": "2024-01-11T13:09:32.878Z"
   },
   {
    "duration": 11,
    "start_time": "2024-01-11T13:32:16.544Z"
   },
   {
    "duration": 11,
    "start_time": "2024-01-11T13:32:30.143Z"
   },
   {
    "duration": 25,
    "start_time": "2024-01-11T13:32:39.406Z"
   },
   {
    "duration": 10,
    "start_time": "2024-01-11T13:32:43.830Z"
   },
   {
    "duration": 23,
    "start_time": "2024-01-11T13:36:27.611Z"
   },
   {
    "duration": 12,
    "start_time": "2024-01-11T13:36:30.496Z"
   },
   {
    "duration": 24,
    "start_time": "2024-01-11T13:41:36.574Z"
   },
   {
    "duration": 13,
    "start_time": "2024-01-11T13:41:39.197Z"
   },
   {
    "duration": 25,
    "start_time": "2024-01-11T13:42:39.502Z"
   },
   {
    "duration": 13,
    "start_time": "2024-01-11T13:42:42.581Z"
   },
   {
    "duration": 23,
    "start_time": "2024-01-11T13:45:17.792Z"
   },
   {
    "duration": 13,
    "start_time": "2024-01-11T13:45:31.355Z"
   },
   {
    "duration": 15,
    "start_time": "2024-01-11T13:45:44.904Z"
   },
   {
    "duration": 24,
    "start_time": "2024-01-11T13:45:48.779Z"
   },
   {
    "duration": 13,
    "start_time": "2024-01-11T13:45:51.619Z"
   },
   {
    "duration": 26,
    "start_time": "2024-01-11T13:47:23.051Z"
   },
   {
    "duration": 19,
    "start_time": "2024-01-11T13:47:25.802Z"
   },
   {
    "duration": 23,
    "start_time": "2024-01-11T13:48:11.197Z"
   },
   {
    "duration": 12,
    "start_time": "2024-01-11T13:48:14.908Z"
   },
   {
    "duration": 24,
    "start_time": "2024-01-11T13:49:31.110Z"
   },
   {
    "duration": 13,
    "start_time": "2024-01-11T13:49:33.963Z"
   },
   {
    "duration": 23,
    "start_time": "2024-01-11T13:49:42.172Z"
   },
   {
    "duration": 76,
    "start_time": "2024-01-11T13:49:45.873Z"
   },
   {
    "duration": 26,
    "start_time": "2024-01-11T13:51:00.181Z"
   },
   {
    "duration": 14,
    "start_time": "2024-01-11T13:51:02.751Z"
   },
   {
    "duration": 12,
    "start_time": "2024-01-11T13:54:24.008Z"
   },
   {
    "duration": 436,
    "start_time": "2024-01-11T13:54:34.696Z"
   },
   {
    "duration": 21,
    "start_time": "2024-01-11T13:54:35.134Z"
   },
   {
    "duration": 13,
    "start_time": "2024-01-11T13:54:35.156Z"
   },
   {
    "duration": 9,
    "start_time": "2024-01-11T13:54:35.171Z"
   },
   {
    "duration": 12,
    "start_time": "2024-01-11T13:54:35.181Z"
   },
   {
    "duration": 33,
    "start_time": "2024-01-11T13:54:35.194Z"
   },
   {
    "duration": 3,
    "start_time": "2024-01-11T13:54:35.228Z"
   },
   {
    "duration": 16,
    "start_time": "2024-01-11T13:54:35.232Z"
   },
   {
    "duration": 17,
    "start_time": "2024-01-11T13:54:35.249Z"
   },
   {
    "duration": 6,
    "start_time": "2024-01-11T13:54:35.269Z"
   },
   {
    "duration": 4,
    "start_time": "2024-01-11T13:54:35.276Z"
   },
   {
    "duration": 34,
    "start_time": "2024-01-11T13:54:35.281Z"
   },
   {
    "duration": 9,
    "start_time": "2024-01-11T13:54:35.316Z"
   },
   {
    "duration": 4,
    "start_time": "2024-01-11T13:54:35.326Z"
   },
   {
    "duration": 35,
    "start_time": "2024-01-11T13:54:35.331Z"
   },
   {
    "duration": 18,
    "start_time": "2024-01-11T13:54:35.367Z"
   },
   {
    "duration": 15,
    "start_time": "2024-01-11T13:54:35.386Z"
   },
   {
    "duration": 4,
    "start_time": "2024-01-11T13:54:35.403Z"
   },
   {
    "duration": 14,
    "start_time": "2024-01-11T13:54:35.409Z"
   },
   {
    "duration": 7,
    "start_time": "2024-01-11T13:54:35.425Z"
   },
   {
    "duration": 5,
    "start_time": "2024-01-11T13:54:35.433Z"
   },
   {
    "duration": 27,
    "start_time": "2024-01-11T13:54:35.439Z"
   },
   {
    "duration": 23,
    "start_time": "2024-01-11T13:54:35.467Z"
   },
   {
    "duration": 24,
    "start_time": "2024-01-11T13:54:35.491Z"
   },
   {
    "duration": 12,
    "start_time": "2024-01-11T13:54:35.517Z"
   },
   {
    "duration": 49,
    "start_time": "2024-01-11T13:54:35.530Z"
   },
   {
    "duration": 4,
    "start_time": "2024-01-11T13:54:35.580Z"
   },
   {
    "duration": 25,
    "start_time": "2024-01-11T13:54:35.587Z"
   },
   {
    "duration": 528,
    "start_time": "2024-01-11T14:16:12.746Z"
   },
   {
    "duration": 21,
    "start_time": "2024-01-11T14:16:13.276Z"
   },
   {
    "duration": 15,
    "start_time": "2024-01-11T14:16:13.299Z"
   },
   {
    "duration": 9,
    "start_time": "2024-01-11T14:16:13.316Z"
   },
   {
    "duration": 5,
    "start_time": "2024-01-11T14:16:13.326Z"
   },
   {
    "duration": 61,
    "start_time": "2024-01-11T14:16:13.332Z"
   },
   {
    "duration": 4,
    "start_time": "2024-01-11T14:16:13.395Z"
   },
   {
    "duration": 12,
    "start_time": "2024-01-11T14:16:13.401Z"
   },
   {
    "duration": 3,
    "start_time": "2024-01-11T14:16:13.414Z"
   },
   {
    "duration": 5,
    "start_time": "2024-01-11T14:16:13.421Z"
   },
   {
    "duration": 4,
    "start_time": "2024-01-11T14:16:13.428Z"
   },
   {
    "duration": 57,
    "start_time": "2024-01-11T14:16:13.433Z"
   },
   {
    "duration": 10,
    "start_time": "2024-01-11T14:16:13.492Z"
   },
   {
    "duration": 4,
    "start_time": "2024-01-11T14:16:13.503Z"
   },
   {
    "duration": 13,
    "start_time": "2024-01-11T14:16:13.508Z"
   },
   {
    "duration": 43,
    "start_time": "2024-01-11T14:16:13.522Z"
   },
   {
    "duration": 18,
    "start_time": "2024-01-11T14:16:13.567Z"
   },
   {
    "duration": 4,
    "start_time": "2024-01-11T14:16:13.586Z"
   },
   {
    "duration": 13,
    "start_time": "2024-01-11T14:16:13.592Z"
   },
   {
    "duration": 7,
    "start_time": "2024-01-11T14:16:13.606Z"
   },
   {
    "duration": 4,
    "start_time": "2024-01-11T14:16:13.615Z"
   },
   {
    "duration": 9,
    "start_time": "2024-01-11T14:16:13.620Z"
   },
   {
    "duration": 54,
    "start_time": "2024-01-11T14:16:13.631Z"
   },
   {
    "duration": 23,
    "start_time": "2024-01-11T14:16:13.687Z"
   },
   {
    "duration": 13,
    "start_time": "2024-01-11T14:16:13.711Z"
   },
   {
    "duration": 48,
    "start_time": "2024-01-11T14:16:13.726Z"
   },
   {
    "duration": 4,
    "start_time": "2024-01-11T14:16:13.776Z"
   },
   {
    "duration": 23,
    "start_time": "2024-01-11T14:16:13.782Z"
   },
   {
    "duration": 6,
    "start_time": "2024-01-11T14:28:25.612Z"
   },
   {
    "duration": 23,
    "start_time": "2024-01-11T14:28:40.466Z"
   },
   {
    "duration": 4,
    "start_time": "2024-01-11T14:28:41.851Z"
   },
   {
    "duration": 23,
    "start_time": "2024-01-11T14:30:04.244Z"
   },
   {
    "duration": 15,
    "start_time": "2024-01-11T14:30:06.104Z"
   },
   {
    "duration": 7,
    "start_time": "2024-01-11T14:31:40.292Z"
   },
   {
    "duration": 24,
    "start_time": "2024-01-11T14:31:45.169Z"
   },
   {
    "duration": 3,
    "start_time": "2024-01-11T14:31:46.509Z"
   },
   {
    "duration": 6,
    "start_time": "2024-01-11T14:31:49.356Z"
   },
   {
    "duration": 63,
    "start_time": "2024-01-11T14:32:30.477Z"
   },
   {
    "duration": 23,
    "start_time": "2024-01-11T14:32:33.208Z"
   },
   {
    "duration": 13,
    "start_time": "2024-01-11T14:32:36.561Z"
   },
   {
    "duration": 28,
    "start_time": "2024-01-11T14:36:06.761Z"
   },
   {
    "duration": 15,
    "start_time": "2024-01-11T14:36:11.618Z"
   },
   {
    "duration": 68,
    "start_time": "2024-01-11T14:37:04.179Z"
   },
   {
    "duration": 21,
    "start_time": "2024-01-11T14:37:11.176Z"
   },
   {
    "duration": 23,
    "start_time": "2024-01-11T14:38:58.221Z"
   },
   {
    "duration": 20,
    "start_time": "2024-01-11T14:39:01.217Z"
   },
   {
    "duration": 24,
    "start_time": "2024-01-11T14:39:10.960Z"
   },
   {
    "duration": 17,
    "start_time": "2024-01-11T14:39:13.415Z"
   },
   {
    "duration": 478,
    "start_time": "2024-01-12T14:55:38.640Z"
   },
   {
    "duration": 20,
    "start_time": "2024-01-12T14:55:39.119Z"
   },
   {
    "duration": 17,
    "start_time": "2024-01-12T14:55:39.141Z"
   },
   {
    "duration": 24,
    "start_time": "2024-01-12T14:55:39.160Z"
   },
   {
    "duration": 25,
    "start_time": "2024-01-12T14:55:39.186Z"
   },
   {
    "duration": 64,
    "start_time": "2024-01-12T14:55:39.213Z"
   },
   {
    "duration": 3,
    "start_time": "2024-01-12T14:55:39.279Z"
   },
   {
    "duration": 34,
    "start_time": "2024-01-12T14:55:39.283Z"
   },
   {
    "duration": 17,
    "start_time": "2024-01-12T14:55:39.318Z"
   },
   {
    "duration": 27,
    "start_time": "2024-01-12T14:55:39.338Z"
   },
   {
    "duration": 15,
    "start_time": "2024-01-12T14:55:39.367Z"
   },
   {
    "duration": 59,
    "start_time": "2024-01-12T14:55:39.384Z"
   },
   {
    "duration": 9,
    "start_time": "2024-01-12T14:55:39.445Z"
   },
   {
    "duration": 15,
    "start_time": "2024-01-12T14:55:39.456Z"
   },
   {
    "duration": 29,
    "start_time": "2024-01-12T14:55:39.472Z"
   },
   {
    "duration": 34,
    "start_time": "2024-01-12T14:55:39.503Z"
   },
   {
    "duration": 16,
    "start_time": "2024-01-12T14:55:39.539Z"
   },
   {
    "duration": 3,
    "start_time": "2024-01-12T14:55:39.557Z"
   },
   {
    "duration": 10,
    "start_time": "2024-01-12T14:55:39.562Z"
   },
   {
    "duration": 11,
    "start_time": "2024-01-12T14:55:39.574Z"
   },
   {
    "duration": 3,
    "start_time": "2024-01-12T14:55:39.587Z"
   },
   {
    "duration": 15,
    "start_time": "2024-01-12T14:55:39.592Z"
   },
   {
    "duration": 22,
    "start_time": "2024-01-12T14:55:39.608Z"
   },
   {
    "duration": 40,
    "start_time": "2024-01-12T14:55:39.632Z"
   },
   {
    "duration": 13,
    "start_time": "2024-01-12T14:55:39.673Z"
   },
   {
    "duration": 26,
    "start_time": "2024-01-12T14:55:39.687Z"
   },
   {
    "duration": 3,
    "start_time": "2024-01-12T14:55:39.715Z"
   },
   {
    "duration": 38,
    "start_time": "2024-01-12T14:55:39.721Z"
   },
   {
    "duration": 24,
    "start_time": "2024-01-12T14:55:39.760Z"
   }
  ],
  "colab": {
   "name": "dpp_template_part2.ipynb",
   "provenance": []
  },
  "kernelspec": {
   "display_name": "Python 3 (ipykernel)",
   "language": "python",
   "name": "python3"
  },
  "language_info": {
   "codemirror_mode": {
    "name": "ipython",
    "version": 3
   },
   "file_extension": ".py",
   "mimetype": "text/x-python",
   "name": "python",
   "nbconvert_exporter": "python",
   "pygments_lexer": "ipython3",
   "version": "3.11.5"
  },
  "toc": {
   "base_numbering": 1,
   "nav_menu": {},
   "number_sections": true,
   "sideBar": true,
   "skip_h1_title": true,
   "title_cell": "Table of Contents",
   "title_sidebar": "Contents",
   "toc_cell": false,
   "toc_position": {},
   "toc_section_display": true,
   "toc_window_display": true
  }
 },
 "nbformat": 4,
 "nbformat_minor": 5
}
