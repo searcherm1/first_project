{
 "cells": [
  {
   "cell_type": "markdown",
   "metadata": {},
   "source": [
    "<div style=\"border:solid green 3px; padding: 20px\">\n",
    "\t\t\t\t\t\t\t\t\t\t\t\t\t\t\t\t\t\t\t\t\t\n",
    "<b>Привет!</b>\n",
    "\t\t\t\t\t\t\t\t\t\t\t\t\t\t\t\t\t\t\t\t\t\n",
    "Меня зовут Сороколетов Илья и я буду проверять твой проект. \n",
    "\t\t\t\t\t\t\t\t\t\t\t\t\t\t\t\t\t\t\t\t\t\n",
    "Предлагаю общаться на «**ты**», но если тебе будет комфортнее общаться на «**вы**», то сообщи об этом в комментариях)\n",
    "\t\t\t\t\t\t\t\t\t\t\t\t\t\t\t\t\t\t\t\t\t\n",
    "\t\t\t\t\t\t\t\t\t\t\t\t\t\t\t\t\t\t\t\t\t\n",
    "Для твоего удобства, я буду выделять свои комментарии следующим образом:\n",
    "\t\t\t\t\t\t\t\t\t\t\t\t\t\t\t\t\t\t\t\t\t\n",
    "<div class=\"alert alert-danger\">\n",
    "<b>❌ Комментарий ревьюера v1:</b> Самые важные замечания. Они указывают на ключевые моменты, которые влияют на конечный результат проекта. </div>\n",
    "\t\t\t\t\t\t\t\t\t\t\t\t\t\t\t\t\t\t\t\t\t\n",
    "<div class=\"alert alert-warning\">\n",
    "<b>⚠️ Комментарий ревьюера v1:</b> Советы или замечания, которые помогут сделать твою работу лучше, но необязательны к выполнению.\n",
    "\t\t\t\t\t\t\t\t\t\t\t\t\t\t\t\t\t\t\t\t\t\n",
    "</div>\n",
    "\t\t\t\t\t\t\t\t\t\t\t\t\t\t\t\t\t\t\t\t\t\n",
    "<div class=\"alert alert-success\">\n",
    "<b>✔️ Комментарий ревьюера v1:</b> Так я выделяю все остальные комментарии.</div>\n",
    "\t\t\t\t\t\t\t\t\t\t\t\t\t\t\t\t\t\t\t\t\t\n",
    "\t\t\t\t\t\t\t\t\t\t\t\t\t\t\t\t\t\t\t\t\t\n",
    "Пометками <b>v1-v2-v3-...</b> я буду отмечать версию проверки. Так ты сможешь быстро найти мои новые комментарии.\n",
    "\t\t\t\t\t\t\t\t\t\t\t\t\t\t\t\t\t\t\t\t\t\n",
    "Давай работать над проектом в диалоге: если ты что-то меняешь в проекте по моим рекомендациям — пиши об этом. Выбери для своих комментариев какой-то заметный цвет, так мне будет легче отследить изменения, например вот так:\n",
    "\t\t\t\t\t\t\t\t\t\t\t\t\t\t\t\t\t\t\t\t\t    \n",
    "<div class=\"alert alert-info\">\n",
    "<b>Комментарий студента:</b>\n",
    "<br>\n",
    "</div>\n",
    "\t\t\t\t\t\t\t\t\t\t\t\t\t\t\t\t\t\t\t\t\t\n",
    "<b>Пожалуйста, не перемещай, не изменяй и не удаляй мои комментарии.</b> Если ты оставляешь свои комментарии, то делай это под моими, чтобы сообщения были расположены в хронологическом порядке. Всё это поможет выполнить повторную проверку твоего проекта быстрее. \n",
    "\t\t\t\t\t\t\t\t\t\t\t\t\t\t\t\t\t\t\t\t\t\n",
    "Перед отправкой работы я рекомендую нажимать Kernel -> Restart & Run All. Это перезапустит ядро и по очереди выполнит все ячейки. Так ты сможешь проверить, что всё работает корректно. Кнопка Kernel находится в панели сверху\n",
    "\t\t\t\t\t\t\t\t\t\t\t\t\t\t\t\t\t\t\t\t\t\n",
    "Обязательно задавай вопросы если они возникнут, а я перехожу к проверке)\n",
    "\t\t\t\t\t\t\t\t\t\t\t\t\t\t\t\t\t\t\t\t\t\n",
    "P.S. На всякий случай, я оставлю пустой шаблон для твоих комментариев ниже. Кликни два раза на мой комментарий, скопируй последние четыре строчки кода и вставляй их в пустую ячейку там, где ты хочешь оставить комментарий. Не забудь только перед этим сменить тип ячейки на Markdown. Быстро это можно сделать так: кликнуть на ячейку - нажать ESC - нажать M. \n",
    "\t\t\t\t\t\t\t\t\t\t\t\t\t\t\t\t\t\t\t\t\t    \n",
    "\t\t\t\t\t\t\t\t\t\t\t\t\t\t\t\t\t\t\t\t\t    \n",
    "<div class=\"alert alert-info\">\n",
    "<b>Комментарий студента:</b>\n",
    "<br>Удали этот текст и вместо него напиши свой комментарий 🙂\n",
    "</div>"
   ]
  },
  {
   "cell_type": "markdown",
   "metadata": {},
   "source": [
    "<div class=\"alert alert-info\">\n",
    "<b>Комментарий студента:</b>\n",
    "<br>Привет, Илья! Рад знакомству! Спасибо за ценные комментарии!\n",
    "</div>"
   ]
  },
  {
   "cell_type": "markdown",
   "metadata": {},
   "source": [
    "<div class=\"alert alert-success\">\n",
    "<b>✔️ Комментарий ревьюера v2:</b> \n",
    "<br>Привет! 👋 \n",
    "<br>Приятно познакомиться)\n",
    "</div>"
   ]
  },
  {
   "cell_type": "markdown",
   "metadata": {
    "id": "-VFbjcb3Awb7"
   },
   "source": [
    "# Исследование объявлений о продаже квартир\n",
    "\n",
    "В вашем распоряжении данные сервиса Яндекс Недвижимость — архив объявлений о продаже квартир в Санкт-Петербурге и соседних населённых пунктах за несколько лет. Вам нужно научиться определять рыночную стоимость объектов недвижимости. Для этого проведите исследовательский анализ данных и установите параметры, влияющие на цену объектов. Это позволит построить автоматизированную систему: она отследит аномалии и мошенническую деятельность.\n",
    "\n",
    "По каждой квартире на продажу доступны два вида данных. Первые вписаны пользователем, вторые — получены автоматически на основе картографических данных. Например, расстояние до центра, аэропорта и других объектов — эти данные автоматически получены из геосервисов. Количество парков и водоёмов также заполняется без участия пользователя."
   ]
  },
  {
   "cell_type": "markdown",
   "metadata": {
    "id": "U51kgEF8zziE"
   },
   "source": [
    "**Описание данных**\n",
    "- airports_nearest — расстояние до ближайшего аэропорта в метрах (м)\n",
    "- balcony — число балконов\n",
    "- ceiling_height — высота потолков (м)\n",
    "- cityCenters_nearest — расстояние до центра города (м)\n",
    "- days_exposition — сколько дней было размещено объявление (от публикации до снятия)\n",
    "- first_day_exposition — дата публикации\n",
    "- floor — этаж\n",
    "- floors_total — всего этажей в доме\n",
    "- is_apartment — апартаменты (булев тип)\n",
    "- kitchen_area — площадь кухни в квадратных метрах (м²)\n",
    "- last_price — цена на момент снятия с публикации\n",
    "- living_area — жилая площадь в квадратных метрах (м²)\n",
    "- locality_name — название населённого пункта\n",
    "- open_plan — свободная планировка (булев тип)\n",
    "- parks_around3000 — число парков в радиусе 3 км\n",
    "- parks_nearest — расстояние до ближайшего парка (м)\n",
    "- ponds_around3000 — число водоёмов в радиусе 3 км\n",
    "- ponds_nearest — расстояние до ближайшего водоёма (м)\n",
    "- rooms — число комнат\n",
    "- studio — квартира-студия (булев тип)\n",
    "- total_area — общая площадь квартиры в квадратных метрах (м²)\n",
    "- total_images — число фотографий квартиры в объявлении"
   ]
  },
  {
   "cell_type": "markdown",
   "metadata": {
    "id": "aeFLH07FAwb9"
   },
   "source": [
    "### Откройте файл с данными и изучите общую информацию"
   ]
  },
  {
   "cell_type": "code",
   "execution_count": 1,
   "metadata": {
    "id": "7MZxY65pAwb9"
   },
   "outputs": [],
   "source": [
    "import pandas as pd\n",
    "import matplotlib.pyplot as plt\n",
    "import numpy as np"
   ]
  },
  {
   "cell_type": "code",
   "execution_count": 2,
   "metadata": {
    "id": "Z9vBGNCwzziG"
   },
   "outputs": [],
   "source": [
    "try:\n",
    "    data = pd.read_csv('/datasets/real_estate_data.csv', sep='\\t')\n",
    "except:\n",
    "    data = pd.read_csv('https://code.s3.yandex.net/datasets/real_estate_data.csv', sep='\\t')"
   ]
  },
  {
   "cell_type": "code",
   "execution_count": 3,
   "metadata": {
    "colab": {
     "base_uri": "https://localhost:8080/",
     "height": 342
    },
    "id": "afpxZZduzziG",
    "outputId": "785c184e-e4fe-43f6-d436-4f50e282a5ec"
   },
   "outputs": [
    {
     "data": {
      "text/html": [
       "<div>\n",
       "<style scoped>\n",
       "    .dataframe tbody tr th:only-of-type {\n",
       "        vertical-align: middle;\n",
       "    }\n",
       "\n",
       "    .dataframe tbody tr th {\n",
       "        vertical-align: top;\n",
       "    }\n",
       "\n",
       "    .dataframe thead th {\n",
       "        text-align: right;\n",
       "    }\n",
       "</style>\n",
       "<table border=\"1\" class=\"dataframe\">\n",
       "  <thead>\n",
       "    <tr style=\"text-align: right;\">\n",
       "      <th></th>\n",
       "      <th>total_images</th>\n",
       "      <th>last_price</th>\n",
       "      <th>total_area</th>\n",
       "      <th>first_day_exposition</th>\n",
       "      <th>rooms</th>\n",
       "      <th>ceiling_height</th>\n",
       "      <th>floors_total</th>\n",
       "      <th>living_area</th>\n",
       "      <th>floor</th>\n",
       "      <th>is_apartment</th>\n",
       "      <th>studio</th>\n",
       "      <th>open_plan</th>\n",
       "      <th>kitchen_area</th>\n",
       "      <th>balcony</th>\n",
       "      <th>locality_name</th>\n",
       "      <th>airports_nearest</th>\n",
       "      <th>cityCenters_nearest</th>\n",
       "      <th>parks_around3000</th>\n",
       "      <th>parks_nearest</th>\n",
       "      <th>ponds_around3000</th>\n",
       "      <th>ponds_nearest</th>\n",
       "      <th>days_exposition</th>\n",
       "    </tr>\n",
       "  </thead>\n",
       "  <tbody>\n",
       "    <tr>\n",
       "      <th>0</th>\n",
       "      <td>20</td>\n",
       "      <td>13000000.0</td>\n",
       "      <td>108.0</td>\n",
       "      <td>2019-03-07T00:00:00</td>\n",
       "      <td>3</td>\n",
       "      <td>2.70</td>\n",
       "      <td>16.0</td>\n",
       "      <td>51.0</td>\n",
       "      <td>8</td>\n",
       "      <td>NaN</td>\n",
       "      <td>False</td>\n",
       "      <td>False</td>\n",
       "      <td>25.0</td>\n",
       "      <td>NaN</td>\n",
       "      <td>Санкт-Петербург</td>\n",
       "      <td>18863.0</td>\n",
       "      <td>16028.0</td>\n",
       "      <td>1.0</td>\n",
       "      <td>482.0</td>\n",
       "      <td>2.0</td>\n",
       "      <td>755.0</td>\n",
       "      <td>NaN</td>\n",
       "    </tr>\n",
       "    <tr>\n",
       "      <th>1</th>\n",
       "      <td>7</td>\n",
       "      <td>3350000.0</td>\n",
       "      <td>40.4</td>\n",
       "      <td>2018-12-04T00:00:00</td>\n",
       "      <td>1</td>\n",
       "      <td>NaN</td>\n",
       "      <td>11.0</td>\n",
       "      <td>18.6</td>\n",
       "      <td>1</td>\n",
       "      <td>NaN</td>\n",
       "      <td>False</td>\n",
       "      <td>False</td>\n",
       "      <td>11.0</td>\n",
       "      <td>2.0</td>\n",
       "      <td>посёлок Шушары</td>\n",
       "      <td>12817.0</td>\n",
       "      <td>18603.0</td>\n",
       "      <td>0.0</td>\n",
       "      <td>NaN</td>\n",
       "      <td>0.0</td>\n",
       "      <td>NaN</td>\n",
       "      <td>81.0</td>\n",
       "    </tr>\n",
       "    <tr>\n",
       "      <th>2</th>\n",
       "      <td>10</td>\n",
       "      <td>5196000.0</td>\n",
       "      <td>56.0</td>\n",
       "      <td>2015-08-20T00:00:00</td>\n",
       "      <td>2</td>\n",
       "      <td>NaN</td>\n",
       "      <td>5.0</td>\n",
       "      <td>34.3</td>\n",
       "      <td>4</td>\n",
       "      <td>NaN</td>\n",
       "      <td>False</td>\n",
       "      <td>False</td>\n",
       "      <td>8.3</td>\n",
       "      <td>0.0</td>\n",
       "      <td>Санкт-Петербург</td>\n",
       "      <td>21741.0</td>\n",
       "      <td>13933.0</td>\n",
       "      <td>1.0</td>\n",
       "      <td>90.0</td>\n",
       "      <td>2.0</td>\n",
       "      <td>574.0</td>\n",
       "      <td>558.0</td>\n",
       "    </tr>\n",
       "    <tr>\n",
       "      <th>3</th>\n",
       "      <td>0</td>\n",
       "      <td>64900000.0</td>\n",
       "      <td>159.0</td>\n",
       "      <td>2015-07-24T00:00:00</td>\n",
       "      <td>3</td>\n",
       "      <td>NaN</td>\n",
       "      <td>14.0</td>\n",
       "      <td>NaN</td>\n",
       "      <td>9</td>\n",
       "      <td>NaN</td>\n",
       "      <td>False</td>\n",
       "      <td>False</td>\n",
       "      <td>NaN</td>\n",
       "      <td>0.0</td>\n",
       "      <td>Санкт-Петербург</td>\n",
       "      <td>28098.0</td>\n",
       "      <td>6800.0</td>\n",
       "      <td>2.0</td>\n",
       "      <td>84.0</td>\n",
       "      <td>3.0</td>\n",
       "      <td>234.0</td>\n",
       "      <td>424.0</td>\n",
       "    </tr>\n",
       "    <tr>\n",
       "      <th>4</th>\n",
       "      <td>2</td>\n",
       "      <td>10000000.0</td>\n",
       "      <td>100.0</td>\n",
       "      <td>2018-06-19T00:00:00</td>\n",
       "      <td>2</td>\n",
       "      <td>3.03</td>\n",
       "      <td>14.0</td>\n",
       "      <td>32.0</td>\n",
       "      <td>13</td>\n",
       "      <td>NaN</td>\n",
       "      <td>False</td>\n",
       "      <td>False</td>\n",
       "      <td>41.0</td>\n",
       "      <td>NaN</td>\n",
       "      <td>Санкт-Петербург</td>\n",
       "      <td>31856.0</td>\n",
       "      <td>8098.0</td>\n",
       "      <td>2.0</td>\n",
       "      <td>112.0</td>\n",
       "      <td>1.0</td>\n",
       "      <td>48.0</td>\n",
       "      <td>121.0</td>\n",
       "    </tr>\n",
       "  </tbody>\n",
       "</table>\n",
       "</div>"
      ],
      "text/plain": [
       "   total_images  last_price  total_area first_day_exposition  rooms  \\\n",
       "0            20  13000000.0       108.0  2019-03-07T00:00:00      3   \n",
       "1             7   3350000.0        40.4  2018-12-04T00:00:00      1   \n",
       "2            10   5196000.0        56.0  2015-08-20T00:00:00      2   \n",
       "3             0  64900000.0       159.0  2015-07-24T00:00:00      3   \n",
       "4             2  10000000.0       100.0  2018-06-19T00:00:00      2   \n",
       "\n",
       "   ceiling_height  floors_total  living_area  floor is_apartment  studio  \\\n",
       "0            2.70          16.0         51.0      8          NaN   False   \n",
       "1             NaN          11.0         18.6      1          NaN   False   \n",
       "2             NaN           5.0         34.3      4          NaN   False   \n",
       "3             NaN          14.0          NaN      9          NaN   False   \n",
       "4            3.03          14.0         32.0     13          NaN   False   \n",
       "\n",
       "   open_plan  kitchen_area  balcony    locality_name  airports_nearest  \\\n",
       "0      False          25.0      NaN  Санкт-Петербург           18863.0   \n",
       "1      False          11.0      2.0   посёлок Шушары           12817.0   \n",
       "2      False           8.3      0.0  Санкт-Петербург           21741.0   \n",
       "3      False           NaN      0.0  Санкт-Петербург           28098.0   \n",
       "4      False          41.0      NaN  Санкт-Петербург           31856.0   \n",
       "\n",
       "   cityCenters_nearest  parks_around3000  parks_nearest  ponds_around3000  \\\n",
       "0              16028.0               1.0          482.0               2.0   \n",
       "1              18603.0               0.0            NaN               0.0   \n",
       "2              13933.0               1.0           90.0               2.0   \n",
       "3               6800.0               2.0           84.0               3.0   \n",
       "4               8098.0               2.0          112.0               1.0   \n",
       "\n",
       "   ponds_nearest  days_exposition  \n",
       "0          755.0              NaN  \n",
       "1            NaN             81.0  \n",
       "2          574.0            558.0  \n",
       "3          234.0            424.0  \n",
       "4           48.0            121.0  "
      ]
     },
     "execution_count": 3,
     "metadata": {},
     "output_type": "execute_result"
    }
   ],
   "source": [
    "pd.set_option('display.max_columns', None)\n",
    "data.head()"
   ]
  },
  {
   "cell_type": "markdown",
   "metadata": {},
   "source": [
    " <div class=\"alert alert-warning\">\n",
    "<b>⚠️ Комментарий ревьюера v1:</b> \n",
    "<br>Обрати внимание, что часть столбцов заменилась на \"...\". Чтобы это исправить, нужно увеличить максимальное количество отображающихся столбцов командой\n",
    "\t\t\t\n",
    "\tpd.set_option('display.max_columns', None)\n",
    "</div>"
   ]
  },
  {
   "cell_type": "markdown",
   "metadata": {},
   "source": [
    "<div class=\"alert alert-info\">\n",
    "<b>Комментарий студента:</b>\n",
    "<br>Применил.\n",
    "</div>"
   ]
  },
  {
   "cell_type": "markdown",
   "metadata": {
    "id": "e4sjSmJ_zziG"
   },
   "source": [
    "Зачитанная таблица с данными содержит пропуски. Вывожу информацию о датафрейме для общего понимания о состоянии данных:"
   ]
  },
  {
   "cell_type": "code",
   "execution_count": 4,
   "metadata": {
    "colab": {
     "base_uri": "https://localhost:8080/"
    },
    "id": "dJ7eONn4zziH",
    "outputId": "f38d2941-6295-48b8-d9c7-b265954ff50f"
   },
   "outputs": [
    {
     "name": "stdout",
     "output_type": "stream",
     "text": [
      "<class 'pandas.core.frame.DataFrame'>\n",
      "RangeIndex: 23699 entries, 0 to 23698\n",
      "Data columns (total 22 columns):\n",
      " #   Column                Non-Null Count  Dtype  \n",
      "---  ------                --------------  -----  \n",
      " 0   total_images          23699 non-null  int64  \n",
      " 1   last_price            23699 non-null  float64\n",
      " 2   total_area            23699 non-null  float64\n",
      " 3   first_day_exposition  23699 non-null  object \n",
      " 4   rooms                 23699 non-null  int64  \n",
      " 5   ceiling_height        14504 non-null  float64\n",
      " 6   floors_total          23613 non-null  float64\n",
      " 7   living_area           21796 non-null  float64\n",
      " 8   floor                 23699 non-null  int64  \n",
      " 9   is_apartment          2775 non-null   object \n",
      " 10  studio                23699 non-null  bool   \n",
      " 11  open_plan             23699 non-null  bool   \n",
      " 12  kitchen_area          21421 non-null  float64\n",
      " 13  balcony               12180 non-null  float64\n",
      " 14  locality_name         23650 non-null  object \n",
      " 15  airports_nearest      18157 non-null  float64\n",
      " 16  cityCenters_nearest   18180 non-null  float64\n",
      " 17  parks_around3000      18181 non-null  float64\n",
      " 18  parks_nearest         8079 non-null   float64\n",
      " 19  ponds_around3000      18181 non-null  float64\n",
      " 20  ponds_nearest         9110 non-null   float64\n",
      " 21  days_exposition       20518 non-null  float64\n",
      "dtypes: bool(2), float64(14), int64(3), object(3)\n",
      "memory usage: 3.7+ MB\n"
     ]
    }
   ],
   "source": [
    "data.info()"
   ]
  },
  {
   "cell_type": "markdown",
   "metadata": {
    "id": "B44lbvwRzziH"
   },
   "source": [
    "Строю гистограммы для всех числовых столбцов:"
   ]
  },
  {
   "cell_type": "code",
   "execution_count": 5,
   "metadata": {
    "colab": {
     "base_uri": "https://localhost:8080/",
     "height": 1000
    },
    "id": "9J2kYjJbzziH",
    "outputId": "119819cd-3c21-4d26-feb9-a807d57e418e"
   },
   "outputs": [
    {
     "data": {
      "image/png": "[encoded data removed]",
      "text/plain": [
       "<Figure size 1440x1440 with 20 Axes>"
      ]
     },
     "metadata": {
      "needs_background": "light"
     },
     "output_type": "display_data"
    }
   ],
   "source": [
    "data.hist(figsize=(20, 20));"
   ]
  },
  {
   "cell_type": "markdown",
   "metadata": {},
   "source": [
    "<div class=\"alert alert-success\">\n",
    "<b>✔️ Комментарий ревьюера v1:</b> \n",
    "<br>Графики построено верно! \n",
    "</div>\n",
    "\t\t\t\t\t\t\t\t\t\t\t\t\t\t\t\n",
    "<div class=\"alert alert-warning\">\n",
    "<b>⚠️ Комментарий ревьюера v1:</b> \n",
    "<br>Если после кода вызывающего график добавить \";\", то мы избавимся от строчки над графиком)\n",
    "\n",
    "\tdata.hist(figsize=(15, 20));\n",
    "</div>"
   ]
  },
  {
   "cell_type": "markdown",
   "metadata": {},
   "source": [
    "<div class=\"alert alert-info\">\n",
    "<b>Комментарий студента:</b>\n",
    "<br>Применил.\n",
    "</div>"
   ]
  },
  {
   "cell_type": "markdown",
   "metadata": {
    "id": "ZhQZDna9zziH"
   },
   "source": [
    "Из обзора видно, что есть проблемы с данными. Требуется предобработка и исследовательский анализ."
   ]
  },
  {
   "cell_type": "markdown",
   "metadata": {
    "id": "-O5NtivEAwb9"
   },
   "source": [
    "### Выполните предобработку данных"
   ]
  },
  {
   "cell_type": "markdown",
   "metadata": {
    "id": "aiyRkL-MzziI"
   },
   "source": [
    "Предобрабока содержит следующие этапы:\n",
    "- определдение столбцов, где есть пропуски в данных;\n",
    "- анализ и заполнение пропусков там, где явно можно сказать что должно быть;\n",
    "- анализ логического соответсвия типов данных в столбцах;\n",
    "- поиск и удаление дубликатов."
   ]
  },
  {
   "cell_type": "markdown",
   "metadata": {
    "id": "QlGIpxOCzziI"
   },
   "source": [
    "#### Заполнение пропусков и корректировка типов данных"
   ]
  },
  {
   "cell_type": "markdown",
   "metadata": {
    "id": "UMxRQihJzziI"
   },
   "source": [
    "Обзор данных из таблицы показал, что есть столбцы с пропусками. Вывожу наглядно, какие столбцы содержат эти пропуски:"
   ]
  },
  {
   "cell_type": "code",
   "execution_count": 6,
   "metadata": {
    "colab": {
     "base_uri": "https://localhost:8080/"
    },
    "id": "QMO6qJTMzziI",
    "outputId": "df25fdcb-b5b7-4377-d411-e1de78ebe42d"
   },
   "outputs": [
    {
     "data": {
      "text/plain": [
       "total_images                0\n",
       "last_price                  0\n",
       "total_area                  0\n",
       "first_day_exposition        0\n",
       "rooms                       0\n",
       "ceiling_height           9195\n",
       "floors_total               86\n",
       "living_area              1903\n",
       "floor                       0\n",
       "is_apartment            20924\n",
       "studio                      0\n",
       "open_plan                   0\n",
       "kitchen_area             2278\n",
       "balcony                 11519\n",
       "locality_name              49\n",
       "airports_nearest         5542\n",
       "cityCenters_nearest      5519\n",
       "parks_around3000         5518\n",
       "parks_nearest           15620\n",
       "ponds_around3000         5518\n",
       "ponds_nearest           14589\n",
       "days_exposition          3181\n",
       "dtype: int64"
      ]
     },
     "execution_count": 6,
     "metadata": {},
     "output_type": "execute_result"
    }
   ],
   "source": [
    "data.isna().sum()"
   ]
  },
  {
   "cell_type": "markdown",
   "metadata": {
    "id": "T3B-IkPz25LJ"
   },
   "source": [
    "Что-то странное с данными на основе геолокации. Заполняю количество парков и водоемов в радиусе 3 км нолями, видимо их нет в этом радиусе. Также тип данных должен быть целочисленным.\n",
    "\n",
    "Заполню пропуски в столбце 'balcony', подразумевая, что раз там нет данных, то значит в квартире нет балконов. Возможно причиной пропуска стала выгрузка данных или неполная форма опроса при формировании объявления о продаже.\n",
    "Кроме того исправляю тип данных с вещественного на целочисленный, ведь балконов не может быть нецелое количество.\n"
   ]
  },
  {
   "cell_type": "code",
   "execution_count": 7,
   "metadata": {
    "colab": {
     "base_uri": "https://localhost:8080/"
    },
    "id": "oPqwCOyW10vh",
    "outputId": "13dfa1d8-ebb2-4b87-9ab9-ff33e0010572"
   },
   "outputs": [
    {
     "name": "stdout",
     "output_type": "stream",
     "text": [
      "Пропусков в колонке balcony: 0\n",
      "Тип данных в колонке balcony: int64\n",
      "Пропусков в колонке parks_around3000: 0\n",
      "Тип данных в колонке parks_around3000: int64\n",
      "Пропусков в колонке ponds_around3000: 0\n",
      "Тип данных в колонке ponds_around3000: int64\n"
     ]
    }
   ],
   "source": [
    "col_list = ['balcony', 'parks_around3000', 'ponds_around3000']\n",
    "for c in col_list:\n",
    "\tdata[c] = data[c].fillna(0).astype('int')\n",
    "\tprint(f'Пропусков в колонке {c}:', data[c].isna().sum())\n",
    "\tprint(f'Тип данных в колонке {c}:', data[c].dtypes)\n"
   ]
  },
  {
   "cell_type": "markdown",
   "metadata": {
    "id": "O8KxGta0FylS"
   },
   "source": [
    "Также заполню нулями расстояние до центра города в метрах. Правильнее было бы назвать этот столбец расстояние до центра населенного пункта."
   ]
  },
  {
   "cell_type": "code",
   "execution_count": 8,
   "metadata": {
    "colab": {
     "base_uri": "https://localhost:8080/"
    },
    "id": "SLL-g7l1WN7O",
    "outputId": "c5483717-9631-4f51-92e5-8c5a6bc0b134"
   },
   "outputs": [
    {
     "data": {
      "text/plain": [
       "0"
      ]
     },
     "execution_count": 8,
     "metadata": {},
     "output_type": "execute_result"
    }
   ],
   "source": [
    "data['cityCenters_nearest'] = data['cityCenters_nearest'].fillna(0)\n",
    "# проверка заполнения\n",
    "data['cityCenters_nearest'].isna().sum()"
   ]
  },
  {
   "cell_type": "markdown",
   "metadata": {},
   "source": [
    "<div class=\"alert alert-success\">\n",
    "<b>✔️ Комментарий ревьюера v1:</b> \n",
    "<br>Не забывай, что не всегда стоит делать замену, ради замены. Очень важно обоснование. Иногда пропуски можно удалить (если их мало), либо вообще не трогать, если у нас нет возможности подобрать аргументированный способ замены\n",
    "</div>"
   ]
  },
  {
   "cell_type": "markdown",
   "metadata": {
    "id": "gCv6tSJvpSub"
   },
   "source": [
    "Перевожу данные в столбце days_exposition в целочисленный формат."
   ]
  },
  {
   "cell_type": "code",
   "execution_count": 9,
   "metadata": {
    "id": "AkFPjmy5o54i"
   },
   "outputs": [],
   "source": [
    "data['days_exposition'] = np.floor(pd.to_numeric(data['days_exposition'], errors='coerce')).astype('Int64')"
   ]
  },
  {
   "cell_type": "markdown",
   "metadata": {},
   "source": [
    "<div class=\"alert alert-danger\">\n",
    "<b>❌ Комментарий ревьюера v1:</b> \n",
    "<br>Если тут пропуск, то значит квартира не продана. Эти пропуски заполнять или удалять не нужно\n",
    "</div>\n",
    "\n",
    "<div class=\"alert alert-warning\">\n",
    "<b>⚠️ Комментарий ревьюера v1:</b> \n",
    "<br>Можно изменить тип данных без замены пропусков следующим образом\n",
    "    \n",
    "    import numpy as np\n",
    "    df['col'] = np.floor(pd.to_numeric(df['col'], errors='coerce')).astype('Int64')\n",
    "</div>"
   ]
  },
  {
   "cell_type": "markdown",
   "metadata": {},
   "source": [
    "<div class=\"alert alert-info\">\n",
    "<b>Комментарий студента:</b>\n",
    "<br>Убрал заполнение. Почему-то сложился стереотип (по материалам курса), что лучше заполнить пропуски хоть чем-то. \n",
    "</div>"
   ]
  },
  {
   "cell_type": "markdown",
   "metadata": {},
   "source": [
    "<div class=\"alert alert-success\">\n",
    "<b>✔️ Комментарий ревьюера v2:</b>\n",
    "<br>Правка выполнена 👍\n",
    "</div>"
   ]
  },
  {
   "cell_type": "markdown",
   "metadata": {
    "id": "bp9h5aP9zziJ"
   },
   "source": [
    "Рассмотрим столбец is_apartment. Выведем уникальные значения:"
   ]
  },
  {
   "cell_type": "code",
   "execution_count": 10,
   "metadata": {
    "colab": {
     "base_uri": "https://localhost:8080/"
    },
    "id": "kfJhTVh1zziJ",
    "outputId": "8ebcdb0d-341d-431a-97a0-95d5cf2a0dc7"
   },
   "outputs": [
    {
     "data": {
      "text/plain": [
       "array([nan, False, True], dtype=object)"
      ]
     },
     "execution_count": 10,
     "metadata": {},
     "output_type": "execute_result"
    }
   ],
   "source": [
    "data['is_apartment'].unique()"
   ]
  },
  {
   "cell_type": "markdown",
   "metadata": {
    "id": "2Wwhox78zziJ"
   },
   "source": [
    "Определим, сколько апартаментов было продано:"
   ]
  },
  {
   "cell_type": "code",
   "execution_count": 11,
   "metadata": {
    "colab": {
     "base_uri": "https://localhost:8080/"
    },
    "id": "BSXggjADzziJ",
    "outputId": "93bdcdcc-fc55-4f96-f46d-ab32da373187"
   },
   "outputs": [
    {
     "name": "stdout",
     "output_type": "stream",
     "text": [
      "1.8 %\n"
     ]
    }
   ],
   "source": [
    "print((data[data['is_apartment'] == True]['is_apartment'].count()\n",
    "/data[~(data['is_apartment'].isna())]['is_apartment'].count() * 100).round(2), '%')"
   ]
  },
  {
   "cell_type": "code",
   "execution_count": null,
   "metadata": {
    "id": "s5xwQpN27zYD"
   },
   "outputs": [],
   "source": []
  },
  {
   "cell_type": "markdown",
   "metadata": {
    "id": "3iyhlhsAzziJ"
   },
   "source": [
    "Исходя из того, что апртаменты составляют менее 2%, заполняю пропущенные значения False. Кроме того, столбец должен иметь тип данных bool. Выполняю замену пропусков и смену типа данных:"
   ]
  },
  {
   "cell_type": "code",
   "execution_count": 12,
   "metadata": {
    "colab": {
     "base_uri": "https://localhost:8080/"
    },
    "id": "-TYaWHJ2zziJ",
    "outputId": "d893f877-0758-4e12-ea29-e093c6841936"
   },
   "outputs": [
    {
     "name": "stdout",
     "output_type": "stream",
     "text": [
      "Проверка заполнения пропусков, их сейчас: 0\n",
      "Данные в столбце сейчас типа: bool\n"
     ]
    }
   ],
   "source": [
    "data['is_apartment'] = data['is_apartment'].fillna('False').astype('bool')\n",
    "print('Проверка заполнения пропусков, их сейчас:', data['is_apartment'].isna().sum())\n",
    "print('Данные в столбце сейчас типа:', data['is_apartment'].dtypes)"
   ]
  },
  {
   "cell_type": "markdown",
   "metadata": {},
   "source": [
    "<div class=\"alert alert-success\">\n",
    "<b>✔️ Комментарий ревьюера v1:</b> \n",
    "<br>👌\n",
    "</div>"
   ]
  },
  {
   "cell_type": "markdown",
   "metadata": {
    "id": "H9L51BgJR8tW"
   },
   "source": [
    "Убираю строки с пропусками названия населенных пунктов, поскольку их меньше 1%, без названия населенного пункта данные смысла не имеют:"
   ]
  },
  {
   "cell_type": "code",
   "execution_count": 13,
   "metadata": {
    "id": "58bCf704zziM"
   },
   "outputs": [],
   "source": [
    "data = data[~(data['locality_name'].isna())]"
   ]
  },
  {
   "cell_type": "markdown",
   "metadata": {},
   "source": [
    "<div class=\"alert alert-success\">\n",
    "<b>✔️ Комментарий ревьюера v1:</b> \n",
    "<br>Удалить пропуски в столбце locality_name - это хорошее решение. \n",
    "</div>"
   ]
  },
  {
   "cell_type": "markdown",
   "metadata": {
    "id": "IOl4begnzziK"
   },
   "source": [
    "##### Привожу данные в остальных столбцах в нужные типы"
   ]
  },
  {
   "cell_type": "markdown",
   "metadata": {
    "id": "_hW3TfgPzziK"
   },
   "source": [
    "Преобразую формат даты и времени в столбце first_day_exposition:"
   ]
  },
  {
   "cell_type": "code",
   "execution_count": 14,
   "metadata": {
    "colab": {
     "base_uri": "https://localhost:8080/"
    },
    "id": "mK50OurvzziK",
    "outputId": "e622e11b-deff-409b-97cd-7173bd88c00f"
   },
   "outputs": [],
   "source": [
    "data['first_day_exposition'] = pd.to_datetime(data['first_day_exposition'], format='%Y-%m-%dT%H:%M:%S')"
   ]
  },
  {
   "cell_type": "markdown",
   "metadata": {
    "id": "5ykRWrBfzziK"
   },
   "source": [
    "Поскольку пропущенных значений в столбце floors_total 86 из 23699, то заполняю пропуски в 'floors_total' значениями в столбце 'floor', это ни приведет к большой погрешности:"
   ]
  },
  {
   "cell_type": "code",
   "execution_count": 15,
   "metadata": {
    "id": "GeSluvE3zziL"
   },
   "outputs": [],
   "source": [
    "cond = data['floors_total'].isna()\n",
    "#для проверки создаю список индексов data с пропусками в floors_total:\n",
    "emp_index = data.loc[cond, ['floors_total', 'floor']].index"
   ]
  },
  {
   "cell_type": "code",
   "execution_count": 16,
   "metadata": {
    "colab": {
     "base_uri": "https://localhost:8080/",
     "height": 424
    },
    "id": "a2_F_gIrzziL",
    "outputId": "fce1ad09-a381-4bb1-8691-ec6f72c4782a"
   },
   "outputs": [
    {
     "data": {
      "text/html": [
       "<div>\n",
       "<style scoped>\n",
       "    .dataframe tbody tr th:only-of-type {\n",
       "        vertical-align: middle;\n",
       "    }\n",
       "\n",
       "    .dataframe tbody tr th {\n",
       "        vertical-align: top;\n",
       "    }\n",
       "\n",
       "    .dataframe thead th {\n",
       "        text-align: right;\n",
       "    }\n",
       "</style>\n",
       "<table border=\"1\" class=\"dataframe\">\n",
       "  <thead>\n",
       "    <tr style=\"text-align: right;\">\n",
       "      <th></th>\n",
       "      <th>floors_total</th>\n",
       "      <th>floor</th>\n",
       "    </tr>\n",
       "  </thead>\n",
       "  <tbody>\n",
       "    <tr>\n",
       "      <th>186</th>\n",
       "      <td>4.0</td>\n",
       "      <td>4</td>\n",
       "    </tr>\n",
       "    <tr>\n",
       "      <th>237</th>\n",
       "      <td>1.0</td>\n",
       "      <td>1</td>\n",
       "    </tr>\n",
       "    <tr>\n",
       "      <th>457</th>\n",
       "      <td>12.0</td>\n",
       "      <td>12</td>\n",
       "    </tr>\n",
       "    <tr>\n",
       "      <th>671</th>\n",
       "      <td>8.0</td>\n",
       "      <td>8</td>\n",
       "    </tr>\n",
       "    <tr>\n",
       "      <th>1757</th>\n",
       "      <td>9.0</td>\n",
       "      <td>9</td>\n",
       "    </tr>\n",
       "    <tr>\n",
       "      <th>...</th>\n",
       "      <td>...</td>\n",
       "      <td>...</td>\n",
       "    </tr>\n",
       "    <tr>\n",
       "      <th>22542</th>\n",
       "      <td>3.0</td>\n",
       "      <td>3</td>\n",
       "    </tr>\n",
       "    <tr>\n",
       "      <th>22656</th>\n",
       "      <td>20.0</td>\n",
       "      <td>20</td>\n",
       "    </tr>\n",
       "    <tr>\n",
       "      <th>22808</th>\n",
       "      <td>6.0</td>\n",
       "      <td>6</td>\n",
       "    </tr>\n",
       "    <tr>\n",
       "      <th>23590</th>\n",
       "      <td>18.0</td>\n",
       "      <td>18</td>\n",
       "    </tr>\n",
       "    <tr>\n",
       "      <th>23658</th>\n",
       "      <td>8.0</td>\n",
       "      <td>8</td>\n",
       "    </tr>\n",
       "  </tbody>\n",
       "</table>\n",
       "<p>85 rows × 2 columns</p>\n",
       "</div>"
      ],
      "text/plain": [
       "       floors_total  floor\n",
       "186             4.0      4\n",
       "237             1.0      1\n",
       "457            12.0     12\n",
       "671             8.0      8\n",
       "1757            9.0      9\n",
       "...             ...    ...\n",
       "22542           3.0      3\n",
       "22656          20.0     20\n",
       "22808           6.0      6\n",
       "23590          18.0     18\n",
       "23658           8.0      8\n",
       "\n",
       "[85 rows x 2 columns]"
      ]
     },
     "execution_count": 16,
     "metadata": {},
     "output_type": "execute_result"
    }
   ],
   "source": [
    "#заполняю пропуски\n",
    "data.loc[cond, 'floors_total'] = data['floor']\n",
    "# проверяю, что все отработало как надо:\n",
    "data.loc[emp_index, ['floors_total', 'floor']]"
   ]
  },
  {
   "cell_type": "markdown",
   "metadata": {},
   "source": [
    "<div class=\"alert alert-success\">\n",
    "<b>✔️ Комментарий ревьюера v1:</b> \n",
    "<br>Хороший способ)\n",
    "</div>"
   ]
  },
  {
   "cell_type": "markdown",
   "metadata": {
    "id": "JpVT-zH3zziL"
   },
   "source": [
    "Преобразую тип данных в столбце floors_total на целочисленный:"
   ]
  },
  {
   "cell_type": "code",
   "execution_count": 17,
   "metadata": {
    "colab": {
     "base_uri": "https://localhost:8080/"
    },
    "id": "i7aNW3UwzziM",
    "outputId": "db729e61-14eb-4789-e391-5cc51848c49e"
   },
   "outputs": [
    {
     "data": {
      "text/plain": [
       "dtype('int64')"
      ]
     },
     "execution_count": 17,
     "metadata": {},
     "output_type": "execute_result"
    }
   ],
   "source": [
    "data['floors_total'] = data['floors_total'].astype('int')\n",
    "# проверяю\n",
    "data['floors_total'].dtypes"
   ]
  },
  {
   "cell_type": "code",
   "execution_count": 18,
   "metadata": {
    "colab": {
     "base_uri": "https://localhost:8080/"
    },
    "id": "nzoAMdfcJ43G",
    "outputId": "e9b27937-0a82-4fe7-e7d0-aacb89af71bf"
   },
   "outputs": [
    {
     "data": {
      "text/plain": [
       "total_images                0\n",
       "last_price                  0\n",
       "total_area                  0\n",
       "first_day_exposition        0\n",
       "rooms                       0\n",
       "ceiling_height           9160\n",
       "floors_total                0\n",
       "living_area              1898\n",
       "floor                       0\n",
       "is_apartment                0\n",
       "studio                      0\n",
       "open_plan                   0\n",
       "kitchen_area             2269\n",
       "balcony                     0\n",
       "locality_name               0\n",
       "airports_nearest         5534\n",
       "cityCenters_nearest         0\n",
       "parks_around3000            0\n",
       "parks_nearest           15586\n",
       "ponds_around3000            0\n",
       "ponds_nearest           14565\n",
       "days_exposition          3180\n",
       "dtype: int64"
      ]
     },
     "execution_count": 18,
     "metadata": {},
     "output_type": "execute_result"
    }
   ],
   "source": [
    "data.isna().sum()"
   ]
  },
  {
   "cell_type": "markdown",
   "metadata": {
    "id": "dzTc6m2R6lho"
   },
   "source": [
    "Пропуски в столбцах airports_nearest, parks_nearest, ponds_nearest будут заполнены после обработки дубликатов."
   ]
  },
  {
   "cell_type": "markdown",
   "metadata": {
    "id": "2Y341BTTzziM"
   },
   "source": [
    "#### Работа с дубликатами"
   ]
  },
  {
   "cell_type": "markdown",
   "metadata": {
    "id": "SW2x_4NkzziM"
   },
   "source": [
    "Проверяю наличие явных дубликатов:"
   ]
  },
  {
   "cell_type": "code",
   "execution_count": 19,
   "metadata": {
    "colab": {
     "base_uri": "https://localhost:8080/"
    },
    "id": "0KZvk8MdzziM",
    "outputId": "da1a2e0f-2209-4d21-a228-66fce099e7bd"
   },
   "outputs": [
    {
     "data": {
      "text/plain": [
       "0"
      ]
     },
     "execution_count": 19,
     "metadata": {},
     "output_type": "execute_result"
    }
   ],
   "source": [
    "data.duplicated().sum()"
   ]
  },
  {
   "cell_type": "markdown",
   "metadata": {
    "id": "yT_T2FOL7hiE"
   },
   "source": [
    "Исследую дубликаты в столбце locality_name. Для этого вывожу уникальные значения:"
   ]
  },
  {
   "cell_type": "code",
   "execution_count": 20,
   "metadata": {
    "colab": {
     "base_uri": "https://localhost:8080/"
    },
    "id": "trm6JiXqzziM",
    "outputId": "61d3e7c5-d851-4113-9bf1-073e31da188b"
   },
   "outputs": [
    {
     "data": {
      "text/plain": [
       "array(['Санкт-Петербург', 'посёлок Шушары', 'городской посёлок Янино-1',\n",
       "       'посёлок Парголово', 'посёлок Мурино', 'Ломоносов', 'Сертолово',\n",
       "       'Петергоф', 'Пушкин', 'деревня Кудрово', 'Коммунар', 'Колпино',\n",
       "       'поселок городского типа Красный Бор', 'Гатчина', 'поселок Мурино',\n",
       "       'деревня Фёдоровское', 'Выборг', 'Кронштадт', 'Кировск',\n",
       "       'деревня Новое Девяткино', 'посёлок Металлострой',\n",
       "       'посёлок городского типа Лебяжье',\n",
       "       'посёлок городского типа Сиверский', 'поселок Молодцово',\n",
       "       'поселок городского типа Кузьмоловский',\n",
       "       'садовое товарищество Новая Ропша', 'Павловск',\n",
       "       'деревня Пикколово', 'Всеволожск', 'Волхов', 'Кингисепп',\n",
       "       'Приозерск', 'Сестрорецк', 'деревня Куттузи', 'посёлок Аннино',\n",
       "       'поселок городского типа Ефимовский', 'посёлок Плодовое',\n",
       "       'деревня Заклинье', 'поселок Торковичи', 'поселок Первомайское',\n",
       "       'Красное Село', 'посёлок Понтонный', 'Сясьстрой', 'деревня Старая',\n",
       "       'деревня Лесколово', 'посёлок Новый Свет', 'Сланцы',\n",
       "       'село Путилово', 'Ивангород', 'Мурино', 'Шлиссельбург',\n",
       "       'Никольское', 'Зеленогорск', 'Сосновый Бор', 'поселок Новый Свет',\n",
       "       'деревня Оржицы', 'деревня Кальтино', 'Кудрово',\n",
       "       'поселок Романовка', 'посёлок Бугры', 'поселок Бугры',\n",
       "       'поселок городского типа Рощино', 'Кириши', 'Луга', 'Волосово',\n",
       "       'Отрадное', 'село Павлово', 'поселок Оредеж', 'село Копорье',\n",
       "       'посёлок городского типа Красный Бор', 'посёлок Молодёжное',\n",
       "       'Тихвин', 'посёлок Победа', 'деревня Нурма',\n",
       "       'поселок городского типа Синявино', 'Тосно',\n",
       "       'посёлок городского типа Кузьмоловский', 'посёлок Стрельна',\n",
       "       'Бокситогорск', 'посёлок Александровская', 'деревня Лопухинка',\n",
       "       'Пикалёво', 'поселок Терволово',\n",
       "       'поселок городского типа Советский', 'Подпорожье',\n",
       "       'посёлок Петровское', 'посёлок городского типа Токсово',\n",
       "       'поселок Сельцо', 'посёлок городского типа Вырица',\n",
       "       'деревня Кипень', 'деревня Келози', 'деревня Вартемяги',\n",
       "       'посёлок Тельмана', 'поселок Севастьяново',\n",
       "       'городской поселок Большая Ижора', 'городской посёлок Павлово',\n",
       "       'деревня Агалатово', 'посёлок Новогорелово',\n",
       "       'городской посёлок Лесогорский', 'деревня Лаголово',\n",
       "       'поселок Цвелодубово', 'поселок городского типа Рахья',\n",
       "       'поселок городского типа Вырица', 'деревня Белогорка',\n",
       "       'поселок Заводской', 'городской посёлок Новоселье',\n",
       "       'деревня Большие Колпаны', 'деревня Горбунки', 'деревня Батово',\n",
       "       'деревня Заневка', 'деревня Иссад', 'Приморск',\n",
       "       'городской посёлок Фёдоровское', 'деревня Мистолово',\n",
       "       'Новая Ладога', 'поселок Зимитицы', 'поселок Барышево',\n",
       "       'деревня Разметелево', 'поселок городского типа имени Свердлова',\n",
       "       'деревня Пеники', 'поселок Рябово', 'деревня Пудомяги',\n",
       "       'поселок станции Корнево', 'деревня Низино', 'деревня Бегуницы',\n",
       "       'посёлок Поляны', 'городской посёлок Мга', 'поселок Елизаветино',\n",
       "       'посёлок городского типа Кузнечное', 'деревня Колтуши',\n",
       "       'поселок Запорожское', 'посёлок городского типа Рощино',\n",
       "       'деревня Гостилицы', 'деревня Малое Карлино',\n",
       "       'посёлок Мичуринское', 'посёлок городского типа имени Морозова',\n",
       "       'посёлок Песочный', 'посёлок Сосново', 'деревня Аро',\n",
       "       'поселок Ильичёво', 'посёлок городского типа Тайцы',\n",
       "       'деревня Малое Верево', 'деревня Извара', 'поселок станции Вещево',\n",
       "       'село Паша', 'деревня Калитино',\n",
       "       'посёлок городского типа Ульяновка', 'деревня Чудской Бор',\n",
       "       'поселок городского типа Дубровка', 'деревня Мины',\n",
       "       'поселок Войсковицы', 'посёлок городского типа имени Свердлова',\n",
       "       'деревня Коркино', 'посёлок Ропша',\n",
       "       'поселок городского типа Приладожский', 'посёлок Щеглово',\n",
       "       'посёлок Гаврилово', 'Лодейное Поле', 'деревня Рабитицы',\n",
       "       'поселок городского типа Никольский', 'деревня Кузьмолово',\n",
       "       'деревня Малые Колпаны', 'поселок Тельмана',\n",
       "       'посёлок Петро-Славянка', 'городской посёлок Назия',\n",
       "       'посёлок Репино', 'посёлок Ильичёво', 'поселок Углово',\n",
       "       'поселок Старая Малукса', 'садовое товарищество Рахья',\n",
       "       'поселок Аннино', 'поселок Победа', 'деревня Меньково',\n",
       "       'деревня Старые Бегуницы', 'посёлок Сапёрный', 'поселок Семрино',\n",
       "       'поселок Гаврилово', 'поселок Глажево', 'поселок Кобринское',\n",
       "       'деревня Гарболово', 'деревня Юкки',\n",
       "       'поселок станции Приветнинское', 'деревня Мануйлово',\n",
       "       'деревня Пчева', 'поселок Поляны', 'поселок Цвылёво',\n",
       "       'поселок Мельниково', 'посёлок Пудость', 'посёлок Усть-Луга',\n",
       "       'Светогорск', 'Любань', 'поселок Селезнёво',\n",
       "       'поселок городского типа Рябово', 'Каменногорск', 'деревня Кривко',\n",
       "       'поселок Глебычево', 'деревня Парицы', 'поселок Жилпосёлок',\n",
       "       'посёлок городского типа Мга', 'городской поселок Янино-1',\n",
       "       'посёлок Войскорово', 'село Никольское', 'посёлок Терволово',\n",
       "       'поселок Стеклянный', 'посёлок городского типа Важины',\n",
       "       'посёлок Мыза-Ивановка', 'село Русско-Высоцкое',\n",
       "       'поселок городского типа Лебяжье',\n",
       "       'поселок городского типа Форносово', 'село Старая Ладога',\n",
       "       'поселок Житково', 'городской посёлок Виллози', 'деревня Лампово',\n",
       "       'деревня Шпаньково', 'деревня Лаврики', 'посёлок Сумино',\n",
       "       'посёлок Возрождение', 'деревня Старосиверская',\n",
       "       'посёлок Кикерино', 'поселок Возрождение',\n",
       "       'деревня Старое Хинколово', 'посёлок Пригородный',\n",
       "       'посёлок Торфяное', 'городской посёлок Будогощь',\n",
       "       'поселок Суходолье', 'поселок Красная Долина', 'деревня Хапо-Ое',\n",
       "       'поселок городского типа Дружная Горка', 'поселок Лисий Нос',\n",
       "       'деревня Яльгелево', 'посёлок Стеклянный', 'село Рождествено',\n",
       "       'деревня Старополье', 'посёлок Левашово', 'деревня Сяськелево',\n",
       "       'деревня Камышовка',\n",
       "       'садоводческое некоммерческое товарищество Лесная Поляна',\n",
       "       'деревня Хязельки', 'поселок Жилгородок',\n",
       "       'посёлок городского типа Павлово', 'деревня Ялгино',\n",
       "       'поселок Новый Учхоз', 'городской посёлок Рощино',\n",
       "       'поселок Гончарово', 'поселок Почап', 'посёлок Сапёрное',\n",
       "       'посёлок Платформа 69-й километр', 'поселок Каложицы',\n",
       "       'деревня Фалилеево', 'деревня Пельгора',\n",
       "       'поселок городского типа Лесогорский', 'деревня Торошковичи',\n",
       "       'посёлок Белоостров', 'посёлок Алексеевка', 'поселок Серебрянский',\n",
       "       'поселок Лукаши', 'поселок Петровское', 'деревня Щеглово',\n",
       "       'поселок Мичуринское', 'деревня Тарасово', 'поселок Кингисеппский',\n",
       "       'посёлок при железнодорожной станции Вещево', 'поселок Ушаки',\n",
       "       'деревня Котлы', 'деревня Сижно', 'деревня Торосово',\n",
       "       'посёлок Форт Красная Горка', 'поселок городского типа Токсово',\n",
       "       'деревня Новолисино', 'посёлок станции Громово', 'деревня Глинка',\n",
       "       'посёлок Мельниково', 'поселок городского типа Назия',\n",
       "       'деревня Старая Пустошь', 'поселок Коммунары', 'поселок Починок',\n",
       "       'посёлок городского типа Вознесенье', 'деревня Разбегаево',\n",
       "       'посёлок городского типа Рябово', 'поселок Гладкое',\n",
       "       'посёлок при железнодорожной станции Приветнинское',\n",
       "       'поселок Тёсово-4', 'посёлок Жилгородок', 'деревня Бор',\n",
       "       'посёлок Коробицыно', 'деревня Большая Вруда', 'деревня Курковицы',\n",
       "       'посёлок Лисий Нос', 'городской посёлок Советский',\n",
       "       'посёлок Кобралово', 'деревня Суоранда', 'поселок Кобралово',\n",
       "       'поселок городского типа Кондратьево',\n",
       "       'коттеджный поселок Счастье', 'поселок Любань', 'деревня Реброво',\n",
       "       'деревня Зимитицы', 'деревня Тойворово', 'поселок Семиозерье',\n",
       "       'поселок Лесное', 'поселок Совхозный', 'поселок Усть-Луга',\n",
       "       'посёлок Ленинское', 'посёлок Суйда',\n",
       "       'посёлок городского типа Форносово', 'деревня Нижние Осельки',\n",
       "       'посёлок станции Свирь', 'поселок Перово', 'Высоцк',\n",
       "       'поселок Гарболово', 'село Шум', 'поселок Котельский',\n",
       "       'поселок станции Лужайка', 'деревня Большая Пустомержа',\n",
       "       'поселок Красносельское', 'деревня Вахнова Кара', 'деревня Пижма',\n",
       "       'коттеджный поселок Кивеннапа Север', 'поселок Коробицыно',\n",
       "       'поселок Ромашки', 'посёлок Перово', 'деревня Каськово',\n",
       "       'деревня Куровицы', 'посёлок Плоское', 'поселок Сумино',\n",
       "       'поселок городского типа Большая Ижора', 'поселок Кирпичное',\n",
       "       'деревня Ям-Тесово', 'деревня Раздолье', 'деревня Терпилицы',\n",
       "       'посёлок Шугозеро', 'деревня Ваганово', 'поселок Пушное',\n",
       "       'садовое товарищество Садко', 'посёлок Усть-Ижора',\n",
       "       'деревня Выскатка', 'городской посёлок Свирьстрой',\n",
       "       'поселок Громово', 'деревня Кисельня', 'посёлок Старая Малукса',\n",
       "       'деревня Трубников Бор', 'поселок Калитино',\n",
       "       'посёлок Высокоключевой', 'садовое товарищество Приладожский',\n",
       "       'посёлок Пансионат Зелёный Бор', 'деревня Ненимяки',\n",
       "       'поселок Пансионат Зелёный Бор', 'деревня Снегирёвка',\n",
       "       'деревня Рапполово', 'деревня Пустынка', 'поселок Рабитицы',\n",
       "       'деревня Большой Сабск', 'деревня Русско', 'деревня Лупполово',\n",
       "       'деревня Большое Рейзино', 'деревня Малая Романовка',\n",
       "       'поселок Дружноселье', 'поселок Пчевжа', 'поселок Володарское',\n",
       "       'деревня Нижняя', 'коттеджный посёлок Лесное', 'деревня Тихковицы',\n",
       "       'деревня Борисова Грива', 'посёлок Дзержинского'], dtype=object)"
      ]
     },
     "execution_count": 20,
     "metadata": {},
     "output_type": "execute_result"
    }
   ],
   "source": [
    "data['locality_name'].unique()"
   ]
  },
  {
   "cell_type": "markdown",
   "metadata": {
    "id": "Gt_-p6pRzziM"
   },
   "source": [
    "Число уникальных значений, содержащее неявные дубликаты:"
   ]
  },
  {
   "cell_type": "code",
   "execution_count": 21,
   "metadata": {
    "colab": {
     "base_uri": "https://localhost:8080/"
    },
    "id": "ObV4Mw0VzziM",
    "outputId": "8cd06cf0-82dd-4c3c-c741-2a5790293c0c"
   },
   "outputs": [
    {
     "data": {
      "text/plain": [
       "364"
      ]
     },
     "execution_count": 21,
     "metadata": {},
     "output_type": "execute_result"
    }
   ],
   "source": [
    "len(data['locality_name'].unique())"
   ]
  },
  {
   "cell_type": "markdown",
   "metadata": {
    "id": "smNqnQjbzziN"
   },
   "source": [
    "Осуществляю замену буквы \"ё\" на \"е\" и создаю новый столбец, содержащий только имя населенного пункта"
   ]
  },
  {
   "cell_type": "code",
   "execution_count": 22,
   "metadata": {
    "colab": {
     "base_uri": "https://localhost:8080/"
    },
    "id": "JlpbzPkzzziN",
    "outputId": "405c5ad2-4003-4332-ff6c-713fcc11e91c"
   },
   "outputs": [
    {
     "data": {
      "text/plain": [
       "['Агалатово',\n",
       " 'Александровская',\n",
       " 'Алексеевка',\n",
       " 'Аннино',\n",
       " 'Аро',\n",
       " 'Барышево',\n",
       " 'Батово',\n",
       " 'Бегуницы',\n",
       " 'Белогорка',\n",
       " 'Белоостров',\n",
       " 'Бокситогорск',\n",
       " 'Большая Вруда',\n",
       " 'Большая Ижора',\n",
       " 'Большая Пустомержа',\n",
       " 'Большие Колпаны',\n",
       " 'Большое Рейзино',\n",
       " 'Большой Сабск',\n",
       " 'Бор',\n",
       " 'Борисова Грива',\n",
       " 'Бугры',\n",
       " 'Будогощь',\n",
       " 'Ваганово',\n",
       " 'Важины',\n",
       " 'Вартемяги',\n",
       " 'Вахнова Кара',\n",
       " 'Вещево',\n",
       " 'Виллози',\n",
       " 'Вознесенье',\n",
       " 'Возрождение',\n",
       " 'Войсковицы',\n",
       " 'Войскорово',\n",
       " 'Володарское',\n",
       " 'Волосово',\n",
       " 'Волхов',\n",
       " 'Всеволожск',\n",
       " 'Выборг',\n",
       " 'Вырица',\n",
       " 'Выскатка',\n",
       " 'Высокоключевой',\n",
       " 'Высоцк',\n",
       " 'Гаврилово',\n",
       " 'Гарболово',\n",
       " 'Гатчина',\n",
       " 'Гладкое',\n",
       " 'Глажево',\n",
       " 'Глебычево',\n",
       " 'Глинка',\n",
       " 'Гончарово',\n",
       " 'Горбунки',\n",
       " 'Гостилицы',\n",
       " 'Громово',\n",
       " 'Дзержинского',\n",
       " 'Дружная Горка',\n",
       " 'Дружноселье',\n",
       " 'Дубровка',\n",
       " 'Елизаветино',\n",
       " 'Ефимовский',\n",
       " 'Жилгородок',\n",
       " 'Жилпоселок',\n",
       " 'Житково',\n",
       " 'Заводской',\n",
       " 'Заклинье',\n",
       " 'Заневка',\n",
       " 'Запорожское',\n",
       " 'Зеленогорск',\n",
       " 'Зимитицы',\n",
       " 'Ивангород',\n",
       " 'Извара',\n",
       " 'Ильичево',\n",
       " 'Иссад',\n",
       " 'Калитино',\n",
       " 'Каложицы',\n",
       " 'Кальтино',\n",
       " 'Каменногорск',\n",
       " 'Камышовка',\n",
       " 'Каськово',\n",
       " 'Келози',\n",
       " 'Кивеннапа Север',\n",
       " 'Кикерино',\n",
       " 'Кингисепп',\n",
       " 'Кингисеппский',\n",
       " 'Кипень',\n",
       " 'Кириши',\n",
       " 'Кировск',\n",
       " 'Кирпичное',\n",
       " 'Кисельня',\n",
       " 'Кобралово',\n",
       " 'Кобринское',\n",
       " 'Колпино',\n",
       " 'Колтуши',\n",
       " 'Коммунар',\n",
       " 'Коммунары',\n",
       " 'Кондратьево',\n",
       " 'Копорье',\n",
       " 'Коркино',\n",
       " 'Корнево',\n",
       " 'Коробицыно',\n",
       " 'Котельский',\n",
       " 'Котлы',\n",
       " 'Красная Долина',\n",
       " 'Красное Село',\n",
       " 'Красносельское',\n",
       " 'Красный Бор',\n",
       " 'Кривко',\n",
       " 'Кронштадт',\n",
       " 'Кудрово',\n",
       " 'Кузнечное',\n",
       " 'Кузьмолово',\n",
       " 'Кузьмоловский',\n",
       " 'Курковицы',\n",
       " 'Куровицы',\n",
       " 'Куттузи',\n",
       " 'Лаврики',\n",
       " 'Лаголово',\n",
       " 'Лампово',\n",
       " 'Лебяжье',\n",
       " 'Левашово',\n",
       " 'Ленинское',\n",
       " 'Лесколово',\n",
       " 'Лесная Поляна',\n",
       " 'Лесное',\n",
       " 'Лесогорский',\n",
       " 'Лисий Нос',\n",
       " 'Лодейное Поле',\n",
       " 'Ломоносов',\n",
       " 'Лопухинка',\n",
       " 'Луга',\n",
       " 'Лужайка',\n",
       " 'Лукаши',\n",
       " 'Лупполово',\n",
       " 'Любань',\n",
       " 'Малая Романовка',\n",
       " 'Малое Верево',\n",
       " 'Малое Карлино',\n",
       " 'Малые Колпаны',\n",
       " 'Мануйлово',\n",
       " 'Мга',\n",
       " 'Мельниково',\n",
       " 'Меньково',\n",
       " 'Металлострой',\n",
       " 'Мины',\n",
       " 'Мистолово',\n",
       " 'Мичуринское',\n",
       " 'Молодежное',\n",
       " 'Молодцово',\n",
       " 'Морозова',\n",
       " 'Мурино',\n",
       " 'Мыза-Ивановка',\n",
       " 'Назия',\n",
       " 'Ненимяки',\n",
       " 'Нижние Осельки',\n",
       " 'Нижняя',\n",
       " 'Низино',\n",
       " 'Никольский',\n",
       " 'Никольское',\n",
       " 'Новая Ладога',\n",
       " 'Новая Ропша',\n",
       " 'Новогорелово',\n",
       " 'Новое Девяткино',\n",
       " 'Новолисино',\n",
       " 'Новоселье',\n",
       " 'Новый Свет',\n",
       " 'Новый Учхоз',\n",
       " 'Нурма',\n",
       " 'Оредеж',\n",
       " 'Оржицы',\n",
       " 'Отрадное',\n",
       " 'Павлово',\n",
       " 'Павловск',\n",
       " 'Пансионат Зеленый Бор',\n",
       " 'Парголово',\n",
       " 'Парицы',\n",
       " 'Паша',\n",
       " 'Пельгора',\n",
       " 'Пеники',\n",
       " 'Первомайское',\n",
       " 'Перово',\n",
       " 'Песочный',\n",
       " 'Петергоф',\n",
       " 'Петро-Славянка',\n",
       " 'Петровское',\n",
       " 'Пижма',\n",
       " 'Пикалево',\n",
       " 'Пикколово',\n",
       " 'Платформа 69-й километр',\n",
       " 'Плодовое',\n",
       " 'Плоское',\n",
       " 'Победа',\n",
       " 'Подпорожье',\n",
       " 'Поляны',\n",
       " 'Понтонный',\n",
       " 'Почап',\n",
       " 'Починок',\n",
       " 'Приветнинское',\n",
       " 'Пригородный',\n",
       " 'Приладожский',\n",
       " 'Приморск',\n",
       " 'Приозерск',\n",
       " 'Пудомяги',\n",
       " 'Пудость',\n",
       " 'Пустынка',\n",
       " 'Путилово',\n",
       " 'Пушкин',\n",
       " 'Пушное',\n",
       " 'Пчева',\n",
       " 'Пчевжа',\n",
       " 'Рабитицы',\n",
       " 'Разбегаево',\n",
       " 'Раздолье',\n",
       " 'Разметелево',\n",
       " 'Рапполово',\n",
       " 'Рахья',\n",
       " 'Реброво',\n",
       " 'Репино',\n",
       " 'Рождествено',\n",
       " 'Романовка',\n",
       " 'Ромашки',\n",
       " 'Ропша',\n",
       " 'Рощино',\n",
       " 'Русско',\n",
       " 'Русско-Высоцкое',\n",
       " 'Рябово',\n",
       " 'Садко',\n",
       " 'Санкт-Петербург',\n",
       " 'Саперное',\n",
       " 'Саперный',\n",
       " 'Свердлова',\n",
       " 'Светогорск',\n",
       " 'Свирь',\n",
       " 'Свирьстрой',\n",
       " 'Севастьяново',\n",
       " 'Селезнево',\n",
       " 'Сельцо',\n",
       " 'Семиозерье',\n",
       " 'Семрино',\n",
       " 'Серебрянский',\n",
       " 'Сертолово',\n",
       " 'Сестрорецк',\n",
       " 'Сиверский',\n",
       " 'Сижно',\n",
       " 'Синявино',\n",
       " 'Сланцы',\n",
       " 'Снегиревка',\n",
       " 'Советский',\n",
       " 'Совхозный',\n",
       " 'Сосново',\n",
       " 'Сосновый Бор',\n",
       " 'Старая',\n",
       " 'Старая Ладога',\n",
       " 'Старая Малукса',\n",
       " 'Старая Пустошь',\n",
       " 'Старое Хинколово',\n",
       " 'Старополье',\n",
       " 'Старосиверская',\n",
       " 'Старые Бегуницы',\n",
       " 'Стеклянный',\n",
       " 'Стрельна',\n",
       " 'Суйда',\n",
       " 'Сумино',\n",
       " 'Суоранда',\n",
       " 'Суходолье',\n",
       " 'Счастье',\n",
       " 'Сяськелево',\n",
       " 'Сясьстрой',\n",
       " 'Тайцы',\n",
       " 'Тарасово',\n",
       " 'Тельмана',\n",
       " 'Терволово',\n",
       " 'Терпилицы',\n",
       " 'Тесово-4',\n",
       " 'Тихвин',\n",
       " 'Тихковицы',\n",
       " 'Тойворово',\n",
       " 'Токсово',\n",
       " 'Торковичи',\n",
       " 'Торосово',\n",
       " 'Торошковичи',\n",
       " 'Торфяное',\n",
       " 'Тосно',\n",
       " 'Трубников Бор',\n",
       " 'Углово',\n",
       " 'Ульяновка',\n",
       " 'Усть-Ижора',\n",
       " 'Усть-Луга',\n",
       " 'Ушаки',\n",
       " 'Фалилеево',\n",
       " 'Федоровское',\n",
       " 'Форносово',\n",
       " 'Форт Красная Горка',\n",
       " 'Хапо-Ое',\n",
       " 'Хязельки',\n",
       " 'Цвелодубово',\n",
       " 'Цвылево',\n",
       " 'Чудской Бор',\n",
       " 'Шлиссельбург',\n",
       " 'Шпаньково',\n",
       " 'Шугозеро',\n",
       " 'Шум',\n",
       " 'Шушары',\n",
       " 'Щеглово',\n",
       " 'Юкки',\n",
       " 'Ялгино',\n",
       " 'Яльгелево',\n",
       " 'Ям-Тесово',\n",
       " 'Янино-1']"
      ]
     },
     "execution_count": 22,
     "metadata": {},
     "output_type": "execute_result"
    }
   ],
   "source": [
    "data['locality_name'] = data['locality_name'].str.replace('ё', 'е')\n",
    "\n",
    "data['locality_name_short'] = data['locality_name']\n",
    "\n",
    "# использую множество для исключения повторяющихся элементов, на основе него будет сделан список значений\n",
    "repl_set = set()\n",
    "\n",
    "#вычленияю описания населенных пунктов, отделяю их от названия путем добавления в множество\n",
    "for elem in data['locality_name'].unique():\n",
    "    for i in range(len(elem)):\n",
    "        if elem[i].isupper():\n",
    "            if i == 0: # пропускаю если указано только название населенного пункта\n",
    "                break\n",
    "            repl_set.add(elem[:i])\n",
    "            break\n",
    "\n",
    "#создаю списки из описания населенного пункта и его длины, чтоб отсортировать по убыванию\n",
    "#потому что слово \"поселок \" есть как само по себе, так и в \"поселок городского типа\"\n",
    "#и при замене теперь нужно сперва убрать длинные названия, а потом короткие\n",
    "repl_list = list(repl_set)\n",
    "repl_list_elm_len = []\n",
    "for elm in repl_list:\n",
    "    repl_list_elm_len.append(len(elm))\n",
    "#для того, чтоб отсортировать по убыванию длины создаю датафрейм и сразу его сортирую\n",
    "repl_data_frm = pd.DataFrame({\n",
    "    \"item\" : repl_list,\n",
    "    \"length\" : repl_list_elm_len\n",
    "    }).sort_values(by=\"length\", ascending=False)\n",
    "\n",
    "#заменяю описания населенных пунктов на пустой символ\n",
    "for repl_item in repl_data_frm[\"item\"]:\n",
    "    data['locality_name_short'] = data['locality_name_short'].str.replace(repl_item, '')\n",
    "sorted(data['locality_name_short'].unique())"
   ]
  },
  {
   "cell_type": "code",
   "execution_count": 23,
   "metadata": {
    "colab": {
     "base_uri": "https://localhost:8080/"
    },
    "id": "6N0N86EyzziN",
    "outputId": "2ddd1af3-32be-45de-d328-06b9e38f7453"
   },
   "outputs": [
    {
     "data": {
      "text/plain": [
       "305"
      ]
     },
     "execution_count": 23,
     "metadata": {},
     "output_type": "execute_result"
    }
   ],
   "source": [
    "len(data['locality_name_short'].unique())"
   ]
  },
  {
   "cell_type": "markdown",
   "metadata": {},
   "source": [
    "<div class=\"alert alert-success\">\n",
    "<b>✔️ Комментарий ревьюера v1:</b> \n",
    "<br>Супер! Здесь всё верно)\n",
    "</div>"
   ]
  },
  {
   "cell_type": "markdown",
   "metadata": {},
   "source": [
    "<div class=\"alert alert-danger\">\n",
    "<b>❌ Комментарий ревьюера v1:</b> \n",
    "<br>Пропуски в столбцах с картографическими данными лучше не трогать. Заполняя их таким образом, ты проставляешь одинаковые расстояния до парка (прудов, аэропорта) для разных квартир, хотя они могут быть расположены в разных частях города. Эти пропуски заполнять не нужно\n",
    "</div>"
   ]
  },
  {
   "cell_type": "markdown",
   "metadata": {},
   "source": [
    "<div class=\"alert alert-info\">\n",
    "<b>Комментарий студента:</b>\n",
    "<br>Убрал заполнение. Почему-то сложился стереотип (по материалам курса), что лучше заполнить пропуски хоть чем-то. \n",
    "</div>"
   ]
  },
  {
   "cell_type": "markdown",
   "metadata": {},
   "source": [
    "<div class=\"alert alert-success\">\n",
    "<b>✔️ Комментарий ревьюера v2:</b>\n",
    "<br>Правка выполнена 👍\n",
    "</div>"
   ]
  },
  {
   "cell_type": "markdown",
   "metadata": {
    "id": "QCcvyY6YAwb-"
   },
   "source": [
    "### Добавьте в таблицу новые столбцы"
   ]
  },
  {
   "cell_type": "markdown",
   "metadata": {
    "id": "wXGQVNudzziN"
   },
   "source": [
    "Добавляю столбец со стоимостью одного квадратного метра:"
   ]
  },
  {
   "cell_type": "code",
   "execution_count": 24,
   "metadata": {
    "id": "Z8eJek3IAwb-"
   },
   "outputs": [],
   "source": [
    "data['sq_met_price'] = (data['last_price'] / data['living_area']).round(2)"
   ]
  },
  {
   "cell_type": "markdown",
   "metadata": {
    "id": "dfpSM_vjzziN"
   },
   "source": [
    "Добавляю столбцы с днем недели, месяцем и годом публикации:"
   ]
  },
  {
   "cell_type": "code",
   "execution_count": 25,
   "metadata": {
    "id": "QQJQ7XlZzziN"
   },
   "outputs": [],
   "source": [
    "data['weekday'] = data['first_day_exposition'].dt.weekday\n",
    "data['month'] = data['first_day_exposition'].dt.month\n",
    "data['year'] = data['first_day_exposition'].dt.year"
   ]
  },
  {
   "cell_type": "markdown",
   "metadata": {
    "id": "gxzjJ5z89N5f"
   },
   "source": [
    "Ввожу столбец с категориальной переменной по расположению этажа."
   ]
  },
  {
   "cell_type": "code",
   "execution_count": 26,
   "metadata": {
    "id": "cmg_opajzziO"
   },
   "outputs": [],
   "source": [
    "def floor_type(row):\n",
    "    if row['floor'] == 1:\n",
    "        floor_type_def = 'первый'\n",
    "    elif row['floor'] == row['floors_total']:\n",
    "        floor_type_def = 'последний'\n",
    "    else:\n",
    "        floor_type_def = 'другой'\n",
    "    return floor_type_def\n",
    "data['floor_type'] = data.apply(floor_type, axis=1)"
   ]
  },
  {
   "cell_type": "markdown",
   "metadata": {
    "id": "Ed-207A_9acW"
   },
   "source": [
    "Создаю столбец с расстоянием до центра города в км:"
   ]
  },
  {
   "cell_type": "code",
   "execution_count": 27,
   "metadata": {
    "colab": {
     "base_uri": "https://localhost:8080/",
     "height": 256
    },
    "id": "eke3WDdyzziO",
    "outputId": "2baab975-a1f7-49ba-8fac-da96bca4319a"
   },
   "outputs": [
    {
     "data": {
      "text/html": [
       "<div>\n",
       "<style scoped>\n",
       "    .dataframe tbody tr th:only-of-type {\n",
       "        vertical-align: middle;\n",
       "    }\n",
       "\n",
       "    .dataframe tbody tr th {\n",
       "        vertical-align: top;\n",
       "    }\n",
       "\n",
       "    .dataframe thead th {\n",
       "        text-align: right;\n",
       "    }\n",
       "</style>\n",
       "<table border=\"1\" class=\"dataframe\">\n",
       "  <thead>\n",
       "    <tr style=\"text-align: right;\">\n",
       "      <th></th>\n",
       "      <th>total_images</th>\n",
       "      <th>last_price</th>\n",
       "      <th>total_area</th>\n",
       "      <th>first_day_exposition</th>\n",
       "      <th>rooms</th>\n",
       "      <th>ceiling_height</th>\n",
       "      <th>floors_total</th>\n",
       "      <th>living_area</th>\n",
       "      <th>floor</th>\n",
       "      <th>is_apartment</th>\n",
       "      <th>studio</th>\n",
       "      <th>open_plan</th>\n",
       "      <th>kitchen_area</th>\n",
       "      <th>balcony</th>\n",
       "      <th>locality_name</th>\n",
       "      <th>airports_nearest</th>\n",
       "      <th>cityCenters_nearest</th>\n",
       "      <th>parks_around3000</th>\n",
       "      <th>parks_nearest</th>\n",
       "      <th>ponds_around3000</th>\n",
       "      <th>ponds_nearest</th>\n",
       "      <th>days_exposition</th>\n",
       "      <th>locality_name_short</th>\n",
       "      <th>sq_met_price</th>\n",
       "      <th>weekday</th>\n",
       "      <th>month</th>\n",
       "      <th>year</th>\n",
       "      <th>floor_type</th>\n",
       "      <th>city_cent_near_km</th>\n",
       "    </tr>\n",
       "  </thead>\n",
       "  <tbody>\n",
       "    <tr>\n",
       "      <th>0</th>\n",
       "      <td>20</td>\n",
       "      <td>13000000.0</td>\n",
       "      <td>108.0</td>\n",
       "      <td>2019-03-07</td>\n",
       "      <td>3</td>\n",
       "      <td>2.70</td>\n",
       "      <td>16</td>\n",
       "      <td>51.0</td>\n",
       "      <td>8</td>\n",
       "      <td>True</td>\n",
       "      <td>False</td>\n",
       "      <td>False</td>\n",
       "      <td>25.0</td>\n",
       "      <td>0</td>\n",
       "      <td>Санкт-Петербург</td>\n",
       "      <td>18863.0</td>\n",
       "      <td>16028.0</td>\n",
       "      <td>1</td>\n",
       "      <td>482.0</td>\n",
       "      <td>2</td>\n",
       "      <td>755.0</td>\n",
       "      <td>&lt;NA&gt;</td>\n",
       "      <td>Санкт-Петербург</td>\n",
       "      <td>254901.96</td>\n",
       "      <td>3</td>\n",
       "      <td>3</td>\n",
       "      <td>2019</td>\n",
       "      <td>другой</td>\n",
       "      <td>16.0</td>\n",
       "    </tr>\n",
       "    <tr>\n",
       "      <th>1</th>\n",
       "      <td>7</td>\n",
       "      <td>3350000.0</td>\n",
       "      <td>40.4</td>\n",
       "      <td>2018-12-04</td>\n",
       "      <td>1</td>\n",
       "      <td>NaN</td>\n",
       "      <td>11</td>\n",
       "      <td>18.6</td>\n",
       "      <td>1</td>\n",
       "      <td>True</td>\n",
       "      <td>False</td>\n",
       "      <td>False</td>\n",
       "      <td>11.0</td>\n",
       "      <td>2</td>\n",
       "      <td>поселок Шушары</td>\n",
       "      <td>12817.0</td>\n",
       "      <td>18603.0</td>\n",
       "      <td>0</td>\n",
       "      <td>NaN</td>\n",
       "      <td>0</td>\n",
       "      <td>NaN</td>\n",
       "      <td>81</td>\n",
       "      <td>Шушары</td>\n",
       "      <td>180107.53</td>\n",
       "      <td>1</td>\n",
       "      <td>12</td>\n",
       "      <td>2018</td>\n",
       "      <td>первый</td>\n",
       "      <td>19.0</td>\n",
       "    </tr>\n",
       "    <tr>\n",
       "      <th>2</th>\n",
       "      <td>10</td>\n",
       "      <td>5196000.0</td>\n",
       "      <td>56.0</td>\n",
       "      <td>2015-08-20</td>\n",
       "      <td>2</td>\n",
       "      <td>NaN</td>\n",
       "      <td>5</td>\n",
       "      <td>34.3</td>\n",
       "      <td>4</td>\n",
       "      <td>True</td>\n",
       "      <td>False</td>\n",
       "      <td>False</td>\n",
       "      <td>8.3</td>\n",
       "      <td>0</td>\n",
       "      <td>Санкт-Петербург</td>\n",
       "      <td>21741.0</td>\n",
       "      <td>13933.0</td>\n",
       "      <td>1</td>\n",
       "      <td>90.0</td>\n",
       "      <td>2</td>\n",
       "      <td>574.0</td>\n",
       "      <td>558</td>\n",
       "      <td>Санкт-Петербург</td>\n",
       "      <td>151486.88</td>\n",
       "      <td>3</td>\n",
       "      <td>8</td>\n",
       "      <td>2015</td>\n",
       "      <td>другой</td>\n",
       "      <td>14.0</td>\n",
       "    </tr>\n",
       "    <tr>\n",
       "      <th>3</th>\n",
       "      <td>0</td>\n",
       "      <td>64900000.0</td>\n",
       "      <td>159.0</td>\n",
       "      <td>2015-07-24</td>\n",
       "      <td>3</td>\n",
       "      <td>NaN</td>\n",
       "      <td>14</td>\n",
       "      <td>NaN</td>\n",
       "      <td>9</td>\n",
       "      <td>True</td>\n",
       "      <td>False</td>\n",
       "      <td>False</td>\n",
       "      <td>NaN</td>\n",
       "      <td>0</td>\n",
       "      <td>Санкт-Петербург</td>\n",
       "      <td>28098.0</td>\n",
       "      <td>6800.0</td>\n",
       "      <td>2</td>\n",
       "      <td>84.0</td>\n",
       "      <td>3</td>\n",
       "      <td>234.0</td>\n",
       "      <td>424</td>\n",
       "      <td>Санкт-Петербург</td>\n",
       "      <td>NaN</td>\n",
       "      <td>4</td>\n",
       "      <td>7</td>\n",
       "      <td>2015</td>\n",
       "      <td>другой</td>\n",
       "      <td>7.0</td>\n",
       "    </tr>\n",
       "    <tr>\n",
       "      <th>4</th>\n",
       "      <td>2</td>\n",
       "      <td>10000000.0</td>\n",
       "      <td>100.0</td>\n",
       "      <td>2018-06-19</td>\n",
       "      <td>2</td>\n",
       "      <td>3.03</td>\n",
       "      <td>14</td>\n",
       "      <td>32.0</td>\n",
       "      <td>13</td>\n",
       "      <td>True</td>\n",
       "      <td>False</td>\n",
       "      <td>False</td>\n",
       "      <td>41.0</td>\n",
       "      <td>0</td>\n",
       "      <td>Санкт-Петербург</td>\n",
       "      <td>31856.0</td>\n",
       "      <td>8098.0</td>\n",
       "      <td>2</td>\n",
       "      <td>112.0</td>\n",
       "      <td>1</td>\n",
       "      <td>48.0</td>\n",
       "      <td>121</td>\n",
       "      <td>Санкт-Петербург</td>\n",
       "      <td>312500.00</td>\n",
       "      <td>1</td>\n",
       "      <td>6</td>\n",
       "      <td>2018</td>\n",
       "      <td>другой</td>\n",
       "      <td>8.0</td>\n",
       "    </tr>\n",
       "  </tbody>\n",
       "</table>\n",
       "</div>"
      ],
      "text/plain": [
       "   total_images  last_price  total_area first_day_exposition  rooms  \\\n",
       "0            20  13000000.0       108.0           2019-03-07      3   \n",
       "1             7   3350000.0        40.4           2018-12-04      1   \n",
       "2            10   5196000.0        56.0           2015-08-20      2   \n",
       "3             0  64900000.0       159.0           2015-07-24      3   \n",
       "4             2  10000000.0       100.0           2018-06-19      2   \n",
       "\n",
       "   ceiling_height  floors_total  living_area  floor  is_apartment  studio  \\\n",
       "0            2.70            16         51.0      8          True   False   \n",
       "1             NaN            11         18.6      1          True   False   \n",
       "2             NaN             5         34.3      4          True   False   \n",
       "3             NaN            14          NaN      9          True   False   \n",
       "4            3.03            14         32.0     13          True   False   \n",
       "\n",
       "   open_plan  kitchen_area  balcony    locality_name  airports_nearest  \\\n",
       "0      False          25.0        0  Санкт-Петербург           18863.0   \n",
       "1      False          11.0        2   поселок Шушары           12817.0   \n",
       "2      False           8.3        0  Санкт-Петербург           21741.0   \n",
       "3      False           NaN        0  Санкт-Петербург           28098.0   \n",
       "4      False          41.0        0  Санкт-Петербург           31856.0   \n",
       "\n",
       "   cityCenters_nearest  parks_around3000  parks_nearest  ponds_around3000  \\\n",
       "0              16028.0                 1          482.0                 2   \n",
       "1              18603.0                 0            NaN                 0   \n",
       "2              13933.0                 1           90.0                 2   \n",
       "3               6800.0                 2           84.0                 3   \n",
       "4               8098.0                 2          112.0                 1   \n",
       "\n",
       "   ponds_nearest  days_exposition locality_name_short  sq_met_price  weekday  \\\n",
       "0          755.0             <NA>     Санкт-Петербург     254901.96        3   \n",
       "1            NaN               81              Шушары     180107.53        1   \n",
       "2          574.0              558     Санкт-Петербург     151486.88        3   \n",
       "3          234.0              424     Санкт-Петербург           NaN        4   \n",
       "4           48.0              121     Санкт-Петербург     312500.00        1   \n",
       "\n",
       "   month  year floor_type  city_cent_near_km  \n",
       "0      3  2019     другой               16.0  \n",
       "1     12  2018     первый               19.0  \n",
       "2      8  2015     другой               14.0  \n",
       "3      7  2015     другой                7.0  \n",
       "4      6  2018     другой                8.0  "
      ]
     },
     "execution_count": 27,
     "metadata": {},
     "output_type": "execute_result"
    }
   ],
   "source": [
    "data['city_cent_near_km'] = round(data['cityCenters_nearest'] / 1000)\n",
    "data.head(5)"
   ]
  },
  {
   "cell_type": "markdown",
   "metadata": {
    "id": "ZzgdYXSCG0y_"
   },
   "source": [
    "Ещё раз выводу информацию по датафрейму для проверки заполнения большинства пропусков и правильности типов данных в столбцах."
   ]
  },
  {
   "cell_type": "code",
   "execution_count": 28,
   "metadata": {
    "colab": {
     "base_uri": "https://localhost:8080/"
    },
    "id": "P9tpWwgKzziO",
    "outputId": "85898936-a0ca-47a3-f69d-c233e51e7cf6"
   },
   "outputs": [
    {
     "name": "stdout",
     "output_type": "stream",
     "text": [
      "<class 'pandas.core.frame.DataFrame'>\n",
      "Int64Index: 23650 entries, 0 to 23698\n",
      "Data columns (total 29 columns):\n",
      " #   Column                Non-Null Count  Dtype         \n",
      "---  ------                --------------  -----         \n",
      " 0   total_images          23650 non-null  int64         \n",
      " 1   last_price            23650 non-null  float64       \n",
      " 2   total_area            23650 non-null  float64       \n",
      " 3   first_day_exposition  23650 non-null  datetime64[ns]\n",
      " 4   rooms                 23650 non-null  int64         \n",
      " 5   ceiling_height        14490 non-null  float64       \n",
      " 6   floors_total          23650 non-null  int64         \n",
      " 7   living_area           21752 non-null  float64       \n",
      " 8   floor                 23650 non-null  int64         \n",
      " 9   is_apartment          23650 non-null  bool          \n",
      " 10  studio                23650 non-null  bool          \n",
      " 11  open_plan             23650 non-null  bool          \n",
      " 12  kitchen_area          21381 non-null  float64       \n",
      " 13  balcony               23650 non-null  int64         \n",
      " 14  locality_name         23650 non-null  object        \n",
      " 15  airports_nearest      18116 non-null  float64       \n",
      " 16  cityCenters_nearest   23650 non-null  float64       \n",
      " 17  parks_around3000      23650 non-null  int64         \n",
      " 18  parks_nearest         8064 non-null   float64       \n",
      " 19  ponds_around3000      23650 non-null  int64         \n",
      " 20  ponds_nearest         9085 non-null   float64       \n",
      " 21  days_exposition       20470 non-null  Int64         \n",
      " 22  locality_name_short   23650 non-null  object        \n",
      " 23  sq_met_price          21752 non-null  float64       \n",
      " 24  weekday               23650 non-null  int64         \n",
      " 25  month                 23650 non-null  int64         \n",
      " 26  year                  23650 non-null  int64         \n",
      " 27  floor_type            23650 non-null  object        \n",
      " 28  city_cent_near_km     23650 non-null  float64       \n",
      "dtypes: Int64(1), bool(3), datetime64[ns](1), float64(11), int64(10), object(3)\n",
      "memory usage: 5.5+ MB\n"
     ]
    }
   ],
   "source": [
    "data.info()"
   ]
  },
  {
   "cell_type": "markdown",
   "metadata": {},
   "source": [
    "<div class=\"alert alert-success\">\n",
    "<b>✔️ Комментарий ревьюера v1:</b> \n",
    "<br>Все необходимые колонки добавлены. Идём дальше)\n",
    "</div>"
   ]
  },
  {
   "cell_type": "markdown",
   "metadata": {
    "id": "pPyxrKWTAwb-"
   },
   "source": [
    "### Проведите исследовательский анализ данных"
   ]
  },
  {
   "cell_type": "markdown",
   "metadata": {
    "id": "S2OhaKffzziO"
   },
   "source": [
    "#### Исследование столбца ceiling_height"
   ]
  },
  {
   "cell_type": "markdown",
   "metadata": {
    "id": "R9bo3Ny2zziO"
   },
   "source": [
    "Вывожу информацию по столбцу ceiling_height:"
   ]
  },
  {
   "cell_type": "code",
   "execution_count": 29,
   "metadata": {
    "colab": {
     "base_uri": "https://localhost:8080/"
    },
    "id": "28ULpAunzziO",
    "outputId": "1a2058c4-e026-4d9f-e694-a7ab6067381e"
   },
   "outputs": [
    {
     "data": {
      "text/plain": [
       "count    14490.000000\n",
       "mean         2.771287\n",
       "std          1.261593\n",
       "min          1.000000\n",
       "25%          2.520000\n",
       "50%          2.650000\n",
       "75%          2.800000\n",
       "max        100.000000\n",
       "Name: ceiling_height, dtype: float64"
      ]
     },
     "execution_count": 29,
     "metadata": {},
     "output_type": "execute_result"
    }
   ],
   "source": [
    "data['ceiling_height'].describe()"
   ]
  },
  {
   "cell_type": "markdown",
   "metadata": {
    "id": "nCRNodNSzziO"
   },
   "source": [
    "Также для наглядности выведу гистограмму для этого столбца:"
   ]
  },
  {
   "cell_type": "code",
   "execution_count": 30,
   "metadata": {
    "colab": {
     "base_uri": "https://localhost:8080/",
     "height": 485
    },
    "id": "tR29kksVzziP",
    "outputId": "c78d499c-3cab-4c23-82dd-b7e496ebcaa2"
   },
   "outputs": [
    {
     "data": {
      "image/png": "[encoded data removed]",
      "text/plain": [
       "<Figure size 360x360 with 1 Axes>"
      ]
     },
     "metadata": {
      "needs_background": "light"
     },
     "output_type": "display_data"
    }
   ],
   "source": [
    "data.hist('ceiling_height', bins=30, figsize=(5, 5));"
   ]
  },
  {
   "cell_type": "markdown",
   "metadata": {
    "id": "U891JU7TzziP"
   },
   "source": [
    "Видно что есть выбросы. Потолков выше 4 метров обычно не бывает. Потолки высотой 1 метр - тоже выброс. Вывожу отсортированный списко уникальных значений по высоте потолка выше 4 м:"
   ]
  },
  {
   "cell_type": "code",
   "execution_count": 31,
   "metadata": {
    "colab": {
     "base_uri": "https://localhost:8080/"
    },
    "id": "i4TtO1BqzziP",
    "outputId": "e06fbf04-2600-4ef5-d71e-2a79469edd94"
   },
   "outputs": [
    {
     "data": {
      "text/plain": [
       "[4.06,\n",
       " 4.1,\n",
       " 4.14,\n",
       " 4.15,\n",
       " 4.19,\n",
       " 4.2,\n",
       " 4.25,\n",
       " 4.3,\n",
       " 4.37,\n",
       " 4.4,\n",
       " 4.45,\n",
       " 4.5,\n",
       " 4.65,\n",
       " 4.7,\n",
       " 4.8,\n",
       " 4.9,\n",
       " 5.0,\n",
       " 5.2,\n",
       " 5.3,\n",
       " 5.5,\n",
       " 5.6,\n",
       " 5.8,\n",
       " 6.0,\n",
       " 8.0,\n",
       " 8.3,\n",
       " 10.3,\n",
       " 14.0,\n",
       " 20.0,\n",
       " 22.6,\n",
       " 24.0,\n",
       " 25.0,\n",
       " 26.0,\n",
       " 27.0,\n",
       " 27.5,\n",
       " 32.0,\n",
       " 100.0]"
      ]
     },
     "execution_count": 31,
     "metadata": {},
     "output_type": "execute_result"
    }
   ],
   "source": [
    "sorted(data.query('ceiling_height > 4')['ceiling_height'].unique())"
   ]
  },
  {
   "cell_type": "markdown",
   "metadata": {
    "id": "JDOINTeIzziP"
   },
   "source": [
    "Значения от 25 до 32 м скорее всего - опечатка, их можно поделить на 10, что я и сделаю:"
   ]
  },
  {
   "cell_type": "code",
   "execution_count": 32,
   "metadata": {
    "id": "Wyl6uxlZzziP"
   },
   "outputs": [],
   "source": [
    "cond = (data['ceiling_height'] >= 25) & (data['ceiling_height'] <= 32)\n",
    "data.loc[cond, 'ceiling_height'] = data['ceiling_height'] / 10"
   ]
  },
  {
   "cell_type": "markdown",
   "metadata": {
    "id": "ZN4hA8KkzziP"
   },
   "source": [
    "Заполняю пропуски по высоте потолков медианным значением:"
   ]
  },
  {
   "cell_type": "code",
   "execution_count": 33,
   "metadata": {
    "colab": {
     "base_uri": "https://localhost:8080/"
    },
    "id": "Bpfl7h9OzziP",
    "outputId": "fa920ce9-a4fc-4665-fa16-c22915138ff1"
   },
   "outputs": [
    {
     "data": {
      "text/plain": [
       "0"
      ]
     },
     "execution_count": 33,
     "metadata": {},
     "output_type": "execute_result"
    }
   ],
   "source": [
    "data['ceiling_height'] = data['ceiling_height'].fillna(data['ceiling_height'].median())\n",
    "# проверка заполнения пропусков\n",
    "data['ceiling_height'].isna().sum()"
   ]
  },
  {
   "cell_type": "markdown",
   "metadata": {
    "id": "yBvGnkANzziP"
   },
   "source": [
    "Оцениваю, сколько процентов составляют квартиры с высотой потолков более 4 м и менее 2,5 м."
   ]
  },
  {
   "cell_type": "code",
   "execution_count": 34,
   "metadata": {
    "colab": {
     "base_uri": "https://localhost:8080/"
    },
    "id": "doxqdGuYzziQ",
    "outputId": "09dcb8ca-7d30-4428-c8c7-26d6bcf2d5f7"
   },
   "outputs": [
    {
     "data": {
      "text/plain": [
       "0.23678646934460887"
      ]
     },
     "execution_count": 34,
     "metadata": {},
     "output_type": "execute_result"
    }
   ],
   "source": [
    "len(data.query('ceiling_height > 4'))/len(data)*100"
   ]
  },
  {
   "cell_type": "code",
   "execution_count": 35,
   "metadata": {
    "colab": {
     "base_uri": "https://localhost:8080/"
    },
    "id": "U53d6VT0zziQ",
    "outputId": "e5f6f3eb-0e54-41b1-d968-ffb2bbf885b2"
   },
   "outputs": [
    {
     "data": {
      "text/plain": [
       "0.3086680761099366"
      ]
     },
     "execution_count": 35,
     "metadata": {},
     "output_type": "execute_result"
    }
   ],
   "source": [
    "len(data.query('ceiling_height < 2.5'))/len(data)*100"
   ]
  },
  {
   "cell_type": "markdown",
   "metadata": {
    "id": "vaI5EJVpzziQ"
   },
   "source": [
    "Удаляю квартиры с выстоой потолков менее 2,5 м более 4 м, поскольку их меньше 1%."
   ]
  },
  {
   "cell_type": "code",
   "execution_count": 36,
   "metadata": {
    "id": "dEFPzVxDzziQ"
   },
   "outputs": [],
   "source": [
    "data = data.query('2.5 <= ceiling_height <= 4')"
   ]
  },
  {
   "cell_type": "markdown",
   "metadata": {
    "id": "tBor72b0zziQ"
   },
   "source": [
    "Проверяю как все отработало:"
   ]
  },
  {
   "cell_type": "code",
   "execution_count": 37,
   "metadata": {
    "colab": {
     "base_uri": "https://localhost:8080/"
    },
    "id": "V2f0D3kLAwb-",
    "outputId": "a6f98f57-4642-4351-c8a2-0a5ba6ae14ba"
   },
   "outputs": [
    {
     "data": {
      "text/plain": [
       "count    23521.000000\n",
       "mean         2.694254\n",
       "std          0.203809\n",
       "min          2.500000\n",
       "25%          2.600000\n",
       "50%          2.650000\n",
       "75%          2.700000\n",
       "max          4.000000\n",
       "Name: ceiling_height, dtype: float64"
      ]
     },
     "execution_count": 37,
     "metadata": {},
     "output_type": "execute_result"
    }
   ],
   "source": [
    "data['ceiling_height'].describe()"
   ]
  },
  {
   "cell_type": "markdown",
   "metadata": {
    "id": "EsypdBw7zziQ"
   },
   "source": [
    "#### Исследование столбца total_area (общая площадь)"
   ]
  },
  {
   "cell_type": "code",
   "execution_count": 38,
   "metadata": {
    "colab": {
     "base_uri": "https://localhost:8080/"
    },
    "id": "RqZFs1VPzziR",
    "outputId": "4cdbb586-65e5-4183-f9c2-e46277dd3d8c"
   },
   "outputs": [
    {
     "data": {
      "text/plain": [
       "count    23521.000000\n",
       "mean        60.191897\n",
       "std         35.076545\n",
       "min         12.000000\n",
       "25%         40.000000\n",
       "50%         52.000000\n",
       "75%         69.700000\n",
       "max        900.000000\n",
       "Name: total_area, dtype: float64"
      ]
     },
     "execution_count": 38,
     "metadata": {},
     "output_type": "execute_result"
    }
   ],
   "source": [
    "data['total_area'].describe()"
   ]
  },
  {
   "cell_type": "markdown",
   "metadata": {
    "id": "tlRZl-6OzziR"
   },
   "source": [
    "Площадь 12 м2 - реальный минимум, а вот 900 м2 - это выброс. Строю гистограмму по этому столбцу:"
   ]
  },
  {
   "cell_type": "code",
   "execution_count": 39,
   "metadata": {
    "colab": {
     "base_uri": "https://localhost:8080/",
     "height": 485
    },
    "id": "OObEx_plzziR",
    "outputId": "64049410-7b09-4af5-d24a-e8ffc37dc248"
   },
   "outputs": [
    {
     "data": {
      "image/png": "[encoded data removed]",
      "text/plain": [
       "<Figure size 360x360 with 1 Axes>"
      ]
     },
     "metadata": {
      "needs_background": "light"
     },
     "output_type": "display_data"
    }
   ],
   "source": [
    "data.hist('total_area', figsize=(5,5));"
   ]
  },
  {
   "cell_type": "markdown",
   "metadata": {
    "id": "9uPzZi-dzziR"
   },
   "source": [
    "Для просмотра распределения квартир от 12 до 200 м2 построю гистограмму:"
   ]
  },
  {
   "cell_type": "code",
   "execution_count": 40,
   "metadata": {
    "colab": {
     "base_uri": "https://localhost:8080/",
     "height": 485
    },
    "id": "MGHhH7a_zziR",
    "outputId": "70fcebb4-96e0-466c-eec5-5b0e29ac1702"
   },
   "outputs": [
    {
     "data": {
      "image/png": "[encoded data removed]",
      "text/plain": [
       "<Figure size 360x360 with 1 Axes>"
      ]
     },
     "metadata": {
      "needs_background": "light"
     },
     "output_type": "display_data"
    }
   ],
   "source": [
    "data.hist('total_area', range=(12, 200), figsize=(5,5), color='yellow');"
   ]
  },
  {
   "cell_type": "raw",
   "metadata": {
    "id": "CfErBwwWzziR"
   },
   "source": [
    "Квартиры свыше 650 м2 вряд-ли существуют. В реальных объявлениях 600 м2 это пентхаусы."
   ]
  },
  {
   "cell_type": "markdown",
   "metadata": {
    "id": "l4XK4zLYzziR"
   },
   "source": [
    "Исключаю квартиры общей площадью более 650 м2 из данных:"
   ]
  },
  {
   "cell_type": "code",
   "execution_count": 41,
   "metadata": {
    "id": "h68id6dezziU"
   },
   "outputs": [],
   "source": [
    "data = data.query('total_area < 650')"
   ]
  },
  {
   "cell_type": "markdown",
   "metadata": {
    "id": "wGFKGV6rzziU"
   },
   "source": [
    "#### Исследование столбца living_area (жилая площадь)"
   ]
  },
  {
   "cell_type": "markdown",
   "metadata": {
    "id": "gAB7tUUjzziU"
   },
   "source": [
    "Данные в этом столбце все еще содержат пропуски:"
   ]
  },
  {
   "cell_type": "code",
   "execution_count": 42,
   "metadata": {
    "colab": {
     "base_uri": "https://localhost:8080/"
    },
    "id": "w6U2YEoIzziU",
    "outputId": "ee351b6b-df0d-401e-d958-50151f64c77e"
   },
   "outputs": [
    {
     "data": {
      "text/plain": [
       "1886"
      ]
     },
     "execution_count": 42,
     "metadata": {},
     "output_type": "execute_result"
    }
   ],
   "source": [
    "data['living_area'].isna().sum()"
   ]
  },
  {
   "cell_type": "markdown",
   "metadata": {
    "id": "M9RK1aWfzziU"
   },
   "source": [
    "Строю гистограмму для столбца:"
   ]
  },
  {
   "cell_type": "code",
   "execution_count": 43,
   "metadata": {
    "colab": {
     "base_uri": "https://localhost:8080/",
     "height": 485
    },
    "id": "n2_y9ZzhzziU",
    "outputId": "517b6b5d-658c-450b-e2e0-a766b317442d"
   },
   "outputs": [
    {
     "data": {
      "image/png": "[encoded data removed]",
      "text/plain": [
       "<Figure size 360x360 with 1 Axes>"
      ]
     },
     "metadata": {
      "needs_background": "light"
     },
     "output_type": "display_data"
    }
   ],
   "source": [
    "data.hist('living_area', figsize=(5,5), color='silver');"
   ]
  },
  {
   "cell_type": "code",
   "execution_count": 44,
   "metadata": {
    "colab": {
     "base_uri": "https://localhost:8080/"
    },
    "id": "WbpDAJOEzziU",
    "outputId": "f7dd73f9-81f2-4c3b-baa9-76aa1b22f28d"
   },
   "outputs": [
    {
     "data": {
      "text/plain": [
       "count    21634.000000\n",
       "mean        34.337789\n",
       "std         21.524758\n",
       "min          2.000000\n",
       "25%         18.600000\n",
       "50%         30.000000\n",
       "75%         42.200000\n",
       "max        409.000000\n",
       "Name: living_area, dtype: float64"
      ]
     },
     "execution_count": 44,
     "metadata": {},
     "output_type": "execute_result"
    }
   ],
   "source": [
    "data['living_area'].describe()"
   ]
  },
  {
   "cell_type": "markdown",
   "metadata": {
    "id": "AlGEXqEazziV"
   },
   "source": [
    "Выведу график 'scatter plot' для визуализации зависимости между жилой и общей площадью."
   ]
  },
  {
   "cell_type": "code",
   "execution_count": 45,
   "metadata": {
    "colab": {
     "base_uri": "https://localhost:8080/",
     "height": 467
    },
    "id": "5CKNyNcdzziV",
    "outputId": "0429cbd2-715b-46a1-fa23-2cd72debd4bc"
   },
   "outputs": [
    {
     "data": {
      "image/png": "[encoded data removed]",
      "text/plain": [
       "<Figure size 432x288 with 1 Axes>"
      ]
     },
     "metadata": {
      "needs_background": "light"
     },
     "output_type": "display_data"
    }
   ],
   "source": [
    "data.plot(x='total_area', y='living_area', kind='scatter', color='cyan');"
   ]
  },
  {
   "cell_type": "markdown",
   "metadata": {
    "id": "lFKKBy0rzziV"
   },
   "source": [
    "Квартиры с общей площадью 80 м2 и жилой до 20 м2 явно странные."
   ]
  },
  {
   "cell_type": "markdown",
   "metadata": {
    "id": "JKvjCuYl-Opb"
   },
   "source": [
    "Видно, что есть линейная корреляция. Вывожу коэффициент корреляции:"
   ]
  },
  {
   "cell_type": "code",
   "execution_count": 46,
   "metadata": {
    "colab": {
     "base_uri": "https://localhost:8080/"
    },
    "id": "A55I7yov_O0a",
    "outputId": "6922f5f5-64ee-49c2-f602-e555e5a20c06"
   },
   "outputs": [
    {
     "name": "stdout",
     "output_type": "stream",
     "text": [
      "0.94\n"
     ]
    }
   ],
   "source": [
    "cor_liv_vs_tot = (data['living_area'].corr(data['total_area'])).round(2)\n",
    "print(cor_liv_vs_tot)"
   ]
  },
  {
   "cell_type": "markdown",
   "metadata": {
    "id": "XzDV0ixH_sQc"
   },
   "source": [
    "Коэффициент корреляции близок к 1. Использую медианное соотношение жилой плаощади и общей для заполнения пропусков."
   ]
  },
  {
   "cell_type": "markdown",
   "metadata": {
    "id": "IhKv1vA3zziV"
   },
   "source": [
    "Введу новый столбец living_vs_total_area как отношение жилой площади к общей и запрошу описание:"
   ]
  },
  {
   "cell_type": "code",
   "execution_count": 47,
   "metadata": {
    "colab": {
     "base_uri": "https://localhost:8080/"
    },
    "id": "_mRxrtrhzziV",
    "outputId": "e5c2227c-c174-4846-8465-7c03002354c7"
   },
   "outputs": [
    {
     "data": {
      "text/plain": [
       "count    21634.000000\n",
       "mean        56.452030\n",
       "std         10.534238\n",
       "min          2.160000\n",
       "25%         49.492500\n",
       "50%         56.760000\n",
       "75%         63.767500\n",
       "max        100.000000\n",
       "Name: living_vs_total_area, dtype: float64"
      ]
     },
     "execution_count": 47,
     "metadata": {},
     "output_type": "execute_result"
    }
   ],
   "source": [
    "data['living_vs_total_area'] = (data['living_area'] / data['total_area'] * 100).round(2)\n",
    "data['living_vs_total_area'].describe()"
   ]
  },
  {
   "cell_type": "markdown",
   "metadata": {
    "id": "vxpQ3kwfzziV"
   },
   "source": [
    "Первый квартиль составляет 49,5%. Логичное соотношение жилой площади к общей от 45% до 80%."
   ]
  },
  {
   "cell_type": "markdown",
   "metadata": {
    "id": "IdLHGtG7aCai"
   },
   "source": [
    "Заполню пропуски данных living area медианным значением отношения жилой площади к общей, умноженным на общую."
   ]
  },
  {
   "cell_type": "code",
   "execution_count": 48,
   "metadata": {
    "colab": {
     "base_uri": "https://localhost:8080/"
    },
    "id": "7zkA9WQMaS7N",
    "outputId": "ebcbb659-b385-4142-8ee6-79cbd8eb5c5d"
   },
   "outputs": [
    {
     "data": {
      "text/plain": [
       "0"
      ]
     },
     "execution_count": 48,
     "metadata": {},
     "output_type": "execute_result"
    }
   ],
   "source": [
    "data.loc[data['living_area'].isna(), 'living_area'] = data['total_area'] * data['living_vs_total_area'].median()\n",
    "data['living_area'].isna().sum()"
   ]
  },
  {
   "cell_type": "markdown",
   "metadata": {
    "id": "JEg-cHVSexmf"
   },
   "source": [
    "Убираю из рассмотрения квартиры с неверно заполненной жилой площадью."
   ]
  },
  {
   "cell_type": "code",
   "execution_count": 49,
   "metadata": {
    "id": "b_QDV4LfzziV"
   },
   "outputs": [],
   "source": [
    "data = data.query('45 <= living_vs_total_area <= 80')"
   ]
  },
  {
   "cell_type": "markdown",
   "metadata": {
    "id": "FfWxKOJ-iywt"
   },
   "source": [
    "#### Исследую столбец kitchen_area (площадь кухни)"
   ]
  },
  {
   "cell_type": "markdown",
   "metadata": {
    "id": "UxDSDTM8kDMl"
   },
   "source": [
    "Столбец содержит пропуски, которые будут заполнены. Всего пропусков:"
   ]
  },
  {
   "cell_type": "code",
   "execution_count": 50,
   "metadata": {
    "colab": {
     "base_uri": "https://localhost:8080/"
    },
    "id": "pgf2AAX7jjla",
    "outputId": "86617802-ec95-419a-d954-70db7797eee5"
   },
   "outputs": [
    {
     "data": {
      "text/plain": [
       "675"
      ]
     },
     "execution_count": 50,
     "metadata": {},
     "output_type": "execute_result"
    }
   ],
   "source": [
    "data['kitchen_area'].isna().sum()"
   ]
  },
  {
   "cell_type": "code",
   "execution_count": 51,
   "metadata": {
    "colab": {
     "base_uri": "https://localhost:8080/",
     "height": 469
    },
    "id": "g9O1HEX5kR6Q",
    "outputId": "25635ca2-3191-436d-e8cf-30adef6293b9"
   },
   "outputs": [
    {
     "data": {
      "image/png": "[encoded data removed]",
      "text/plain": [
       "<Figure size 432x288 with 1 Axes>"
      ]
     },
     "metadata": {
      "needs_background": "light"
     },
     "output_type": "display_data"
    }
   ],
   "source": [
    "data.hist('kitchen_area', bins=20, color='blue');"
   ]
  },
  {
   "cell_type": "code",
   "execution_count": 52,
   "metadata": {
    "colab": {
     "base_uri": "https://localhost:8080/"
    },
    "id": "kFDtusPVjY7I",
    "outputId": "74a9054c-11b5-4e02-9ab9-c249d200fd26"
   },
   "outputs": [
    {
     "data": {
      "text/plain": [
       "count    17621.000000\n",
       "mean         9.821964\n",
       "std          4.817826\n",
       "min          1.300000\n",
       "25%          7.000000\n",
       "50%          8.800000\n",
       "75%         11.000000\n",
       "max        100.700000\n",
       "Name: kitchen_area, dtype: float64"
      ]
     },
     "execution_count": 52,
     "metadata": {},
     "output_type": "execute_result"
    }
   ],
   "source": [
    "data['kitchen_area'].describe()"
   ]
  },
  {
   "cell_type": "markdown",
   "metadata": {
    "id": "ou7wkx0JB7y9"
   },
   "source": [
    "Введу столбец отношения площади кухни к общей площади."
   ]
  },
  {
   "cell_type": "code",
   "execution_count": 53,
   "metadata": {
    "colab": {
     "base_uri": "https://localhost:8080/"
    },
    "id": "hxxIyKBaZndc",
    "outputId": "25ccdfa7-413d-4751-ae46-6459b37e95a1"
   },
   "outputs": [
    {
     "name": "stderr",
     "output_type": "stream",
     "text": [
      "/tmp/ipykernel_153/3285624792.py:1: SettingWithCopyWarning: \n",
      "A value is trying to be set on a copy of a slice from a DataFrame.\n",
      "Try using .loc[row_indexer,col_indexer] = value instead\n",
      "\n",
      "See the caveats in the documentation: https://pandas.pydata.org/pandas-docs/stable/user_guide/indexing.html#returning-a-view-versus-a-copy\n",
      "  data['kit_vs_tot'] = (data['kitchen_area'] / data['total_area'])\n"
     ]
    }
   ],
   "source": [
    "data['kit_vs_tot'] = (data['kitchen_area'] / data['total_area'])"
   ]
  },
  {
   "cell_type": "code",
   "execution_count": 54,
   "metadata": {
    "colab": {
     "base_uri": "https://localhost:8080/"
    },
    "id": "bFTQTJaXc09y",
    "outputId": "a4eab074-3f51-4024-c5bd-fe5318bd7528"
   },
   "outputs": [
    {
     "data": {
      "text/plain": [
       "count    17621.000000\n",
       "mean         0.170826\n",
       "std          0.057395\n",
       "min          0.025381\n",
       "25%          0.128571\n",
       "50%          0.159910\n",
       "75%          0.202128\n",
       "max          0.787879\n",
       "Name: kit_vs_tot, dtype: float64"
      ]
     },
     "execution_count": 54,
     "metadata": {},
     "output_type": "execute_result"
    }
   ],
   "source": [
    "data['kit_vs_tot'].describe()"
   ]
  },
  {
   "cell_type": "markdown",
   "metadata": {
    "id": "m8nRyiGKds0J"
   },
   "source": [
    "Квартиры с кухнями более 20% площади это скорее всего ошибка в данных. Возможно перепутали с жилой площадью. Заменяю пропуски и значения нереальной площади кухонь медианным значением."
   ]
  },
  {
   "cell_type": "code",
   "execution_count": 55,
   "metadata": {
    "colab": {
     "base_uri": "https://localhost:8080/"
    },
    "id": "G3PAY8dNa7Mf",
    "outputId": "6b9a112e-240d-43e6-8b6d-7901c9b3a79c"
   },
   "outputs": [
    {
     "name": "stderr",
     "output_type": "stream",
     "text": [
      "/opt/conda/lib/python3.9/site-packages/pandas/core/indexing.py:1676: SettingWithCopyWarning: \n",
      "A value is trying to be set on a copy of a slice from a DataFrame.\n",
      "Try using .loc[row_indexer,col_indexer] = value instead\n",
      "\n",
      "See the caveats in the documentation: https://pandas.pydata.org/pandas-docs/stable/user_guide/indexing.html#returning-a-view-versus-a-copy\n",
      "  self._setitem_single_column(ilocs[0], value, pi)\n"
     ]
    },
    {
     "data": {
      "text/plain": [
       "0"
      ]
     },
     "execution_count": 55,
     "metadata": {},
     "output_type": "execute_result"
    }
   ],
   "source": [
    "cond = data['kitchen_area'].isna() | (data['kit_vs_tot'] > 0.2)\n",
    "data.loc[cond, 'kitchen_area'] = data.loc[cond, 'total_area'] * data['kit_vs_tot'].median()\n",
    "data['kitchen_area'].isna().sum()"
   ]
  },
  {
   "cell_type": "markdown",
   "metadata": {
    "id": "AP7kWNC4gpy5"
   },
   "source": [
    "#### Исслодование столбца **rooms** (количество комнат)"
   ]
  },
  {
   "cell_type": "markdown",
   "metadata": {
    "id": "HlJGLWYJh0Qy"
   },
   "source": [
    "Строю гистограмму для столбца rooms."
   ]
  },
  {
   "cell_type": "code",
   "execution_count": 56,
   "metadata": {
    "colab": {
     "base_uri": "https://localhost:8080/",
     "height": 485
    },
    "id": "ybeiNm42g1S9",
    "outputId": "a6a28dd4-b20f-466e-9751-e816ef55fc77"
   },
   "outputs": [
    {
     "data": {
      "image/png": "[encoded data removed]",
      "text/plain": [
       "<Figure size 360x360 with 1 Axes>"
      ]
     },
     "metadata": {
      "needs_background": "light"
     },
     "output_type": "display_data"
    }
   ],
   "source": [
    "data.hist('rooms', bins=20, color='green', figsize=(5,5));"
   ]
  },
  {
   "cell_type": "markdown",
   "metadata": {
    "id": "i-eaxEWgh6Xh"
   },
   "source": [
    "В квартире не может быть 0 комнат, хоть одна да есть. Если квартиры с 0 комнатами - это квартиры студии или квартиры со свободной планировкой, то для них будет одна комната."
   ]
  },
  {
   "cell_type": "code",
   "execution_count": 57,
   "metadata": {
    "colab": {
     "base_uri": "https://localhost:8080/"
    },
    "id": "fQKCV_7xtBek",
    "outputId": "33783bce-7c23-46ce-e1fb-08a3077781e9"
   },
   "outputs": [
    {
     "data": {
      "text/plain": [
       "157"
      ]
     },
     "execution_count": 57,
     "metadata": {},
     "output_type": "execute_result"
    }
   ],
   "source": [
    "len(data.query('rooms == 0'))"
   ]
  },
  {
   "cell_type": "code",
   "execution_count": 58,
   "metadata": {
    "colab": {
     "base_uri": "https://localhost:8080/"
    },
    "id": "Hyv40i91iUTf",
    "outputId": "59a1b1ba-0ad7-4c3f-cc5d-1f186cd8e68e"
   },
   "outputs": [
    {
     "data": {
      "text/plain": [
       "157"
      ]
     },
     "execution_count": 58,
     "metadata": {},
     "output_type": "execute_result"
    }
   ],
   "source": [
    "len(data.query('rooms == 0 and (studio or open_plan)'))"
   ]
  },
  {
   "cell_type": "markdown",
   "metadata": {
    "id": "VjE2fb1PtSxG"
   },
   "source": [
    "Гипотеза подтвердилась. Заменяю значение 0 на 1:"
   ]
  },
  {
   "cell_type": "code",
   "execution_count": 59,
   "metadata": {
    "colab": {
     "base_uri": "https://localhost:8080/"
    },
    "id": "BAkYSPSbtR8P",
    "outputId": "0605f21a-c13e-41bf-d566-8f72aeefba55"
   },
   "outputs": [
    {
     "name": "stderr",
     "output_type": "stream",
     "text": [
      "/tmp/ipykernel_153/1185422388.py:1: SettingWithCopyWarning: \n",
      "A value is trying to be set on a copy of a slice from a DataFrame.\n",
      "Try using .loc[row_indexer,col_indexer] = value instead\n",
      "\n",
      "See the caveats in the documentation: https://pandas.pydata.org/pandas-docs/stable/user_guide/indexing.html#returning-a-view-versus-a-copy\n",
      "  data['rooms'] = data['rooms'].where(data['rooms'] != 0, 1)\n"
     ]
    },
    {
     "data": {
      "text/plain": [
       "1"
      ]
     },
     "execution_count": 59,
     "metadata": {},
     "output_type": "execute_result"
    }
   ],
   "source": [
    "data['rooms'] = data['rooms'].where(data['rooms'] != 0, 1)\n",
    "data['rooms'].min()"
   ]
  },
  {
   "cell_type": "code",
   "execution_count": 60,
   "metadata": {},
   "outputs": [
    {
     "data": {
      "text/plain": [
       "count    18296.000000\n",
       "mean         2.209117\n",
       "std          1.055961\n",
       "min          1.000000\n",
       "25%          1.000000\n",
       "50%          2.000000\n",
       "75%          3.000000\n",
       "max         19.000000\n",
       "Name: rooms, dtype: float64"
      ]
     },
     "execution_count": 60,
     "metadata": {},
     "output_type": "execute_result"
    }
   ],
   "source": [
    "data['rooms'].describe()"
   ]
  },
  {
   "cell_type": "markdown",
   "metadata": {},
   "source": [
    "<div class=\"alert alert-info\">\n",
    "<b>Комментарий студента:</b>\n",
    "<br>Убираю аномалии в столбце. 19 комнат выглядит многовато.\n",
    "</div>"
   ]
  },
  {
   "cell_type": "code",
   "execution_count": 61,
   "metadata": {},
   "outputs": [
    {
     "data": {
      "text/html": [
       "<div>\n",
       "<style scoped>\n",
       "    .dataframe tbody tr th:only-of-type {\n",
       "        vertical-align: middle;\n",
       "    }\n",
       "\n",
       "    .dataframe tbody tr th {\n",
       "        vertical-align: top;\n",
       "    }\n",
       "\n",
       "    .dataframe thead th {\n",
       "        text-align: right;\n",
       "    }\n",
       "</style>\n",
       "<table border=\"1\" class=\"dataframe\">\n",
       "  <thead>\n",
       "    <tr style=\"text-align: right;\">\n",
       "      <th></th>\n",
       "      <th>rooms</th>\n",
       "      <th>total_area</th>\n",
       "    </tr>\n",
       "  </thead>\n",
       "  <tbody>\n",
       "    <tr>\n",
       "      <th>648</th>\n",
       "      <td>11</td>\n",
       "      <td>183.7</td>\n",
       "    </tr>\n",
       "    <tr>\n",
       "      <th>9688</th>\n",
       "      <td>11</td>\n",
       "      <td>194.1</td>\n",
       "    </tr>\n",
       "    <tr>\n",
       "      <th>866</th>\n",
       "      <td>14</td>\n",
       "      <td>363.0</td>\n",
       "    </tr>\n",
       "    <tr>\n",
       "      <th>20829</th>\n",
       "      <td>14</td>\n",
       "      <td>245.4</td>\n",
       "    </tr>\n",
       "    <tr>\n",
       "      <th>5358</th>\n",
       "      <td>15</td>\n",
       "      <td>590.0</td>\n",
       "    </tr>\n",
       "    <tr>\n",
       "      <th>18848</th>\n",
       "      <td>16</td>\n",
       "      <td>270.0</td>\n",
       "    </tr>\n",
       "    <tr>\n",
       "      <th>14498</th>\n",
       "      <td>19</td>\n",
       "      <td>374.6</td>\n",
       "    </tr>\n",
       "  </tbody>\n",
       "</table>\n",
       "</div>"
      ],
      "text/plain": [
       "       rooms  total_area\n",
       "648       11       183.7\n",
       "9688      11       194.1\n",
       "866       14       363.0\n",
       "20829     14       245.4\n",
       "5358      15       590.0\n",
       "18848     16       270.0\n",
       "14498     19       374.6"
      ]
     },
     "execution_count": 61,
     "metadata": {},
     "output_type": "execute_result"
    }
   ],
   "source": [
    "data.loc[data['rooms'] > 10, ['rooms', 'total_area']].sort_values(by='rooms')"
   ]
  },
  {
   "cell_type": "markdown",
   "metadata": {},
   "source": [
    "16 комнат для 270 м2 и 19 комнат для 375 м2 много - похоже на выброс. Удаляю эти данные:"
   ]
  },
  {
   "cell_type": "code",
   "execution_count": 62,
   "metadata": {},
   "outputs": [],
   "source": [
    "data = data.query('rooms < 16')"
   ]
  },
  {
   "cell_type": "markdown",
   "metadata": {
    "id": "C5WaJGQ5vI3G"
   },
   "source": [
    "#### Исследование столбца last_price (цена объекта)"
   ]
  },
  {
   "cell_type": "code",
   "execution_count": 63,
   "metadata": {
    "colab": {
     "base_uri": "https://localhost:8080/",
     "height": 503
    },
    "id": "M07bp55xyWST",
    "outputId": "0d852c4e-a45c-4ad2-ee4b-562641d507ab"
   },
   "outputs": [
    {
     "data": {
      "image/png": "[encoded data removed]",
      "text/plain": [
       "<Figure size 360x360 with 1 Axes>"
      ]
     },
     "metadata": {
      "needs_background": "light"
     },
     "output_type": "display_data"
    }
   ],
   "source": [
    "data.hist('last_price', bins=20, figsize=(5,5), color='orange');"
   ]
  },
  {
   "cell_type": "code",
   "execution_count": 64,
   "metadata": {
    "colab": {
     "base_uri": "https://localhost:8080/"
    },
    "id": "BbFw-tOmzfC0",
    "outputId": "667fcb17-dab8-4fdc-803e-82ca00b5c613"
   },
   "outputs": [
    {
     "data": {
      "text/plain": [
       "count    1.829400e+04\n",
       "mean     6.399258e+06\n",
       "std      1.014061e+07\n",
       "min      4.300000e+05\n",
       "25%      3.450000e+06\n",
       "50%      4.700000e+06\n",
       "75%      6.850000e+06\n",
       "max      7.630000e+08\n",
       "Name: last_price, dtype: float64"
      ]
     },
     "execution_count": 64,
     "metadata": {},
     "output_type": "execute_result"
    }
   ],
   "source": [
    "data['last_price'].describe()"
   ]
  },
  {
   "cell_type": "markdown",
   "metadata": {
    "id": "sZmdXYuk0C_j"
   },
   "source": [
    "Квартира 763 млн рублей похожа на выброс."
   ]
  },
  {
   "cell_type": "markdown",
   "metadata": {
    "id": "4aXzObmPDAQt"
   },
   "source": [
    "Построю график значений цены от общей площади:"
   ]
  },
  {
   "cell_type": "code",
   "execution_count": 65,
   "metadata": {
    "colab": {
     "base_uri": "https://localhost:8080/",
     "height": 497
    },
    "id": "M21nFRil0Ngu",
    "outputId": "3ef96528-a543-4196-ea7b-8a9c877a436f"
   },
   "outputs": [
    {
     "data": {
      "image/png": "[encoded data removed]",
      "text/plain": [
       "<Figure size 360x360 with 1 Axes>"
      ]
     },
     "metadata": {
      "needs_background": "light"
     },
     "output_type": "display_data"
    }
   ],
   "source": [
    "data.plot(y='last_price', x='total_area', kind='scatter', figsize=(5,5));"
   ]
  },
  {
   "cell_type": "markdown",
   "metadata": {
    "id": "FA4tHtqq8S2n"
   },
   "source": [
    "Построю scatter plot по цене в зависимости от общей площади и от расстояния до центра:"
   ]
  },
  {
   "cell_type": "code",
   "execution_count": 66,
   "metadata": {
    "colab": {
     "base_uri": "https://localhost:8080/",
     "height": 497
    },
    "id": "WucPQL8X3czv",
    "outputId": "112d3a2d-8fa5-4aa8-cf80-6bf397279e50"
   },
   "outputs": [
    {
     "data": {
      "image/png": "[encoded data removed]",
      "text/plain": [
       "<Figure size 360x360 with 1 Axes>"
      ]
     },
     "metadata": {
      "needs_background": "light"
     },
     "output_type": "display_data"
    }
   ],
   "source": [
    "data.query('locality_name_short == \"Санкт-Петербург\"').plot(\n",
    "    y='last_price', x='city_cent_near_km', kind='scatter', figsize=(5,5));\n"
   ]
  },
  {
   "cell_type": "markdown",
   "metadata": {
    "id": "AAEGiuBK5GDO"
   },
   "source": [
    "Ни по близости к центру, ни по площади квартира за 763 млн. не оправдывает свою цену и является явным выбросом. Возможно ошибка в цене - она в 10 раз завысилась. Цена свше 300 млн. на квртиру тоже великовата. Исключу квартиры с щавышенной стоимостью."
   ]
  },
  {
   "cell_type": "code",
   "execution_count": 67,
   "metadata": {
    "colab": {
     "base_uri": "https://localhost:8080/"
    },
    "id": "Aznj0iQY6D2s",
    "outputId": "9d847dc3-c43e-47ca-e795-6d1c9d88faa7"
   },
   "outputs": [
    {
     "data": {
      "text/plain": [
       "245000000.0"
      ]
     },
     "execution_count": 67,
     "metadata": {},
     "output_type": "execute_result"
    }
   ],
   "source": [
    "data = data[data['last_price'] < 3e8]\n",
    "data['last_price'].max()"
   ]
  },
  {
   "cell_type": "markdown",
   "metadata": {
    "id": "WLk3KhNJ6lpP"
   },
   "source": [
    "#### Изучение параметра floor_type (тип этажа)"
   ]
  },
  {
   "cell_type": "code",
   "execution_count": 68,
   "metadata": {
    "colab": {
     "base_uri": "https://localhost:8080/",
     "height": 447
    },
    "id": "XCJPib-t6vg1",
    "outputId": "39d0255e-3c04-4001-d64a-b4bcc8b99ef9"
   },
   "outputs": [
    {
     "data": {
      "image/png": "[encoded data removed]",
      "text/plain": [
       "<Figure size 432x288 with 1 Axes>"
      ]
     },
     "metadata": {
      "needs_background": "light"
     },
     "output_type": "display_data"
    }
   ],
   "source": [
    "data['floor_type'].hist();"
   ]
  },
  {
   "cell_type": "markdown",
   "metadata": {
    "id": "v64t7C0m_FfI"
   },
   "source": [
    "Нет выбросов и аномалий, все значения заполнены."
   ]
  },
  {
   "cell_type": "markdown",
   "metadata": {
    "id": "8-tMrW1yABKT"
   },
   "source": [
    "#### Изучение столбца floors_total (общее количество этаже)"
   ]
  },
  {
   "cell_type": "code",
   "execution_count": 69,
   "metadata": {
    "colab": {
     "base_uri": "https://localhost:8080/",
     "height": 485
    },
    "id": "HDsZm6SW_FBw",
    "outputId": "ab864e6a-0d3e-4c25-839e-15427c9f5847"
   },
   "outputs": [
    {
     "data": {
      "image/png": "[encoded data removed]",
      "text/plain": [
       "<Figure size 360x360 with 1 Axes>"
      ]
     },
     "metadata": {
      "needs_background": "light"
     },
     "output_type": "display_data"
    }
   ],
   "source": [
    "data.hist('floors_total', bins=20, figsize=(5, 5));"
   ]
  },
  {
   "cell_type": "code",
   "execution_count": 70,
   "metadata": {
    "colab": {
     "base_uri": "https://localhost:8080/"
    },
    "id": "uSduen9GArXD",
    "outputId": "9cbfee65-3043-4889-d880-a47df59ea5c5"
   },
   "outputs": [
    {
     "data": {
      "text/plain": [
       "count    18291.000000\n",
       "mean        10.017276\n",
       "std          6.217264\n",
       "min          1.000000\n",
       "25%          5.000000\n",
       "50%          9.000000\n",
       "75%         13.000000\n",
       "max         60.000000\n",
       "Name: floors_total, dtype: float64"
      ]
     },
     "execution_count": 70,
     "metadata": {},
     "output_type": "execute_result"
    }
   ],
   "source": [
    "data['floors_total'].describe()"
   ]
  },
  {
   "cell_type": "markdown",
   "metadata": {
    "id": "QnmyagqHBXhA"
   },
   "source": [
    "Самый высокий жилой комплекс Санкт-Петербурга «Князь Александр Невский» имеет 37 этажей. Все что было бы выше - явный выброс."
   ]
  },
  {
   "cell_type": "markdown",
   "metadata": {
    "id": "3V8NsPPoHQKf"
   },
   "source": [
    "#### Изучение столбца cityCenters_nearest (расстояние до центра города в метрах)"
   ]
  },
  {
   "cell_type": "code",
   "execution_count": 71,
   "metadata": {
    "colab": {
     "base_uri": "https://localhost:8080/"
    },
    "id": "g8oZkwmJE3Mm",
    "outputId": "0001047e-ec40-4ece-e181-d8b1c090de9b"
   },
   "outputs": [
    {
     "data": {
      "text/plain": [
       "count    18291.000000\n",
       "mean     11096.291947\n",
       "std       9813.436493\n",
       "min          0.000000\n",
       "25%       2815.500000\n",
       "50%      11393.000000\n",
       "75%      15181.500000\n",
       "max      65968.000000\n",
       "Name: cityCenters_nearest, dtype: float64"
      ]
     },
     "execution_count": 71,
     "metadata": {},
     "output_type": "execute_result"
    }
   ],
   "source": [
    "data['cityCenters_nearest'].describe()"
   ]
  },
  {
   "cell_type": "code",
   "execution_count": 72,
   "metadata": {
    "colab": {
     "base_uri": "https://localhost:8080/",
     "height": 469
    },
    "id": "pksJoHfyFGa8",
    "outputId": "d660c195-ac5b-4786-b13f-f7fd2a227dc6"
   },
   "outputs": [
    {
     "data": {
      "image/png": "[encoded data removed]",
      "text/plain": [
       "<Figure size 432x288 with 1 Axes>"
      ]
     },
     "metadata": {
      "needs_background": "light"
     },
     "output_type": "display_data"
    }
   ],
   "source": [
    "data.hist('cityCenters_nearest', bins=20);"
   ]
  },
  {
   "cell_type": "markdown",
   "metadata": {
    "id": "ybzdL-Zfxdne"
   },
   "source": [
    "Самые частые квартиры в центре города. Но правильнее было бы называть этот параметр расстоянием до центра населенного пункта. Это тоже нужно поместить в баг репорт."
   ]
  },
  {
   "cell_type": "markdown",
   "metadata": {
    "id": "5vKvpO0s_oJ4"
   },
   "source": [
    "#### Исследование столбца parks_nearest (расстояние до ближайшего парка)"
   ]
  },
  {
   "cell_type": "code",
   "execution_count": 73,
   "metadata": {
    "colab": {
     "base_uri": "https://localhost:8080/"
    },
    "id": "50jvg_A8IqNs",
    "outputId": "31241c35-92be-4680-cfdb-41b2cb72bdbd"
   },
   "outputs": [
    {
     "data": {
      "text/plain": [
       "count    6396.000000\n",
       "mean      477.174484\n",
       "std       316.264241\n",
       "min         1.000000\n",
       "25%       287.000000\n",
       "50%       448.000000\n",
       "75%       604.000000\n",
       "max      3190.000000\n",
       "Name: parks_nearest, dtype: float64"
      ]
     },
     "execution_count": 73,
     "metadata": {},
     "output_type": "execute_result"
    }
   ],
   "source": [
    "data['parks_nearest'].describe()"
   ]
  },
  {
   "cell_type": "markdown",
   "metadata": {
    "id": "kKoJWpw_0Gm6"
   },
   "source": [
    "Строю гистограмму для этого столбца:"
   ]
  },
  {
   "cell_type": "code",
   "execution_count": 74,
   "metadata": {
    "colab": {
     "base_uri": "https://localhost:8080/",
     "height": 469
    },
    "id": "UHsHcl6l0QgZ",
    "outputId": "1bda7944-a823-4b3b-8dd6-22218a4ab10d"
   },
   "outputs": [
    {
     "data": {
      "image/png": "[encoded data removed]",
      "text/plain": [
       "<Figure size 432x288 with 1 Axes>"
      ]
     },
     "metadata": {
      "needs_background": "light"
     },
     "output_type": "display_data"
    }
   ],
   "source": [
    "data.hist('parks_nearest', bins=20);"
   ]
  },
  {
   "cell_type": "markdown",
   "metadata": {
    "id": "QR6B8iFTM9ML"
   },
   "source": [
    "Значение 3190 является максимальным. Похоже на выброс."
   ]
  },
  {
   "cell_type": "markdown",
   "metadata": {},
   "source": [
    "<div class=\"alert alert-success\">\n",
    "<b>✔️ Комментарий ревьюера v1:</b> \n",
    "<br>Ты корректно подбираешь основные диапазоны, а также верно читаешь графики! Диапазоны для аномальных значений подобраны и удалены тоже верно!\n",
    "</div>"
   ]
  },
  {
   "cell_type": "markdown",
   "metadata": {},
   "source": [
    "<div class=\"alert alert-warning\">\n",
    "<b>⚠️ Комментарий ревьюера v1:</b> \n",
    "<br>Ещё тут можно убрать аномалии в столбце rooms\n",
    "</div>"
   ]
  },
  {
   "cell_type": "markdown",
   "metadata": {
    "id": "Iog9ZeDSdMEm"
   },
   "source": [
    "### Изучаю как быстро продавались квартиры"
   ]
  },
  {
   "cell_type": "code",
   "execution_count": 75,
   "metadata": {
    "colab": {
     "base_uri": "https://localhost:8080/"
    },
    "id": "jd1kh4642CVZ",
    "outputId": "d939f51e-ce1c-4d0e-f377-b2391198bef0"
   },
   "outputs": [
    {
     "data": {
      "text/plain": [
       "count    15713.000000\n",
       "mean       185.001782\n",
       "std        221.888416\n",
       "min          1.000000\n",
       "25%         44.000000\n",
       "50%        101.000000\n",
       "75%        239.000000\n",
       "max       1580.000000\n",
       "Name: days_exposition, dtype: float64"
      ]
     },
     "execution_count": 75,
     "metadata": {},
     "output_type": "execute_result"
    }
   ],
   "source": [
    "data['days_exposition'].describe()"
   ]
  },
  {
   "cell_type": "code",
   "execution_count": 76,
   "metadata": {
    "colab": {
     "base_uri": "https://localhost:8080/",
     "height": 469
    },
    "id": "Lq7oTBAC1osl",
    "outputId": "43e91073-0cb7-4b13-ee8e-baef748bb168"
   },
   "outputs": [
    {
     "data": {
      "image/png": "[encoded data removed]",
      "text/plain": [
       "<Figure size 720x720 with 1 Axes>"
      ]
     },
     "metadata": {
      "needs_background": "light"
     },
     "output_type": "display_data"
    }
   ],
   "source": [
    "data.hist('days_exposition', bins=100, color='yellow', figsize=(10, 10));"
   ]
  },
  {
   "cell_type": "markdown",
   "metadata": {
    "id": "EaUS6SnqEvzQ"
   },
   "source": [
    "График похож на распределение Пуассона, но имеет локальные пики. Построю гистограмму с участком от 1 до 150 дней:"
   ]
  },
  {
   "cell_type": "code",
   "execution_count": 77,
   "metadata": {
    "colab": {
     "base_uri": "https://localhost:8080/",
     "height": 469
    },
    "id": "fUduje8HEhWl",
    "outputId": "61a43404-738f-4df3-9a32-c803e6eb3924"
   },
   "outputs": [
    {
     "data": {
      "image/png": "[encoded data removed]",
      "text/plain": [
       "<Figure size 432x288 with 1 Axes>"
      ]
     },
     "metadata": {
      "needs_background": "light"
     },
     "output_type": "display_data"
    }
   ],
   "source": [
    "data.hist('days_exposition', bins=50, color='yellow', range=(1, 150));"
   ]
  },
  {
   "cell_type": "markdown",
   "metadata": {},
   "source": [
    "<div class=\"alert alert-success\">\n",
    "<b>✔️ Комментарий ревьюера v1:</b> \n",
    "<br>А как бы ты объяснил эти пики в районе 45 и 60 дней?\n",
    "</div>"
   ]
  },
  {
   "cell_type": "markdown",
   "metadata": {},
   "source": [
    "Пики в районе 45 и 60 дней - это либо выбросы, либо они реальны, объяснимы снижением цены квартиры владельцем с завышеной до рыночной и, как следствие, продажей для более быстрой реализацииЧтоб подтвердить эту гипотезу ныжны данные об изменении цены за 45-60 дней."
   ]
  },
  {
   "cell_type": "code",
   "execution_count": 78,
   "metadata": {
    "colab": {
     "base_uri": "https://localhost:8080/"
    },
    "id": "Yx-LyppSGogm",
    "outputId": "99d7d6b7-eb22-4a04-a3fd-2d0589648de0"
   },
   "outputs": [
    {
     "data": {
      "text/plain": [
       "48"
      ]
     },
     "execution_count": 78,
     "metadata": {},
     "output_type": "execute_result"
    }
   ],
   "source": [
    "data[data['days_exposition'] == 95]['days_exposition'].count()"
   ]
  },
  {
   "cell_type": "markdown",
   "metadata": {
    "id": "xMPnOUbEFFc3"
   },
   "source": [
    "Пик прямо на медиане."
   ]
  },
  {
   "cell_type": "code",
   "execution_count": 79,
   "metadata": {
    "colab": {
     "base_uri": "https://localhost:8080/",
     "height": 256
    },
    "id": "IO9Iw_aXG8Vv",
    "outputId": "fe61ed33-5411-4a3f-c6b8-e3e05e82b972"
   },
   "outputs": [
    {
     "data": {
      "text/html": [
       "<div>\n",
       "<style scoped>\n",
       "    .dataframe tbody tr th:only-of-type {\n",
       "        vertical-align: middle;\n",
       "    }\n",
       "\n",
       "    .dataframe tbody tr th {\n",
       "        vertical-align: top;\n",
       "    }\n",
       "\n",
       "    .dataframe thead th {\n",
       "        text-align: right;\n",
       "    }\n",
       "</style>\n",
       "<table border=\"1\" class=\"dataframe\">\n",
       "  <thead>\n",
       "    <tr style=\"text-align: right;\">\n",
       "      <th></th>\n",
       "      <th>total_images</th>\n",
       "      <th>last_price</th>\n",
       "      <th>total_area</th>\n",
       "      <th>first_day_exposition</th>\n",
       "      <th>rooms</th>\n",
       "      <th>ceiling_height</th>\n",
       "      <th>floors_total</th>\n",
       "      <th>living_area</th>\n",
       "      <th>floor</th>\n",
       "      <th>is_apartment</th>\n",
       "      <th>studio</th>\n",
       "      <th>open_plan</th>\n",
       "      <th>kitchen_area</th>\n",
       "      <th>balcony</th>\n",
       "      <th>locality_name</th>\n",
       "      <th>airports_nearest</th>\n",
       "      <th>cityCenters_nearest</th>\n",
       "      <th>parks_around3000</th>\n",
       "      <th>parks_nearest</th>\n",
       "      <th>ponds_around3000</th>\n",
       "      <th>ponds_nearest</th>\n",
       "      <th>days_exposition</th>\n",
       "      <th>locality_name_short</th>\n",
       "      <th>sq_met_price</th>\n",
       "      <th>weekday</th>\n",
       "      <th>month</th>\n",
       "      <th>year</th>\n",
       "      <th>floor_type</th>\n",
       "      <th>city_cent_near_km</th>\n",
       "      <th>living_vs_total_area</th>\n",
       "      <th>kit_vs_tot</th>\n",
       "    </tr>\n",
       "  </thead>\n",
       "  <tbody>\n",
       "    <tr>\n",
       "      <th>533</th>\n",
       "      <td>15</td>\n",
       "      <td>5900000.0</td>\n",
       "      <td>67.4</td>\n",
       "      <td>2019-01-11</td>\n",
       "      <td>3</td>\n",
       "      <td>2.50</td>\n",
       "      <td>9</td>\n",
       "      <td>48.5</td>\n",
       "      <td>8</td>\n",
       "      <td>True</td>\n",
       "      <td>False</td>\n",
       "      <td>False</td>\n",
       "      <td>6.2</td>\n",
       "      <td>0</td>\n",
       "      <td>Санкт-Петербург</td>\n",
       "      <td>47531.0</td>\n",
       "      <td>20410.0</td>\n",
       "      <td>0</td>\n",
       "      <td>NaN</td>\n",
       "      <td>0</td>\n",
       "      <td>NaN</td>\n",
       "      <td>95</td>\n",
       "      <td>Санкт-Петербург</td>\n",
       "      <td>121649.48</td>\n",
       "      <td>4</td>\n",
       "      <td>1</td>\n",
       "      <td>2019</td>\n",
       "      <td>другой</td>\n",
       "      <td>20.0</td>\n",
       "      <td>71.96</td>\n",
       "      <td>0.091988</td>\n",
       "    </tr>\n",
       "    <tr>\n",
       "      <th>1041</th>\n",
       "      <td>9</td>\n",
       "      <td>4450000.0</td>\n",
       "      <td>82.0</td>\n",
       "      <td>2018-06-18</td>\n",
       "      <td>3</td>\n",
       "      <td>2.65</td>\n",
       "      <td>10</td>\n",
       "      <td>43.0</td>\n",
       "      <td>1</td>\n",
       "      <td>True</td>\n",
       "      <td>False</td>\n",
       "      <td>False</td>\n",
       "      <td>14.0</td>\n",
       "      <td>0</td>\n",
       "      <td>Всеволожск</td>\n",
       "      <td>NaN</td>\n",
       "      <td>0.0</td>\n",
       "      <td>0</td>\n",
       "      <td>NaN</td>\n",
       "      <td>0</td>\n",
       "      <td>NaN</td>\n",
       "      <td>95</td>\n",
       "      <td>Всеволожск</td>\n",
       "      <td>103488.37</td>\n",
       "      <td>0</td>\n",
       "      <td>6</td>\n",
       "      <td>2018</td>\n",
       "      <td>первый</td>\n",
       "      <td>0.0</td>\n",
       "      <td>52.44</td>\n",
       "      <td>0.170732</td>\n",
       "    </tr>\n",
       "    <tr>\n",
       "      <th>1716</th>\n",
       "      <td>15</td>\n",
       "      <td>6650000.0</td>\n",
       "      <td>63.8</td>\n",
       "      <td>2017-04-20</td>\n",
       "      <td>2</td>\n",
       "      <td>2.65</td>\n",
       "      <td>4</td>\n",
       "      <td>39.9</td>\n",
       "      <td>4</td>\n",
       "      <td>True</td>\n",
       "      <td>False</td>\n",
       "      <td>False</td>\n",
       "      <td>6.6</td>\n",
       "      <td>0</td>\n",
       "      <td>Санкт-Петербург</td>\n",
       "      <td>24202.0</td>\n",
       "      <td>4034.0</td>\n",
       "      <td>0</td>\n",
       "      <td>NaN</td>\n",
       "      <td>1</td>\n",
       "      <td>582.0</td>\n",
       "      <td>95</td>\n",
       "      <td>Санкт-Петербург</td>\n",
       "      <td>166666.67</td>\n",
       "      <td>3</td>\n",
       "      <td>4</td>\n",
       "      <td>2017</td>\n",
       "      <td>последний</td>\n",
       "      <td>4.0</td>\n",
       "      <td>62.54</td>\n",
       "      <td>0.103448</td>\n",
       "    </tr>\n",
       "    <tr>\n",
       "      <th>1830</th>\n",
       "      <td>20</td>\n",
       "      <td>11250000.0</td>\n",
       "      <td>95.0</td>\n",
       "      <td>2018-06-21</td>\n",
       "      <td>3</td>\n",
       "      <td>2.70</td>\n",
       "      <td>24</td>\n",
       "      <td>50.0</td>\n",
       "      <td>17</td>\n",
       "      <td>True</td>\n",
       "      <td>False</td>\n",
       "      <td>False</td>\n",
       "      <td>16.4</td>\n",
       "      <td>2</td>\n",
       "      <td>Санкт-Петербург</td>\n",
       "      <td>33249.0</td>\n",
       "      <td>10804.0</td>\n",
       "      <td>2</td>\n",
       "      <td>592.0</td>\n",
       "      <td>0</td>\n",
       "      <td>NaN</td>\n",
       "      <td>95</td>\n",
       "      <td>Санкт-Петербург</td>\n",
       "      <td>225000.00</td>\n",
       "      <td>3</td>\n",
       "      <td>6</td>\n",
       "      <td>2018</td>\n",
       "      <td>другой</td>\n",
       "      <td>11.0</td>\n",
       "      <td>52.63</td>\n",
       "      <td>0.172632</td>\n",
       "    </tr>\n",
       "    <tr>\n",
       "      <th>2921</th>\n",
       "      <td>11</td>\n",
       "      <td>4980000.0</td>\n",
       "      <td>88.4</td>\n",
       "      <td>2017-08-15</td>\n",
       "      <td>3</td>\n",
       "      <td>3.20</td>\n",
       "      <td>4</td>\n",
       "      <td>63.4</td>\n",
       "      <td>4</td>\n",
       "      <td>True</td>\n",
       "      <td>False</td>\n",
       "      <td>False</td>\n",
       "      <td>10.0</td>\n",
       "      <td>0</td>\n",
       "      <td>Колпино</td>\n",
       "      <td>26634.0</td>\n",
       "      <td>32420.0</td>\n",
       "      <td>2</td>\n",
       "      <td>521.0</td>\n",
       "      <td>3</td>\n",
       "      <td>283.0</td>\n",
       "      <td>95</td>\n",
       "      <td>Колпино</td>\n",
       "      <td>78548.90</td>\n",
       "      <td>1</td>\n",
       "      <td>8</td>\n",
       "      <td>2017</td>\n",
       "      <td>последний</td>\n",
       "      <td>32.0</td>\n",
       "      <td>71.72</td>\n",
       "      <td>0.113122</td>\n",
       "    </tr>\n",
       "  </tbody>\n",
       "</table>\n",
       "</div>"
      ],
      "text/plain": [
       "      total_images  last_price  total_area first_day_exposition  rooms  \\\n",
       "533             15   5900000.0        67.4           2019-01-11      3   \n",
       "1041             9   4450000.0        82.0           2018-06-18      3   \n",
       "1716            15   6650000.0        63.8           2017-04-20      2   \n",
       "1830            20  11250000.0        95.0           2018-06-21      3   \n",
       "2921            11   4980000.0        88.4           2017-08-15      3   \n",
       "\n",
       "      ceiling_height  floors_total  living_area  floor  is_apartment  studio  \\\n",
       "533             2.50             9         48.5      8          True   False   \n",
       "1041            2.65            10         43.0      1          True   False   \n",
       "1716            2.65             4         39.9      4          True   False   \n",
       "1830            2.70            24         50.0     17          True   False   \n",
       "2921            3.20             4         63.4      4          True   False   \n",
       "\n",
       "      open_plan  kitchen_area  balcony    locality_name  airports_nearest  \\\n",
       "533       False           6.2        0  Санкт-Петербург           47531.0   \n",
       "1041      False          14.0        0       Всеволожск               NaN   \n",
       "1716      False           6.6        0  Санкт-Петербург           24202.0   \n",
       "1830      False          16.4        2  Санкт-Петербург           33249.0   \n",
       "2921      False          10.0        0          Колпино           26634.0   \n",
       "\n",
       "      cityCenters_nearest  parks_around3000  parks_nearest  ponds_around3000  \\\n",
       "533               20410.0                 0            NaN                 0   \n",
       "1041                  0.0                 0            NaN                 0   \n",
       "1716               4034.0                 0            NaN                 1   \n",
       "1830              10804.0                 2          592.0                 0   \n",
       "2921              32420.0                 2          521.0                 3   \n",
       "\n",
       "      ponds_nearest  days_exposition locality_name_short  sq_met_price  \\\n",
       "533             NaN               95     Санкт-Петербург     121649.48   \n",
       "1041            NaN               95          Всеволожск     103488.37   \n",
       "1716          582.0               95     Санкт-Петербург     166666.67   \n",
       "1830            NaN               95     Санкт-Петербург     225000.00   \n",
       "2921          283.0               95             Колпино      78548.90   \n",
       "\n",
       "      weekday  month  year floor_type  city_cent_near_km  \\\n",
       "533         4      1  2019     другой               20.0   \n",
       "1041        0      6  2018     первый                0.0   \n",
       "1716        3      4  2017  последний                4.0   \n",
       "1830        3      6  2018     другой               11.0   \n",
       "2921        1      8  2017  последний               32.0   \n",
       "\n",
       "      living_vs_total_area  kit_vs_tot  \n",
       "533                  71.96    0.091988  \n",
       "1041                 52.44    0.170732  \n",
       "1716                 62.54    0.103448  \n",
       "1830                 52.63    0.172632  \n",
       "2921                 71.72    0.113122  "
      ]
     },
     "execution_count": 79,
     "metadata": {},
     "output_type": "execute_result"
    }
   ],
   "source": [
    "data[data['days_exposition'] == 95].head()"
   ]
  },
  {
   "cell_type": "markdown",
   "metadata": {
    "id": "LS7ypeO7EseF"
   },
   "source": [
    "Получается, что слишком быстрая продажа - 1 день, слишком медленная 1580 дней (почти 5 лет). В среднем 95 дней (3 месяца) - обычное время продажи."
   ]
  },
  {
   "cell_type": "markdown",
   "metadata": {
    "id": "tskXv9-YIHAV"
   },
   "source": [
    "### Определите факторы, которые больше всего влияют на общую (полную) стоимость объекта"
   ]
  },
  {
   "cell_type": "markdown",
   "metadata": {
    "id": "iMlE1smYJaJk"
   },
   "source": [
    "Рассматриваются графики цены от следующих факторов:\n",
    "  - общая площадь;\n",
    "  - жилая площадь;\n",
    "  - площадь кухни;\n",
    "  - количество комнат;\n",
    "  - тип этажа, на котором расположена квартира (первый, последний, другой);\n",
    "  - дата размещения (день недели, месяц, год)."
   ]
  },
  {
   "cell_type": "code",
   "execution_count": 80,
   "metadata": {
    "colab": {
     "base_uri": "https://localhost:8080/",
     "height": 1000
    },
    "id": "8Q96wSFpJw6M",
    "outputId": "ae67b96d-0fa8-4618-9412-b9d2441f3556"
   },
   "outputs": [
    {
     "data": {
      "image/png": "[encoded data removed]",
      "text/plain": [
       "<Figure size 432x288 with 1 Axes>"
      ]
     },
     "metadata": {
      "needs_background": "light"
     },
     "output_type": "display_data"
    },
    {
     "name": "stdout",
     "output_type": "stream",
     "text": [
      "Коэффициент корреляции Пирсона для total_area: 0.720249304625011\n"
     ]
    },
    {
     "data": {
      "image/png": "[encoded data removed]",
      "text/plain": [
       "<Figure size 432x288 with 1 Axes>"
      ]
     },
     "metadata": {
      "needs_background": "light"
     },
     "output_type": "display_data"
    },
    {
     "name": "stdout",
     "output_type": "stream",
     "text": [
      "Коэффициент корреляции Пирсона для living_area: 0.6731982157092923\n"
     ]
    },
    {
     "data": {
      "image/png": "[encoded data removed]",
      "text/plain": [
       "<Figure size 432x288 with 1 Axes>"
      ]
     },
     "metadata": {
      "needs_background": "light"
     },
     "output_type": "display_data"
    },
    {
     "name": "stdout",
     "output_type": "stream",
     "text": [
      "Коэффициент корреляции Пирсона для kitchen_area: 0.6374075836860973\n"
     ]
    },
    {
     "data": {
      "image/png": "[encoded data removed]",
      "text/plain": [
       "<Figure size 432x288 with 1 Axes>"
      ]
     },
     "metadata": {
      "needs_background": "light"
     },
     "output_type": "display_data"
    },
    {
     "name": "stdout",
     "output_type": "stream",
     "text": [
      "Коэффициент корреляции Пирсона для rooms: 0.4501304477968585\n"
     ]
    }
   ],
   "source": [
    "factors = {'total_area':'cyan', 'living_area':'pink', 'kitchen_area':'blue', 'rooms':'gold'}\n",
    "for fact in factors:\n",
    "    data.plot(x=fact, y='last_price', kind='scatter', color=factors[fact]);\n",
    "    plt.show()\n",
    "    print(f'Коэффициент корреляции Пирсона для {fact}:', data[fact].corr(data['last_price']))"
   ]
  },
  {
   "cell_type": "markdown",
   "metadata": {},
   "source": [
    "Графики и коэффициенты корреляции показывают, что на цену сильнее всего влияет общая площадь квартиры, влияние жилой площади и кухни - как следствие. Количество комнат тоже отчасти следствие площади. Пока увеличение числа комнат коррелирует с ростом общей площадью виден рост цены, затем связь пропадает."
   ]
  },
  {
   "cell_type": "markdown",
   "metadata": {},
   "source": [
    "<div class=\"alert alert-danger\">\n",
    "<b>❌ Комментарий ревьюера v1:</b> \n",
    "<br>Рассчитывать корреляцию Пирсона для категории этажа, дня, месяца и года продажи не эффективно, так как цена в данном случае зависит от них не линейно. Чтобы изучить зависимость для этих параметров лучше построить bar plot или гистограмму рассчитав среднее значение или медиану\n",
    "    \n",
    "    https://pandas.pydata.org/docs/reference/api/pandas.DataFrame.plot.bar.html\n",
    "    \n",
    "<br>Тебе нужно удалить расчет корреляции для этих параметров и заменить графики\n",
    "</div>"
   ]
  },
  {
   "cell_type": "markdown",
   "metadata": {},
   "source": [
    "<div class=\"alert alert-info\">\n",
    "<b>Комментарий студента:</b>\n",
    "<br>Устранил замечание.\n",
    "</div>"
   ]
  },
  {
   "cell_type": "markdown",
   "metadata": {},
   "source": [
    "<div class=\"alert alert-success\">\n",
    "<b>✔️ Комментарий ревьюера v2:</b>\n",
    "<br>Отлично! Теперь всё верно)\n",
    "</div>"
   ]
  },
  {
   "cell_type": "markdown",
   "metadata": {},
   "source": [
    "Строю графики bar plot цены в зависимости от типа этажа, дня недели продажи, месяца, года продажи: "
   ]
  },
  {
   "cell_type": "code",
   "execution_count": 81,
   "metadata": {},
   "outputs": [
    {
     "data": {
      "image/png": "[encoded data removed]",
      "text/plain": [
       "<Figure size 432x288 with 1 Axes>"
      ]
     },
     "metadata": {
      "needs_background": "light"
     },
     "output_type": "display_data"
    },
    {
     "data": {
      "image/png": "[encoded data removed]",
      "text/plain": [
       "<Figure size 432x288 with 1 Axes>"
      ]
     },
     "metadata": {
      "needs_background": "light"
     },
     "output_type": "display_data"
    },
    {
     "data": {
      "image/png": "[encoded data removed]",
      "text/plain": [
       "<Figure size 432x288 with 1 Axes>"
      ]
     },
     "metadata": {
      "needs_background": "light"
     },
     "output_type": "display_data"
    },
    {
     "data": {
      "image/png": "[encoded data removed]",
      "text/plain": [
       "<Figure size 432x288 with 1 Axes>"
      ]
     },
     "metadata": {
      "needs_background": "light"
     },
     "output_type": "display_data"
    }
   ],
   "source": [
    "factors = {'floor_type': 'green', 'weekday': 'orange', 'month':'red', 'year':'yellow'}\n",
    "for fact in factors:\n",
    "    data.groupby(fact)['last_price'].median().plot.bar(y='last_price', color=factors[fact]);\n",
    "    plt.show()"
   ]
  },
  {
   "cell_type": "markdown",
   "metadata": {
    "id": "E9sA4IwLdL53"
   },
   "source": [
    "Тип этажа влияет. Квартиры на первом этаже дешевле всех, далее идут квартиры на последнем этаже, категория \"другой\" имеет максимальные показатели цены (как медиану, так и среднее).\n",
    "Связь цены с днем недели, или месяцем не наблюдается, а вот год продажи влияет. В 2014 году цена была самой высокой, потом начала снижаться, а потом появился рост. "
   ]
  },
  {
   "cell_type": "markdown",
   "metadata": {
    "id": "03riQRszdLsH"
   },
   "source": [
    "### Определение средней цены квадратного метра в 10 населенных пунктах с наибольшим числом объявлений"
   ]
  },
  {
   "cell_type": "markdown",
   "metadata": {
    "id": "y6PxFQeJGoIg"
   },
   "source": [
    "Определим 10 населенных пунктов с наибольшим числом объявлений."
   ]
  },
  {
   "cell_type": "code",
   "execution_count": 82,
   "metadata": {
    "colab": {
     "base_uri": "https://localhost:8080/"
    },
    "id": "exIErPLtGx9D",
    "outputId": "4341114f-efb1-4f0a-9726-30e61270400c"
   },
   "outputs": [
    {
     "data": {
      "text/plain": [
       "Санкт-Петербург    12311\n",
       "Мурино               361\n",
       "Шушары               325\n",
       "Колпино              303\n",
       "Кудрово              299\n",
       "Пушкин               292\n",
       "Всеволожск           274\n",
       "Гатчина              269\n",
       "Петергоф             188\n",
       "Выборг               180\n",
       "Name: locality_name_short, dtype: int64"
      ]
     },
     "execution_count": 82,
     "metadata": {},
     "output_type": "execute_result"
    }
   ],
   "source": [
    "best_sellers = data['locality_name_short'].value_counts()\n",
    "best_sellers = best_sellers[:10]\n",
    "best_sellers"
   ]
  },
  {
   "cell_type": "markdown",
   "metadata": {
    "id": "KhUnowSADoIV"
   },
   "source": [
    "Создаю сводную таблицу для выбранных 10 населенных пунктов:"
   ]
  },
  {
   "cell_type": "code",
   "execution_count": 83,
   "metadata": {
    "colab": {
     "base_uri": "https://localhost:8080/",
     "height": 394
    },
    "id": "89TYqLzRBIuH",
    "outputId": "c0972489-5a2c-437c-d835-91e6d25ef0a9"
   },
   "outputs": [
    {
     "data": {
      "text/html": [
       "<div>\n",
       "<style scoped>\n",
       "    .dataframe tbody tr th:only-of-type {\n",
       "        vertical-align: middle;\n",
       "    }\n",
       "\n",
       "    .dataframe tbody tr th {\n",
       "        vertical-align: top;\n",
       "    }\n",
       "\n",
       "    .dataframe thead th {\n",
       "        text-align: right;\n",
       "    }\n",
       "</style>\n",
       "<table border=\"1\" class=\"dataframe\">\n",
       "  <thead>\n",
       "    <tr style=\"text-align: right;\">\n",
       "      <th></th>\n",
       "      <th>sq_met_price</th>\n",
       "    </tr>\n",
       "    <tr>\n",
       "      <th>locality_name_short</th>\n",
       "      <th></th>\n",
       "    </tr>\n",
       "  </thead>\n",
       "  <tbody>\n",
       "    <tr>\n",
       "      <th>Санкт-Петербург</th>\n",
       "      <td>192520.762814</td>\n",
       "    </tr>\n",
       "    <tr>\n",
       "      <th>Кудрово</th>\n",
       "      <td>180492.450234</td>\n",
       "    </tr>\n",
       "    <tr>\n",
       "      <th>Пушкин</th>\n",
       "      <td>177923.643527</td>\n",
       "    </tr>\n",
       "    <tr>\n",
       "      <th>Мурино</th>\n",
       "      <td>160656.449751</td>\n",
       "    </tr>\n",
       "    <tr>\n",
       "      <th>Петергоф</th>\n",
       "      <td>146062.125479</td>\n",
       "    </tr>\n",
       "    <tr>\n",
       "      <th>Шушары</th>\n",
       "      <td>141019.556246</td>\n",
       "    </tr>\n",
       "    <tr>\n",
       "      <th>Колпино</th>\n",
       "      <td>126890.663894</td>\n",
       "    </tr>\n",
       "    <tr>\n",
       "      <th>Гатчина</th>\n",
       "      <td>118312.990781</td>\n",
       "    </tr>\n",
       "    <tr>\n",
       "      <th>Всеволожск</th>\n",
       "      <td>117038.630803</td>\n",
       "    </tr>\n",
       "    <tr>\n",
       "      <th>Выборг</th>\n",
       "      <td>96472.432444</td>\n",
       "    </tr>\n",
       "  </tbody>\n",
       "</table>\n",
       "</div>"
      ],
      "text/plain": [
       "                      sq_met_price\n",
       "locality_name_short               \n",
       "Санкт-Петербург      192520.762814\n",
       "Кудрово              180492.450234\n",
       "Пушкин               177923.643527\n",
       "Мурино               160656.449751\n",
       "Петергоф             146062.125479\n",
       "Шушары               141019.556246\n",
       "Колпино              126890.663894\n",
       "Гатчина              118312.990781\n",
       "Всеволожск           117038.630803\n",
       "Выборг                96472.432444"
      ]
     },
     "execution_count": 83,
     "metadata": {},
     "output_type": "execute_result"
    }
   ],
   "source": [
    "pt_best_sellers = data.query('locality_name_short in @best_sellers.index').pivot_table(index='locality_name_short', values='sq_met_price', aggfunc='mean')\n",
    "pt_best_sellers.sort_values(by='sq_met_price', ascending=False)"
   ]
  },
  {
   "cell_type": "code",
   "execution_count": 84,
   "metadata": {
    "colab": {
     "base_uri": "https://localhost:8080/",
     "height": 580
    },
    "id": "IXVXCw5WD68j",
    "outputId": "c67f8fcc-aa68-4672-f1fb-430b0d08c1c6"
   },
   "outputs": [
    {
     "data": {
      "image/png": "[encoded data removed]",
      "text/plain": [
       "<Figure size 432x288 with 1 Axes>"
      ]
     },
     "metadata": {
      "needs_background": "light"
     },
     "output_type": "display_data"
    }
   ],
   "source": [
    "pt_best_sellers.sort_values(by='sq_met_price').plot(kind='bar', color='blue');"
   ]
  },
  {
   "cell_type": "markdown",
   "metadata": {},
   "source": [
    "<div class=\"alert alert-success\">\n",
    "<b>✔️ Комментарий ревьюера v1:</b> \n",
    "<br>👏🏻👏🏻👏🏻 Отличная визуализация! Не забывай добавлять сортировку)\n",
    "</div>"
   ]
  },
  {
   "cell_type": "markdown",
   "metadata": {
    "id": "eJZJw008EghB"
   },
   "source": [
    "Получается, что населенные пункты с самой высокой стоимостью квадратного метра это:\n",
    "\n",
    "*   Санкт-Петербург;\n",
    "*   Кудрово;\n",
    "*   Пушкин.\n",
    "\n",
    "Населенные пункты с самой низкой стоимостью квадратного метра это:\n",
    "\n",
    "*  Гатчина\n",
    "*  Всеволжск\n",
    "*  Выборг"
   ]
  },
  {
   "cell_type": "markdown",
   "metadata": {
    "id": "v8vj6_-ndLes"
   },
   "source": [
    "### Вычисление средней стоимости квартир Санкт-Петербурга на разном удалении"
   ]
  },
  {
   "cell_type": "markdown",
   "metadata": {
    "id": "_dQaIsO11P9_"
   },
   "source": [
    "Создаю сводную таблицу содержащую среднюю цену квартиры для каждого километра расстояния от центра города:"
   ]
  },
  {
   "cell_type": "code",
   "execution_count": 85,
   "metadata": {
    "colab": {
     "base_uri": "https://localhost:8080/",
     "height": 1000
    },
    "id": "2LBs35pAXb8Q",
    "outputId": "7b4d8451-d8e8-4fe7-cbb8-d870a43343eb"
   },
   "outputs": [
    {
     "data": {
      "text/html": [
       "<div>\n",
       "<style scoped>\n",
       "    .dataframe tbody tr th:only-of-type {\n",
       "        vertical-align: middle;\n",
       "    }\n",
       "\n",
       "    .dataframe tbody tr th {\n",
       "        vertical-align: top;\n",
       "    }\n",
       "\n",
       "    .dataframe thead th {\n",
       "        text-align: right;\n",
       "    }\n",
       "</style>\n",
       "<table border=\"1\" class=\"dataframe\">\n",
       "  <thead>\n",
       "    <tr style=\"text-align: right;\">\n",
       "      <th></th>\n",
       "      <th>last_price</th>\n",
       "    </tr>\n",
       "    <tr>\n",
       "      <th>city_cent_near_km</th>\n",
       "      <th></th>\n",
       "    </tr>\n",
       "  </thead>\n",
       "  <tbody>\n",
       "    <tr>\n",
       "      <th>0.0</th>\n",
       "      <td>2.015877e+07</td>\n",
       "    </tr>\n",
       "    <tr>\n",
       "      <th>1.0</th>\n",
       "      <td>1.797839e+07</td>\n",
       "    </tr>\n",
       "    <tr>\n",
       "      <th>2.0</th>\n",
       "      <td>1.686504e+07</td>\n",
       "    </tr>\n",
       "    <tr>\n",
       "      <th>3.0</th>\n",
       "      <td>1.117757e+07</td>\n",
       "    </tr>\n",
       "    <tr>\n",
       "      <th>4.0</th>\n",
       "      <td>1.192980e+07</td>\n",
       "    </tr>\n",
       "    <tr>\n",
       "      <th>5.0</th>\n",
       "      <td>1.310683e+07</td>\n",
       "    </tr>\n",
       "    <tr>\n",
       "      <th>6.0</th>\n",
       "      <td>1.337474e+07</td>\n",
       "    </tr>\n",
       "    <tr>\n",
       "      <th>7.0</th>\n",
       "      <td>1.311801e+07</td>\n",
       "    </tr>\n",
       "    <tr>\n",
       "      <th>8.0</th>\n",
       "      <td>9.358503e+06</td>\n",
       "    </tr>\n",
       "    <tr>\n",
       "      <th>9.0</th>\n",
       "      <td>6.997388e+06</td>\n",
       "    </tr>\n",
       "    <tr>\n",
       "      <th>10.0</th>\n",
       "      <td>6.418266e+06</td>\n",
       "    </tr>\n",
       "    <tr>\n",
       "      <th>11.0</th>\n",
       "      <td>6.091101e+06</td>\n",
       "    </tr>\n",
       "    <tr>\n",
       "      <th>12.0</th>\n",
       "      <td>5.871318e+06</td>\n",
       "    </tr>\n",
       "    <tr>\n",
       "      <th>13.0</th>\n",
       "      <td>6.046848e+06</td>\n",
       "    </tr>\n",
       "    <tr>\n",
       "      <th>14.0</th>\n",
       "      <td>5.606394e+06</td>\n",
       "    </tr>\n",
       "    <tr>\n",
       "      <th>15.0</th>\n",
       "      <td>5.789305e+06</td>\n",
       "    </tr>\n",
       "    <tr>\n",
       "      <th>16.0</th>\n",
       "      <td>5.390998e+06</td>\n",
       "    </tr>\n",
       "    <tr>\n",
       "      <th>17.0</th>\n",
       "      <td>5.238773e+06</td>\n",
       "    </tr>\n",
       "    <tr>\n",
       "      <th>18.0</th>\n",
       "      <td>5.209383e+06</td>\n",
       "    </tr>\n",
       "    <tr>\n",
       "      <th>19.0</th>\n",
       "      <td>5.254687e+06</td>\n",
       "    </tr>\n",
       "    <tr>\n",
       "      <th>20.0</th>\n",
       "      <td>6.145365e+06</td>\n",
       "    </tr>\n",
       "    <tr>\n",
       "      <th>21.0</th>\n",
       "      <td>5.378157e+06</td>\n",
       "    </tr>\n",
       "    <tr>\n",
       "      <th>22.0</th>\n",
       "      <td>5.641397e+06</td>\n",
       "    </tr>\n",
       "    <tr>\n",
       "      <th>23.0</th>\n",
       "      <td>5.142829e+06</td>\n",
       "    </tr>\n",
       "    <tr>\n",
       "      <th>24.0</th>\n",
       "      <td>4.313455e+06</td>\n",
       "    </tr>\n",
       "    <tr>\n",
       "      <th>25.0</th>\n",
       "      <td>3.851154e+06</td>\n",
       "    </tr>\n",
       "    <tr>\n",
       "      <th>26.0</th>\n",
       "      <td>4.933301e+06</td>\n",
       "    </tr>\n",
       "    <tr>\n",
       "      <th>27.0</th>\n",
       "      <td>2.250000e+06</td>\n",
       "    </tr>\n",
       "    <tr>\n",
       "      <th>28.0</th>\n",
       "      <td>6.008500e+06</td>\n",
       "    </tr>\n",
       "    <tr>\n",
       "      <th>29.0</th>\n",
       "      <td>4.594000e+06</td>\n",
       "    </tr>\n",
       "  </tbody>\n",
       "</table>\n",
       "</div>"
      ],
      "text/plain": [
       "                     last_price\n",
       "city_cent_near_km              \n",
       "0.0                2.015877e+07\n",
       "1.0                1.797839e+07\n",
       "2.0                1.686504e+07\n",
       "3.0                1.117757e+07\n",
       "4.0                1.192980e+07\n",
       "5.0                1.310683e+07\n",
       "6.0                1.337474e+07\n",
       "7.0                1.311801e+07\n",
       "8.0                9.358503e+06\n",
       "9.0                6.997388e+06\n",
       "10.0               6.418266e+06\n",
       "11.0               6.091101e+06\n",
       "12.0               5.871318e+06\n",
       "13.0               6.046848e+06\n",
       "14.0               5.606394e+06\n",
       "15.0               5.789305e+06\n",
       "16.0               5.390998e+06\n",
       "17.0               5.238773e+06\n",
       "18.0               5.209383e+06\n",
       "19.0               5.254687e+06\n",
       "20.0               6.145365e+06\n",
       "21.0               5.378157e+06\n",
       "22.0               5.641397e+06\n",
       "23.0               5.142829e+06\n",
       "24.0               4.313455e+06\n",
       "25.0               3.851154e+06\n",
       "26.0               4.933301e+06\n",
       "27.0               2.250000e+06\n",
       "28.0               6.008500e+06\n",
       "29.0               4.594000e+06"
      ]
     },
     "execution_count": 85,
     "metadata": {},
     "output_type": "execute_result"
    }
   ],
   "source": [
    "pt_aver_price_SpB = data.query('locality_name == \"Санкт-Петербург\"').pivot_table(index='city_cent_near_km', values='last_price', aggfunc='mean')\n",
    "pt_aver_price_SpB"
   ]
  },
  {
   "cell_type": "markdown",
   "metadata": {
    "id": "1MG0Z89Q0zVR"
   },
   "source": [
    "Ниже приведен график изменения средней цены для каждого километра от центра Петербурга"
   ]
  },
  {
   "cell_type": "code",
   "execution_count": 86,
   "metadata": {
    "colab": {
     "base_uri": "https://localhost:8080/",
     "height": 504
    },
    "id": "llhaWfqC0xN-",
    "outputId": "51362a06-22a3-4a19-956a-8acaca787e33"
   },
   "outputs": [
    {
     "data": {
      "image/png": "[encoded data removed]",
      "text/plain": [
       "<Figure size 720x720 with 1 Axes>"
      ]
     },
     "metadata": {
      "needs_background": "light"
     },
     "output_type": "display_data"
    }
   ],
   "source": [
    "pt_aver_price_SpB.plot(y='last_price', title='График изменения цены квартры в зависимости от расстояния до центра', \n",
    "                       grid=True, xticks=range(30), figsize=(10,10));"
   ]
  },
  {
   "cell_type": "markdown",
   "metadata": {
    "id": "590ds9eH0w1Q"
   },
   "source": [
    "График зависимости среднего значения цены квартиры от расстояния до центра города показывает, что цена убывает по мере удаления от центра. Локальный рост цены  "
   ]
  },
  {
   "cell_type": "code",
   "execution_count": 87,
   "metadata": {
    "colab": {
     "base_uri": "https://localhost:8080/",
     "height": 489
    },
    "id": "d4lqwKX02rUD",
    "outputId": "dcdbe19e-7674-4311-d48c-2ce3b4ed39b3"
   },
   "outputs": [
    {
     "data": {
      "image/png": "[encoded data removed]",
      "text/plain": [
       "<Figure size 720x720 with 1 Axes>"
      ]
     },
     "metadata": {
      "needs_background": "light"
     },
     "output_type": "display_data"
    }
   ],
   "source": [
    "pt_aver_unit_price_SpB = data.query('locality_name == \"Санкт-Петербург\"').pivot_table(index='city_cent_near_km', values='sq_met_price', aggfunc='mean')\n",
    "pt_aver_unit_price_SpB.plot(\n",
    "    y='sq_met_price', \n",
    "    title='График изменения цены за м2 в зависимости от расстояния до центра',\n",
    "    grid=True, \n",
    "    xticks=range(30), \n",
    "    figsize=(10,10)\n",
    "    );"
   ]
  },
  {
   "cell_type": "markdown",
   "metadata": {},
   "source": [
    "<div class=\"alert alert-warning\">\n",
    "<b>⚠️ Комментарий ревьюера v1:</b> \n",
    "<br>На каком километре заканчивается центр города на твой взгляд, судя по графику?\n",
    "</div>"
   ]
  },
  {
   "cell_type": "markdown",
   "metadata": {},
   "source": [
    "<div class=\"alert alert-info\">\n",
    "<b>Комментарий студента:</b>\n",
    "<br>Центр города заканчивается на 7-м километре - это второй пик, после которого цена падает сильно.\n",
    "</div>"
   ]
  },
  {
   "cell_type": "markdown",
   "metadata": {},
   "source": [
    "<div class=\"alert alert-success\">\n",
    "<b>✔️ Комментарий ревьюера v2:</b>\n",
    "<br>Верно!\n",
    "</div>"
   ]
  },
  {
   "cell_type": "markdown",
   "metadata": {
    "id": "h7VpzkIDAwb-"
   },
   "source": [
    "### Напишите общий вывод"
   ]
  },
  {
   "cell_type": "markdown",
   "metadata": {
    "id": "3H4lnp_KAwb-"
   },
   "source": [
    "**Результаты предобработки данных**\n",
    "\n",
    "Обнаружен баг в данных по геолокации:\n",
    "* пропуски в данных из геолокации в столбцах airports_nearest, cityCenters_nearest, parks_around3000, parks_nearest, ponds_around3000, ponds_nearest.\n",
    "\n",
    "Рекомендуется найти источник и выполнить повторную выгрузку данных.\n",
    "* пропуски в столбцах \"balcony\", \"floors_total\", \"living_area\", \"kitche_area\", \"is_apart\" могут быть связаны с тем, что это необязательные пункты формы, которая заполняется для формирования объявления. Рекомендуется сделать его обязательным.\n",
    "Выбросы данных могут быть связаны с опечатками.\n",
    "Дубликатов в столбце \"location_name\" можно было избежать, предлагая автору объявления выбрать населенный пункт нахождения квартиры из списка, сформированного по геолокации.\n",
    "\n",
    "**Результаты исследовательского анализа данных**\n",
    "\n",
    "Исследовательский анализ показал, что стоимость квартир определяется общей площадью в целом, а для города Санкт-Петербурга средняя цена убывает с ростом росстояния от центра. Стоимость квартир на первом этаже самая низкая, на последнем - выше, ну а максимаьная цена при типе этажа \"другой\". День и месяц публикации не влияют на цену продажи, а вот изменение цены по годам показало снижение цены с 2014 года до 2017 и постепенный рост до 2019 года, однако уровень цены 2014 года остался максимальным. \n",
    "\n",
    "Для более детального анализа можно добавить информацию о годе постройке дома."
   ]
  },
  {
   "cell_type": "markdown",
   "metadata": {},
   "source": [
    "<div class=\"alert alert-danger\">\n",
    "<b>❌ Итоговый комментарий ревьюера v1:</b> \n",
    "<br>Необходимо поправить:\n",
    "<br>- не заполнять пропуски в столбце days_exposition\n",
    "<br>- не заполнять пропуски в столбцах с картографическими данными\t\n",
    "<br>- корректно изучить зависимость цены от категории этажа и времени публикации объявления\n",
    "\n",
    "<br>После всех внесённых правок не забудь поправить выводы там, где это необходимо\n",
    "</div>"
   ]
  },
  {
   "cell_type": "markdown",
   "metadata": {},
   "source": [
    "<div class=\"alert alert-info\">\n",
    "<b>Комментарий студента:</b>\n",
    "<br>Выводы подправил. \n",
    "</div>"
   ]
  },
  {
   "cell_type": "markdown",
   "metadata": {},
   "source": [
    "<div class=\"alert alert-success\">\n",
    "<b>✔️ Итоговый комментарий ревьюера v2:</b>\n",
    "<br>Все правки выполнены. Молодец!\n",
    "<br>Я рад был поработать над проверкой твоей работы) В качестве дополнительного материала для изучения могу порекомендовать следующий ресурс:\n",
    "\n",
    "\thttps://www.python-graph-gallery.com/\n",
    "<br>В нем содержится большая библиотека графиков с готовым кодом, который можно использовать при работе.\n",
    "<br>Поздравляю со сдачей проекта и желаю удачи в дальнейшем обучении! 😉    \n",
    "</div>"
   ]
  },
  {
   "cell_type": "markdown",
   "metadata": {
    "id": "A90mc0BgAwb-"
   },
   "source": [
    "**Чек-лист готовности проекта**\n",
    "\n",
    "Поставьте 'x' в выполненных пунктах. Далее нажмите Shift+Enter."
   ]
  },
  {
   "cell_type": "markdown",
   "metadata": {
    "id": "ME3sTWm6Awb-"
   },
   "source": [
    "- [x]  Файл с данными открыт.\n",
    "- [x]  Файл с данными изучен: выведены первые строки, использован метод `info()`, построены гистограммы.\n",
    "- [x]  Найдены пропущенные значения.\n",
    "- [x]  Пропущенные значения заполнены там, где это возможно.\n",
    "- [x]  Объяснено, какие пропущенные значения обнаружены.\n",
    "- [x]  В каждом столбце установлен корректный тип данных.\n",
    "- [x]  Объяснено, в каких столбцах изменён тип данных и почему.\n",
    "- [x]  Устранены неявные дубликаты в названиях населённых пунктов.\n",
    "- [x]  Обработаны редкие и выбивающиеся значения (аномалии).\n",
    "- [x]  В таблицу добавлены новые параметры:\n",
    "       – цена одного квадратного метра;\n",
    "       – день публикации объявления (0 - понедельник, 1 - вторник и т. д.);\n",
    "       – месяц публикации объявления;\n",
    "       – год публикации объявления;\n",
    "       – тип этажа квартиры (значения — «первый», «последний», «другой»);\n",
    "       – расстояние до центра города в километрах.\n",
    "- [x]  Изучены и описаны параметры:\n",
    "        - общая площадь;\n",
    "        - жилая площадь;\n",
    "        - площадь кухни;\n",
    "        - цена объекта;\n",
    "        - количество комнат;\n",
    "        - высота потолков;\n",
    "        - тип этажа квартиры («первый», «последний», «другой»);\n",
    "        - общее количество этажей в доме;\n",
    "        - расстояние до центра города в метрах;\n",
    "        - расстояние до ближайшего парка.\n",
    "- [x]  Выполнено задание «Изучите, как быстро продавались квартиры (столбец `days_exposition`)»:\n",
    "    - построена гистограмма;\n",
    "    - рассчитаны среднее и медиана;\n",
    "    - описано, сколько обычно занимает продажа и указано, какие продажи можно считать быстрыми, а какие — необычно долгими.\n",
    "- [x]  Выполнено задание «Определите факторы, которые больше всего влияют на общую (полную) стоимость объекта». Построены графики, которые показывают зависимость цены от параметров:\n",
    "        - общая площадь;\n",
    "        - жилая площадь;\n",
    "        - площадь кухни;\n",
    "        - количество комнат;\n",
    "        - тип этажа, на котором расположена квартира (первый, последний, другой);\n",
    "        - дата размещения (день недели, месяц, год).\n",
    "- [x]  Выполнено задание «Посчитайте среднюю цену одного квадратного метра в 10 населённых пунктах с наибольшим числом объявлений»:\n",
    "    - выделены населённые пункты с самой высокой и низкой стоимостью квадратного метра.\n",
    "- [x]  Выполнено задание «Выделите квартиры в Санкт-Петербурге с помощью столбца `locality_name` и вычислите их среднюю стоимость на разном удалении от центра»:\n",
    "    -  учтён каждый километр расстояния, известны средние цены квартир в одном километре от центра, в двух и так далее;\n",
    "    -  описано, как стоимость объекта зависит от расстояния до центра города;\n",
    "    -  построен график изменения средней цены для каждого километра от центра Петербурга.\n",
    "- [x]  На каждом этапе сделаны промежуточные выводы.\n",
    "- [x]  В конце проекта сделан общий вывод."
   ]
  }
 ],
 "metadata": {
  "ExecuteTimeLog": [
   {
    "duration": 717,
    "start_time": "2024-01-22T14:48:15.709Z"
   },
   {
    "duration": 41,
    "start_time": "2024-01-22T15:04:09.463Z"
   },
   {
    "duration": 539,
    "start_time": "2024-01-22T15:04:14.671Z"
   },
   {
    "duration": 292,
    "start_time": "2024-01-22T15:04:15.276Z"
   },
   {
    "duration": 9,
    "start_time": "2024-01-22T15:04:29.051Z"
   },
   {
    "duration": 2,
    "start_time": "2024-01-22T15:04:49.496Z"
   },
   {
    "duration": 88,
    "start_time": "2024-01-22T15:04:49.947Z"
   },
   {
    "duration": 2,
    "start_time": "2024-01-22T15:05:01.478Z"
   },
   {
    "duration": 278,
    "start_time": "2024-01-22T15:05:02.190Z"
   },
   {
    "duration": 5,
    "start_time": "2024-01-22T15:05:03.730Z"
   },
   {
    "duration": 84,
    "start_time": "2024-01-22T15:08:44.897Z"
   },
   {
    "duration": 2,
    "start_time": "2024-01-22T15:08:48.909Z"
   },
   {
    "duration": 88,
    "start_time": "2024-01-22T15:08:49.599Z"
   },
   {
    "duration": 23,
    "start_time": "2024-01-22T15:08:50.312Z"
   },
   {
    "duration": 12,
    "start_time": "2024-01-22T15:10:34.583Z"
   },
   {
    "duration": 32,
    "start_time": "2024-01-22T15:12:04.536Z"
   },
   {
    "duration": 38,
    "start_time": "2024-01-22T15:12:10.984Z"
   },
   {
    "duration": 25,
    "start_time": "2024-01-22T15:12:18.231Z"
   },
   {
    "duration": 12,
    "start_time": "2024-01-22T15:12:26.715Z"
   },
   {
    "duration": 1736,
    "start_time": "2024-01-22T15:22:22.865Z"
   },
   {
    "duration": 2304,
    "start_time": "2024-01-22T15:22:44.336Z"
   },
   {
    "duration": 777,
    "start_time": "2024-01-22T18:01:28.564Z"
   },
   {
    "duration": 152,
    "start_time": "2024-01-22T18:01:29.343Z"
   },
   {
    "duration": 30,
    "start_time": "2024-01-22T18:01:29.497Z"
   },
   {
    "duration": 15,
    "start_time": "2024-01-22T18:01:29.529Z"
   },
   {
    "duration": 3021,
    "start_time": "2024-01-22T18:01:29.546Z"
   },
   {
    "duration": 3609,
    "start_time": "2024-01-22T18:01:47.260Z"
   },
   {
    "duration": 2246,
    "start_time": "2024-01-22T18:02:36.829Z"
   },
   {
    "duration": 1983,
    "start_time": "2024-01-22T18:02:52.672Z"
   },
   {
    "duration": 1029,
    "start_time": "2024-01-22T18:03:05.498Z"
   },
   {
    "duration": 1816,
    "start_time": "2024-01-22T18:03:57.005Z"
   },
   {
    "duration": 2029,
    "start_time": "2024-01-22T18:06:06.367Z"
   },
   {
    "duration": 256,
    "start_time": "2024-01-22T18:06:35.267Z"
   },
   {
    "duration": 246,
    "start_time": "2024-01-22T18:06:59.315Z"
   },
   {
    "duration": 793,
    "start_time": "2024-01-22T18:07:08.467Z"
   },
   {
    "duration": 815,
    "start_time": "2024-01-23T06:47:50.203Z"
   },
   {
    "duration": 149,
    "start_time": "2024-01-23T06:47:51.020Z"
   },
   {
    "duration": 28,
    "start_time": "2024-01-23T06:47:51.171Z"
   },
   {
    "duration": 15,
    "start_time": "2024-01-23T06:47:51.201Z"
   },
   {
    "duration": 2062,
    "start_time": "2024-01-23T06:47:51.217Z"
   },
   {
    "duration": 2923,
    "start_time": "2024-01-23T06:48:51.513Z"
   },
   {
    "duration": 2194,
    "start_time": "2024-01-23T06:49:05.728Z"
   },
   {
    "duration": 1685,
    "start_time": "2024-01-23T06:49:20.688Z"
   },
   {
    "duration": 2779,
    "start_time": "2024-01-23T06:49:30.096Z"
   },
   {
    "duration": 2349,
    "start_time": "2024-01-23T06:49:42.609Z"
   },
   {
    "duration": 1991,
    "start_time": "2024-01-23T06:50:16.055Z"
   },
   {
    "duration": 82,
    "start_time": "2024-01-23T07:33:28.314Z"
   },
   {
    "duration": 22,
    "start_time": "2024-01-23T07:33:35.882Z"
   },
   {
    "duration": 17,
    "start_time": "2024-01-23T07:33:54.444Z"
   },
   {
    "duration": 10,
    "start_time": "2024-01-23T07:35:55.054Z"
   },
   {
    "duration": 28,
    "start_time": "2024-01-23T07:36:03.357Z"
   },
   {
    "duration": 9,
    "start_time": "2024-01-23T07:36:12.285Z"
   },
   {
    "duration": 9,
    "start_time": "2024-01-23T07:37:45.911Z"
   },
   {
    "duration": 4,
    "start_time": "2024-01-23T07:42:20.548Z"
   },
   {
    "duration": 4,
    "start_time": "2024-01-23T07:42:33.898Z"
   },
   {
    "duration": 9,
    "start_time": "2024-01-23T07:45:51.094Z"
   },
   {
    "duration": 9,
    "start_time": "2024-01-23T07:48:57.176Z"
   },
   {
    "duration": 243,
    "start_time": "2024-01-23T07:53:17.547Z"
   },
   {
    "duration": 162,
    "start_time": "2024-01-23T07:53:37.452Z"
   },
   {
    "duration": 338,
    "start_time": "2024-01-23T07:53:46.043Z"
   },
   {
    "duration": 5,
    "start_time": "2024-01-23T08:17:57.483Z"
   },
   {
    "duration": 3,
    "start_time": "2024-01-23T08:18:16.462Z"
   },
   {
    "duration": 5,
    "start_time": "2024-01-23T08:18:45.473Z"
   },
   {
    "duration": 17,
    "start_time": "2024-01-23T08:20:20.667Z"
   },
   {
    "duration": 40,
    "start_time": "2024-01-23T08:25:55.597Z"
   },
   {
    "duration": 2,
    "start_time": "2024-01-23T08:26:18.023Z"
   },
   {
    "duration": 90,
    "start_time": "2024-01-23T08:26:18.570Z"
   },
   {
    "duration": 25,
    "start_time": "2024-01-23T08:26:19.727Z"
   },
   {
    "duration": 14,
    "start_time": "2024-01-23T08:26:24.459Z"
   },
   {
    "duration": 1953,
    "start_time": "2024-01-23T08:26:28.778Z"
   },
   {
    "duration": 18,
    "start_time": "2024-01-23T08:26:48.839Z"
   },
   {
    "duration": 7,
    "start_time": "2024-01-23T08:29:03.689Z"
   },
   {
    "duration": 6,
    "start_time": "2024-01-23T08:29:09.683Z"
   },
   {
    "duration": 19,
    "start_time": "2024-01-23T08:31:13.193Z"
   },
   {
    "duration": 6,
    "start_time": "2024-01-23T08:31:53.281Z"
   },
   {
    "duration": 8,
    "start_time": "2024-01-23T08:32:08.386Z"
   },
   {
    "duration": 7,
    "start_time": "2024-01-23T08:32:19.050Z"
   },
   {
    "duration": 647,
    "start_time": "2024-01-23T08:43:52.686Z"
   },
   {
    "duration": 99,
    "start_time": "2024-01-23T08:43:53.335Z"
   },
   {
    "duration": 29,
    "start_time": "2024-01-23T08:43:53.436Z"
   },
   {
    "duration": 14,
    "start_time": "2024-01-23T08:43:53.467Z"
   },
   {
    "duration": 2152,
    "start_time": "2024-01-23T08:43:53.483Z"
   },
   {
    "duration": 20,
    "start_time": "2024-01-23T08:43:55.637Z"
   },
   {
    "duration": 79,
    "start_time": "2024-01-23T08:43:55.659Z"
   },
   {
    "duration": 0,
    "start_time": "2024-01-23T08:43:55.739Z"
   },
   {
    "duration": 0,
    "start_time": "2024-01-23T08:43:55.740Z"
   },
   {
    "duration": 7,
    "start_time": "2024-01-23T08:44:08.874Z"
   },
   {
    "duration": 5,
    "start_time": "2024-01-23T08:44:16.042Z"
   },
   {
    "duration": 9,
    "start_time": "2024-01-23T08:49:34.044Z"
   },
   {
    "duration": 6,
    "start_time": "2024-01-23T08:49:41.848Z"
   },
   {
    "duration": 587,
    "start_time": "2024-01-23T09:15:54.267Z"
   },
   {
    "duration": 98,
    "start_time": "2024-01-23T09:15:54.856Z"
   },
   {
    "duration": 29,
    "start_time": "2024-01-23T09:15:54.958Z"
   },
   {
    "duration": 24,
    "start_time": "2024-01-23T09:15:54.989Z"
   },
   {
    "duration": 2154,
    "start_time": "2024-01-23T09:15:55.017Z"
   },
   {
    "duration": 21,
    "start_time": "2024-01-23T09:15:57.173Z"
   },
   {
    "duration": 33,
    "start_time": "2024-01-23T09:15:57.196Z"
   },
   {
    "duration": 18,
    "start_time": "2024-01-23T09:15:57.230Z"
   },
   {
    "duration": 25,
    "start_time": "2024-01-23T09:15:57.251Z"
   },
   {
    "duration": 156,
    "start_time": "2024-01-23T09:15:57.277Z"
   },
   {
    "duration": 5,
    "start_time": "2024-01-23T09:16:35.598Z"
   },
   {
    "duration": 5,
    "start_time": "2024-01-23T09:18:25.160Z"
   },
   {
    "duration": 75,
    "start_time": "2024-01-23T09:25:56.971Z"
   },
   {
    "duration": 15,
    "start_time": "2024-01-23T09:26:05.395Z"
   },
   {
    "duration": 14,
    "start_time": "2024-01-23T09:26:17.387Z"
   },
   {
    "duration": 14,
    "start_time": "2024-01-23T09:26:27.171Z"
   },
   {
    "duration": 19,
    "start_time": "2024-01-23T09:27:22.853Z"
   },
   {
    "duration": 63,
    "start_time": "2024-01-23T09:27:30.295Z"
   },
   {
    "duration": 27,
    "start_time": "2024-01-23T09:28:20.945Z"
   },
   {
    "duration": 9,
    "start_time": "2024-01-23T09:28:51.877Z"
   },
   {
    "duration": 6,
    "start_time": "2024-01-23T09:29:08.693Z"
   },
   {
    "duration": 9,
    "start_time": "2024-01-23T09:31:09.791Z"
   },
   {
    "duration": 7,
    "start_time": "2024-01-23T09:31:36.640Z"
   },
   {
    "duration": 7,
    "start_time": "2024-01-23T09:31:39.104Z"
   },
   {
    "duration": 4,
    "start_time": "2024-01-23T09:31:58.463Z"
   },
   {
    "duration": 7,
    "start_time": "2024-01-23T09:36:08.777Z"
   },
   {
    "duration": 5,
    "start_time": "2024-01-23T09:36:34.446Z"
   },
   {
    "duration": 9,
    "start_time": "2024-01-23T09:36:43.795Z"
   },
   {
    "duration": 6,
    "start_time": "2024-01-23T09:37:39.578Z"
   },
   {
    "duration": 655,
    "start_time": "2024-01-23T10:57:06.621Z"
   },
   {
    "duration": 100,
    "start_time": "2024-01-23T10:57:07.277Z"
   },
   {
    "duration": 29,
    "start_time": "2024-01-23T10:57:07.379Z"
   },
   {
    "duration": 15,
    "start_time": "2024-01-23T10:57:07.419Z"
   },
   {
    "duration": 2147,
    "start_time": "2024-01-23T10:57:07.436Z"
   },
   {
    "duration": 22,
    "start_time": "2024-01-23T10:57:09.585Z"
   },
   {
    "duration": 15,
    "start_time": "2024-01-23T10:57:09.609Z"
   },
   {
    "duration": 7,
    "start_time": "2024-01-23T10:57:09.626Z"
   },
   {
    "duration": 14,
    "start_time": "2024-01-23T10:57:09.635Z"
   },
   {
    "duration": 17,
    "start_time": "2024-01-23T10:57:09.651Z"
   },
   {
    "duration": 12,
    "start_time": "2024-01-23T10:57:09.669Z"
   },
   {
    "duration": 47,
    "start_time": "2024-01-23T10:57:09.682Z"
   },
   {
    "duration": 143,
    "start_time": "2024-01-23T10:57:09.730Z"
   },
   {
    "duration": 6,
    "start_time": "2024-01-23T10:59:53.361Z"
   },
   {
    "duration": 9,
    "start_time": "2024-01-23T11:09:10.767Z"
   },
   {
    "duration": 10,
    "start_time": "2024-01-23T11:09:46.857Z"
   },
   {
    "duration": 8,
    "start_time": "2024-01-23T11:11:34.131Z"
   },
   {
    "duration": 8,
    "start_time": "2024-01-23T11:12:24.817Z"
   },
   {
    "duration": 8,
    "start_time": "2024-01-23T11:12:42.506Z"
   },
   {
    "duration": 6,
    "start_time": "2024-01-23T11:12:57.651Z"
   },
   {
    "duration": 9,
    "start_time": "2024-01-23T11:13:26.210Z"
   },
   {
    "duration": 8,
    "start_time": "2024-01-23T11:14:07.157Z"
   },
   {
    "duration": 605,
    "start_time": "2024-01-23T11:14:18.856Z"
   },
   {
    "duration": 98,
    "start_time": "2024-01-23T11:14:19.463Z"
   },
   {
    "duration": 31,
    "start_time": "2024-01-23T11:14:19.562Z"
   },
   {
    "duration": 22,
    "start_time": "2024-01-23T11:14:19.595Z"
   },
   {
    "duration": 2072,
    "start_time": "2024-01-23T11:14:19.619Z"
   },
   {
    "duration": 22,
    "start_time": "2024-01-23T11:14:21.693Z"
   },
   {
    "duration": 10,
    "start_time": "2024-01-23T11:14:21.717Z"
   },
   {
    "duration": 15,
    "start_time": "2024-01-23T11:14:21.729Z"
   },
   {
    "duration": 17,
    "start_time": "2024-01-23T11:14:21.746Z"
   },
   {
    "duration": 39,
    "start_time": "2024-01-23T11:14:21.766Z"
   },
   {
    "duration": 11,
    "start_time": "2024-01-23T11:14:21.807Z"
   },
   {
    "duration": 33,
    "start_time": "2024-01-23T11:14:21.820Z"
   },
   {
    "duration": 29,
    "start_time": "2024-01-23T11:14:21.855Z"
   },
   {
    "duration": 147,
    "start_time": "2024-01-23T11:14:21.885Z"
   },
   {
    "duration": 656,
    "start_time": "2024-01-23T11:15:12.519Z"
   },
   {
    "duration": 99,
    "start_time": "2024-01-23T11:15:13.176Z"
   },
   {
    "duration": 28,
    "start_time": "2024-01-23T11:15:13.277Z"
   },
   {
    "duration": 24,
    "start_time": "2024-01-23T11:15:13.307Z"
   },
   {
    "duration": 2131,
    "start_time": "2024-01-23T11:15:13.332Z"
   },
   {
    "duration": 20,
    "start_time": "2024-01-23T11:15:15.465Z"
   },
   {
    "duration": 38,
    "start_time": "2024-01-23T11:15:15.487Z"
   },
   {
    "duration": 36,
    "start_time": "2024-01-23T11:15:15.527Z"
   },
   {
    "duration": 54,
    "start_time": "2024-01-23T11:15:15.565Z"
   },
   {
    "duration": 60,
    "start_time": "2024-01-23T11:15:15.621Z"
   },
   {
    "duration": 20,
    "start_time": "2024-01-23T11:15:15.683Z"
   },
   {
    "duration": 26,
    "start_time": "2024-01-23T11:15:15.705Z"
   },
   {
    "duration": 66,
    "start_time": "2024-01-23T11:15:15.733Z"
   },
   {
    "duration": 185,
    "start_time": "2024-01-23T11:15:15.800Z"
   },
   {
    "duration": 5,
    "start_time": "2024-01-23T11:15:19.715Z"
   },
   {
    "duration": 644,
    "start_time": "2024-01-23T11:15:46.811Z"
   },
   {
    "duration": 99,
    "start_time": "2024-01-23T11:15:47.457Z"
   },
   {
    "duration": 28,
    "start_time": "2024-01-23T11:15:47.557Z"
   },
   {
    "duration": 14,
    "start_time": "2024-01-23T11:15:47.587Z"
   },
   {
    "duration": 2177,
    "start_time": "2024-01-23T11:15:47.602Z"
   },
   {
    "duration": 20,
    "start_time": "2024-01-23T11:15:49.781Z"
   },
   {
    "duration": 9,
    "start_time": "2024-01-23T11:15:49.802Z"
   },
   {
    "duration": 6,
    "start_time": "2024-01-23T11:15:49.812Z"
   },
   {
    "duration": 6,
    "start_time": "2024-01-23T11:15:49.820Z"
   },
   {
    "duration": 24,
    "start_time": "2024-01-23T11:15:49.827Z"
   },
   {
    "duration": 7,
    "start_time": "2024-01-23T11:15:49.852Z"
   },
   {
    "duration": 11,
    "start_time": "2024-01-23T11:15:49.861Z"
   },
   {
    "duration": 15,
    "start_time": "2024-01-23T11:15:49.873Z"
   },
   {
    "duration": 150,
    "start_time": "2024-01-23T11:15:49.889Z"
   },
   {
    "duration": 668,
    "start_time": "2024-01-23T11:16:15.598Z"
   },
   {
    "duration": 95,
    "start_time": "2024-01-23T11:16:16.268Z"
   },
   {
    "duration": 28,
    "start_time": "2024-01-23T11:16:16.365Z"
   },
   {
    "duration": 27,
    "start_time": "2024-01-23T11:16:16.394Z"
   },
   {
    "duration": 2089,
    "start_time": "2024-01-23T11:16:16.422Z"
   },
   {
    "duration": 21,
    "start_time": "2024-01-23T11:16:18.513Z"
   },
   {
    "duration": 14,
    "start_time": "2024-01-23T11:16:18.536Z"
   },
   {
    "duration": 20,
    "start_time": "2024-01-23T11:16:18.551Z"
   },
   {
    "duration": 22,
    "start_time": "2024-01-23T11:16:18.572Z"
   },
   {
    "duration": 10,
    "start_time": "2024-01-23T11:16:18.597Z"
   },
   {
    "duration": 9,
    "start_time": "2024-01-23T11:16:18.609Z"
   },
   {
    "duration": 21,
    "start_time": "2024-01-23T11:16:18.619Z"
   },
   {
    "duration": 18,
    "start_time": "2024-01-23T11:16:18.641Z"
   },
   {
    "duration": 159,
    "start_time": "2024-01-23T11:16:18.660Z"
   },
   {
    "duration": 628,
    "start_time": "2024-01-23T11:36:47.732Z"
   },
   {
    "duration": 97,
    "start_time": "2024-01-23T11:36:48.362Z"
   },
   {
    "duration": 29,
    "start_time": "2024-01-23T11:36:48.462Z"
   },
   {
    "duration": 30,
    "start_time": "2024-01-23T11:36:48.492Z"
   },
   {
    "duration": 2059,
    "start_time": "2024-01-23T11:36:48.524Z"
   },
   {
    "duration": 21,
    "start_time": "2024-01-23T11:36:50.585Z"
   },
   {
    "duration": 12,
    "start_time": "2024-01-23T11:36:50.607Z"
   },
   {
    "duration": 25,
    "start_time": "2024-01-23T11:36:50.621Z"
   },
   {
    "duration": 6,
    "start_time": "2024-01-23T11:36:50.648Z"
   },
   {
    "duration": 16,
    "start_time": "2024-01-23T11:36:50.655Z"
   },
   {
    "duration": 8,
    "start_time": "2024-01-23T11:36:50.673Z"
   },
   {
    "duration": 8,
    "start_time": "2024-01-23T11:36:50.682Z"
   },
   {
    "duration": 14,
    "start_time": "2024-01-23T11:36:50.691Z"
   },
   {
    "duration": 139,
    "start_time": "2024-01-23T11:36:50.706Z"
   },
   {
    "duration": 621,
    "start_time": "2024-01-23T11:37:25.365Z"
   },
   {
    "duration": 100,
    "start_time": "2024-01-23T11:37:25.988Z"
   },
   {
    "duration": 33,
    "start_time": "2024-01-23T11:37:26.089Z"
   },
   {
    "duration": 15,
    "start_time": "2024-01-23T11:37:26.124Z"
   },
   {
    "duration": 2126,
    "start_time": "2024-01-23T11:37:26.141Z"
   },
   {
    "duration": 20,
    "start_time": "2024-01-23T11:37:28.269Z"
   },
   {
    "duration": 24,
    "start_time": "2024-01-23T11:37:28.291Z"
   },
   {
    "duration": 55,
    "start_time": "2024-01-23T11:37:28.316Z"
   },
   {
    "duration": 11,
    "start_time": "2024-01-23T11:37:28.372Z"
   },
   {
    "duration": 19,
    "start_time": "2024-01-23T11:37:28.385Z"
   },
   {
    "duration": 22,
    "start_time": "2024-01-23T11:37:28.405Z"
   },
   {
    "duration": 23,
    "start_time": "2024-01-23T11:37:28.429Z"
   },
   {
    "duration": 20,
    "start_time": "2024-01-23T11:37:28.454Z"
   },
   {
    "duration": 144,
    "start_time": "2024-01-23T11:37:28.475Z"
   },
   {
    "duration": 13,
    "start_time": "2024-01-23T11:39:04.715Z"
   },
   {
    "duration": 16,
    "start_time": "2024-01-23T11:39:55.883Z"
   },
   {
    "duration": 9,
    "start_time": "2024-01-23T11:40:21.587Z"
   },
   {
    "duration": 605,
    "start_time": "2024-01-23T11:40:50.148Z"
   },
   {
    "duration": 98,
    "start_time": "2024-01-23T11:40:50.755Z"
   },
   {
    "duration": 28,
    "start_time": "2024-01-23T11:40:50.854Z"
   },
   {
    "duration": 24,
    "start_time": "2024-01-23T11:40:50.884Z"
   },
   {
    "duration": 2082,
    "start_time": "2024-01-23T11:40:50.909Z"
   },
   {
    "duration": 20,
    "start_time": "2024-01-23T11:40:52.993Z"
   },
   {
    "duration": 9,
    "start_time": "2024-01-23T11:40:53.015Z"
   },
   {
    "duration": 8,
    "start_time": "2024-01-23T11:40:53.025Z"
   },
   {
    "duration": 15,
    "start_time": "2024-01-23T11:40:53.035Z"
   },
   {
    "duration": 14,
    "start_time": "2024-01-23T11:40:53.052Z"
   },
   {
    "duration": 12,
    "start_time": "2024-01-23T11:40:53.067Z"
   },
   {
    "duration": 6,
    "start_time": "2024-01-23T11:40:53.080Z"
   },
   {
    "duration": 12,
    "start_time": "2024-01-23T11:40:53.087Z"
   },
   {
    "duration": 155,
    "start_time": "2024-01-23T11:40:53.100Z"
   },
   {
    "duration": 632,
    "start_time": "2024-01-23T11:42:46.434Z"
   },
   {
    "duration": 100,
    "start_time": "2024-01-23T11:42:47.068Z"
   },
   {
    "duration": 29,
    "start_time": "2024-01-23T11:42:47.169Z"
   },
   {
    "duration": 26,
    "start_time": "2024-01-23T11:42:47.200Z"
   },
   {
    "duration": 2147,
    "start_time": "2024-01-23T11:42:47.228Z"
   },
   {
    "duration": 22,
    "start_time": "2024-01-23T11:42:49.376Z"
   },
   {
    "duration": 26,
    "start_time": "2024-01-23T11:42:49.399Z"
   },
   {
    "duration": 21,
    "start_time": "2024-01-23T11:42:49.426Z"
   },
   {
    "duration": 30,
    "start_time": "2024-01-23T11:42:49.448Z"
   },
   {
    "duration": 32,
    "start_time": "2024-01-23T11:42:49.481Z"
   },
   {
    "duration": 33,
    "start_time": "2024-01-23T11:42:49.514Z"
   },
   {
    "duration": 24,
    "start_time": "2024-01-23T11:42:49.549Z"
   },
   {
    "duration": 29,
    "start_time": "2024-01-23T11:42:49.574Z"
   },
   {
    "duration": 156,
    "start_time": "2024-01-23T11:42:49.604Z"
   },
   {
    "duration": 656,
    "start_time": "2024-01-23T11:45:23.730Z"
   },
   {
    "duration": 100,
    "start_time": "2024-01-23T11:45:24.388Z"
   },
   {
    "duration": 34,
    "start_time": "2024-01-23T11:45:24.489Z"
   },
   {
    "duration": 15,
    "start_time": "2024-01-23T11:45:24.525Z"
   },
   {
    "duration": 2230,
    "start_time": "2024-01-23T11:45:24.541Z"
   },
   {
    "duration": 23,
    "start_time": "2024-01-23T11:45:26.773Z"
   },
   {
    "duration": 9,
    "start_time": "2024-01-23T11:45:26.798Z"
   },
   {
    "duration": 42,
    "start_time": "2024-01-23T11:45:26.809Z"
   },
   {
    "duration": 6,
    "start_time": "2024-01-23T11:45:26.853Z"
   },
   {
    "duration": 14,
    "start_time": "2024-01-23T11:45:26.861Z"
   },
   {
    "duration": 101,
    "start_time": "2024-01-23T11:45:26.876Z"
   },
   {
    "duration": 0,
    "start_time": "2024-01-23T11:45:26.979Z"
   },
   {
    "duration": 0,
    "start_time": "2024-01-23T11:45:26.980Z"
   },
   {
    "duration": 0,
    "start_time": "2024-01-23T11:45:26.981Z"
   },
   {
    "duration": 641,
    "start_time": "2024-01-23T11:45:49.911Z"
   },
   {
    "duration": 97,
    "start_time": "2024-01-23T11:45:50.554Z"
   },
   {
    "duration": 28,
    "start_time": "2024-01-23T11:45:50.653Z"
   },
   {
    "duration": 19,
    "start_time": "2024-01-23T11:45:50.684Z"
   },
   {
    "duration": 2078,
    "start_time": "2024-01-23T11:45:50.705Z"
   },
   {
    "duration": 21,
    "start_time": "2024-01-23T11:45:52.784Z"
   },
   {
    "duration": 13,
    "start_time": "2024-01-23T11:45:52.806Z"
   },
   {
    "duration": 7,
    "start_time": "2024-01-23T11:45:52.820Z"
   },
   {
    "duration": 16,
    "start_time": "2024-01-23T11:45:52.828Z"
   },
   {
    "duration": 20,
    "start_time": "2024-01-23T11:45:52.846Z"
   },
   {
    "duration": 20,
    "start_time": "2024-01-23T11:45:52.867Z"
   },
   {
    "duration": 16,
    "start_time": "2024-01-23T11:45:52.888Z"
   },
   {
    "duration": 13,
    "start_time": "2024-01-23T11:45:52.906Z"
   },
   {
    "duration": 145,
    "start_time": "2024-01-23T11:45:52.920Z"
   },
   {
    "duration": 7,
    "start_time": "2024-01-23T13:23:49.771Z"
   },
   {
    "duration": 12,
    "start_time": "2024-01-24T08:15:13.465Z"
   },
   {
    "duration": 694,
    "start_time": "2024-01-24T08:15:27.418Z"
   },
   {
    "duration": 110,
    "start_time": "2024-01-24T08:15:28.114Z"
   },
   {
    "duration": 30,
    "start_time": "2024-01-24T08:15:28.225Z"
   },
   {
    "duration": 15,
    "start_time": "2024-01-24T08:15:28.257Z"
   },
   {
    "duration": 2145,
    "start_time": "2024-01-24T08:15:28.274Z"
   },
   {
    "duration": 21,
    "start_time": "2024-01-24T08:15:30.421Z"
   },
   {
    "duration": 62,
    "start_time": "2024-01-24T08:15:30.444Z"
   },
   {
    "duration": 44,
    "start_time": "2024-01-24T08:15:30.507Z"
   },
   {
    "duration": 86,
    "start_time": "2024-01-24T08:15:30.553Z"
   },
   {
    "duration": 77,
    "start_time": "2024-01-24T08:15:30.642Z"
   },
   {
    "duration": 66,
    "start_time": "2024-01-24T08:15:30.721Z"
   },
   {
    "duration": 79,
    "start_time": "2024-01-24T08:15:30.789Z"
   },
   {
    "duration": 62,
    "start_time": "2024-01-24T08:15:30.869Z"
   },
   {
    "duration": 65,
    "start_time": "2024-01-24T08:15:30.933Z"
   },
   {
    "duration": 268,
    "start_time": "2024-01-24T08:15:30.999Z"
   },
   {
    "duration": 629,
    "start_time": "2024-01-24T08:18:26.024Z"
   },
   {
    "duration": 97,
    "start_time": "2024-01-24T08:18:26.655Z"
   },
   {
    "duration": 27,
    "start_time": "2024-01-24T08:18:26.754Z"
   },
   {
    "duration": 41,
    "start_time": "2024-01-24T08:18:26.783Z"
   },
   {
    "duration": 2109,
    "start_time": "2024-01-24T08:18:26.826Z"
   },
   {
    "duration": 20,
    "start_time": "2024-01-24T08:18:28.937Z"
   },
   {
    "duration": 9,
    "start_time": "2024-01-24T08:18:28.959Z"
   },
   {
    "duration": 34,
    "start_time": "2024-01-24T08:18:28.969Z"
   },
   {
    "duration": 13,
    "start_time": "2024-01-24T08:18:29.005Z"
   },
   {
    "duration": 24,
    "start_time": "2024-01-24T08:18:29.020Z"
   },
   {
    "duration": 18,
    "start_time": "2024-01-24T08:18:29.045Z"
   },
   {
    "duration": 13,
    "start_time": "2024-01-24T08:18:29.065Z"
   },
   {
    "duration": 64,
    "start_time": "2024-01-24T08:18:29.079Z"
   },
   {
    "duration": 16,
    "start_time": "2024-01-24T08:18:29.145Z"
   },
   {
    "duration": 9,
    "start_time": "2024-01-24T08:18:29.163Z"
   },
   {
    "duration": 145,
    "start_time": "2024-01-24T08:18:29.174Z"
   },
   {
    "duration": 77,
    "start_time": "2024-01-24T08:20:05.310Z"
   },
   {
    "duration": 8,
    "start_time": "2024-01-24T08:20:47.109Z"
   },
   {
    "duration": 716,
    "start_time": "2024-01-24T08:21:16.549Z"
   },
   {
    "duration": 101,
    "start_time": "2024-01-24T08:21:17.267Z"
   },
   {
    "duration": 29,
    "start_time": "2024-01-24T08:21:17.370Z"
   },
   {
    "duration": 27,
    "start_time": "2024-01-24T08:21:17.400Z"
   },
   {
    "duration": 2115,
    "start_time": "2024-01-24T08:21:17.428Z"
   },
   {
    "duration": 21,
    "start_time": "2024-01-24T08:21:19.544Z"
   },
   {
    "duration": 9,
    "start_time": "2024-01-24T08:21:19.567Z"
   },
   {
    "duration": 10,
    "start_time": "2024-01-24T08:21:19.577Z"
   },
   {
    "duration": 29,
    "start_time": "2024-01-24T08:21:19.589Z"
   },
   {
    "duration": 12,
    "start_time": "2024-01-24T08:21:19.620Z"
   },
   {
    "duration": 7,
    "start_time": "2024-01-24T08:21:19.633Z"
   },
   {
    "duration": 92,
    "start_time": "2024-01-24T08:21:19.642Z"
   },
   {
    "duration": 0,
    "start_time": "2024-01-24T08:21:19.735Z"
   },
   {
    "duration": 0,
    "start_time": "2024-01-24T08:21:19.736Z"
   },
   {
    "duration": 0,
    "start_time": "2024-01-24T08:21:19.737Z"
   },
   {
    "duration": 0,
    "start_time": "2024-01-24T08:21:19.738Z"
   },
   {
    "duration": 0,
    "start_time": "2024-01-24T08:21:19.740Z"
   },
   {
    "duration": 26,
    "start_time": "2024-01-24T08:21:26.597Z"
   },
   {
    "duration": 630,
    "start_time": "2024-01-24T08:21:35.144Z"
   },
   {
    "duration": 101,
    "start_time": "2024-01-24T08:21:35.776Z"
   },
   {
    "duration": 29,
    "start_time": "2024-01-24T08:21:35.879Z"
   },
   {
    "duration": 38,
    "start_time": "2024-01-24T08:21:35.917Z"
   },
   {
    "duration": 2059,
    "start_time": "2024-01-24T08:21:35.956Z"
   },
   {
    "duration": 23,
    "start_time": "2024-01-24T08:21:38.016Z"
   },
   {
    "duration": 10,
    "start_time": "2024-01-24T08:21:38.040Z"
   },
   {
    "duration": 9,
    "start_time": "2024-01-24T08:21:38.051Z"
   },
   {
    "duration": 14,
    "start_time": "2024-01-24T08:21:38.062Z"
   },
   {
    "duration": 28,
    "start_time": "2024-01-24T08:21:38.078Z"
   },
   {
    "duration": 14,
    "start_time": "2024-01-24T08:21:38.107Z"
   },
   {
    "duration": 29,
    "start_time": "2024-01-24T08:21:38.122Z"
   },
   {
    "duration": 7,
    "start_time": "2024-01-24T08:21:38.153Z"
   },
   {
    "duration": 12,
    "start_time": "2024-01-24T08:21:38.161Z"
   },
   {
    "duration": 29,
    "start_time": "2024-01-24T08:21:38.175Z"
   },
   {
    "duration": 16,
    "start_time": "2024-01-24T08:21:38.205Z"
   },
   {
    "duration": 145,
    "start_time": "2024-01-24T08:21:38.222Z"
   },
   {
    "duration": 674,
    "start_time": "2024-01-25T07:15:18.081Z"
   },
   {
    "duration": 115,
    "start_time": "2024-01-25T07:15:18.757Z"
   },
   {
    "duration": 31,
    "start_time": "2024-01-25T07:15:18.874Z"
   },
   {
    "duration": 28,
    "start_time": "2024-01-25T07:15:18.907Z"
   },
   {
    "duration": 2434,
    "start_time": "2024-01-25T07:15:18.937Z"
   },
   {
    "duration": 31,
    "start_time": "2024-01-25T07:15:21.374Z"
   },
   {
    "duration": 10,
    "start_time": "2024-01-25T07:15:21.406Z"
   },
   {
    "duration": 32,
    "start_time": "2024-01-25T07:15:21.418Z"
   },
   {
    "duration": 23,
    "start_time": "2024-01-25T07:15:21.451Z"
   },
   {
    "duration": 34,
    "start_time": "2024-01-25T07:15:21.477Z"
   },
   {
    "duration": 35,
    "start_time": "2024-01-25T07:15:21.512Z"
   },
   {
    "duration": 42,
    "start_time": "2024-01-25T07:15:21.549Z"
   },
   {
    "duration": 7,
    "start_time": "2024-01-25T07:15:21.592Z"
   },
   {
    "duration": 24,
    "start_time": "2024-01-25T07:15:21.601Z"
   },
   {
    "duration": 42,
    "start_time": "2024-01-25T07:15:21.628Z"
   },
   {
    "duration": 38,
    "start_time": "2024-01-25T07:15:21.672Z"
   },
   {
    "duration": 169,
    "start_time": "2024-01-25T07:15:21.712Z"
   },
   {
    "duration": 666,
    "start_time": "2024-01-25T08:32:25.898Z"
   },
   {
    "duration": 101,
    "start_time": "2024-01-25T08:32:26.566Z"
   },
   {
    "duration": 28,
    "start_time": "2024-01-25T08:32:26.669Z"
   },
   {
    "duration": 27,
    "start_time": "2024-01-25T08:32:26.699Z"
   },
   {
    "duration": 2135,
    "start_time": "2024-01-25T08:32:26.728Z"
   },
   {
    "duration": 21,
    "start_time": "2024-01-25T08:32:28.865Z"
   },
   {
    "duration": 40,
    "start_time": "2024-01-25T08:32:28.887Z"
   },
   {
    "duration": 19,
    "start_time": "2024-01-25T08:32:28.929Z"
   },
   {
    "duration": 34,
    "start_time": "2024-01-25T08:32:28.950Z"
   },
   {
    "duration": 43,
    "start_time": "2024-01-25T08:32:28.987Z"
   },
   {
    "duration": 51,
    "start_time": "2024-01-25T08:32:29.032Z"
   },
   {
    "duration": 54,
    "start_time": "2024-01-25T08:32:29.085Z"
   },
   {
    "duration": 17,
    "start_time": "2024-01-25T08:32:29.140Z"
   },
   {
    "duration": 44,
    "start_time": "2024-01-25T08:32:29.159Z"
   },
   {
    "duration": 93,
    "start_time": "2024-01-25T08:32:29.205Z"
   },
   {
    "duration": 0,
    "start_time": "2024-01-25T08:32:29.299Z"
   },
   {
    "duration": 0,
    "start_time": "2024-01-25T08:32:29.300Z"
   },
   {
    "duration": 665,
    "start_time": "2024-01-25T08:32:57.603Z"
   },
   {
    "duration": 101,
    "start_time": "2024-01-25T08:32:58.270Z"
   },
   {
    "duration": 29,
    "start_time": "2024-01-25T08:32:58.373Z"
   },
   {
    "duration": 22,
    "start_time": "2024-01-25T08:32:58.404Z"
   },
   {
    "duration": 2139,
    "start_time": "2024-01-25T08:32:58.428Z"
   },
   {
    "duration": 22,
    "start_time": "2024-01-25T08:33:00.569Z"
   },
   {
    "duration": 39,
    "start_time": "2024-01-25T08:33:00.592Z"
   },
   {
    "duration": 30,
    "start_time": "2024-01-25T08:33:00.632Z"
   },
   {
    "duration": 92,
    "start_time": "2024-01-25T08:33:00.664Z"
   },
   {
    "duration": 35,
    "start_time": "2024-01-25T08:33:00.759Z"
   },
   {
    "duration": 46,
    "start_time": "2024-01-25T08:33:00.796Z"
   },
   {
    "duration": 58,
    "start_time": "2024-01-25T08:33:00.844Z"
   },
   {
    "duration": 7,
    "start_time": "2024-01-25T08:33:00.904Z"
   },
   {
    "duration": 37,
    "start_time": "2024-01-25T08:33:00.913Z"
   },
   {
    "duration": 125,
    "start_time": "2024-01-25T08:33:00.952Z"
   },
   {
    "duration": 0,
    "start_time": "2024-01-25T08:33:01.078Z"
   },
   {
    "duration": 0,
    "start_time": "2024-01-25T08:33:01.080Z"
   },
   {
    "duration": 18,
    "start_time": "2024-01-25T08:33:19.496Z"
   },
   {
    "duration": 109,
    "start_time": "2024-01-25T08:34:30.625Z"
   },
   {
    "duration": 19,
    "start_time": "2024-01-25T08:36:27.989Z"
   },
   {
    "duration": 18,
    "start_time": "2024-01-25T08:37:46.815Z"
   },
   {
    "duration": 26,
    "start_time": "2024-01-25T08:38:23.519Z"
   },
   {
    "duration": 18,
    "start_time": "2024-01-25T08:39:04.768Z"
   },
   {
    "duration": 27,
    "start_time": "2024-01-25T08:39:16.159Z"
   },
   {
    "duration": 26,
    "start_time": "2024-01-25T08:39:39.741Z"
   },
   {
    "duration": 18,
    "start_time": "2024-01-25T08:39:59.263Z"
   },
   {
    "duration": 17,
    "start_time": "2024-01-25T08:40:23.316Z"
   },
   {
    "duration": 18,
    "start_time": "2024-01-25T08:40:28.287Z"
   },
   {
    "duration": 28,
    "start_time": "2024-01-25T08:41:11.679Z"
   },
   {
    "duration": 18,
    "start_time": "2024-01-25T08:41:39.423Z"
   },
   {
    "duration": 22,
    "start_time": "2024-01-25T08:42:12.136Z"
   },
   {
    "duration": 18,
    "start_time": "2024-01-25T08:42:19.376Z"
   },
   {
    "duration": 22,
    "start_time": "2024-01-25T08:42:24.572Z"
   },
   {
    "duration": 19,
    "start_time": "2024-01-25T08:42:50.863Z"
   },
   {
    "duration": 18,
    "start_time": "2024-01-25T08:43:20.089Z"
   },
   {
    "duration": 18,
    "start_time": "2024-01-25T08:43:59.625Z"
   },
   {
    "duration": 27,
    "start_time": "2024-01-25T08:44:24.033Z"
   },
   {
    "duration": 27,
    "start_time": "2024-01-25T08:44:59.719Z"
   },
   {
    "duration": 19,
    "start_time": "2024-01-25T08:45:09.780Z"
   },
   {
    "duration": 19,
    "start_time": "2024-01-25T08:45:17.153Z"
   },
   {
    "duration": 19,
    "start_time": "2024-01-25T08:45:47.848Z"
   },
   {
    "duration": 19,
    "start_time": "2024-01-25T08:46:47.495Z"
   },
   {
    "duration": 27,
    "start_time": "2024-01-25T08:47:02.524Z"
   },
   {
    "duration": 17,
    "start_time": "2024-01-25T08:48:07.616Z"
   },
   {
    "duration": 19,
    "start_time": "2024-01-25T08:49:00.155Z"
   },
   {
    "duration": 15,
    "start_time": "2024-01-25T08:49:11.853Z"
   },
   {
    "duration": 15,
    "start_time": "2024-01-25T08:49:21.200Z"
   },
   {
    "duration": 18,
    "start_time": "2024-01-25T08:50:07.654Z"
   },
   {
    "duration": 17,
    "start_time": "2024-01-25T08:50:14.990Z"
   },
   {
    "duration": 95,
    "start_time": "2024-01-25T08:52:52.976Z"
   },
   {
    "duration": 15,
    "start_time": "2024-01-25T08:52:58.098Z"
   },
   {
    "duration": 26,
    "start_time": "2024-01-25T08:55:02.440Z"
   },
   {
    "duration": 26,
    "start_time": "2024-01-25T08:55:35.079Z"
   },
   {
    "duration": 25,
    "start_time": "2024-01-25T08:55:56.131Z"
   },
   {
    "duration": 26,
    "start_time": "2024-01-25T08:56:18.227Z"
   },
   {
    "duration": 148,
    "start_time": "2024-01-25T09:09:58.957Z"
   },
   {
    "duration": 159,
    "start_time": "2024-01-25T09:10:17.799Z"
   },
   {
    "duration": 149,
    "start_time": "2024-01-25T09:10:48.777Z"
   },
   {
    "duration": 170,
    "start_time": "2024-01-25T09:11:52.929Z"
   },
   {
    "duration": 154,
    "start_time": "2024-01-25T09:12:31.235Z"
   },
   {
    "duration": 195,
    "start_time": "2024-01-25T09:16:05.644Z"
   },
   {
    "duration": 165,
    "start_time": "2024-01-25T09:16:39.428Z"
   },
   {
    "duration": 150,
    "start_time": "2024-01-25T09:17:39.068Z"
   },
   {
    "duration": 153,
    "start_time": "2024-01-25T09:18:13.382Z"
   },
   {
    "duration": 153,
    "start_time": "2024-01-25T09:18:42.964Z"
   },
   {
    "duration": 170,
    "start_time": "2024-01-25T09:21:09.795Z"
   },
   {
    "duration": 199,
    "start_time": "2024-01-25T09:21:44.744Z"
   },
   {
    "duration": 671,
    "start_time": "2024-01-25T09:23:40.700Z"
   },
   {
    "duration": 102,
    "start_time": "2024-01-25T09:23:41.373Z"
   },
   {
    "duration": 30,
    "start_time": "2024-01-25T09:23:41.477Z"
   },
   {
    "duration": 17,
    "start_time": "2024-01-25T09:23:41.517Z"
   },
   {
    "duration": 2179,
    "start_time": "2024-01-25T09:23:41.536Z"
   },
   {
    "duration": 35,
    "start_time": "2024-01-25T09:23:43.717Z"
   },
   {
    "duration": 14,
    "start_time": "2024-01-25T09:23:43.755Z"
   },
   {
    "duration": 9,
    "start_time": "2024-01-25T09:23:43.771Z"
   },
   {
    "duration": 9,
    "start_time": "2024-01-25T09:23:43.781Z"
   },
   {
    "duration": 33,
    "start_time": "2024-01-25T09:23:43.792Z"
   },
   {
    "duration": 16,
    "start_time": "2024-01-25T09:23:43.827Z"
   },
   {
    "duration": 29,
    "start_time": "2024-01-25T09:23:43.845Z"
   },
   {
    "duration": 6,
    "start_time": "2024-01-25T09:23:43.876Z"
   },
   {
    "duration": 14,
    "start_time": "2024-01-25T09:23:43.883Z"
   },
   {
    "duration": 179,
    "start_time": "2024-01-25T09:23:43.899Z"
   },
   {
    "duration": 9,
    "start_time": "2024-01-25T09:23:44.080Z"
   },
   {
    "duration": 166,
    "start_time": "2024-01-25T09:23:44.091Z"
   },
   {
    "duration": 660,
    "start_time": "2024-01-25T09:24:25.693Z"
   },
   {
    "duration": 108,
    "start_time": "2024-01-25T09:24:26.355Z"
   },
   {
    "duration": 30,
    "start_time": "2024-01-25T09:24:26.465Z"
   },
   {
    "duration": 48,
    "start_time": "2024-01-25T09:24:26.497Z"
   },
   {
    "duration": 2132,
    "start_time": "2024-01-25T09:24:26.547Z"
   },
   {
    "duration": 23,
    "start_time": "2024-01-25T09:24:28.681Z"
   },
   {
    "duration": 10,
    "start_time": "2024-01-25T09:24:28.705Z"
   },
   {
    "duration": 9,
    "start_time": "2024-01-25T09:24:28.716Z"
   },
   {
    "duration": 6,
    "start_time": "2024-01-25T09:24:28.726Z"
   },
   {
    "duration": 24,
    "start_time": "2024-01-25T09:24:28.734Z"
   },
   {
    "duration": 8,
    "start_time": "2024-01-25T09:24:28.759Z"
   },
   {
    "duration": 28,
    "start_time": "2024-01-25T09:24:28.768Z"
   },
   {
    "duration": 23,
    "start_time": "2024-01-25T09:24:28.798Z"
   },
   {
    "duration": 7,
    "start_time": "2024-01-25T09:24:28.823Z"
   },
   {
    "duration": 112,
    "start_time": "2024-01-25T09:24:28.832Z"
   },
   {
    "duration": 0,
    "start_time": "2024-01-25T09:24:28.946Z"
   },
   {
    "duration": 0,
    "start_time": "2024-01-25T09:24:28.947Z"
   },
   {
    "duration": 31,
    "start_time": "2024-01-25T09:26:52.616Z"
   },
   {
    "duration": 688,
    "start_time": "2024-01-25T09:26:58.980Z"
   },
   {
    "duration": 101,
    "start_time": "2024-01-25T09:26:59.670Z"
   },
   {
    "duration": 29,
    "start_time": "2024-01-25T09:26:59.773Z"
   },
   {
    "duration": 27,
    "start_time": "2024-01-25T09:26:59.804Z"
   },
   {
    "duration": 2186,
    "start_time": "2024-01-25T09:26:59.833Z"
   },
   {
    "duration": 22,
    "start_time": "2024-01-25T09:27:02.021Z"
   },
   {
    "duration": 53,
    "start_time": "2024-01-25T09:27:02.044Z"
   },
   {
    "duration": 50,
    "start_time": "2024-01-25T09:27:02.099Z"
   },
   {
    "duration": 50,
    "start_time": "2024-01-25T09:27:02.151Z"
   },
   {
    "duration": 59,
    "start_time": "2024-01-25T09:27:02.204Z"
   },
   {
    "duration": 65,
    "start_time": "2024-01-25T09:27:02.264Z"
   },
   {
    "duration": 93,
    "start_time": "2024-01-25T09:27:02.331Z"
   },
   {
    "duration": 61,
    "start_time": "2024-01-25T09:27:02.425Z"
   },
   {
    "duration": 58,
    "start_time": "2024-01-25T09:27:02.487Z"
   },
   {
    "duration": 143,
    "start_time": "2024-01-25T09:27:02.546Z"
   },
   {
    "duration": 0,
    "start_time": "2024-01-25T09:27:02.690Z"
   },
   {
    "duration": 0,
    "start_time": "2024-01-25T09:27:02.692Z"
   },
   {
    "duration": 32,
    "start_time": "2024-01-25T09:28:30.659Z"
   },
   {
    "duration": 21,
    "start_time": "2024-01-25T09:29:05.028Z"
   },
   {
    "duration": 790,
    "start_time": "2024-01-25T09:29:24.802Z"
   },
   {
    "duration": 149,
    "start_time": "2024-01-25T09:29:25.594Z"
   },
   {
    "duration": 51,
    "start_time": "2024-01-25T09:29:25.746Z"
   },
   {
    "duration": 42,
    "start_time": "2024-01-25T09:29:25.801Z"
   },
   {
    "duration": 3586,
    "start_time": "2024-01-25T09:29:25.845Z"
   },
   {
    "duration": 38,
    "start_time": "2024-01-25T09:29:29.434Z"
   },
   {
    "duration": 17,
    "start_time": "2024-01-25T09:29:29.475Z"
   },
   {
    "duration": 25,
    "start_time": "2024-01-25T09:29:29.494Z"
   },
   {
    "duration": 8,
    "start_time": "2024-01-25T09:29:29.521Z"
   },
   {
    "duration": 18,
    "start_time": "2024-01-25T09:29:29.533Z"
   },
   {
    "duration": 21,
    "start_time": "2024-01-25T09:29:29.554Z"
   },
   {
    "duration": 62,
    "start_time": "2024-01-25T09:29:29.577Z"
   },
   {
    "duration": 11,
    "start_time": "2024-01-25T09:29:29.641Z"
   },
   {
    "duration": 13,
    "start_time": "2024-01-25T09:29:29.654Z"
   },
   {
    "duration": 116,
    "start_time": "2024-01-25T09:29:29.669Z"
   },
   {
    "duration": 0,
    "start_time": "2024-01-25T09:29:29.788Z"
   },
   {
    "duration": 0,
    "start_time": "2024-01-25T09:29:29.789Z"
   },
   {
    "duration": 20,
    "start_time": "2024-01-25T09:29:50.981Z"
   },
   {
    "duration": 27,
    "start_time": "2024-01-25T09:31:49.369Z"
   },
   {
    "duration": 21,
    "start_time": "2024-01-25T09:44:14.238Z"
   },
   {
    "duration": 27,
    "start_time": "2024-01-25T09:44:25.797Z"
   },
   {
    "duration": 25,
    "start_time": "2024-01-25T09:44:55.830Z"
   },
   {
    "duration": 19,
    "start_time": "2024-01-25T09:45:28.696Z"
   },
   {
    "duration": 86,
    "start_time": "2024-01-25T09:45:36.350Z"
   },
   {
    "duration": 18,
    "start_time": "2024-01-25T09:45:45.665Z"
   },
   {
    "duration": 21,
    "start_time": "2024-01-25T09:46:39.369Z"
   },
   {
    "duration": 164,
    "start_time": "2024-01-25T09:46:53.548Z"
   },
   {
    "duration": 22,
    "start_time": "2024-01-25T09:47:19.741Z"
   },
   {
    "duration": 169,
    "start_time": "2024-01-25T09:48:09.144Z"
   },
   {
    "duration": 97,
    "start_time": "2024-01-25T09:48:37.718Z"
   },
   {
    "duration": 159,
    "start_time": "2024-01-25T09:48:42.881Z"
   },
   {
    "duration": 668,
    "start_time": "2024-01-25T09:49:19.304Z"
   },
   {
    "duration": 101,
    "start_time": "2024-01-25T09:49:19.974Z"
   },
   {
    "duration": 31,
    "start_time": "2024-01-25T09:49:20.077Z"
   },
   {
    "duration": 22,
    "start_time": "2024-01-25T09:49:20.119Z"
   },
   {
    "duration": 2188,
    "start_time": "2024-01-25T09:49:20.143Z"
   },
   {
    "duration": 21,
    "start_time": "2024-01-25T09:49:22.333Z"
   },
   {
    "duration": 17,
    "start_time": "2024-01-25T09:49:22.355Z"
   },
   {
    "duration": 22,
    "start_time": "2024-01-25T09:49:22.374Z"
   },
   {
    "duration": 63,
    "start_time": "2024-01-25T09:49:22.398Z"
   },
   {
    "duration": 49,
    "start_time": "2024-01-25T09:49:22.463Z"
   },
   {
    "duration": 23,
    "start_time": "2024-01-25T09:49:22.513Z"
   },
   {
    "duration": 44,
    "start_time": "2024-01-25T09:49:22.537Z"
   },
   {
    "duration": 6,
    "start_time": "2024-01-25T09:49:22.583Z"
   },
   {
    "duration": 37,
    "start_time": "2024-01-25T09:49:22.591Z"
   },
   {
    "duration": 180,
    "start_time": "2024-01-25T09:49:22.630Z"
   },
   {
    "duration": 11,
    "start_time": "2024-01-25T09:49:22.812Z"
   },
   {
    "duration": 186,
    "start_time": "2024-01-25T09:49:22.825Z"
   },
   {
    "duration": 154,
    "start_time": "2024-01-25T09:50:08.818Z"
   },
   {
    "duration": 201,
    "start_time": "2024-01-25T09:51:15.801Z"
   },
   {
    "duration": 169,
    "start_time": "2024-01-25T09:51:39.155Z"
   },
   {
    "duration": 153,
    "start_time": "2024-01-25T09:52:03.150Z"
   },
   {
    "duration": 156,
    "start_time": "2024-01-25T11:38:53.876Z"
   },
   {
    "duration": 154,
    "start_time": "2024-01-25T11:39:24.227Z"
   },
   {
    "duration": 153,
    "start_time": "2024-01-25T11:41:36.172Z"
   },
   {
    "duration": 155,
    "start_time": "2024-01-25T11:44:48.727Z"
   },
   {
    "duration": 154,
    "start_time": "2024-01-25T11:45:00.832Z"
   },
   {
    "duration": 132,
    "start_time": "2024-01-25T11:53:53.658Z"
   },
   {
    "duration": 148,
    "start_time": "2024-01-25T11:54:07.059Z"
   },
   {
    "duration": 683,
    "start_time": "2024-01-25T11:58:18.719Z"
   },
   {
    "duration": 109,
    "start_time": "2024-01-25T11:58:19.404Z"
   },
   {
    "duration": 39,
    "start_time": "2024-01-25T11:58:19.515Z"
   },
   {
    "duration": 15,
    "start_time": "2024-01-25T11:58:19.556Z"
   },
   {
    "duration": 2314,
    "start_time": "2024-01-25T11:58:19.573Z"
   },
   {
    "duration": 21,
    "start_time": "2024-01-25T11:58:21.888Z"
   },
   {
    "duration": 28,
    "start_time": "2024-01-25T11:58:21.911Z"
   },
   {
    "duration": 20,
    "start_time": "2024-01-25T11:58:21.942Z"
   },
   {
    "duration": 20,
    "start_time": "2024-01-25T11:58:21.963Z"
   },
   {
    "duration": 50,
    "start_time": "2024-01-25T11:58:21.985Z"
   },
   {
    "duration": 23,
    "start_time": "2024-01-25T11:58:22.037Z"
   },
   {
    "duration": 37,
    "start_time": "2024-01-25T11:58:22.061Z"
   },
   {
    "duration": 7,
    "start_time": "2024-01-25T11:58:22.099Z"
   },
   {
    "duration": 12,
    "start_time": "2024-01-25T11:58:22.107Z"
   },
   {
    "duration": 214,
    "start_time": "2024-01-25T11:58:22.121Z"
   },
   {
    "duration": 10,
    "start_time": "2024-01-25T11:58:22.337Z"
   },
   {
    "duration": 191,
    "start_time": "2024-01-25T11:58:22.349Z"
   },
   {
    "duration": 5,
    "start_time": "2024-01-25T12:00:06.899Z"
   },
   {
    "duration": 665,
    "start_time": "2024-01-25T12:16:11.314Z"
   },
   {
    "duration": 99,
    "start_time": "2024-01-25T12:16:11.981Z"
   },
   {
    "duration": 29,
    "start_time": "2024-01-25T12:16:12.082Z"
   },
   {
    "duration": 16,
    "start_time": "2024-01-25T12:16:12.117Z"
   },
   {
    "duration": 2164,
    "start_time": "2024-01-25T12:16:12.135Z"
   },
   {
    "duration": 22,
    "start_time": "2024-01-25T12:16:14.301Z"
   },
   {
    "duration": 16,
    "start_time": "2024-01-25T12:16:14.325Z"
   },
   {
    "duration": 12,
    "start_time": "2024-01-25T12:16:14.343Z"
   },
   {
    "duration": 9,
    "start_time": "2024-01-25T12:16:14.357Z"
   },
   {
    "duration": 20,
    "start_time": "2024-01-25T12:16:14.368Z"
   },
   {
    "duration": 16,
    "start_time": "2024-01-25T12:16:14.390Z"
   },
   {
    "duration": 35,
    "start_time": "2024-01-25T12:16:14.417Z"
   },
   {
    "duration": 7,
    "start_time": "2024-01-25T12:16:14.453Z"
   },
   {
    "duration": 19,
    "start_time": "2024-01-25T12:16:14.462Z"
   },
   {
    "duration": 241,
    "start_time": "2024-01-25T12:16:14.483Z"
   },
   {
    "duration": 0,
    "start_time": "2024-01-25T12:16:14.726Z"
   },
   {
    "duration": 0,
    "start_time": "2024-01-25T12:16:14.727Z"
   },
   {
    "duration": 0,
    "start_time": "2024-01-25T12:16:14.728Z"
   },
   {
    "duration": 646,
    "start_time": "2024-01-25T12:17:58.930Z"
   },
   {
    "duration": 101,
    "start_time": "2024-01-25T12:17:59.578Z"
   },
   {
    "duration": 29,
    "start_time": "2024-01-25T12:17:59.682Z"
   },
   {
    "duration": 18,
    "start_time": "2024-01-25T12:17:59.713Z"
   },
   {
    "duration": 2130,
    "start_time": "2024-01-25T12:17:59.733Z"
   },
   {
    "duration": 21,
    "start_time": "2024-01-25T12:18:01.864Z"
   },
   {
    "duration": 51,
    "start_time": "2024-01-25T12:18:01.887Z"
   },
   {
    "duration": 23,
    "start_time": "2024-01-25T12:18:01.940Z"
   },
   {
    "duration": 42,
    "start_time": "2024-01-25T12:18:01.965Z"
   },
   {
    "duration": 45,
    "start_time": "2024-01-25T12:18:02.009Z"
   },
   {
    "duration": 54,
    "start_time": "2024-01-25T12:18:02.056Z"
   },
   {
    "duration": 87,
    "start_time": "2024-01-25T12:18:02.111Z"
   },
   {
    "duration": 31,
    "start_time": "2024-01-25T12:18:02.200Z"
   },
   {
    "duration": 74,
    "start_time": "2024-01-25T12:18:02.233Z"
   },
   {
    "duration": 195,
    "start_time": "2024-01-25T12:18:02.308Z"
   },
   {
    "duration": 14,
    "start_time": "2024-01-25T12:18:02.504Z"
   },
   {
    "duration": 80,
    "start_time": "2024-01-25T12:18:02.520Z"
   },
   {
    "duration": 157,
    "start_time": "2024-01-25T12:18:02.602Z"
   },
   {
    "duration": 614,
    "start_time": "2024-01-25T12:19:38.180Z"
   },
   {
    "duration": 102,
    "start_time": "2024-01-25T12:19:38.796Z"
   },
   {
    "duration": 32,
    "start_time": "2024-01-25T12:19:38.899Z"
   },
   {
    "duration": 16,
    "start_time": "2024-01-25T12:19:38.933Z"
   },
   {
    "duration": 2152,
    "start_time": "2024-01-25T12:19:38.950Z"
   },
   {
    "duration": 22,
    "start_time": "2024-01-25T12:19:41.103Z"
   },
   {
    "duration": 9,
    "start_time": "2024-01-25T12:19:41.127Z"
   },
   {
    "duration": 20,
    "start_time": "2024-01-25T12:19:41.138Z"
   },
   {
    "duration": 11,
    "start_time": "2024-01-25T12:19:41.160Z"
   },
   {
    "duration": 46,
    "start_time": "2024-01-25T12:19:41.174Z"
   },
   {
    "duration": 12,
    "start_time": "2024-01-25T12:19:41.222Z"
   },
   {
    "duration": 59,
    "start_time": "2024-01-25T12:19:41.235Z"
   },
   {
    "duration": 7,
    "start_time": "2024-01-25T12:19:41.295Z"
   },
   {
    "duration": 8,
    "start_time": "2024-01-25T12:19:41.303Z"
   },
   {
    "duration": 21,
    "start_time": "2024-01-25T12:19:41.313Z"
   },
   {
    "duration": 159,
    "start_time": "2024-01-25T12:19:41.336Z"
   },
   {
    "duration": 5,
    "start_time": "2024-01-25T12:19:41.496Z"
   },
   {
    "duration": 24,
    "start_time": "2024-01-25T12:19:41.502Z"
   },
   {
    "duration": 154,
    "start_time": "2024-01-25T12:19:41.527Z"
   },
   {
    "duration": 645,
    "start_time": "2024-01-25T12:20:00.974Z"
   },
   {
    "duration": 99,
    "start_time": "2024-01-25T12:20:01.621Z"
   },
   {
    "duration": 65,
    "start_time": "2024-01-25T12:20:01.722Z"
   },
   {
    "duration": 235,
    "start_time": "2024-01-25T12:20:01.789Z"
   },
   {
    "duration": 2378,
    "start_time": "2024-01-25T12:20:02.025Z"
   },
   {
    "duration": 26,
    "start_time": "2024-01-25T12:20:04.405Z"
   },
   {
    "duration": 15,
    "start_time": "2024-01-25T12:20:04.433Z"
   },
   {
    "duration": 17,
    "start_time": "2024-01-25T12:20:04.450Z"
   },
   {
    "duration": 12,
    "start_time": "2024-01-25T12:20:04.469Z"
   },
   {
    "duration": 47,
    "start_time": "2024-01-25T12:20:04.484Z"
   },
   {
    "duration": 36,
    "start_time": "2024-01-25T12:20:04.532Z"
   },
   {
    "duration": 66,
    "start_time": "2024-01-25T12:20:04.570Z"
   },
   {
    "duration": 7,
    "start_time": "2024-01-25T12:20:04.637Z"
   },
   {
    "duration": 15,
    "start_time": "2024-01-25T12:20:04.646Z"
   },
   {
    "duration": 14,
    "start_time": "2024-01-25T12:20:04.663Z"
   },
   {
    "duration": 174,
    "start_time": "2024-01-25T12:20:04.678Z"
   },
   {
    "duration": 6,
    "start_time": "2024-01-25T12:20:04.854Z"
   },
   {
    "duration": 23,
    "start_time": "2024-01-25T12:20:04.862Z"
   },
   {
    "duration": 156,
    "start_time": "2024-01-25T12:20:04.886Z"
   },
   {
    "duration": 164,
    "start_time": "2024-01-25T12:23:36.295Z"
   },
   {
    "duration": 171,
    "start_time": "2024-01-25T12:24:04.697Z"
   },
   {
    "duration": 159,
    "start_time": "2024-01-25T12:26:08.129Z"
   },
   {
    "duration": 189,
    "start_time": "2024-01-25T12:28:03.938Z"
   },
   {
    "duration": 76,
    "start_time": "2024-01-25T13:15:01.347Z"
   },
   {
    "duration": 5,
    "start_time": "2024-01-25T13:15:09.871Z"
   },
   {
    "duration": 5,
    "start_time": "2024-01-25T13:15:14.501Z"
   },
   {
    "duration": 8,
    "start_time": "2024-01-25T13:15:29.678Z"
   },
   {
    "duration": 6,
    "start_time": "2024-01-25T13:15:50.098Z"
   },
   {
    "duration": 671,
    "start_time": "2024-01-26T06:38:55.702Z"
   },
   {
    "duration": 97,
    "start_time": "2024-01-26T06:38:56.375Z"
   },
   {
    "duration": 29,
    "start_time": "2024-01-26T06:38:56.473Z"
   },
   {
    "duration": 29,
    "start_time": "2024-01-26T06:38:56.503Z"
   },
   {
    "duration": 2113,
    "start_time": "2024-01-26T06:38:56.534Z"
   },
   {
    "duration": 21,
    "start_time": "2024-01-26T06:38:58.649Z"
   },
   {
    "duration": 27,
    "start_time": "2024-01-26T06:38:58.672Z"
   },
   {
    "duration": 26,
    "start_time": "2024-01-26T06:38:58.700Z"
   },
   {
    "duration": 19,
    "start_time": "2024-01-26T06:38:58.727Z"
   },
   {
    "duration": 35,
    "start_time": "2024-01-26T06:38:58.748Z"
   },
   {
    "duration": 32,
    "start_time": "2024-01-26T06:38:58.785Z"
   },
   {
    "duration": 43,
    "start_time": "2024-01-26T06:38:58.819Z"
   },
   {
    "duration": 6,
    "start_time": "2024-01-26T06:38:58.864Z"
   },
   {
    "duration": 10,
    "start_time": "2024-01-26T06:38:58.871Z"
   },
   {
    "duration": 9,
    "start_time": "2024-01-26T06:38:58.883Z"
   },
   {
    "duration": 170,
    "start_time": "2024-01-26T06:38:58.893Z"
   },
   {
    "duration": 5,
    "start_time": "2024-01-26T06:38:59.064Z"
   },
   {
    "duration": 36,
    "start_time": "2024-01-26T06:38:59.070Z"
   },
   {
    "duration": 22,
    "start_time": "2024-01-26T06:38:59.107Z"
   },
   {
    "duration": 150,
    "start_time": "2024-01-26T06:38:59.131Z"
   },
   {
    "duration": 7,
    "start_time": "2024-01-26T06:40:49.444Z"
   },
   {
    "duration": 7,
    "start_time": "2024-01-26T06:41:22.148Z"
   },
   {
    "duration": 7,
    "start_time": "2024-01-26T06:41:39.278Z"
   },
   {
    "duration": 24,
    "start_time": "2024-01-26T06:41:49.573Z"
   },
   {
    "duration": 610,
    "start_time": "2024-01-26T09:28:10.465Z"
   },
   {
    "duration": 100,
    "start_time": "2024-01-26T09:28:11.077Z"
   },
   {
    "duration": 28,
    "start_time": "2024-01-26T09:28:11.179Z"
   },
   {
    "duration": 25,
    "start_time": "2024-01-26T09:28:11.217Z"
   },
   {
    "duration": 2095,
    "start_time": "2024-01-26T09:28:11.244Z"
   },
   {
    "duration": 20,
    "start_time": "2024-01-26T09:28:13.341Z"
   },
   {
    "duration": 16,
    "start_time": "2024-01-26T09:28:13.363Z"
   },
   {
    "duration": 6,
    "start_time": "2024-01-26T09:28:13.380Z"
   },
   {
    "duration": 10,
    "start_time": "2024-01-26T09:28:13.388Z"
   },
   {
    "duration": 12,
    "start_time": "2024-01-26T09:28:13.400Z"
   },
   {
    "duration": 10,
    "start_time": "2024-01-26T09:28:13.413Z"
   },
   {
    "duration": 80,
    "start_time": "2024-01-26T09:28:13.424Z"
   },
   {
    "duration": 0,
    "start_time": "2024-01-26T09:28:13.506Z"
   },
   {
    "duration": 0,
    "start_time": "2024-01-26T09:28:13.517Z"
   },
   {
    "duration": 0,
    "start_time": "2024-01-26T09:28:13.518Z"
   },
   {
    "duration": 0,
    "start_time": "2024-01-26T09:28:13.519Z"
   },
   {
    "duration": 0,
    "start_time": "2024-01-26T09:28:13.520Z"
   },
   {
    "duration": 0,
    "start_time": "2024-01-26T09:28:13.522Z"
   },
   {
    "duration": 0,
    "start_time": "2024-01-26T09:28:13.523Z"
   },
   {
    "duration": 0,
    "start_time": "2024-01-26T09:28:13.524Z"
   },
   {
    "duration": 0,
    "start_time": "2024-01-26T09:28:13.525Z"
   },
   {
    "duration": 9,
    "start_time": "2024-01-26T11:09:48.365Z"
   },
   {
    "duration": 589,
    "start_time": "2024-01-26T11:09:56.569Z"
   },
   {
    "duration": 103,
    "start_time": "2024-01-26T11:09:57.160Z"
   },
   {
    "duration": 29,
    "start_time": "2024-01-26T11:09:57.265Z"
   },
   {
    "duration": 41,
    "start_time": "2024-01-26T11:09:57.296Z"
   },
   {
    "duration": 2085,
    "start_time": "2024-01-26T11:09:57.338Z"
   },
   {
    "duration": 23,
    "start_time": "2024-01-26T11:09:59.425Z"
   },
   {
    "duration": 38,
    "start_time": "2024-01-26T11:09:59.450Z"
   },
   {
    "duration": 36,
    "start_time": "2024-01-26T11:09:59.489Z"
   },
   {
    "duration": 40,
    "start_time": "2024-01-26T11:09:59.526Z"
   },
   {
    "duration": 51,
    "start_time": "2024-01-26T11:09:59.568Z"
   },
   {
    "duration": 34,
    "start_time": "2024-01-26T11:09:59.620Z"
   },
   {
    "duration": 107,
    "start_time": "2024-01-26T11:09:59.656Z"
   },
   {
    "duration": 0,
    "start_time": "2024-01-26T11:09:59.765Z"
   },
   {
    "duration": 0,
    "start_time": "2024-01-26T11:09:59.766Z"
   },
   {
    "duration": 0,
    "start_time": "2024-01-26T11:09:59.767Z"
   },
   {
    "duration": 0,
    "start_time": "2024-01-26T11:09:59.768Z"
   },
   {
    "duration": 0,
    "start_time": "2024-01-26T11:09:59.769Z"
   },
   {
    "duration": 0,
    "start_time": "2024-01-26T11:09:59.770Z"
   },
   {
    "duration": 0,
    "start_time": "2024-01-26T11:09:59.771Z"
   },
   {
    "duration": 0,
    "start_time": "2024-01-26T11:09:59.772Z"
   },
   {
    "duration": 0,
    "start_time": "2024-01-26T11:09:59.773Z"
   },
   {
    "duration": 3,
    "start_time": "2024-01-26T11:10:53.440Z"
   },
   {
    "duration": 9,
    "start_time": "2024-01-26T11:11:14.407Z"
   },
   {
    "duration": 8,
    "start_time": "2024-01-26T11:11:18.525Z"
   },
   {
    "duration": 7,
    "start_time": "2024-01-26T11:12:17.237Z"
   },
   {
    "duration": 8,
    "start_time": "2024-01-26T11:12:25.350Z"
   },
   {
    "duration": 8,
    "start_time": "2024-01-26T11:12:29.861Z"
   },
   {
    "duration": 5,
    "start_time": "2024-01-26T11:13:17.014Z"
   },
   {
    "duration": 25,
    "start_time": "2024-01-26T11:21:26.916Z"
   },
   {
    "duration": 4,
    "start_time": "2024-01-26T11:22:46.391Z"
   },
   {
    "duration": 7,
    "start_time": "2024-01-26T11:22:48.372Z"
   },
   {
    "duration": 634,
    "start_time": "2024-01-26T11:25:52.801Z"
   },
   {
    "duration": 98,
    "start_time": "2024-01-26T11:25:53.437Z"
   },
   {
    "duration": 28,
    "start_time": "2024-01-26T11:25:53.537Z"
   },
   {
    "duration": 23,
    "start_time": "2024-01-26T11:25:53.567Z"
   },
   {
    "duration": 2079,
    "start_time": "2024-01-26T11:25:53.592Z"
   },
   {
    "duration": 22,
    "start_time": "2024-01-26T11:25:55.673Z"
   },
   {
    "duration": 25,
    "start_time": "2024-01-26T11:25:55.696Z"
   },
   {
    "duration": 6,
    "start_time": "2024-01-26T11:25:55.723Z"
   },
   {
    "duration": 42,
    "start_time": "2024-01-26T11:25:55.730Z"
   },
   {
    "duration": 42,
    "start_time": "2024-01-26T11:25:55.775Z"
   },
   {
    "duration": 25,
    "start_time": "2024-01-26T11:25:55.818Z"
   },
   {
    "duration": 18,
    "start_time": "2024-01-26T11:25:55.844Z"
   },
   {
    "duration": 19,
    "start_time": "2024-01-26T11:25:55.863Z"
   },
   {
    "duration": 9,
    "start_time": "2024-01-26T11:25:55.883Z"
   },
   {
    "duration": 29,
    "start_time": "2024-01-26T11:25:55.894Z"
   },
   {
    "duration": 6,
    "start_time": "2024-01-26T11:25:55.925Z"
   },
   {
    "duration": 12,
    "start_time": "2024-01-26T11:25:55.932Z"
   },
   {
    "duration": 19,
    "start_time": "2024-01-26T11:25:55.945Z"
   },
   {
    "duration": 172,
    "start_time": "2024-01-26T11:25:55.965Z"
   },
   {
    "duration": 6,
    "start_time": "2024-01-26T11:25:56.139Z"
   },
   {
    "duration": 47,
    "start_time": "2024-01-26T11:25:56.146Z"
   },
   {
    "duration": 9,
    "start_time": "2024-01-26T11:25:56.194Z"
   },
   {
    "duration": 153,
    "start_time": "2024-01-26T11:25:56.204Z"
   },
   {
    "duration": 6,
    "start_time": "2024-01-26T11:28:03.234Z"
   },
   {
    "duration": 581,
    "start_time": "2024-01-26T11:29:03.675Z"
   },
   {
    "duration": 98,
    "start_time": "2024-01-26T11:29:04.258Z"
   },
   {
    "duration": 29,
    "start_time": "2024-01-26T11:29:04.357Z"
   },
   {
    "duration": 17,
    "start_time": "2024-01-26T11:29:04.387Z"
   },
   {
    "duration": 2058,
    "start_time": "2024-01-26T11:29:04.405Z"
   },
   {
    "duration": 22,
    "start_time": "2024-01-26T11:29:06.464Z"
   },
   {
    "duration": 18,
    "start_time": "2024-01-26T11:29:06.487Z"
   },
   {
    "duration": 17,
    "start_time": "2024-01-26T11:29:06.507Z"
   },
   {
    "duration": 14,
    "start_time": "2024-01-26T11:29:06.526Z"
   },
   {
    "duration": 30,
    "start_time": "2024-01-26T11:29:06.542Z"
   },
   {
    "duration": 29,
    "start_time": "2024-01-26T11:29:06.574Z"
   },
   {
    "duration": 11,
    "start_time": "2024-01-26T11:29:06.604Z"
   },
   {
    "duration": 11,
    "start_time": "2024-01-26T11:29:06.617Z"
   },
   {
    "duration": 32,
    "start_time": "2024-01-26T11:29:06.630Z"
   },
   {
    "duration": 27,
    "start_time": "2024-01-26T11:29:06.663Z"
   },
   {
    "duration": 5,
    "start_time": "2024-01-26T11:29:06.692Z"
   },
   {
    "duration": 28,
    "start_time": "2024-01-26T11:29:06.698Z"
   },
   {
    "duration": 25,
    "start_time": "2024-01-26T11:29:06.728Z"
   },
   {
    "duration": 155,
    "start_time": "2024-01-26T11:29:06.754Z"
   },
   {
    "duration": 8,
    "start_time": "2024-01-26T11:29:06.911Z"
   },
   {
    "duration": 42,
    "start_time": "2024-01-26T11:29:06.921Z"
   },
   {
    "duration": 13,
    "start_time": "2024-01-26T11:29:06.965Z"
   },
   {
    "duration": 155,
    "start_time": "2024-01-26T11:29:06.979Z"
   },
   {
    "duration": 5,
    "start_time": "2024-01-26T11:54:45.969Z"
   },
   {
    "duration": 26,
    "start_time": "2024-01-26T11:54:47.017Z"
   },
   {
    "duration": 7,
    "start_time": "2024-01-26T12:51:40.854Z"
   },
   {
    "duration": 7,
    "start_time": "2024-01-26T12:54:24.173Z"
   },
   {
    "duration": 5,
    "start_time": "2024-01-26T14:23:14.092Z"
   },
   {
    "duration": 26,
    "start_time": "2024-01-26T14:23:45.299Z"
   },
   {
    "duration": 846,
    "start_time": "2024-01-28T04:17:02.227Z"
   },
   {
    "duration": 306,
    "start_time": "2024-01-28T04:17:03.075Z"
   },
   {
    "duration": 27,
    "start_time": "2024-01-28T04:17:03.382Z"
   },
   {
    "duration": 30,
    "start_time": "2024-01-28T04:17:03.411Z"
   },
   {
    "duration": 1903,
    "start_time": "2024-01-28T04:17:03.443Z"
   },
   {
    "duration": 19,
    "start_time": "2024-01-28T04:17:05.347Z"
   },
   {
    "duration": 10,
    "start_time": "2024-01-28T04:17:05.367Z"
   },
   {
    "duration": 6,
    "start_time": "2024-01-28T04:17:05.378Z"
   },
   {
    "duration": 5,
    "start_time": "2024-01-28T04:17:05.385Z"
   },
   {
    "duration": 9,
    "start_time": "2024-01-28T04:17:05.392Z"
   },
   {
    "duration": 6,
    "start_time": "2024-01-28T04:17:05.402Z"
   },
   {
    "duration": 43,
    "start_time": "2024-01-28T04:17:05.410Z"
   },
   {
    "duration": 3,
    "start_time": "2024-01-28T04:17:05.455Z"
   },
   {
    "duration": 9,
    "start_time": "2024-01-28T04:17:05.460Z"
   },
   {
    "duration": 6,
    "start_time": "2024-01-28T04:17:05.471Z"
   },
   {
    "duration": 23,
    "start_time": "2024-01-28T04:17:05.479Z"
   },
   {
    "duration": 7,
    "start_time": "2024-01-28T04:17:05.504Z"
   },
   {
    "duration": 6,
    "start_time": "2024-01-28T04:17:05.512Z"
   },
   {
    "duration": 41,
    "start_time": "2024-01-28T04:17:05.519Z"
   },
   {
    "duration": 153,
    "start_time": "2024-01-28T04:17:05.562Z"
   },
   {
    "duration": 5,
    "start_time": "2024-01-28T04:17:05.717Z"
   },
   {
    "duration": 19,
    "start_time": "2024-01-28T04:17:05.723Z"
   },
   {
    "duration": 140,
    "start_time": "2024-01-28T04:17:05.744Z"
   },
   {
    "duration": 4,
    "start_time": "2024-01-28T04:17:05.885Z"
   },
   {
    "duration": 783,
    "start_time": "2024-01-28T07:38:23.580Z"
   },
   {
    "duration": 145,
    "start_time": "2024-01-28T07:38:24.365Z"
   },
   {
    "duration": 29,
    "start_time": "2024-01-28T07:38:24.511Z"
   },
   {
    "duration": 20,
    "start_time": "2024-01-28T07:38:24.541Z"
   },
   {
    "duration": 2012,
    "start_time": "2024-01-28T07:38:24.563Z"
   },
   {
    "duration": 21,
    "start_time": "2024-01-28T07:38:26.576Z"
   },
   {
    "duration": 9,
    "start_time": "2024-01-28T07:38:26.598Z"
   },
   {
    "duration": 6,
    "start_time": "2024-01-28T07:38:26.608Z"
   },
   {
    "duration": 14,
    "start_time": "2024-01-28T07:38:26.616Z"
   },
   {
    "duration": 12,
    "start_time": "2024-01-28T07:38:26.631Z"
   },
   {
    "duration": 7,
    "start_time": "2024-01-28T07:38:26.644Z"
   },
   {
    "duration": 4,
    "start_time": "2024-01-28T07:38:26.659Z"
   },
   {
    "duration": 3,
    "start_time": "2024-01-28T07:38:26.665Z"
   },
   {
    "duration": 7,
    "start_time": "2024-01-28T07:38:26.670Z"
   },
   {
    "duration": 6,
    "start_time": "2024-01-28T07:38:26.679Z"
   },
   {
    "duration": 22,
    "start_time": "2024-01-28T07:38:26.686Z"
   },
   {
    "duration": 6,
    "start_time": "2024-01-28T07:38:26.709Z"
   },
   {
    "duration": 13,
    "start_time": "2024-01-28T07:38:26.716Z"
   },
   {
    "duration": 35,
    "start_time": "2024-01-28T07:38:26.730Z"
   },
   {
    "duration": 142,
    "start_time": "2024-01-28T07:38:26.767Z"
   },
   {
    "duration": 4,
    "start_time": "2024-01-28T07:38:26.910Z"
   },
   {
    "duration": 76,
    "start_time": "2024-01-28T07:38:26.915Z"
   },
   {
    "duration": 0,
    "start_time": "2024-01-28T07:38:26.992Z"
   },
   {
    "duration": 0,
    "start_time": "2024-01-28T07:38:26.993Z"
   },
   {
    "duration": 0,
    "start_time": "2024-01-28T07:38:26.995Z"
   },
   {
    "duration": 583,
    "start_time": "2024-01-28T07:39:55.915Z"
   },
   {
    "duration": 93,
    "start_time": "2024-01-28T07:39:56.499Z"
   },
   {
    "duration": 26,
    "start_time": "2024-01-28T07:39:56.594Z"
   },
   {
    "duration": 13,
    "start_time": "2024-01-28T07:39:56.622Z"
   },
   {
    "duration": 1933,
    "start_time": "2024-01-28T07:39:56.637Z"
   },
   {
    "duration": 20,
    "start_time": "2024-01-28T07:39:58.571Z"
   },
   {
    "duration": 10,
    "start_time": "2024-01-28T07:39:58.593Z"
   },
   {
    "duration": 7,
    "start_time": "2024-01-28T07:39:58.604Z"
   },
   {
    "duration": 5,
    "start_time": "2024-01-28T07:39:58.613Z"
   },
   {
    "duration": 12,
    "start_time": "2024-01-28T07:39:58.621Z"
   },
   {
    "duration": 26,
    "start_time": "2024-01-28T07:39:58.634Z"
   },
   {
    "duration": 19,
    "start_time": "2024-01-28T07:39:58.662Z"
   },
   {
    "duration": 7,
    "start_time": "2024-01-28T07:39:58.683Z"
   },
   {
    "duration": 18,
    "start_time": "2024-01-28T07:39:58.692Z"
   },
   {
    "duration": 8,
    "start_time": "2024-01-28T07:39:58.712Z"
   },
   {
    "duration": 39,
    "start_time": "2024-01-28T07:39:58.722Z"
   },
   {
    "duration": 7,
    "start_time": "2024-01-28T07:39:58.762Z"
   },
   {
    "duration": 11,
    "start_time": "2024-01-28T07:39:58.770Z"
   },
   {
    "duration": 8,
    "start_time": "2024-01-28T07:39:58.782Z"
   },
   {
    "duration": 183,
    "start_time": "2024-01-28T07:39:58.791Z"
   },
   {
    "duration": 5,
    "start_time": "2024-01-28T07:39:58.975Z"
   },
   {
    "duration": 916,
    "start_time": "2024-01-28T07:39:58.982Z"
   },
   {
    "duration": 0,
    "start_time": "2024-01-28T07:39:59.899Z"
   },
   {
    "duration": 0,
    "start_time": "2024-01-28T07:39:59.900Z"
   },
   {
    "duration": 0,
    "start_time": "2024-01-28T07:39:59.901Z"
   },
   {
    "duration": 612,
    "start_time": "2024-01-28T07:40:48.450Z"
   },
   {
    "duration": 94,
    "start_time": "2024-01-28T07:40:49.064Z"
   },
   {
    "duration": 28,
    "start_time": "2024-01-28T07:40:49.159Z"
   },
   {
    "duration": 13,
    "start_time": "2024-01-28T07:40:49.189Z"
   },
   {
    "duration": 2039,
    "start_time": "2024-01-28T07:40:49.204Z"
   },
   {
    "duration": 22,
    "start_time": "2024-01-28T07:40:51.245Z"
   },
   {
    "duration": 9,
    "start_time": "2024-01-28T07:40:51.268Z"
   },
   {
    "duration": 9,
    "start_time": "2024-01-28T07:40:51.278Z"
   },
   {
    "duration": 11,
    "start_time": "2024-01-28T07:40:51.289Z"
   },
   {
    "duration": 34,
    "start_time": "2024-01-28T07:40:51.302Z"
   },
   {
    "duration": 7,
    "start_time": "2024-01-28T07:40:51.338Z"
   },
   {
    "duration": 11,
    "start_time": "2024-01-28T07:40:51.346Z"
   },
   {
    "duration": 4,
    "start_time": "2024-01-28T07:40:51.358Z"
   },
   {
    "duration": 20,
    "start_time": "2024-01-28T07:40:51.364Z"
   },
   {
    "duration": 38,
    "start_time": "2024-01-28T07:40:51.386Z"
   },
   {
    "duration": 25,
    "start_time": "2024-01-28T07:40:51.426Z"
   },
   {
    "duration": 6,
    "start_time": "2024-01-28T07:40:51.453Z"
   },
   {
    "duration": 14,
    "start_time": "2024-01-28T07:40:51.460Z"
   },
   {
    "duration": 6,
    "start_time": "2024-01-28T07:40:51.476Z"
   },
   {
    "duration": 146,
    "start_time": "2024-01-28T07:40:51.483Z"
   },
   {
    "duration": 4,
    "start_time": "2024-01-28T07:40:51.631Z"
   },
   {
    "duration": 865,
    "start_time": "2024-01-28T07:40:51.636Z"
   },
   {
    "duration": 0,
    "start_time": "2024-01-28T07:40:52.502Z"
   },
   {
    "duration": 0,
    "start_time": "2024-01-28T07:40:52.504Z"
   },
   {
    "duration": 0,
    "start_time": "2024-01-28T07:40:52.504Z"
   },
   {
    "duration": 998,
    "start_time": "2024-01-28T07:41:50.097Z"
   },
   {
    "duration": 7,
    "start_time": "2024-01-28T07:42:09.862Z"
   },
   {
    "duration": 623,
    "start_time": "2024-01-28T07:42:33.459Z"
   },
   {
    "duration": 93,
    "start_time": "2024-01-28T07:42:34.083Z"
   },
   {
    "duration": 26,
    "start_time": "2024-01-28T07:42:34.177Z"
   },
   {
    "duration": 13,
    "start_time": "2024-01-28T07:42:34.205Z"
   },
   {
    "duration": 2039,
    "start_time": "2024-01-28T07:42:34.220Z"
   },
   {
    "duration": 21,
    "start_time": "2024-01-28T07:42:36.261Z"
   },
   {
    "duration": 8,
    "start_time": "2024-01-28T07:42:36.284Z"
   },
   {
    "duration": 6,
    "start_time": "2024-01-28T07:42:36.294Z"
   },
   {
    "duration": 5,
    "start_time": "2024-01-28T07:42:36.302Z"
   },
   {
    "duration": 9,
    "start_time": "2024-01-28T07:42:36.308Z"
   },
   {
    "duration": 42,
    "start_time": "2024-01-28T07:42:36.318Z"
   },
   {
    "duration": 7,
    "start_time": "2024-01-28T07:42:36.361Z"
   },
   {
    "duration": 2,
    "start_time": "2024-01-28T07:42:36.370Z"
   },
   {
    "duration": 6,
    "start_time": "2024-01-28T07:42:36.375Z"
   },
   {
    "duration": 13,
    "start_time": "2024-01-28T07:42:36.383Z"
   },
   {
    "duration": 24,
    "start_time": "2024-01-28T07:42:36.398Z"
   },
   {
    "duration": 7,
    "start_time": "2024-01-28T07:42:36.424Z"
   },
   {
    "duration": 5,
    "start_time": "2024-01-28T07:42:36.458Z"
   },
   {
    "duration": 9,
    "start_time": "2024-01-28T07:42:36.464Z"
   },
   {
    "duration": 163,
    "start_time": "2024-01-28T07:42:36.475Z"
   },
   {
    "duration": 5,
    "start_time": "2024-01-28T07:42:36.639Z"
   },
   {
    "duration": 36,
    "start_time": "2024-01-28T07:42:36.645Z"
   },
   {
    "duration": 9,
    "start_time": "2024-01-28T07:42:36.683Z"
   },
   {
    "duration": 148,
    "start_time": "2024-01-28T07:42:36.694Z"
   },
   {
    "duration": 4,
    "start_time": "2024-01-28T07:42:36.843Z"
   },
   {
    "duration": 12,
    "start_time": "2024-01-28T07:44:00.267Z"
   },
   {
    "duration": 25,
    "start_time": "2024-01-28T07:47:10.476Z"
   },
   {
    "duration": 4,
    "start_time": "2024-01-28T07:47:37.625Z"
   },
   {
    "duration": 4,
    "start_time": "2024-01-28T07:48:24.040Z"
   },
   {
    "duration": 6,
    "start_time": "2024-01-28T07:52:29.550Z"
   },
   {
    "duration": 25,
    "start_time": "2024-01-28T07:52:43.753Z"
   },
   {
    "duration": 6,
    "start_time": "2024-01-28T07:55:08.248Z"
   },
   {
    "duration": 27,
    "start_time": "2024-01-28T07:55:19.998Z"
   },
   {
    "duration": 32,
    "start_time": "2024-01-28T07:56:26.653Z"
   },
   {
    "duration": 799,
    "start_time": "2024-01-28T15:16:04.372Z"
   },
   {
    "duration": 308,
    "start_time": "2024-01-28T15:16:05.173Z"
   },
   {
    "duration": 29,
    "start_time": "2024-01-28T15:16:05.482Z"
   },
   {
    "duration": 15,
    "start_time": "2024-01-28T15:16:05.513Z"
   },
   {
    "duration": 2078,
    "start_time": "2024-01-28T15:16:05.529Z"
   },
   {
    "duration": 21,
    "start_time": "2024-01-28T15:16:07.609Z"
   },
   {
    "duration": 13,
    "start_time": "2024-01-28T15:16:07.632Z"
   },
   {
    "duration": 8,
    "start_time": "2024-01-28T15:16:07.647Z"
   },
   {
    "duration": 11,
    "start_time": "2024-01-28T15:16:07.657Z"
   },
   {
    "duration": 14,
    "start_time": "2024-01-28T15:16:07.671Z"
   },
   {
    "duration": 9,
    "start_time": "2024-01-28T15:16:07.687Z"
   },
   {
    "duration": 11,
    "start_time": "2024-01-28T15:16:07.698Z"
   },
   {
    "duration": 14,
    "start_time": "2024-01-28T15:16:07.711Z"
   },
   {
    "duration": 17,
    "start_time": "2024-01-28T15:16:07.727Z"
   },
   {
    "duration": 19,
    "start_time": "2024-01-28T15:16:07.746Z"
   },
   {
    "duration": 25,
    "start_time": "2024-01-28T15:16:07.767Z"
   },
   {
    "duration": 7,
    "start_time": "2024-01-28T15:16:07.793Z"
   },
   {
    "duration": 11,
    "start_time": "2024-01-28T15:16:07.801Z"
   },
   {
    "duration": 14,
    "start_time": "2024-01-28T15:16:07.814Z"
   },
   {
    "duration": 251,
    "start_time": "2024-01-28T15:16:07.830Z"
   },
   {
    "duration": 5,
    "start_time": "2024-01-28T15:16:08.083Z"
   },
   {
    "duration": 8,
    "start_time": "2024-01-28T15:16:08.089Z"
   },
   {
    "duration": 12,
    "start_time": "2024-01-28T15:16:08.098Z"
   },
   {
    "duration": 149,
    "start_time": "2024-01-28T15:16:08.111Z"
   },
   {
    "duration": 8,
    "start_time": "2024-01-28T15:16:08.261Z"
   },
   {
    "duration": 35,
    "start_time": "2024-01-28T15:16:08.270Z"
   },
   {
    "duration": 83,
    "start_time": "2024-01-28T15:16:08.307Z"
   },
   {
    "duration": 73,
    "start_time": "2024-01-28T15:21:20.310Z"
   },
   {
    "duration": 326,
    "start_time": "2024-01-28T15:23:51.544Z"
   },
   {
    "duration": 403,
    "start_time": "2024-01-28T15:24:08.250Z"
   },
   {
    "duration": 323,
    "start_time": "2024-01-28T15:24:53.085Z"
   },
   {
    "duration": 25,
    "start_time": "2024-01-28T15:29:52.775Z"
   },
   {
    "duration": 15,
    "start_time": "2024-01-28T15:31:11.501Z"
   },
   {
    "duration": 611,
    "start_time": "2024-01-28T15:37:30.888Z"
   },
   {
    "duration": 95,
    "start_time": "2024-01-28T15:37:31.500Z"
   },
   {
    "duration": 27,
    "start_time": "2024-01-28T15:37:31.596Z"
   },
   {
    "duration": 14,
    "start_time": "2024-01-28T15:37:31.625Z"
   },
   {
    "duration": 2022,
    "start_time": "2024-01-28T15:37:31.641Z"
   },
   {
    "duration": 21,
    "start_time": "2024-01-28T15:37:33.665Z"
   },
   {
    "duration": 9,
    "start_time": "2024-01-28T15:37:33.688Z"
   },
   {
    "duration": 11,
    "start_time": "2024-01-28T15:37:33.699Z"
   },
   {
    "duration": 9,
    "start_time": "2024-01-28T15:37:33.711Z"
   },
   {
    "duration": 10,
    "start_time": "2024-01-28T15:37:33.722Z"
   },
   {
    "duration": 39,
    "start_time": "2024-01-28T15:37:33.733Z"
   },
   {
    "duration": 21,
    "start_time": "2024-01-28T15:37:33.774Z"
   },
   {
    "duration": 28,
    "start_time": "2024-01-28T15:37:33.797Z"
   },
   {
    "duration": 16,
    "start_time": "2024-01-28T15:37:33.827Z"
   },
   {
    "duration": 31,
    "start_time": "2024-01-28T15:37:33.845Z"
   },
   {
    "duration": 44,
    "start_time": "2024-01-28T15:37:33.878Z"
   },
   {
    "duration": 1352,
    "start_time": "2024-01-28T15:37:33.924Z"
   },
   {
    "duration": 0,
    "start_time": "2024-01-28T15:37:35.278Z"
   },
   {
    "duration": 0,
    "start_time": "2024-01-28T15:37:35.279Z"
   },
   {
    "duration": 0,
    "start_time": "2024-01-28T15:37:35.281Z"
   },
   {
    "duration": 0,
    "start_time": "2024-01-28T15:37:35.282Z"
   },
   {
    "duration": 0,
    "start_time": "2024-01-28T15:37:35.283Z"
   },
   {
    "duration": 0,
    "start_time": "2024-01-28T15:37:35.284Z"
   },
   {
    "duration": 0,
    "start_time": "2024-01-28T15:37:35.285Z"
   },
   {
    "duration": 0,
    "start_time": "2024-01-28T15:37:35.286Z"
   },
   {
    "duration": 0,
    "start_time": "2024-01-28T15:37:35.287Z"
   },
   {
    "duration": 0,
    "start_time": "2024-01-28T15:37:35.289Z"
   },
   {
    "duration": 0,
    "start_time": "2024-01-28T15:37:35.290Z"
   },
   {
    "duration": 0,
    "start_time": "2024-01-28T15:37:35.290Z"
   },
   {
    "duration": 0,
    "start_time": "2024-01-28T15:37:35.291Z"
   },
   {
    "duration": 670,
    "start_time": "2024-01-28T15:38:04.634Z"
   },
   {
    "duration": 96,
    "start_time": "2024-01-28T15:38:05.306Z"
   },
   {
    "duration": 28,
    "start_time": "2024-01-28T15:38:05.404Z"
   },
   {
    "duration": 31,
    "start_time": "2024-01-28T15:38:05.434Z"
   },
   {
    "duration": 2164,
    "start_time": "2024-01-28T15:38:05.467Z"
   },
   {
    "duration": 29,
    "start_time": "2024-01-28T15:38:07.633Z"
   },
   {
    "duration": 9,
    "start_time": "2024-01-28T15:38:07.664Z"
   },
   {
    "duration": 17,
    "start_time": "2024-01-28T15:38:07.674Z"
   },
   {
    "duration": 18,
    "start_time": "2024-01-28T15:38:07.693Z"
   },
   {
    "duration": 17,
    "start_time": "2024-01-28T15:38:07.713Z"
   },
   {
    "duration": 9,
    "start_time": "2024-01-28T15:38:07.731Z"
   },
   {
    "duration": 16,
    "start_time": "2024-01-28T15:38:07.741Z"
   },
   {
    "duration": 6,
    "start_time": "2024-01-28T15:38:07.759Z"
   },
   {
    "duration": 6,
    "start_time": "2024-01-28T15:38:07.768Z"
   },
   {
    "duration": 7,
    "start_time": "2024-01-28T15:38:07.775Z"
   },
   {
    "duration": 8,
    "start_time": "2024-01-28T15:38:07.783Z"
   },
   {
    "duration": 12,
    "start_time": "2024-01-28T15:38:07.792Z"
   },
   {
    "duration": 28,
    "start_time": "2024-01-28T15:38:07.806Z"
   },
   {
    "duration": 6,
    "start_time": "2024-01-28T15:38:07.835Z"
   },
   {
    "duration": 5,
    "start_time": "2024-01-28T15:38:07.866Z"
   },
   {
    "duration": 12,
    "start_time": "2024-01-28T15:38:07.872Z"
   },
   {
    "duration": 155,
    "start_time": "2024-01-28T15:38:07.885Z"
   },
   {
    "duration": 5,
    "start_time": "2024-01-28T15:38:08.041Z"
   },
   {
    "duration": 24,
    "start_time": "2024-01-28T15:38:08.047Z"
   },
   {
    "duration": 146,
    "start_time": "2024-01-28T15:38:08.072Z"
   },
   {
    "duration": 4,
    "start_time": "2024-01-28T15:38:08.219Z"
   },
   {
    "duration": 16,
    "start_time": "2024-01-28T15:38:08.225Z"
   },
   {
    "duration": 341,
    "start_time": "2024-01-28T15:38:08.243Z"
   },
   {
    "duration": 23,
    "start_time": "2024-01-28T15:38:08.585Z"
   },
   {
    "duration": 15,
    "start_time": "2024-01-28T15:38:08.609Z"
   },
   {
    "duration": 8,
    "start_time": "2024-01-28T15:38:36.860Z"
   },
   {
    "duration": 5,
    "start_time": "2024-01-28T15:40:14.601Z"
   },
   {
    "duration": 5,
    "start_time": "2024-01-28T15:52:02.281Z"
   },
   {
    "duration": 7,
    "start_time": "2024-01-28T15:53:02.887Z"
   },
   {
    "duration": 6,
    "start_time": "2024-01-28T15:57:05.234Z"
   },
   {
    "duration": 5,
    "start_time": "2024-01-28T15:57:17.960Z"
   },
   {
    "duration": 105,
    "start_time": "2024-01-28T15:59:11.673Z"
   },
   {
    "duration": 67,
    "start_time": "2024-01-28T15:59:38.806Z"
   },
   {
    "duration": 66,
    "start_time": "2024-01-28T15:59:50.342Z"
   },
   {
    "duration": 9,
    "start_time": "2024-01-28T16:00:02.115Z"
   },
   {
    "duration": 80,
    "start_time": "2024-01-28T16:03:28.485Z"
   },
   {
    "duration": 5,
    "start_time": "2024-01-28T16:03:35.446Z"
   },
   {
    "duration": 24,
    "start_time": "2024-01-28T16:03:44.829Z"
   },
   {
    "duration": 30,
    "start_time": "2024-01-28T16:04:49.618Z"
   },
   {
    "duration": 30,
    "start_time": "2024-01-28T16:05:06.685Z"
   },
   {
    "duration": 26,
    "start_time": "2024-01-28T16:06:29.158Z"
   },
   {
    "duration": 645,
    "start_time": "2024-01-28T16:06:43.132Z"
   },
   {
    "duration": 97,
    "start_time": "2024-01-28T16:06:43.779Z"
   },
   {
    "duration": 28,
    "start_time": "2024-01-28T16:06:43.877Z"
   },
   {
    "duration": 73,
    "start_time": "2024-01-28T16:06:43.906Z"
   },
   {
    "duration": 2122,
    "start_time": "2024-01-28T16:06:43.981Z"
   },
   {
    "duration": 24,
    "start_time": "2024-01-28T16:06:46.105Z"
   },
   {
    "duration": 32,
    "start_time": "2024-01-28T16:06:46.131Z"
   },
   {
    "duration": 27,
    "start_time": "2024-01-28T16:06:46.164Z"
   },
   {
    "duration": 24,
    "start_time": "2024-01-28T16:06:46.192Z"
   },
   {
    "duration": 42,
    "start_time": "2024-01-28T16:06:46.217Z"
   },
   {
    "duration": 26,
    "start_time": "2024-01-28T16:06:46.260Z"
   },
   {
    "duration": 32,
    "start_time": "2024-01-28T16:06:46.288Z"
   },
   {
    "duration": 22,
    "start_time": "2024-01-28T16:06:46.322Z"
   },
   {
    "duration": 26,
    "start_time": "2024-01-28T16:06:46.347Z"
   },
   {
    "duration": 19,
    "start_time": "2024-01-28T16:06:46.375Z"
   },
   {
    "duration": 44,
    "start_time": "2024-01-28T16:06:46.396Z"
   },
   {
    "duration": 66,
    "start_time": "2024-01-28T16:06:46.441Z"
   },
   {
    "duration": 36,
    "start_time": "2024-01-28T16:06:46.508Z"
   },
   {
    "duration": 11,
    "start_time": "2024-01-28T16:06:46.545Z"
   },
   {
    "duration": 28,
    "start_time": "2024-01-28T16:06:46.558Z"
   },
   {
    "duration": 36,
    "start_time": "2024-01-28T16:06:46.588Z"
   },
   {
    "duration": 186,
    "start_time": "2024-01-28T16:06:46.626Z"
   },
   {
    "duration": 5,
    "start_time": "2024-01-28T16:06:46.813Z"
   },
   {
    "duration": 25,
    "start_time": "2024-01-28T16:06:46.820Z"
   },
   {
    "duration": 171,
    "start_time": "2024-01-28T16:06:46.846Z"
   },
   {
    "duration": 4,
    "start_time": "2024-01-28T16:06:47.019Z"
   },
   {
    "duration": 29,
    "start_time": "2024-01-28T16:06:47.025Z"
   },
   {
    "duration": 335,
    "start_time": "2024-01-28T16:06:47.056Z"
   },
   {
    "duration": 25,
    "start_time": "2024-01-28T16:06:47.392Z"
   },
   {
    "duration": 30,
    "start_time": "2024-01-28T16:06:47.419Z"
   },
   {
    "duration": 85,
    "start_time": "2024-01-28T16:07:36.947Z"
   },
   {
    "duration": 647,
    "start_time": "2024-01-28T16:08:41.890Z"
   },
   {
    "duration": 100,
    "start_time": "2024-01-28T16:08:42.539Z"
   },
   {
    "duration": 35,
    "start_time": "2024-01-28T16:08:42.643Z"
   },
   {
    "duration": 21,
    "start_time": "2024-01-28T16:08:42.681Z"
   },
   {
    "duration": 2428,
    "start_time": "2024-01-28T16:08:42.703Z"
   },
   {
    "duration": 22,
    "start_time": "2024-01-28T16:08:45.133Z"
   },
   {
    "duration": 1006,
    "start_time": "2024-01-28T16:08:45.156Z"
   },
   {
    "duration": 10,
    "start_time": "2024-01-28T16:08:46.165Z"
   },
   {
    "duration": 9,
    "start_time": "2024-01-28T16:08:46.177Z"
   },
   {
    "duration": 10,
    "start_time": "2024-01-28T16:08:46.188Z"
   },
   {
    "duration": 8,
    "start_time": "2024-01-28T16:08:46.200Z"
   },
   {
    "duration": 17,
    "start_time": "2024-01-28T16:08:46.210Z"
   },
   {
    "duration": 4,
    "start_time": "2024-01-28T16:08:46.230Z"
   },
   {
    "duration": 35,
    "start_time": "2024-01-28T16:08:46.235Z"
   },
   {
    "duration": 6,
    "start_time": "2024-01-28T16:08:46.272Z"
   },
   {
    "duration": 8,
    "start_time": "2024-01-28T16:08:46.280Z"
   },
   {
    "duration": 78,
    "start_time": "2024-01-28T16:08:46.290Z"
   },
   {
    "duration": 0,
    "start_time": "2024-01-28T16:08:46.370Z"
   },
   {
    "duration": 0,
    "start_time": "2024-01-28T16:08:46.371Z"
   },
   {
    "duration": 0,
    "start_time": "2024-01-28T16:08:46.372Z"
   },
   {
    "duration": 0,
    "start_time": "2024-01-28T16:08:46.374Z"
   },
   {
    "duration": 0,
    "start_time": "2024-01-28T16:08:46.375Z"
   },
   {
    "duration": 0,
    "start_time": "2024-01-28T16:08:46.376Z"
   },
   {
    "duration": 0,
    "start_time": "2024-01-28T16:08:46.377Z"
   },
   {
    "duration": 0,
    "start_time": "2024-01-28T16:08:46.378Z"
   },
   {
    "duration": 0,
    "start_time": "2024-01-28T16:08:46.379Z"
   },
   {
    "duration": 0,
    "start_time": "2024-01-28T16:08:46.380Z"
   },
   {
    "duration": 0,
    "start_time": "2024-01-28T16:08:46.381Z"
   },
   {
    "duration": 0,
    "start_time": "2024-01-28T16:08:46.382Z"
   },
   {
    "duration": 0,
    "start_time": "2024-01-28T16:08:46.384Z"
   },
   {
    "duration": 6,
    "start_time": "2024-01-28T16:09:36.597Z"
   },
   {
    "duration": 72,
    "start_time": "2024-01-28T16:09:55.896Z"
   },
   {
    "duration": 16,
    "start_time": "2024-01-28T16:10:05.496Z"
   },
   {
    "duration": 5,
    "start_time": "2024-01-28T16:10:37.386Z"
   },
   {
    "duration": 7,
    "start_time": "2024-01-28T16:10:39.706Z"
   },
   {
    "duration": 3,
    "start_time": "2024-01-28T16:10:46.912Z"
   },
   {
    "duration": 106,
    "start_time": "2024-01-28T16:10:46.917Z"
   },
   {
    "duration": 25,
    "start_time": "2024-01-28T16:10:47.024Z"
   },
   {
    "duration": 40,
    "start_time": "2024-01-28T16:10:47.051Z"
   },
   {
    "duration": 2033,
    "start_time": "2024-01-28T16:10:47.093Z"
   },
   {
    "duration": 21,
    "start_time": "2024-01-28T16:10:49.128Z"
   },
   {
    "duration": 11,
    "start_time": "2024-01-28T16:10:49.165Z"
   },
   {
    "duration": 7,
    "start_time": "2024-01-28T16:10:49.178Z"
   },
   {
    "duration": 9,
    "start_time": "2024-01-28T16:10:49.187Z"
   },
   {
    "duration": 12,
    "start_time": "2024-01-28T16:10:49.197Z"
   },
   {
    "duration": 7,
    "start_time": "2024-01-28T16:10:49.211Z"
   },
   {
    "duration": 9,
    "start_time": "2024-01-28T16:10:49.219Z"
   },
   {
    "duration": 36,
    "start_time": "2024-01-28T16:10:49.230Z"
   },
   {
    "duration": 5,
    "start_time": "2024-01-28T16:10:49.268Z"
   },
   {
    "duration": 23,
    "start_time": "2024-01-28T16:10:49.275Z"
   },
   {
    "duration": 13,
    "start_time": "2024-01-28T16:10:49.299Z"
   },
   {
    "duration": 682,
    "start_time": "2024-01-28T16:14:19.843Z"
   },
   {
    "duration": 99,
    "start_time": "2024-01-28T16:14:20.527Z"
   },
   {
    "duration": 30,
    "start_time": "2024-01-28T16:14:20.627Z"
   },
   {
    "duration": 30,
    "start_time": "2024-01-28T16:14:20.658Z"
   },
   {
    "duration": 2095,
    "start_time": "2024-01-28T16:14:20.691Z"
   },
   {
    "duration": 21,
    "start_time": "2024-01-28T16:14:22.787Z"
   },
   {
    "duration": 9,
    "start_time": "2024-01-28T16:14:22.809Z"
   },
   {
    "duration": 32,
    "start_time": "2024-01-28T16:14:22.819Z"
   },
   {
    "duration": 10,
    "start_time": "2024-01-28T16:14:22.853Z"
   },
   {
    "duration": 30,
    "start_time": "2024-01-28T16:14:22.865Z"
   },
   {
    "duration": 16,
    "start_time": "2024-01-28T16:14:22.896Z"
   },
   {
    "duration": 17,
    "start_time": "2024-01-28T16:14:22.914Z"
   },
   {
    "duration": 18,
    "start_time": "2024-01-28T16:14:22.933Z"
   },
   {
    "duration": 35,
    "start_time": "2024-01-28T16:14:22.954Z"
   },
   {
    "duration": 16,
    "start_time": "2024-01-28T16:14:22.990Z"
   },
   {
    "duration": 14,
    "start_time": "2024-01-28T16:14:23.008Z"
   },
   {
    "duration": 29,
    "start_time": "2024-01-28T16:14:23.024Z"
   },
   {
    "duration": 41,
    "start_time": "2024-01-28T16:14:23.055Z"
   },
   {
    "duration": 22,
    "start_time": "2024-01-28T16:14:23.097Z"
   },
   {
    "duration": 6,
    "start_time": "2024-01-28T16:14:23.120Z"
   },
   {
    "duration": 6,
    "start_time": "2024-01-28T16:14:23.127Z"
   },
   {
    "duration": 9,
    "start_time": "2024-01-28T16:14:23.135Z"
   },
   {
    "duration": 166,
    "start_time": "2024-01-28T16:14:23.146Z"
   },
   {
    "duration": 5,
    "start_time": "2024-01-28T16:14:23.313Z"
   },
   {
    "duration": 56,
    "start_time": "2024-01-28T16:14:23.320Z"
   },
   {
    "duration": 195,
    "start_time": "2024-01-28T16:14:23.378Z"
   },
   {
    "duration": 4,
    "start_time": "2024-01-28T16:14:23.575Z"
   },
   {
    "duration": 57,
    "start_time": "2024-01-28T16:14:23.580Z"
   },
   {
    "duration": 377,
    "start_time": "2024-01-28T16:14:23.638Z"
   },
   {
    "duration": 23,
    "start_time": "2024-01-28T16:14:24.017Z"
   },
   {
    "duration": 98,
    "start_time": "2024-01-28T16:14:24.041Z"
   },
   {
    "duration": 4,
    "start_time": "2024-01-28T16:15:02.896Z"
   },
   {
    "duration": 69,
    "start_time": "2024-01-28T16:15:18.248Z"
   },
   {
    "duration": 7,
    "start_time": "2024-01-28T16:15:27.042Z"
   },
   {
    "duration": 5,
    "start_time": "2024-01-28T16:15:32.410Z"
   },
   {
    "duration": 6,
    "start_time": "2024-01-28T16:15:47.381Z"
   },
   {
    "duration": 613,
    "start_time": "2024-01-28T16:16:12.785Z"
   },
   {
    "duration": 97,
    "start_time": "2024-01-28T16:16:13.399Z"
   },
   {
    "duration": 28,
    "start_time": "2024-01-28T16:16:13.497Z"
   },
   {
    "duration": 14,
    "start_time": "2024-01-28T16:16:13.527Z"
   },
   {
    "duration": 2072,
    "start_time": "2024-01-28T16:16:13.543Z"
   },
   {
    "duration": 20,
    "start_time": "2024-01-28T16:16:15.617Z"
   },
   {
    "duration": 16,
    "start_time": "2024-01-28T16:16:15.638Z"
   },
   {
    "duration": 39,
    "start_time": "2024-01-28T16:16:15.656Z"
   },
   {
    "duration": 21,
    "start_time": "2024-01-28T16:16:15.696Z"
   },
   {
    "duration": 21,
    "start_time": "2024-01-28T16:16:15.719Z"
   },
   {
    "duration": 9,
    "start_time": "2024-01-28T16:16:15.741Z"
   },
   {
    "duration": 17,
    "start_time": "2024-01-28T16:16:15.751Z"
   },
   {
    "duration": 23,
    "start_time": "2024-01-28T16:16:15.770Z"
   },
   {
    "duration": 16,
    "start_time": "2024-01-28T16:16:15.795Z"
   },
   {
    "duration": 26,
    "start_time": "2024-01-28T16:16:15.812Z"
   },
   {
    "duration": 8,
    "start_time": "2024-01-28T16:16:15.840Z"
   },
   {
    "duration": 11,
    "start_time": "2024-01-28T16:16:15.849Z"
   },
   {
    "duration": 14,
    "start_time": "2024-01-28T16:16:15.862Z"
   },
   {
    "duration": 6,
    "start_time": "2024-01-28T16:16:15.879Z"
   },
   {
    "duration": 49,
    "start_time": "2024-01-28T16:16:15.888Z"
   },
   {
    "duration": 9,
    "start_time": "2024-01-28T16:16:15.939Z"
   },
   {
    "duration": 17,
    "start_time": "2024-01-28T16:16:15.951Z"
   },
   {
    "duration": 10,
    "start_time": "2024-01-28T16:16:15.970Z"
   },
   {
    "duration": 176,
    "start_time": "2024-01-28T16:16:15.982Z"
   },
   {
    "duration": 9,
    "start_time": "2024-01-28T16:16:16.160Z"
   },
   {
    "duration": 28,
    "start_time": "2024-01-28T16:16:16.171Z"
   },
   {
    "duration": 142,
    "start_time": "2024-01-28T16:16:16.200Z"
   },
   {
    "duration": 5,
    "start_time": "2024-01-28T16:16:16.344Z"
   },
   {
    "duration": 32,
    "start_time": "2024-01-28T16:16:16.350Z"
   },
   {
    "duration": 352,
    "start_time": "2024-01-28T16:16:16.384Z"
   },
   {
    "duration": 32,
    "start_time": "2024-01-28T16:16:16.738Z"
   },
   {
    "duration": 15,
    "start_time": "2024-01-28T16:16:16.771Z"
   },
   {
    "duration": 136,
    "start_time": "2024-01-28T16:29:29.174Z"
   },
   {
    "duration": 212,
    "start_time": "2024-01-28T16:29:59.914Z"
   },
   {
    "duration": 141,
    "start_time": "2024-01-28T16:34:31.392Z"
   },
   {
    "duration": 168,
    "start_time": "2024-01-28T16:34:46.643Z"
   },
   {
    "duration": 132,
    "start_time": "2024-01-28T16:35:04.911Z"
   },
   {
    "duration": 142,
    "start_time": "2024-01-28T16:36:08.328Z"
   },
   {
    "duration": 8,
    "start_time": "2024-01-28T16:37:35.912Z"
   },
   {
    "duration": 79,
    "start_time": "2024-01-28T16:39:03.939Z"
   },
   {
    "duration": 7,
    "start_time": "2024-01-28T16:39:26.289Z"
   },
   {
    "duration": 15,
    "start_time": "2024-01-28T16:39:55.945Z"
   },
   {
    "duration": 7,
    "start_time": "2024-01-28T16:39:59.927Z"
   },
   {
    "duration": 8,
    "start_time": "2024-01-28T16:49:58.360Z"
   },
   {
    "duration": 10,
    "start_time": "2024-01-28T16:51:10.652Z"
   },
   {
    "duration": 94,
    "start_time": "2024-01-28T16:53:48.617Z"
   },
   {
    "duration": 44,
    "start_time": "2024-01-28T16:54:11.841Z"
   },
   {
    "duration": 11,
    "start_time": "2024-01-28T16:54:48.929Z"
   },
   {
    "duration": 9,
    "start_time": "2024-01-28T16:54:56.042Z"
   },
   {
    "duration": 10,
    "start_time": "2024-01-28T16:55:07.399Z"
   },
   {
    "duration": 8,
    "start_time": "2024-01-28T16:56:29.028Z"
   },
   {
    "duration": 5,
    "start_time": "2024-01-28T16:59:30.005Z"
   },
   {
    "duration": 8,
    "start_time": "2024-01-28T16:59:46.951Z"
   },
   {
    "duration": 6,
    "start_time": "2024-01-28T17:00:20.503Z"
   },
   {
    "duration": 7,
    "start_time": "2024-01-28T17:00:38.947Z"
   },
   {
    "duration": 7,
    "start_time": "2024-01-28T17:03:46.166Z"
   },
   {
    "duration": 5,
    "start_time": "2024-01-28T17:03:47.354Z"
   },
   {
    "duration": 9,
    "start_time": "2024-01-28T17:03:47.854Z"
   },
   {
    "duration": 132,
    "start_time": "2024-01-28T17:03:51.085Z"
   },
   {
    "duration": 8,
    "start_time": "2024-01-28T17:04:20.355Z"
   },
   {
    "duration": 148,
    "start_time": "2024-01-28T17:04:22.421Z"
   },
   {
    "duration": 15,
    "start_time": "2024-01-28T17:04:46.395Z"
   },
   {
    "duration": 8,
    "start_time": "2024-01-28T17:04:59.016Z"
   },
   {
    "duration": 8,
    "start_time": "2024-01-28T17:05:10.359Z"
   },
   {
    "duration": 12,
    "start_time": "2024-01-28T17:06:49.439Z"
   },
   {
    "duration": 11,
    "start_time": "2024-01-28T17:07:04.241Z"
   },
   {
    "duration": 6,
    "start_time": "2024-01-28T17:07:14.286Z"
   },
   {
    "duration": 699,
    "start_time": "2024-01-28T17:08:14.449Z"
   },
   {
    "duration": 127,
    "start_time": "2024-01-28T17:08:15.150Z"
   },
   {
    "duration": 34,
    "start_time": "2024-01-28T17:08:15.279Z"
   },
   {
    "duration": 14,
    "start_time": "2024-01-28T17:08:15.315Z"
   },
   {
    "duration": 2120,
    "start_time": "2024-01-28T17:08:15.331Z"
   },
   {
    "duration": 20,
    "start_time": "2024-01-28T17:08:17.453Z"
   },
   {
    "duration": 8,
    "start_time": "2024-01-28T17:08:17.475Z"
   },
   {
    "duration": 6,
    "start_time": "2024-01-28T17:08:17.485Z"
   },
   {
    "duration": 6,
    "start_time": "2024-01-28T17:08:17.493Z"
   },
   {
    "duration": 10,
    "start_time": "2024-01-28T17:08:17.501Z"
   },
   {
    "duration": 7,
    "start_time": "2024-01-28T17:08:17.512Z"
   },
   {
    "duration": 28,
    "start_time": "2024-01-28T17:08:17.521Z"
   },
   {
    "duration": 18,
    "start_time": "2024-01-28T17:08:17.550Z"
   },
   {
    "duration": 7,
    "start_time": "2024-01-28T17:08:17.571Z"
   },
   {
    "duration": 7,
    "start_time": "2024-01-28T17:08:17.579Z"
   },
   {
    "duration": 11,
    "start_time": "2024-01-28T17:08:17.588Z"
   },
   {
    "duration": 23,
    "start_time": "2024-01-28T17:08:17.601Z"
   },
   {
    "duration": 13,
    "start_time": "2024-01-28T17:08:17.625Z"
   },
   {
    "duration": 5,
    "start_time": "2024-01-28T17:08:17.639Z"
   },
   {
    "duration": 41,
    "start_time": "2024-01-28T17:08:17.645Z"
   },
   {
    "duration": 7,
    "start_time": "2024-01-28T17:08:17.688Z"
   },
   {
    "duration": 6,
    "start_time": "2024-01-28T17:08:17.697Z"
   },
   {
    "duration": 13,
    "start_time": "2024-01-28T17:08:17.705Z"
   },
   {
    "duration": 177,
    "start_time": "2024-01-28T17:08:17.719Z"
   },
   {
    "duration": 6,
    "start_time": "2024-01-28T17:08:17.898Z"
   },
   {
    "duration": 16,
    "start_time": "2024-01-28T17:08:17.906Z"
   },
   {
    "duration": 14,
    "start_time": "2024-01-28T17:08:17.924Z"
   },
   {
    "duration": 344,
    "start_time": "2024-01-28T17:08:17.940Z"
   },
   {
    "duration": 26,
    "start_time": "2024-01-28T17:08:18.286Z"
   },
   {
    "duration": 16,
    "start_time": "2024-01-28T17:08:18.313Z"
   },
   {
    "duration": 37,
    "start_time": "2024-01-28T17:08:18.331Z"
   },
   {
    "duration": 145,
    "start_time": "2024-01-28T17:08:18.370Z"
   },
   {
    "duration": 10,
    "start_time": "2024-01-28T17:08:18.517Z"
   },
   {
    "duration": 6,
    "start_time": "2024-01-28T17:08:18.529Z"
   },
   {
    "duration": 30,
    "start_time": "2024-01-28T17:08:18.536Z"
   },
   {
    "duration": 8,
    "start_time": "2024-01-28T17:08:18.568Z"
   },
   {
    "duration": 151,
    "start_time": "2024-01-28T17:08:18.578Z"
   },
   {
    "duration": 9,
    "start_time": "2024-01-28T17:09:24.207Z"
   },
   {
    "duration": 9,
    "start_time": "2024-01-28T17:10:11.572Z"
   },
   {
    "duration": 79,
    "start_time": "2024-01-28T17:11:43.167Z"
   },
   {
    "duration": 5,
    "start_time": "2024-01-28T17:11:49.911Z"
   },
   {
    "duration": 8,
    "start_time": "2024-01-28T17:12:14.765Z"
   },
   {
    "duration": 7,
    "start_time": "2024-01-28T17:12:40.527Z"
   },
   {
    "duration": 698,
    "start_time": "2024-01-28T17:17:00.362Z"
   },
   {
    "duration": 99,
    "start_time": "2024-01-28T17:17:01.062Z"
   },
   {
    "duration": 45,
    "start_time": "2024-01-28T17:17:01.163Z"
   },
   {
    "duration": 112,
    "start_time": "2024-01-28T17:17:01.209Z"
   },
   {
    "duration": 2392,
    "start_time": "2024-01-28T17:17:01.323Z"
   },
   {
    "duration": 21,
    "start_time": "2024-01-28T17:17:03.717Z"
   },
   {
    "duration": 76,
    "start_time": "2024-01-28T17:17:03.739Z"
   },
   {
    "duration": 48,
    "start_time": "2024-01-28T17:17:03.816Z"
   },
   {
    "duration": 65,
    "start_time": "2024-01-28T17:17:03.866Z"
   },
   {
    "duration": 102,
    "start_time": "2024-01-28T17:17:03.933Z"
   },
   {
    "duration": 109,
    "start_time": "2024-01-28T17:17:04.037Z"
   },
   {
    "duration": 104,
    "start_time": "2024-01-28T17:17:04.148Z"
   },
   {
    "duration": 56,
    "start_time": "2024-01-28T17:17:04.254Z"
   },
   {
    "duration": 66,
    "start_time": "2024-01-28T17:17:04.314Z"
   },
   {
    "duration": 50,
    "start_time": "2024-01-28T17:17:04.381Z"
   },
   {
    "duration": 57,
    "start_time": "2024-01-28T17:17:04.432Z"
   },
   {
    "duration": 98,
    "start_time": "2024-01-28T17:17:04.490Z"
   },
   {
    "duration": 147,
    "start_time": "2024-01-28T17:17:04.589Z"
   },
   {
    "duration": 77,
    "start_time": "2024-01-28T17:17:04.738Z"
   },
   {
    "duration": 115,
    "start_time": "2024-01-28T17:17:04.817Z"
   },
   {
    "duration": 12,
    "start_time": "2024-01-28T17:17:04.934Z"
   },
   {
    "duration": 34,
    "start_time": "2024-01-28T17:17:04.948Z"
   },
   {
    "duration": 52,
    "start_time": "2024-01-28T17:17:04.983Z"
   },
   {
    "duration": 214,
    "start_time": "2024-01-28T17:17:05.037Z"
   },
   {
    "duration": 5,
    "start_time": "2024-01-28T17:17:05.253Z"
   },
   {
    "duration": 197,
    "start_time": "2024-01-28T17:17:05.266Z"
   },
   {
    "duration": 257,
    "start_time": "2024-01-28T17:17:05.465Z"
   },
   {
    "duration": 486,
    "start_time": "2024-01-28T17:17:05.724Z"
   },
   {
    "duration": 25,
    "start_time": "2024-01-28T17:17:06.212Z"
   },
   {
    "duration": 36,
    "start_time": "2024-01-28T17:17:06.239Z"
   },
   {
    "duration": 74,
    "start_time": "2024-01-28T17:17:06.276Z"
   },
   {
    "duration": 172,
    "start_time": "2024-01-28T17:17:06.351Z"
   },
   {
    "duration": 9,
    "start_time": "2024-01-28T17:17:06.524Z"
   },
   {
    "duration": 11,
    "start_time": "2024-01-28T17:17:06.534Z"
   },
   {
    "duration": 23,
    "start_time": "2024-01-28T17:17:06.547Z"
   },
   {
    "duration": 15,
    "start_time": "2024-01-28T17:17:06.573Z"
   },
   {
    "duration": 18,
    "start_time": "2024-01-28T17:17:06.590Z"
   },
   {
    "duration": 9,
    "start_time": "2024-01-28T17:17:06.609Z"
   },
   {
    "duration": 10,
    "start_time": "2024-01-28T17:20:35.905Z"
   },
   {
    "duration": 7,
    "start_time": "2024-01-28T17:21:04.441Z"
   },
   {
    "duration": 8,
    "start_time": "2024-01-28T17:23:06.062Z"
   },
   {
    "duration": 6,
    "start_time": "2024-01-28T17:23:06.743Z"
   },
   {
    "duration": 8,
    "start_time": "2024-01-28T17:23:07.842Z"
   },
   {
    "duration": 9,
    "start_time": "2024-01-28T17:23:10.107Z"
   },
   {
    "duration": 12,
    "start_time": "2024-01-28T17:25:16.859Z"
   },
   {
    "duration": 132,
    "start_time": "2024-01-28T17:27:51.200Z"
   },
   {
    "duration": 231,
    "start_time": "2024-01-28T17:32:56.210Z"
   },
   {
    "duration": 40297,
    "start_time": "2024-01-28T17:33:55.277Z"
   },
   {
    "duration": 4,
    "start_time": "2024-01-28T17:35:29.954Z"
   },
   {
    "duration": 5,
    "start_time": "2024-01-28T17:36:02.303Z"
   },
   {
    "duration": 71,
    "start_time": "2024-01-28T17:36:25.129Z"
   },
   {
    "duration": 9,
    "start_time": "2024-01-28T17:36:38.082Z"
   },
   {
    "duration": 6,
    "start_time": "2024-01-28T17:37:16.132Z"
   },
   {
    "duration": 6,
    "start_time": "2024-01-28T17:37:31.643Z"
   },
   {
    "duration": 9,
    "start_time": "2024-01-28T17:37:44.399Z"
   },
   {
    "duration": 5,
    "start_time": "2024-01-28T17:37:58.778Z"
   },
   {
    "duration": 4,
    "start_time": "2024-01-28T17:38:07.592Z"
   },
   {
    "duration": 7,
    "start_time": "2024-01-28T17:39:51.849Z"
   },
   {
    "duration": 148,
    "start_time": "2024-01-28T17:40:22.646Z"
   },
   {
    "duration": 150,
    "start_time": "2024-01-28T17:40:48.157Z"
   },
   {
    "duration": 142,
    "start_time": "2024-01-28T17:41:17.568Z"
   },
   {
    "duration": 152,
    "start_time": "2024-01-28T17:42:50.099Z"
   },
   {
    "duration": 159,
    "start_time": "2024-01-28T17:48:27.056Z"
   },
   {
    "duration": 147,
    "start_time": "2024-01-28T17:49:15.609Z"
   },
   {
    "duration": 150,
    "start_time": "2024-01-28T17:49:31.409Z"
   },
   {
    "duration": 50,
    "start_time": "2024-01-28T19:38:45.334Z"
   },
   {
    "duration": 6,
    "start_time": "2024-01-28T19:38:59.547Z"
   },
   {
    "duration": 902,
    "start_time": "2024-01-28T19:39:16.669Z"
   },
   {
    "duration": 313,
    "start_time": "2024-01-28T19:39:17.574Z"
   },
   {
    "duration": 32,
    "start_time": "2024-01-28T19:39:17.891Z"
   },
   {
    "duration": 17,
    "start_time": "2024-01-28T19:39:17.925Z"
   },
   {
    "duration": 2264,
    "start_time": "2024-01-28T19:39:17.944Z"
   },
   {
    "duration": 22,
    "start_time": "2024-01-28T19:39:20.209Z"
   },
   {
    "duration": 14,
    "start_time": "2024-01-28T19:39:20.233Z"
   },
   {
    "duration": 7,
    "start_time": "2024-01-28T19:39:20.249Z"
   },
   {
    "duration": 5,
    "start_time": "2024-01-28T19:39:20.258Z"
   },
   {
    "duration": 10,
    "start_time": "2024-01-28T19:39:20.265Z"
   },
   {
    "duration": 8,
    "start_time": "2024-01-28T19:39:20.277Z"
   },
   {
    "duration": 6,
    "start_time": "2024-01-28T19:39:20.287Z"
   },
   {
    "duration": 4,
    "start_time": "2024-01-28T19:39:20.296Z"
   },
   {
    "duration": 8,
    "start_time": "2024-01-28T19:39:20.302Z"
   },
   {
    "duration": 49,
    "start_time": "2024-01-28T19:39:20.311Z"
   },
   {
    "duration": 10,
    "start_time": "2024-01-28T19:39:20.361Z"
   },
   {
    "duration": 10,
    "start_time": "2024-01-28T19:39:20.373Z"
   },
   {
    "duration": 15,
    "start_time": "2024-01-28T19:39:20.385Z"
   },
   {
    "duration": 6,
    "start_time": "2024-01-28T19:39:20.401Z"
   },
   {
    "duration": 50,
    "start_time": "2024-01-28T19:39:20.409Z"
   },
   {
    "duration": 7,
    "start_time": "2024-01-28T19:39:20.461Z"
   },
   {
    "duration": 7,
    "start_time": "2024-01-28T19:39:20.470Z"
   },
   {
    "duration": 11,
    "start_time": "2024-01-28T19:39:20.479Z"
   },
   {
    "duration": 188,
    "start_time": "2024-01-28T19:39:20.492Z"
   },
   {
    "duration": 7,
    "start_time": "2024-01-28T19:39:20.682Z"
   },
   {
    "duration": 5,
    "start_time": "2024-01-28T19:39:20.690Z"
   },
   {
    "duration": 20,
    "start_time": "2024-01-28T19:39:20.697Z"
   },
   {
    "duration": 382,
    "start_time": "2024-01-28T19:39:20.718Z"
   },
   {
    "duration": 31,
    "start_time": "2024-01-28T19:39:21.102Z"
   },
   {
    "duration": 37,
    "start_time": "2024-01-28T19:39:21.134Z"
   },
   {
    "duration": 12,
    "start_time": "2024-01-28T19:39:21.173Z"
   },
   {
    "duration": 166,
    "start_time": "2024-01-28T19:39:21.186Z"
   },
   {
    "duration": 10,
    "start_time": "2024-01-28T19:39:21.358Z"
   },
   {
    "duration": 10,
    "start_time": "2024-01-28T19:39:21.370Z"
   },
   {
    "duration": 9,
    "start_time": "2024-01-28T19:39:21.382Z"
   },
   {
    "duration": 9,
    "start_time": "2024-01-28T19:39:21.392Z"
   },
   {
    "duration": 11,
    "start_time": "2024-01-28T19:39:21.403Z"
   },
   {
    "duration": 45,
    "start_time": "2024-01-28T19:39:21.416Z"
   },
   {
    "duration": 25,
    "start_time": "2024-01-28T19:39:21.463Z"
   },
   {
    "duration": 10,
    "start_time": "2024-01-28T19:39:21.493Z"
   },
   {
    "duration": 10,
    "start_time": "2024-01-28T19:39:21.505Z"
   },
   {
    "duration": 153,
    "start_time": "2024-01-28T19:39:21.516Z"
   },
   {
    "duration": 79,
    "start_time": "2024-01-28T19:39:21.671Z"
   },
   {
    "duration": 264,
    "start_time": "2024-01-28T19:39:36.606Z"
   },
   {
    "duration": 216,
    "start_time": "2024-01-28T19:40:47.457Z"
   },
   {
    "duration": 169,
    "start_time": "2024-01-28T19:41:34.456Z"
   },
   {
    "duration": 168,
    "start_time": "2024-01-28T19:44:57.134Z"
   },
   {
    "duration": 287,
    "start_time": "2024-01-28T19:48:03.786Z"
   },
   {
    "duration": 149,
    "start_time": "2024-01-28T19:48:16.687Z"
   },
   {
    "duration": 152,
    "start_time": "2024-01-28T19:48:48.372Z"
   },
   {
    "duration": 169,
    "start_time": "2024-01-28T19:48:58.257Z"
   },
   {
    "duration": 128,
    "start_time": "2024-01-28T19:49:05.474Z"
   },
   {
    "duration": 130,
    "start_time": "2024-01-28T19:49:11.840Z"
   },
   {
    "duration": 148,
    "start_time": "2024-01-28T19:49:31.620Z"
   },
   {
    "duration": 149,
    "start_time": "2024-01-28T19:51:29.597Z"
   },
   {
    "duration": 172,
    "start_time": "2024-01-28T19:52:01.443Z"
   },
   {
    "duration": 149,
    "start_time": "2024-01-28T19:52:27.508Z"
   },
   {
    "duration": 287,
    "start_time": "2024-01-28T19:52:47.081Z"
   },
   {
    "duration": 334,
    "start_time": "2024-01-28T19:52:57.224Z"
   },
   {
    "duration": 265,
    "start_time": "2024-01-28T19:53:40.648Z"
   },
   {
    "duration": 264,
    "start_time": "2024-01-28T19:54:17.708Z"
   },
   {
    "duration": 165,
    "start_time": "2024-01-28T19:55:06.156Z"
   },
   {
    "duration": 182,
    "start_time": "2024-01-28T19:55:26.938Z"
   },
   {
    "duration": 1321,
    "start_time": "2024-01-28T19:56:39.915Z"
   },
   {
    "duration": 157,
    "start_time": "2024-01-28T19:56:53.013Z"
   },
   {
    "duration": 160,
    "start_time": "2024-01-28T19:57:29.434Z"
   },
   {
    "duration": 159,
    "start_time": "2024-01-28T20:01:39.062Z"
   },
   {
    "duration": 6,
    "start_time": "2024-01-28T20:05:09.608Z"
   },
   {
    "duration": 23,
    "start_time": "2024-01-28T20:05:28.868Z"
   },
   {
    "duration": 5,
    "start_time": "2024-01-28T20:05:44.508Z"
   },
   {
    "duration": 10,
    "start_time": "2024-01-28T20:06:34.502Z"
   },
   {
    "duration": 6,
    "start_time": "2024-01-28T20:07:09.581Z"
   },
   {
    "duration": 10,
    "start_time": "2024-01-28T20:10:17.450Z"
   },
   {
    "duration": 124,
    "start_time": "2024-01-28T20:10:18.971Z"
   },
   {
    "duration": 193,
    "start_time": "2024-01-28T20:10:34.655Z"
   },
   {
    "duration": 5,
    "start_time": "2024-01-28T20:14:03.948Z"
   },
   {
    "duration": 187,
    "start_time": "2024-01-28T20:14:59.944Z"
   },
   {
    "duration": 130,
    "start_time": "2024-01-28T20:17:10.632Z"
   },
   {
    "duration": 135,
    "start_time": "2024-01-28T20:17:15.637Z"
   },
   {
    "duration": 127,
    "start_time": "2024-01-28T20:17:27.663Z"
   },
   {
    "duration": 128,
    "start_time": "2024-01-28T20:18:09.431Z"
   },
   {
    "duration": 118,
    "start_time": "2024-01-28T20:18:13.335Z"
   },
   {
    "duration": 269,
    "start_time": "2024-01-28T20:18:36.976Z"
   },
   {
    "duration": 155,
    "start_time": "2024-01-28T20:19:05.380Z"
   },
   {
    "duration": 155,
    "start_time": "2024-01-28T20:19:35.985Z"
   },
   {
    "duration": 9,
    "start_time": "2024-01-28T20:20:00.556Z"
   },
   {
    "duration": 191,
    "start_time": "2024-01-28T20:21:06.392Z"
   },
   {
    "duration": 4,
    "start_time": "2024-01-28T20:28:25.775Z"
   },
   {
    "duration": 11,
    "start_time": "2024-01-28T20:29:50.179Z"
   },
   {
    "duration": 12,
    "start_time": "2024-01-28T20:33:31.868Z"
   },
   {
    "duration": 15,
    "start_time": "2024-01-28T20:36:40.720Z"
   },
   {
    "duration": 10,
    "start_time": "2024-01-28T20:36:59.161Z"
   },
   {
    "duration": 8,
    "start_time": "2024-01-28T20:37:12.107Z"
   },
   {
    "duration": 9,
    "start_time": "2024-01-28T20:37:22.112Z"
   },
   {
    "duration": 11,
    "start_time": "2024-01-28T20:37:34.890Z"
   },
   {
    "duration": 81,
    "start_time": "2024-01-28T20:37:41.604Z"
   },
   {
    "duration": 9,
    "start_time": "2024-01-28T20:37:47.035Z"
   },
   {
    "duration": 10,
    "start_time": "2024-01-28T20:37:55.387Z"
   },
   {
    "duration": 9,
    "start_time": "2024-01-28T20:40:36.115Z"
   },
   {
    "duration": 9,
    "start_time": "2024-01-28T20:40:42.764Z"
   },
   {
    "duration": 10,
    "start_time": "2024-01-28T20:40:51.117Z"
   },
   {
    "duration": 195,
    "start_time": "2024-01-28T20:40:55.764Z"
   },
   {
    "duration": 88,
    "start_time": "2024-01-28T20:41:05.153Z"
   },
   {
    "duration": 683,
    "start_time": "2024-02-01T20:25:00.962Z"
   },
   {
    "duration": 98,
    "start_time": "2024-02-01T20:25:01.647Z"
   },
   {
    "duration": 40,
    "start_time": "2024-02-01T20:25:01.749Z"
   },
   {
    "duration": 44,
    "start_time": "2024-02-01T20:25:01.791Z"
   },
   {
    "duration": 3004,
    "start_time": "2024-02-01T20:25:01.836Z"
   },
   {
    "duration": 9,
    "start_time": "2024-02-01T20:25:04.841Z"
   },
   {
    "duration": 31,
    "start_time": "2024-02-01T20:25:04.852Z"
   },
   {
    "duration": 5,
    "start_time": "2024-02-01T20:25:04.884Z"
   },
   {
    "duration": 27,
    "start_time": "2024-02-01T20:25:04.891Z"
   },
   {
    "duration": 6,
    "start_time": "2024-02-01T20:25:04.920Z"
   },
   {
    "duration": 10,
    "start_time": "2024-02-01T20:25:04.927Z"
   },
   {
    "duration": 25,
    "start_time": "2024-02-01T20:25:04.938Z"
   },
   {
    "duration": 22,
    "start_time": "2024-02-01T20:25:04.966Z"
   },
   {
    "duration": 11,
    "start_time": "2024-02-01T20:25:04.989Z"
   },
   {
    "duration": 13,
    "start_time": "2024-02-01T20:25:05.001Z"
   },
   {
    "duration": 13,
    "start_time": "2024-02-01T20:25:05.015Z"
   },
   {
    "duration": 5,
    "start_time": "2024-02-01T20:25:05.029Z"
   },
   {
    "duration": 9,
    "start_time": "2024-02-01T20:25:05.036Z"
   },
   {
    "duration": 144,
    "start_time": "2024-02-01T20:25:05.047Z"
   },
   {
    "duration": 9,
    "start_time": "2024-02-01T20:25:05.283Z"
   },
   {
    "duration": 5,
    "start_time": "2024-02-01T20:25:05.294Z"
   },
   {
    "duration": 306,
    "start_time": "2024-02-01T20:25:05.301Z"
   },
   {
    "duration": 5,
    "start_time": "2024-02-01T20:25:05.608Z"
   },
   {
    "duration": 86,
    "start_time": "2024-02-01T20:25:05.614Z"
   },
   {
    "duration": 2,
    "start_time": "2024-02-01T20:25:05.702Z"
   },
   {
    "duration": 383,
    "start_time": "2024-02-01T20:25:05.705Z"
   },
   {
    "duration": 7,
    "start_time": "2024-02-01T20:25:06.089Z"
   },
   {
    "duration": 5,
    "start_time": "2024-02-01T20:25:06.097Z"
   },
   {
    "duration": 16,
    "start_time": "2024-02-01T20:25:06.103Z"
   },
   {
    "duration": 696,
    "start_time": "2024-02-01T20:25:06.121Z"
   },
   {
    "duration": 82,
    "start_time": "2024-02-01T20:25:06.819Z"
   },
   {
    "duration": 15,
    "start_time": "2024-02-01T20:25:06.903Z"
   },
   {
    "duration": 66,
    "start_time": "2024-02-01T20:25:06.920Z"
   },
   {
    "duration": 318,
    "start_time": "2024-02-01T20:25:06.987Z"
   },
   {
    "duration": 10,
    "start_time": "2024-02-01T20:25:07.306Z"
   },
   {
    "duration": 64,
    "start_time": "2024-02-01T20:25:07.318Z"
   },
   {
    "duration": 10,
    "start_time": "2024-02-01T20:25:07.384Z"
   },
   {
    "duration": 9,
    "start_time": "2024-02-01T20:25:07.396Z"
   },
   {
    "duration": 6,
    "start_time": "2024-02-01T20:25:07.406Z"
   },
   {
    "duration": 66,
    "start_time": "2024-02-01T20:25:07.416Z"
   },
   {
    "duration": 9,
    "start_time": "2024-02-01T20:25:07.483Z"
   },
   {
    "duration": 13,
    "start_time": "2024-02-01T20:25:07.493Z"
   },
   {
    "duration": 278,
    "start_time": "2024-02-01T20:25:07.507Z"
   },
   {
    "duration": 503,
    "start_time": "2024-02-01T20:25:07.786Z"
   },
   {
    "duration": 8,
    "start_time": "2024-02-01T20:25:08.291Z"
   },
   {
    "duration": 14,
    "start_time": "2024-02-01T20:25:08.300Z"
   },
   {
    "duration": 310,
    "start_time": "2024-02-01T20:25:08.315Z"
   },
   {
    "duration": 11,
    "start_time": "2024-02-01T20:25:08.681Z"
   },
   {
    "duration": 408,
    "start_time": "2024-02-01T20:25:08.694Z"
   },
   {
    "duration": 5,
    "start_time": "2024-02-01T20:25:09.104Z"
   },
   {
    "duration": 75,
    "start_time": "2024-02-01T20:25:09.110Z"
   },
   {
    "duration": 8,
    "start_time": "2024-02-01T20:25:09.187Z"
   },
   {
    "duration": 10,
    "start_time": "2024-02-01T20:25:09.196Z"
   },
   {
    "duration": 7,
    "start_time": "2024-02-01T20:25:09.207Z"
   },
   {
    "duration": 246,
    "start_time": "2024-02-01T20:25:09.282Z"
   },
   {
    "duration": 59,
    "start_time": "2024-02-01T20:25:09.529Z"
   },
   {
    "duration": 4,
    "start_time": "2024-02-01T20:25:09.590Z"
   },
   {
    "duration": 10,
    "start_time": "2024-02-01T20:25:09.595Z"
   },
   {
    "duration": 8,
    "start_time": "2024-02-01T20:25:09.606Z"
   },
   {
    "duration": 371,
    "start_time": "2024-02-01T20:25:09.615Z"
   },
   {
    "duration": 8,
    "start_time": "2024-02-01T20:25:09.987Z"
   },
   {
    "duration": 15,
    "start_time": "2024-02-01T20:25:09.996Z"
   },
   {
    "duration": 10,
    "start_time": "2024-02-01T20:25:10.012Z"
   },
   {
    "duration": 319,
    "start_time": "2024-02-01T20:25:10.083Z"
   },
   {
    "duration": 9,
    "start_time": "2024-02-01T20:25:10.404Z"
   },
   {
    "duration": 385,
    "start_time": "2024-02-01T20:25:10.414Z"
   },
   {
    "duration": 384,
    "start_time": "2024-02-01T20:25:10.800Z"
   },
   {
    "duration": 8,
    "start_time": "2024-02-01T20:25:11.185Z"
   },
   {
    "duration": 226,
    "start_time": "2024-02-01T20:25:11.195Z"
   },
   {
    "duration": 364,
    "start_time": "2024-02-01T20:25:11.422Z"
   },
   {
    "duration": 8,
    "start_time": "2024-02-01T20:25:11.788Z"
   },
   {
    "duration": 8,
    "start_time": "2024-02-01T20:25:11.797Z"
   },
   {
    "duration": 395,
    "start_time": "2024-02-01T20:25:11.806Z"
   },
   {
    "duration": 8,
    "start_time": "2024-02-01T20:25:12.203Z"
   },
   {
    "duration": 314,
    "start_time": "2024-02-01T20:25:12.212Z"
   },
   {
    "duration": 61,
    "start_time": "2024-02-01T20:25:12.528Z"
   },
   {
    "duration": 904,
    "start_time": "2024-02-01T20:25:12.591Z"
   },
   {
    "duration": 520,
    "start_time": "2024-02-01T20:25:13.497Z"
   },
   {
    "duration": 65,
    "start_time": "2024-02-01T20:25:14.019Z"
   },
   {
    "duration": 104,
    "start_time": "2024-02-01T20:25:14.086Z"
   },
   {
    "duration": 2410,
    "start_time": "2024-02-01T20:25:14.191Z"
   },
   {
    "duration": 24,
    "start_time": "2024-02-01T20:25:16.603Z"
   },
   {
    "duration": 10,
    "start_time": "2024-02-01T20:25:16.683Z"
   },
   {
    "duration": 26,
    "start_time": "2024-02-01T20:25:16.695Z"
   },
   {
    "duration": 401,
    "start_time": "2024-02-01T20:25:16.781Z"
   },
   {
    "duration": 19,
    "start_time": "2024-02-01T20:25:17.184Z"
   },
   {
    "duration": 323,
    "start_time": "2024-02-01T20:25:17.204Z"
   },
   {
    "duration": 378,
    "start_time": "2024-02-01T20:25:17.528Z"
   },
   {
    "duration": 7,
    "start_time": "2024-02-01T20:33:08.986Z"
   },
   {
    "duration": 7,
    "start_time": "2024-02-01T20:33:16.318Z"
   },
   {
    "duration": 83,
    "start_time": "2024-02-01T20:34:06.024Z"
   },
   {
    "duration": 791,
    "start_time": "2024-02-02T06:37:44.890Z"
   },
   {
    "duration": 309,
    "start_time": "2024-02-02T06:37:45.683Z"
   },
   {
    "duration": 27,
    "start_time": "2024-02-02T06:37:45.994Z"
   },
   {
    "duration": 14,
    "start_time": "2024-02-02T06:37:46.022Z"
   },
   {
    "duration": 1951,
    "start_time": "2024-02-02T06:37:46.037Z"
   },
   {
    "duration": 9,
    "start_time": "2024-02-02T06:37:47.989Z"
   },
   {
    "duration": 27,
    "start_time": "2024-02-02T06:37:47.999Z"
   },
   {
    "duration": 15,
    "start_time": "2024-02-02T06:37:48.028Z"
   },
   {
    "duration": 8,
    "start_time": "2024-02-02T06:37:48.045Z"
   },
   {
    "duration": 11,
    "start_time": "2024-02-02T06:37:48.055Z"
   },
   {
    "duration": 15,
    "start_time": "2024-02-02T06:37:48.067Z"
   },
   {
    "duration": 8,
    "start_time": "2024-02-02T06:37:48.083Z"
   },
   {
    "duration": 9,
    "start_time": "2024-02-02T06:37:48.093Z"
   },
   {
    "duration": 18,
    "start_time": "2024-02-02T06:37:48.103Z"
   },
   {
    "duration": 10,
    "start_time": "2024-02-02T06:37:48.122Z"
   },
   {
    "duration": 19,
    "start_time": "2024-02-02T06:37:48.133Z"
   },
   {
    "duration": 4,
    "start_time": "2024-02-02T06:37:48.154Z"
   },
   {
    "duration": 9,
    "start_time": "2024-02-02T06:37:48.159Z"
   },
   {
    "duration": 26,
    "start_time": "2024-02-02T06:37:48.169Z"
   },
   {
    "duration": 16,
    "start_time": "2024-02-02T06:37:48.196Z"
   },
   {
    "duration": 10,
    "start_time": "2024-02-02T06:37:48.213Z"
   },
   {
    "duration": 166,
    "start_time": "2024-02-02T06:37:48.224Z"
   },
   {
    "duration": 5,
    "start_time": "2024-02-02T06:37:48.391Z"
   },
   {
    "duration": 34,
    "start_time": "2024-02-02T06:37:48.398Z"
   },
   {
    "duration": 4,
    "start_time": "2024-02-02T06:37:48.433Z"
   },
   {
    "duration": 183,
    "start_time": "2024-02-02T06:37:48.438Z"
   },
   {
    "duration": 7,
    "start_time": "2024-02-02T06:37:48.622Z"
   },
   {
    "duration": 4,
    "start_time": "2024-02-02T06:37:48.633Z"
   },
   {
    "duration": 28,
    "start_time": "2024-02-02T06:37:48.638Z"
   },
   {
    "duration": 356,
    "start_time": "2024-02-02T06:37:48.667Z"
   },
   {
    "duration": 24,
    "start_time": "2024-02-02T06:37:49.025Z"
   },
   {
    "duration": 24,
    "start_time": "2024-02-02T06:37:49.050Z"
   },
   {
    "duration": 8,
    "start_time": "2024-02-02T06:37:49.076Z"
   },
   {
    "duration": 161,
    "start_time": "2024-02-02T06:37:49.085Z"
   },
   {
    "duration": 76,
    "start_time": "2024-02-02T06:37:49.248Z"
   },
   {
    "duration": 11,
    "start_time": "2024-02-02T06:37:49.326Z"
   },
   {
    "duration": 31,
    "start_time": "2024-02-02T06:37:49.338Z"
   },
   {
    "duration": 8,
    "start_time": "2024-02-02T06:37:49.370Z"
   },
   {
    "duration": 6,
    "start_time": "2024-02-02T06:37:49.380Z"
   },
   {
    "duration": 11,
    "start_time": "2024-02-02T06:37:49.387Z"
   },
   {
    "duration": 12,
    "start_time": "2024-02-02T06:37:49.399Z"
   },
   {
    "duration": 10,
    "start_time": "2024-02-02T06:37:49.412Z"
   },
   {
    "duration": 135,
    "start_time": "2024-02-02T06:37:49.423Z"
   },
   {
    "duration": 150,
    "start_time": "2024-02-02T06:37:49.559Z"
   },
   {
    "duration": 8,
    "start_time": "2024-02-02T06:37:49.711Z"
   },
   {
    "duration": 6,
    "start_time": "2024-02-02T06:37:49.721Z"
   },
   {
    "duration": 167,
    "start_time": "2024-02-02T06:37:49.728Z"
   },
   {
    "duration": 8,
    "start_time": "2024-02-02T06:37:49.896Z"
   },
   {
    "duration": 185,
    "start_time": "2024-02-02T06:37:49.906Z"
   },
   {
    "duration": 4,
    "start_time": "2024-02-02T06:37:50.093Z"
   },
   {
    "duration": 17,
    "start_time": "2024-02-02T06:37:50.099Z"
   },
   {
    "duration": 7,
    "start_time": "2024-02-02T06:37:50.117Z"
   },
   {
    "duration": 9,
    "start_time": "2024-02-02T06:37:50.125Z"
   },
   {
    "duration": 9,
    "start_time": "2024-02-02T06:37:50.135Z"
   },
   {
    "duration": 149,
    "start_time": "2024-02-02T06:37:50.145Z"
   },
   {
    "duration": 8,
    "start_time": "2024-02-02T06:37:50.295Z"
   },
   {
    "duration": 4,
    "start_time": "2024-02-02T06:37:50.304Z"
   },
   {
    "duration": 13,
    "start_time": "2024-02-02T06:37:50.310Z"
   },
   {
    "duration": 13,
    "start_time": "2024-02-02T06:37:50.325Z"
   },
   {
    "duration": 158,
    "start_time": "2024-02-02T06:37:50.340Z"
   },
   {
    "duration": 8,
    "start_time": "2024-02-02T06:37:50.500Z"
   },
   {
    "duration": 33,
    "start_time": "2024-02-02T06:37:50.510Z"
   },
   {
    "duration": 8,
    "start_time": "2024-02-02T06:37:50.544Z"
   },
   {
    "duration": 152,
    "start_time": "2024-02-02T06:37:50.553Z"
   },
   {
    "duration": 9,
    "start_time": "2024-02-02T06:37:50.706Z"
   },
   {
    "duration": 181,
    "start_time": "2024-02-02T06:37:50.716Z"
   },
   {
    "duration": 173,
    "start_time": "2024-02-02T06:37:50.899Z"
   },
   {
    "duration": 7,
    "start_time": "2024-02-02T06:37:51.074Z"
   },
   {
    "duration": 114,
    "start_time": "2024-02-02T06:37:51.082Z"
   },
   {
    "duration": 147,
    "start_time": "2024-02-02T06:37:51.197Z"
   },
   {
    "duration": 8,
    "start_time": "2024-02-02T06:37:51.345Z"
   },
   {
    "duration": 16,
    "start_time": "2024-02-02T06:37:51.354Z"
   },
   {
    "duration": 213,
    "start_time": "2024-02-02T06:37:51.371Z"
   },
   {
    "duration": 9,
    "start_time": "2024-02-02T06:37:51.585Z"
   },
   {
    "duration": 153,
    "start_time": "2024-02-02T06:37:51.596Z"
   },
   {
    "duration": 18,
    "start_time": "2024-02-02T06:37:51.750Z"
   },
   {
    "duration": 174,
    "start_time": "2024-02-02T06:37:51.770Z"
   },
   {
    "duration": 194,
    "start_time": "2024-02-02T06:37:51.946Z"
   },
   {
    "duration": 6,
    "start_time": "2024-02-02T06:37:52.142Z"
   },
   {
    "duration": 40,
    "start_time": "2024-02-02T06:37:52.149Z"
   },
   {
    "duration": 1035,
    "start_time": "2024-02-02T06:37:52.190Z"
   },
   {
    "duration": 37,
    "start_time": "2024-02-02T06:37:53.232Z"
   },
   {
    "duration": 7,
    "start_time": "2024-02-02T06:37:53.270Z"
   },
   {
    "duration": 34,
    "start_time": "2024-02-02T06:37:53.279Z"
   },
   {
    "duration": 166,
    "start_time": "2024-02-02T06:37:53.315Z"
   },
   {
    "duration": 19,
    "start_time": "2024-02-02T06:37:53.483Z"
   },
   {
    "duration": 174,
    "start_time": "2024-02-02T06:37:53.504Z"
   },
   {
    "duration": 169,
    "start_time": "2024-02-02T06:37:53.680Z"
   },
   {
    "duration": 25,
    "start_time": "2024-02-02T06:41:22.147Z"
   },
   {
    "duration": 2912,
    "start_time": "2024-02-02T06:52:03.807Z"
   },
   {
    "duration": 3,
    "start_time": "2024-02-02T06:59:27.778Z"
   },
   {
    "duration": 86,
    "start_time": "2024-02-02T06:59:27.786Z"
   },
   {
    "duration": 20,
    "start_time": "2024-02-02T06:59:27.874Z"
   },
   {
    "duration": 16,
    "start_time": "2024-02-02T06:59:27.895Z"
   },
   {
    "duration": 1876,
    "start_time": "2024-02-02T06:59:27.912Z"
   },
   {
    "duration": 8,
    "start_time": "2024-02-02T06:59:29.790Z"
   },
   {
    "duration": 19,
    "start_time": "2024-02-02T06:59:29.799Z"
   },
   {
    "duration": 4,
    "start_time": "2024-02-02T06:59:29.820Z"
   },
   {
    "duration": 5,
    "start_time": "2024-02-02T07:04:20.603Z"
   },
   {
    "duration": 8,
    "start_time": "2024-02-02T07:04:22.056Z"
   },
   {
    "duration": 7,
    "start_time": "2024-02-02T07:04:23.989Z"
   },
   {
    "duration": 6,
    "start_time": "2024-02-02T07:04:31.599Z"
   },
   {
    "duration": 672,
    "start_time": "2024-02-02T07:04:41.632Z"
   },
   {
    "duration": 99,
    "start_time": "2024-02-02T07:04:42.306Z"
   },
   {
    "duration": 26,
    "start_time": "2024-02-02T07:04:42.406Z"
   },
   {
    "duration": 15,
    "start_time": "2024-02-02T07:04:42.434Z"
   },
   {
    "duration": 1945,
    "start_time": "2024-02-02T07:04:42.451Z"
   },
   {
    "duration": 9,
    "start_time": "2024-02-02T07:04:44.398Z"
   },
   {
    "duration": 12,
    "start_time": "2024-02-02T07:04:44.409Z"
   },
   {
    "duration": 5,
    "start_time": "2024-02-02T07:04:44.423Z"
   },
   {
    "duration": 9,
    "start_time": "2024-02-02T07:04:44.429Z"
   },
   {
    "duration": 14,
    "start_time": "2024-02-02T07:04:44.440Z"
   },
   {
    "duration": 14,
    "start_time": "2024-02-02T07:04:44.455Z"
   },
   {
    "duration": 9,
    "start_time": "2024-02-02T07:04:44.470Z"
   },
   {
    "duration": 15,
    "start_time": "2024-02-02T07:04:44.481Z"
   },
   {
    "duration": 7,
    "start_time": "2024-02-02T07:04:44.498Z"
   },
   {
    "duration": 6,
    "start_time": "2024-02-02T07:04:44.506Z"
   },
   {
    "duration": 11,
    "start_time": "2024-02-02T07:04:44.513Z"
   },
   {
    "duration": 4,
    "start_time": "2024-02-02T07:04:44.526Z"
   },
   {
    "duration": 10,
    "start_time": "2024-02-02T07:04:44.531Z"
   },
   {
    "duration": 20,
    "start_time": "2024-02-02T07:04:44.542Z"
   },
   {
    "duration": 7,
    "start_time": "2024-02-02T07:04:44.564Z"
   },
   {
    "duration": 10,
    "start_time": "2024-02-02T07:04:44.572Z"
   },
   {
    "duration": 141,
    "start_time": "2024-02-02T07:04:44.583Z"
   },
   {
    "duration": 5,
    "start_time": "2024-02-02T07:04:44.725Z"
   },
   {
    "duration": 30,
    "start_time": "2024-02-02T07:04:44.731Z"
   },
   {
    "duration": 2,
    "start_time": "2024-02-02T07:04:44.763Z"
   },
   {
    "duration": 237,
    "start_time": "2024-02-02T07:04:44.767Z"
   },
   {
    "duration": 6,
    "start_time": "2024-02-02T07:04:45.005Z"
   },
   {
    "duration": 5,
    "start_time": "2024-02-02T07:04:45.065Z"
   },
   {
    "duration": 13,
    "start_time": "2024-02-02T07:04:45.071Z"
   },
   {
    "duration": 400,
    "start_time": "2024-02-02T07:04:45.085Z"
   },
   {
    "duration": 25,
    "start_time": "2024-02-02T07:04:45.486Z"
   },
   {
    "duration": 15,
    "start_time": "2024-02-02T07:04:45.513Z"
   },
   {
    "duration": 20,
    "start_time": "2024-02-02T07:04:45.530Z"
   },
   {
    "duration": 167,
    "start_time": "2024-02-02T07:04:45.552Z"
   },
   {
    "duration": 86,
    "start_time": "2024-02-02T07:04:45.721Z"
   },
   {
    "duration": 13,
    "start_time": "2024-02-02T07:04:45.809Z"
   },
   {
    "duration": 13,
    "start_time": "2024-02-02T07:04:45.824Z"
   },
   {
    "duration": 7,
    "start_time": "2024-02-02T07:04:45.839Z"
   },
   {
    "duration": 19,
    "start_time": "2024-02-02T07:04:45.847Z"
   },
   {
    "duration": 8,
    "start_time": "2024-02-02T07:04:45.867Z"
   },
   {
    "duration": 8,
    "start_time": "2024-02-02T07:04:45.876Z"
   },
   {
    "duration": 7,
    "start_time": "2024-02-02T07:04:45.885Z"
   },
   {
    "duration": 128,
    "start_time": "2024-02-02T07:04:45.893Z"
   },
   {
    "duration": 134,
    "start_time": "2024-02-02T07:04:46.023Z"
   },
   {
    "duration": 10,
    "start_time": "2024-02-02T07:04:46.164Z"
   },
   {
    "duration": 5,
    "start_time": "2024-02-02T07:04:46.175Z"
   },
   {
    "duration": 185,
    "start_time": "2024-02-02T07:04:46.181Z"
   },
   {
    "duration": 9,
    "start_time": "2024-02-02T07:04:46.368Z"
   },
   {
    "duration": 181,
    "start_time": "2024-02-02T07:04:46.378Z"
   },
   {
    "duration": 5,
    "start_time": "2024-02-02T07:04:46.564Z"
   },
   {
    "duration": 10,
    "start_time": "2024-02-02T07:04:46.570Z"
   },
   {
    "duration": 6,
    "start_time": "2024-02-02T07:04:46.582Z"
   },
   {
    "duration": 8,
    "start_time": "2024-02-02T07:04:46.590Z"
   },
   {
    "duration": 17,
    "start_time": "2024-02-02T07:04:46.599Z"
   },
   {
    "duration": 143,
    "start_time": "2024-02-02T07:04:46.617Z"
   },
   {
    "duration": 8,
    "start_time": "2024-02-02T07:04:46.765Z"
   },
   {
    "duration": 5,
    "start_time": "2024-02-02T07:04:46.775Z"
   },
   {
    "duration": 9,
    "start_time": "2024-02-02T07:04:46.782Z"
   },
   {
    "duration": 8,
    "start_time": "2024-02-02T07:04:46.793Z"
   },
   {
    "duration": 170,
    "start_time": "2024-02-02T07:04:46.802Z"
   },
   {
    "duration": 8,
    "start_time": "2024-02-02T07:04:46.974Z"
   },
   {
    "duration": 7,
    "start_time": "2024-02-02T07:04:46.983Z"
   },
   {
    "duration": 6,
    "start_time": "2024-02-02T07:04:46.992Z"
   },
   {
    "duration": 178,
    "start_time": "2024-02-02T07:04:46.999Z"
   },
   {
    "duration": 9,
    "start_time": "2024-02-02T07:04:47.179Z"
   },
   {
    "duration": 176,
    "start_time": "2024-02-02T07:04:47.189Z"
   },
   {
    "duration": 158,
    "start_time": "2024-02-02T07:04:47.366Z"
   },
   {
    "duration": 7,
    "start_time": "2024-02-02T07:04:47.526Z"
   },
   {
    "duration": 117,
    "start_time": "2024-02-02T07:04:47.534Z"
   },
   {
    "duration": 160,
    "start_time": "2024-02-02T07:04:47.652Z"
   },
   {
    "duration": 8,
    "start_time": "2024-02-02T07:04:47.814Z"
   },
   {
    "duration": 13,
    "start_time": "2024-02-02T07:04:47.823Z"
   },
   {
    "duration": 199,
    "start_time": "2024-02-02T07:04:47.838Z"
   },
   {
    "duration": 9,
    "start_time": "2024-02-02T07:04:48.039Z"
   },
   {
    "duration": 161,
    "start_time": "2024-02-02T07:04:48.049Z"
   },
   {
    "duration": 16,
    "start_time": "2024-02-02T07:04:48.211Z"
   },
   {
    "duration": 203,
    "start_time": "2024-02-02T07:04:48.229Z"
   },
   {
    "duration": 199,
    "start_time": "2024-02-02T07:04:48.434Z"
   },
   {
    "duration": 7,
    "start_time": "2024-02-02T07:04:48.634Z"
   },
   {
    "duration": 35,
    "start_time": "2024-02-02T07:04:48.642Z"
   },
   {
    "duration": 1082,
    "start_time": "2024-02-02T07:04:48.679Z"
   },
   {
    "duration": 22,
    "start_time": "2024-02-02T07:04:49.770Z"
   },
   {
    "duration": 8,
    "start_time": "2024-02-02T07:04:49.793Z"
   },
   {
    "duration": 19,
    "start_time": "2024-02-02T07:04:49.802Z"
   },
   {
    "duration": 208,
    "start_time": "2024-02-02T07:04:49.823Z"
   },
   {
    "duration": 19,
    "start_time": "2024-02-02T07:04:50.033Z"
   },
   {
    "duration": 164,
    "start_time": "2024-02-02T07:04:50.053Z"
   },
   {
    "duration": 164,
    "start_time": "2024-02-02T07:04:50.218Z"
   },
   {
    "duration": 647,
    "start_time": "2024-02-02T07:12:35.259Z"
   },
   {
    "duration": 91,
    "start_time": "2024-02-02T07:12:35.908Z"
   },
   {
    "duration": 24,
    "start_time": "2024-02-02T07:12:36.000Z"
   },
   {
    "duration": 14,
    "start_time": "2024-02-02T07:12:36.026Z"
   },
   {
    "duration": 1935,
    "start_time": "2024-02-02T07:12:36.041Z"
   },
   {
    "duration": 10,
    "start_time": "2024-02-02T07:12:37.977Z"
   },
   {
    "duration": 12,
    "start_time": "2024-02-02T07:12:37.988Z"
   },
   {
    "duration": 5,
    "start_time": "2024-02-02T07:12:38.001Z"
   },
   {
    "duration": 4,
    "start_time": "2024-02-02T07:12:38.007Z"
   },
   {
    "duration": 12,
    "start_time": "2024-02-02T07:12:38.013Z"
   },
   {
    "duration": 19,
    "start_time": "2024-02-02T07:12:38.026Z"
   },
   {
    "duration": 7,
    "start_time": "2024-02-02T07:12:38.046Z"
   },
   {
    "duration": 7,
    "start_time": "2024-02-02T07:12:38.064Z"
   },
   {
    "duration": 7,
    "start_time": "2024-02-02T07:12:38.072Z"
   },
   {
    "duration": 5,
    "start_time": "2024-02-02T07:12:38.081Z"
   },
   {
    "duration": 19,
    "start_time": "2024-02-02T07:12:38.087Z"
   },
   {
    "duration": 10,
    "start_time": "2024-02-02T07:12:38.107Z"
   },
   {
    "duration": 7,
    "start_time": "2024-02-02T07:12:38.119Z"
   },
   {
    "duration": 39,
    "start_time": "2024-02-02T07:12:38.127Z"
   },
   {
    "duration": 8,
    "start_time": "2024-02-02T07:12:38.167Z"
   },
   {
    "duration": 6,
    "start_time": "2024-02-02T07:12:38.176Z"
   },
   {
    "duration": 165,
    "start_time": "2024-02-02T07:12:38.183Z"
   },
   {
    "duration": 16,
    "start_time": "2024-02-02T07:12:38.350Z"
   },
   {
    "duration": 5,
    "start_time": "2024-02-02T07:12:38.368Z"
   },
   {
    "duration": 13,
    "start_time": "2024-02-02T07:12:38.375Z"
   },
   {
    "duration": 328,
    "start_time": "2024-02-02T07:12:38.390Z"
   },
   {
    "duration": 27,
    "start_time": "2024-02-02T07:12:38.720Z"
   },
   {
    "duration": 15,
    "start_time": "2024-02-02T07:12:38.764Z"
   },
   {
    "duration": 8,
    "start_time": "2024-02-02T07:12:38.780Z"
   },
   {
    "duration": 193,
    "start_time": "2024-02-02T07:12:38.789Z"
   },
   {
    "duration": 9,
    "start_time": "2024-02-02T07:12:38.984Z"
   },
   {
    "duration": 6,
    "start_time": "2024-02-02T07:12:38.994Z"
   },
   {
    "duration": 7,
    "start_time": "2024-02-02T07:12:39.002Z"
   },
   {
    "duration": 7,
    "start_time": "2024-02-02T07:12:39.010Z"
   },
   {
    "duration": 6,
    "start_time": "2024-02-02T07:12:39.018Z"
   },
   {
    "duration": 12,
    "start_time": "2024-02-02T07:12:39.025Z"
   },
   {
    "duration": 32,
    "start_time": "2024-02-02T07:12:39.038Z"
   },
   {
    "duration": 8,
    "start_time": "2024-02-02T07:12:39.071Z"
   },
   {
    "duration": 127,
    "start_time": "2024-02-02T07:12:39.080Z"
   },
   {
    "duration": 204,
    "start_time": "2024-02-02T07:12:39.209Z"
   },
   {
    "duration": 9,
    "start_time": "2024-02-02T07:12:39.414Z"
   },
   {
    "duration": 4,
    "start_time": "2024-02-02T07:12:39.424Z"
   },
   {
    "duration": 152,
    "start_time": "2024-02-02T07:12:39.429Z"
   },
   {
    "duration": 9,
    "start_time": "2024-02-02T07:12:39.582Z"
   },
   {
    "duration": 198,
    "start_time": "2024-02-02T07:12:39.592Z"
   },
   {
    "duration": 5,
    "start_time": "2024-02-02T07:12:39.791Z"
   },
   {
    "duration": 12,
    "start_time": "2024-02-02T07:12:39.797Z"
   },
   {
    "duration": 6,
    "start_time": "2024-02-02T07:12:39.811Z"
   },
   {
    "duration": 20,
    "start_time": "2024-02-02T07:12:39.818Z"
   },
   {
    "duration": 3,
    "start_time": "2024-02-02T07:12:39.840Z"
   },
   {
    "duration": 152,
    "start_time": "2024-02-02T07:12:39.845Z"
   },
   {
    "duration": 9,
    "start_time": "2024-02-02T07:12:39.999Z"
   },
   {
    "duration": 25,
    "start_time": "2024-02-02T07:12:40.010Z"
   },
   {
    "duration": 14,
    "start_time": "2024-02-02T07:12:40.037Z"
   },
   {
    "duration": 15,
    "start_time": "2024-02-02T07:12:40.053Z"
   },
   {
    "duration": 158,
    "start_time": "2024-02-02T07:12:40.069Z"
   },
   {
    "duration": 7,
    "start_time": "2024-02-02T07:12:40.228Z"
   },
   {
    "duration": 18,
    "start_time": "2024-02-02T07:12:40.236Z"
   },
   {
    "duration": 10,
    "start_time": "2024-02-02T07:12:40.255Z"
   },
   {
    "duration": 161,
    "start_time": "2024-02-02T07:12:40.267Z"
   },
   {
    "duration": 9,
    "start_time": "2024-02-02T07:12:40.430Z"
   },
   {
    "duration": 176,
    "start_time": "2024-02-02T07:12:40.440Z"
   },
   {
    "duration": 159,
    "start_time": "2024-02-02T07:12:40.618Z"
   },
   {
    "duration": 8,
    "start_time": "2024-02-02T07:12:40.779Z"
   },
   {
    "duration": 117,
    "start_time": "2024-02-02T07:12:40.788Z"
   },
   {
    "duration": 142,
    "start_time": "2024-02-02T07:12:40.907Z"
   },
   {
    "duration": 18,
    "start_time": "2024-02-02T07:12:41.051Z"
   },
   {
    "duration": 8,
    "start_time": "2024-02-02T07:12:41.070Z"
   },
   {
    "duration": 149,
    "start_time": "2024-02-02T07:12:41.080Z"
   },
   {
    "duration": 10,
    "start_time": "2024-02-02T07:12:41.231Z"
   },
   {
    "duration": 216,
    "start_time": "2024-02-02T07:12:41.243Z"
   },
   {
    "duration": 15,
    "start_time": "2024-02-02T07:12:41.465Z"
   },
   {
    "duration": 190,
    "start_time": "2024-02-02T07:12:41.481Z"
   },
   {
    "duration": 204,
    "start_time": "2024-02-02T07:12:41.673Z"
   },
   {
    "duration": 5,
    "start_time": "2024-02-02T07:12:41.879Z"
   },
   {
    "duration": 27,
    "start_time": "2024-02-02T07:12:41.885Z"
   },
   {
    "duration": 1070,
    "start_time": "2024-02-02T07:12:41.913Z"
   },
   {
    "duration": 20,
    "start_time": "2024-02-02T07:12:42.984Z"
   },
   {
    "duration": 7,
    "start_time": "2024-02-02T07:12:43.005Z"
   },
   {
    "duration": 18,
    "start_time": "2024-02-02T07:12:43.013Z"
   },
   {
    "duration": 196,
    "start_time": "2024-02-02T07:12:43.033Z"
   },
   {
    "duration": 19,
    "start_time": "2024-02-02T07:12:43.234Z"
   },
   {
    "duration": 168,
    "start_time": "2024-02-02T07:12:43.265Z"
   },
   {
    "duration": 162,
    "start_time": "2024-02-02T07:12:43.435Z"
   },
   {
    "duration": 156,
    "start_time": "2024-02-02T07:14:09.276Z"
   },
   {
    "duration": 223,
    "start_time": "2024-02-02T07:14:21.877Z"
   },
   {
    "duration": 135,
    "start_time": "2024-02-02T07:14:29.478Z"
   },
   {
    "duration": 135,
    "start_time": "2024-02-02T07:14:47.343Z"
   },
   {
    "duration": 159,
    "start_time": "2024-02-02T07:14:53.062Z"
   },
   {
    "duration": 125,
    "start_time": "2024-02-02T07:15:07.110Z"
   },
   {
    "duration": 8,
    "start_time": "2024-02-02T07:15:11.070Z"
   },
   {
    "duration": 3,
    "start_time": "2024-02-02T07:15:15.133Z"
   },
   {
    "duration": 8,
    "start_time": "2024-02-02T07:15:19.301Z"
   },
   {
    "duration": 8,
    "start_time": "2024-02-02T07:15:33.268Z"
   },
   {
    "duration": 661,
    "start_time": "2024-02-02T07:15:41.260Z"
   },
   {
    "duration": 94,
    "start_time": "2024-02-02T07:15:41.922Z"
   },
   {
    "duration": 24,
    "start_time": "2024-02-02T07:15:42.018Z"
   },
   {
    "duration": 25,
    "start_time": "2024-02-02T07:15:42.044Z"
   },
   {
    "duration": 1982,
    "start_time": "2024-02-02T07:15:42.070Z"
   },
   {
    "duration": 10,
    "start_time": "2024-02-02T07:15:44.053Z"
   },
   {
    "duration": 13,
    "start_time": "2024-02-02T07:15:44.064Z"
   },
   {
    "duration": 4,
    "start_time": "2024-02-02T07:15:44.078Z"
   },
   {
    "duration": 4,
    "start_time": "2024-02-02T07:15:44.084Z"
   },
   {
    "duration": 4,
    "start_time": "2024-02-02T07:15:44.091Z"
   },
   {
    "duration": 9,
    "start_time": "2024-02-02T07:15:44.096Z"
   },
   {
    "duration": 6,
    "start_time": "2024-02-02T07:15:44.106Z"
   },
   {
    "duration": 9,
    "start_time": "2024-02-02T07:15:44.113Z"
   },
   {
    "duration": 8,
    "start_time": "2024-02-02T07:15:44.123Z"
   },
   {
    "duration": 5,
    "start_time": "2024-02-02T07:15:44.165Z"
   },
   {
    "duration": 17,
    "start_time": "2024-02-02T07:15:44.172Z"
   },
   {
    "duration": 4,
    "start_time": "2024-02-02T07:15:44.191Z"
   },
   {
    "duration": 8,
    "start_time": "2024-02-02T07:15:44.196Z"
   },
   {
    "duration": 20,
    "start_time": "2024-02-02T07:15:44.205Z"
   },
   {
    "duration": 39,
    "start_time": "2024-02-02T07:15:44.227Z"
   },
   {
    "duration": 6,
    "start_time": "2024-02-02T07:15:44.268Z"
   },
   {
    "duration": 168,
    "start_time": "2024-02-02T07:15:44.276Z"
   },
   {
    "duration": 5,
    "start_time": "2024-02-02T07:15:44.446Z"
   },
   {
    "duration": 15,
    "start_time": "2024-02-02T07:15:44.453Z"
   },
   {
    "duration": 14,
    "start_time": "2024-02-02T07:15:44.469Z"
   },
   {
    "duration": 334,
    "start_time": "2024-02-02T07:15:44.484Z"
   },
   {
    "duration": 23,
    "start_time": "2024-02-02T07:15:44.820Z"
   },
   {
    "duration": 28,
    "start_time": "2024-02-02T07:15:44.847Z"
   },
   {
    "duration": 8,
    "start_time": "2024-02-02T07:15:44.876Z"
   },
   {
    "duration": 155,
    "start_time": "2024-02-02T07:15:44.886Z"
   },
   {
    "duration": 22,
    "start_time": "2024-02-02T07:15:45.043Z"
   },
   {
    "duration": 6,
    "start_time": "2024-02-02T07:15:45.066Z"
   },
   {
    "duration": 22,
    "start_time": "2024-02-02T07:15:45.073Z"
   },
   {
    "duration": 36,
    "start_time": "2024-02-02T07:15:45.096Z"
   },
   {
    "duration": 10,
    "start_time": "2024-02-02T07:15:45.133Z"
   },
   {
    "duration": 12,
    "start_time": "2024-02-02T07:15:45.145Z"
   },
   {
    "duration": 35,
    "start_time": "2024-02-02T07:15:45.158Z"
   },
   {
    "duration": 28,
    "start_time": "2024-02-02T07:15:45.194Z"
   },
   {
    "duration": 122,
    "start_time": "2024-02-02T07:15:45.223Z"
   },
   {
    "duration": 198,
    "start_time": "2024-02-02T07:15:45.347Z"
   },
   {
    "duration": 19,
    "start_time": "2024-02-02T07:15:45.546Z"
   },
   {
    "duration": 3,
    "start_time": "2024-02-02T07:15:45.567Z"
   },
   {
    "duration": 146,
    "start_time": "2024-02-02T07:15:45.572Z"
   },
   {
    "duration": 8,
    "start_time": "2024-02-02T07:15:45.720Z"
   },
   {
    "duration": 210,
    "start_time": "2024-02-02T07:15:45.730Z"
   },
   {
    "duration": 4,
    "start_time": "2024-02-02T07:15:45.942Z"
   },
   {
    "duration": 21,
    "start_time": "2024-02-02T07:15:45.948Z"
   },
   {
    "duration": 8,
    "start_time": "2024-02-02T07:15:45.970Z"
   },
   {
    "duration": 10,
    "start_time": "2024-02-02T07:15:45.979Z"
   },
   {
    "duration": 5,
    "start_time": "2024-02-02T07:15:45.991Z"
   },
   {
    "duration": 171,
    "start_time": "2024-02-02T07:15:45.997Z"
   },
   {
    "duration": 9,
    "start_time": "2024-02-02T07:15:46.169Z"
   },
   {
    "duration": 4,
    "start_time": "2024-02-02T07:15:46.180Z"
   },
   {
    "duration": 8,
    "start_time": "2024-02-02T07:15:46.186Z"
   },
   {
    "duration": 9,
    "start_time": "2024-02-02T07:15:46.196Z"
   },
   {
    "duration": 176,
    "start_time": "2024-02-02T07:15:46.206Z"
   },
   {
    "duration": 8,
    "start_time": "2024-02-02T07:15:46.384Z"
   },
   {
    "duration": 8,
    "start_time": "2024-02-02T07:15:46.393Z"
   },
   {
    "duration": 7,
    "start_time": "2024-02-02T07:15:46.402Z"
   },
   {
    "duration": 174,
    "start_time": "2024-02-02T07:15:46.410Z"
   },
   {
    "duration": 9,
    "start_time": "2024-02-02T07:15:46.586Z"
   },
   {
    "duration": 170,
    "start_time": "2024-02-02T07:15:46.596Z"
   },
   {
    "duration": 161,
    "start_time": "2024-02-02T07:15:46.768Z"
   },
   {
    "duration": 7,
    "start_time": "2024-02-02T07:15:46.930Z"
   },
   {
    "duration": 113,
    "start_time": "2024-02-02T07:15:46.939Z"
   },
   {
    "duration": 166,
    "start_time": "2024-02-02T07:15:47.054Z"
   },
   {
    "duration": 9,
    "start_time": "2024-02-02T07:15:47.221Z"
   },
   {
    "duration": 8,
    "start_time": "2024-02-02T07:15:47.232Z"
   },
   {
    "duration": 164,
    "start_time": "2024-02-02T07:15:47.242Z"
   },
   {
    "duration": 7,
    "start_time": "2024-02-02T07:15:47.408Z"
   },
   {
    "duration": 210,
    "start_time": "2024-02-02T07:15:47.417Z"
   },
   {
    "duration": 15,
    "start_time": "2024-02-02T07:15:47.628Z"
   },
   {
    "duration": 198,
    "start_time": "2024-02-02T07:15:47.644Z"
   },
   {
    "duration": 174,
    "start_time": "2024-02-02T07:15:47.843Z"
   },
   {
    "duration": 6,
    "start_time": "2024-02-02T07:15:48.018Z"
   },
   {
    "duration": 41,
    "start_time": "2024-02-02T07:15:48.025Z"
   },
   {
    "duration": 1056,
    "start_time": "2024-02-02T07:15:48.068Z"
   },
   {
    "duration": 24,
    "start_time": "2024-02-02T07:15:49.125Z"
   },
   {
    "duration": 21,
    "start_time": "2024-02-02T07:15:49.150Z"
   },
   {
    "duration": 21,
    "start_time": "2024-02-02T07:15:49.173Z"
   },
   {
    "duration": 205,
    "start_time": "2024-02-02T07:15:49.195Z"
   },
   {
    "duration": 18,
    "start_time": "2024-02-02T07:15:49.405Z"
   },
   {
    "duration": 173,
    "start_time": "2024-02-02T07:15:49.424Z"
   },
   {
    "duration": 169,
    "start_time": "2024-02-02T07:15:49.599Z"
   },
   {
    "duration": 2,
    "start_time": "2024-02-02T07:16:22.923Z"
   },
   {
    "duration": 88,
    "start_time": "2024-02-02T07:16:22.930Z"
   },
   {
    "duration": 20,
    "start_time": "2024-02-02T07:16:23.020Z"
   },
   {
    "duration": 28,
    "start_time": "2024-02-02T07:16:23.042Z"
   },
   {
    "duration": 1917,
    "start_time": "2024-02-02T07:16:23.072Z"
   },
   {
    "duration": 9,
    "start_time": "2024-02-02T07:16:24.991Z"
   },
   {
    "duration": 10,
    "start_time": "2024-02-02T07:16:25.001Z"
   },
   {
    "duration": 5,
    "start_time": "2024-02-02T07:16:25.013Z"
   },
   {
    "duration": 5,
    "start_time": "2024-02-02T07:16:25.019Z"
   },
   {
    "duration": 5,
    "start_time": "2024-02-02T07:16:25.025Z"
   },
   {
    "duration": 40,
    "start_time": "2024-02-02T07:16:25.031Z"
   },
   {
    "duration": 8,
    "start_time": "2024-02-02T07:16:25.073Z"
   },
   {
    "duration": 18,
    "start_time": "2024-02-02T07:16:25.082Z"
   },
   {
    "duration": 9,
    "start_time": "2024-02-02T07:16:25.101Z"
   },
   {
    "duration": 6,
    "start_time": "2024-02-02T07:16:25.113Z"
   },
   {
    "duration": 11,
    "start_time": "2024-02-02T07:16:25.120Z"
   },
   {
    "duration": 5,
    "start_time": "2024-02-02T07:16:25.133Z"
   },
   {
    "duration": 11,
    "start_time": "2024-02-02T07:16:25.167Z"
   },
   {
    "duration": 21,
    "start_time": "2024-02-02T07:16:25.179Z"
   },
   {
    "duration": 6,
    "start_time": "2024-02-02T07:16:25.201Z"
   },
   {
    "duration": 5,
    "start_time": "2024-02-02T07:16:25.208Z"
   },
   {
    "duration": 185,
    "start_time": "2024-02-02T07:16:25.215Z"
   },
   {
    "duration": 6,
    "start_time": "2024-02-02T07:16:25.402Z"
   },
   {
    "duration": 4,
    "start_time": "2024-02-02T07:16:25.410Z"
   },
   {
    "duration": 15,
    "start_time": "2024-02-02T07:16:25.416Z"
   },
   {
    "duration": 420,
    "start_time": "2024-02-02T07:16:25.433Z"
   },
   {
    "duration": 26,
    "start_time": "2024-02-02T07:16:25.854Z"
   },
   {
    "duration": 15,
    "start_time": "2024-02-02T07:16:25.882Z"
   },
   {
    "duration": 10,
    "start_time": "2024-02-02T07:16:25.898Z"
   },
   {
    "duration": 173,
    "start_time": "2024-02-02T07:16:25.909Z"
   },
   {
    "duration": 9,
    "start_time": "2024-02-02T07:16:26.084Z"
   },
   {
    "duration": 15,
    "start_time": "2024-02-02T07:16:26.094Z"
   },
   {
    "duration": 6,
    "start_time": "2024-02-02T07:16:26.111Z"
   },
   {
    "duration": 7,
    "start_time": "2024-02-02T07:16:26.119Z"
   },
   {
    "duration": 7,
    "start_time": "2024-02-02T07:16:26.128Z"
   },
   {
    "duration": 35,
    "start_time": "2024-02-02T07:16:26.136Z"
   },
   {
    "duration": 11,
    "start_time": "2024-02-02T07:16:26.172Z"
   },
   {
    "duration": 14,
    "start_time": "2024-02-02T07:16:26.185Z"
   },
   {
    "duration": 126,
    "start_time": "2024-02-02T07:16:26.200Z"
   },
   {
    "duration": 136,
    "start_time": "2024-02-02T07:16:26.327Z"
   },
   {
    "duration": 8,
    "start_time": "2024-02-02T07:16:26.465Z"
   },
   {
    "duration": 25,
    "start_time": "2024-02-02T07:16:26.477Z"
   },
   {
    "duration": 165,
    "start_time": "2024-02-02T07:16:26.503Z"
   },
   {
    "duration": 9,
    "start_time": "2024-02-02T07:16:26.669Z"
   },
   {
    "duration": 179,
    "start_time": "2024-02-02T07:16:26.679Z"
   },
   {
    "duration": 7,
    "start_time": "2024-02-02T07:16:26.859Z"
   },
   {
    "duration": 32,
    "start_time": "2024-02-02T07:16:26.868Z"
   },
   {
    "duration": 18,
    "start_time": "2024-02-02T07:16:26.902Z"
   },
   {
    "duration": 24,
    "start_time": "2024-02-02T07:16:26.922Z"
   },
   {
    "duration": 6,
    "start_time": "2024-02-02T07:16:26.947Z"
   },
   {
    "duration": 164,
    "start_time": "2024-02-02T07:16:26.954Z"
   },
   {
    "duration": 9,
    "start_time": "2024-02-02T07:16:31.772Z"
   },
   {
    "duration": 5,
    "start_time": "2024-02-02T07:16:34.045Z"
   },
   {
    "duration": 4,
    "start_time": "2024-02-02T07:16:40.469Z"
   },
   {
    "duration": 5,
    "start_time": "2024-02-02T07:17:27.191Z"
   },
   {
    "duration": 9,
    "start_time": "2024-02-02T07:17:29.534Z"
   },
   {
    "duration": 11,
    "start_time": "2024-02-02T07:17:33.879Z"
   },
   {
    "duration": 149,
    "start_time": "2024-02-02T07:17:40.249Z"
   },
   {
    "duration": 2,
    "start_time": "2024-02-02T07:26:32.939Z"
   },
   {
    "duration": 97,
    "start_time": "2024-02-02T07:26:32.943Z"
   },
   {
    "duration": 25,
    "start_time": "2024-02-02T07:26:33.041Z"
   },
   {
    "duration": 13,
    "start_time": "2024-02-02T07:26:33.068Z"
   },
   {
    "duration": 1950,
    "start_time": "2024-02-02T07:26:33.083Z"
   },
   {
    "duration": 11,
    "start_time": "2024-02-02T07:26:35.035Z"
   },
   {
    "duration": 22,
    "start_time": "2024-02-02T07:26:35.048Z"
   },
   {
    "duration": 5,
    "start_time": "2024-02-02T07:26:35.071Z"
   },
   {
    "duration": 5,
    "start_time": "2024-02-02T07:26:35.078Z"
   },
   {
    "duration": 10,
    "start_time": "2024-02-02T07:26:35.085Z"
   },
   {
    "duration": 11,
    "start_time": "2024-02-02T07:26:35.096Z"
   },
   {
    "duration": 6,
    "start_time": "2024-02-02T07:26:35.109Z"
   },
   {
    "duration": 9,
    "start_time": "2024-02-02T07:26:35.117Z"
   },
   {
    "duration": 7,
    "start_time": "2024-02-02T07:26:35.127Z"
   },
   {
    "duration": 30,
    "start_time": "2024-02-02T07:26:35.135Z"
   },
   {
    "duration": 15,
    "start_time": "2024-02-02T07:26:35.166Z"
   },
   {
    "duration": 5,
    "start_time": "2024-02-02T07:26:35.183Z"
   },
   {
    "duration": 8,
    "start_time": "2024-02-02T07:26:35.189Z"
   },
   {
    "duration": 19,
    "start_time": "2024-02-02T07:26:35.199Z"
   },
   {
    "duration": 6,
    "start_time": "2024-02-02T07:26:35.220Z"
   },
   {
    "duration": 39,
    "start_time": "2024-02-02T07:26:35.227Z"
   },
   {
    "duration": 152,
    "start_time": "2024-02-02T07:26:35.268Z"
   },
   {
    "duration": 4,
    "start_time": "2024-02-02T07:26:35.422Z"
   },
   {
    "duration": 4,
    "start_time": "2024-02-02T07:26:35.429Z"
   },
   {
    "duration": 31,
    "start_time": "2024-02-02T07:26:35.434Z"
   },
   {
    "duration": 315,
    "start_time": "2024-02-02T07:26:35.466Z"
   },
   {
    "duration": 23,
    "start_time": "2024-02-02T07:26:35.783Z"
   },
   {
    "duration": 30,
    "start_time": "2024-02-02T07:26:35.808Z"
   },
   {
    "duration": 9,
    "start_time": "2024-02-02T07:26:35.840Z"
   },
   {
    "duration": 253,
    "start_time": "2024-02-02T07:26:35.850Z"
   },
   {
    "duration": 9,
    "start_time": "2024-02-02T07:26:36.104Z"
   },
   {
    "duration": 14,
    "start_time": "2024-02-02T07:26:36.114Z"
   },
   {
    "duration": 5,
    "start_time": "2024-02-02T07:26:36.130Z"
   },
   {
    "duration": 7,
    "start_time": "2024-02-02T07:26:36.137Z"
   },
   {
    "duration": 23,
    "start_time": "2024-02-02T07:26:36.145Z"
   },
   {
    "duration": 7,
    "start_time": "2024-02-02T07:26:36.170Z"
   },
   {
    "duration": 9,
    "start_time": "2024-02-02T07:26:36.178Z"
   },
   {
    "duration": 7,
    "start_time": "2024-02-02T07:26:36.189Z"
   },
   {
    "duration": 126,
    "start_time": "2024-02-02T07:26:36.197Z"
   },
   {
    "duration": 124,
    "start_time": "2024-02-02T07:26:36.325Z"
   },
   {
    "duration": 17,
    "start_time": "2024-02-02T07:26:36.451Z"
   },
   {
    "duration": 10,
    "start_time": "2024-02-02T07:26:36.469Z"
   },
   {
    "duration": 142,
    "start_time": "2024-02-02T07:26:36.481Z"
   },
   {
    "duration": 9,
    "start_time": "2024-02-02T07:26:36.625Z"
   },
   {
    "duration": 168,
    "start_time": "2024-02-02T07:26:36.636Z"
   },
   {
    "duration": 6,
    "start_time": "2024-02-02T07:26:36.806Z"
   },
   {
    "duration": 13,
    "start_time": "2024-02-02T07:26:36.813Z"
   },
   {
    "duration": 8,
    "start_time": "2024-02-02T07:26:36.827Z"
   },
   {
    "duration": 33,
    "start_time": "2024-02-02T07:26:36.837Z"
   },
   {
    "duration": 5,
    "start_time": "2024-02-02T07:26:36.872Z"
   },
   {
    "duration": 144,
    "start_time": "2024-02-02T07:26:36.879Z"
   },
   {
    "duration": 8,
    "start_time": "2024-02-02T07:26:37.025Z"
   },
   {
    "duration": 4,
    "start_time": "2024-02-02T07:26:37.035Z"
   },
   {
    "duration": 25,
    "start_time": "2024-02-02T07:26:37.041Z"
   },
   {
    "duration": 11,
    "start_time": "2024-02-02T07:26:37.067Z"
   },
   {
    "duration": 156,
    "start_time": "2024-02-02T07:26:37.080Z"
   },
   {
    "duration": 7,
    "start_time": "2024-02-02T07:26:37.237Z"
   },
   {
    "duration": 19,
    "start_time": "2024-02-02T07:26:37.246Z"
   },
   {
    "duration": 6,
    "start_time": "2024-02-02T07:26:41.598Z"
   },
   {
    "duration": 153,
    "start_time": "2024-02-02T07:27:17.766Z"
   },
   {
    "duration": 9,
    "start_time": "2024-02-02T07:27:20.421Z"
   },
   {
    "duration": 173,
    "start_time": "2024-02-02T07:27:26.785Z"
   },
   {
    "duration": 160,
    "start_time": "2024-02-02T07:27:33.681Z"
   },
   {
    "duration": 149,
    "start_time": "2024-02-02T07:27:47.404Z"
   },
   {
    "duration": 9,
    "start_time": "2024-02-02T07:27:53.976Z"
   },
   {
    "duration": 205,
    "start_time": "2024-02-02T07:28:01.183Z"
   },
   {
    "duration": 152,
    "start_time": "2024-02-02T07:28:08.064Z"
   },
   {
    "duration": 9,
    "start_time": "2024-02-02T07:28:11.969Z"
   },
   {
    "duration": 8,
    "start_time": "2024-02-02T07:28:17.991Z"
   },
   {
    "duration": 133,
    "start_time": "2024-02-02T07:28:20.832Z"
   },
   {
    "duration": 130,
    "start_time": "2024-02-02T07:28:24.926Z"
   },
   {
    "duration": 9,
    "start_time": "2024-02-02T07:28:43.038Z"
   },
   {
    "duration": 147,
    "start_time": "2024-02-02T07:28:45.940Z"
   },
   {
    "duration": 11,
    "start_time": "2024-02-02T07:29:49.737Z"
   },
   {
    "duration": 9,
    "start_time": "2024-02-02T07:29:49.750Z"
   },
   {
    "duration": 163,
    "start_time": "2024-02-02T07:29:49.761Z"
   },
   {
    "duration": 9,
    "start_time": "2024-02-02T07:29:49.925Z"
   },
   {
    "duration": 159,
    "start_time": "2024-02-02T07:29:49.936Z"
   },
   {
    "duration": 153,
    "start_time": "2024-02-02T07:29:50.096Z"
   },
   {
    "duration": 17,
    "start_time": "2024-02-02T07:29:50.251Z"
   },
   {
    "duration": 106,
    "start_time": "2024-02-02T07:29:50.270Z"
   },
   {
    "duration": 143,
    "start_time": "2024-02-02T07:29:50.378Z"
   },
   {
    "duration": 8,
    "start_time": "2024-02-02T07:29:50.522Z"
   },
   {
    "duration": 9,
    "start_time": "2024-02-02T07:29:50.531Z"
   },
   {
    "duration": 155,
    "start_time": "2024-02-02T07:29:50.542Z"
   },
   {
    "duration": 9,
    "start_time": "2024-02-02T07:29:50.699Z"
   },
   {
    "duration": 260,
    "start_time": "2024-02-02T07:29:50.709Z"
   },
   {
    "duration": 16,
    "start_time": "2024-02-02T07:29:50.971Z"
   },
   {
    "duration": 208,
    "start_time": "2024-02-02T07:29:50.988Z"
   },
   {
    "duration": 189,
    "start_time": "2024-02-02T07:29:51.198Z"
   },
   {
    "duration": 5,
    "start_time": "2024-02-02T07:29:51.389Z"
   },
   {
    "duration": 28,
    "start_time": "2024-02-02T07:29:51.395Z"
   },
   {
    "duration": 1052,
    "start_time": "2024-02-02T07:29:51.425Z"
   },
   {
    "duration": 20,
    "start_time": "2024-02-02T07:29:52.479Z"
   },
   {
    "duration": 7,
    "start_time": "2024-02-02T07:29:52.501Z"
   },
   {
    "duration": 26,
    "start_time": "2024-02-02T07:29:52.509Z"
   },
   {
    "duration": 188,
    "start_time": "2024-02-02T07:29:52.538Z"
   },
   {
    "duration": 18,
    "start_time": "2024-02-02T07:29:52.728Z"
   },
   {
    "duration": 162,
    "start_time": "2024-02-02T07:29:52.748Z"
   },
   {
    "duration": 163,
    "start_time": "2024-02-02T07:29:52.912Z"
   },
   {
    "duration": 7,
    "start_time": "2024-02-02T07:30:31.836Z"
   },
   {
    "duration": 673,
    "start_time": "2024-02-02T07:34:18.680Z"
   },
   {
    "duration": 96,
    "start_time": "2024-02-02T07:34:19.355Z"
   },
   {
    "duration": 35,
    "start_time": "2024-02-02T07:34:19.453Z"
   },
   {
    "duration": 17,
    "start_time": "2024-02-02T07:34:19.491Z"
   },
   {
    "duration": 2094,
    "start_time": "2024-02-02T07:34:19.510Z"
   },
   {
    "duration": 10,
    "start_time": "2024-02-02T07:34:21.605Z"
   },
   {
    "duration": 11,
    "start_time": "2024-02-02T07:34:21.616Z"
   },
   {
    "duration": 5,
    "start_time": "2024-02-02T07:34:21.628Z"
   },
   {
    "duration": 4,
    "start_time": "2024-02-02T07:34:21.634Z"
   },
   {
    "duration": 5,
    "start_time": "2024-02-02T07:34:21.640Z"
   },
   {
    "duration": 25,
    "start_time": "2024-02-02T07:34:21.646Z"
   },
   {
    "duration": 11,
    "start_time": "2024-02-02T07:34:21.673Z"
   },
   {
    "duration": 6,
    "start_time": "2024-02-02T07:34:21.686Z"
   },
   {
    "duration": 14,
    "start_time": "2024-02-02T07:34:21.694Z"
   },
   {
    "duration": 9,
    "start_time": "2024-02-02T07:34:21.709Z"
   },
   {
    "duration": 14,
    "start_time": "2024-02-02T07:34:21.719Z"
   },
   {
    "duration": 5,
    "start_time": "2024-02-02T07:34:21.734Z"
   },
   {
    "duration": 27,
    "start_time": "2024-02-02T07:34:21.740Z"
   },
   {
    "duration": 22,
    "start_time": "2024-02-02T07:34:21.769Z"
   },
   {
    "duration": 6,
    "start_time": "2024-02-02T07:34:21.792Z"
   },
   {
    "duration": 5,
    "start_time": "2024-02-02T07:34:21.800Z"
   },
   {
    "duration": 179,
    "start_time": "2024-02-02T07:34:21.806Z"
   },
   {
    "duration": 5,
    "start_time": "2024-02-02T07:34:21.987Z"
   },
   {
    "duration": 5,
    "start_time": "2024-02-02T07:34:21.993Z"
   },
   {
    "duration": 11,
    "start_time": "2024-02-02T07:34:22.000Z"
   },
   {
    "duration": 347,
    "start_time": "2024-02-02T07:34:22.012Z"
   },
   {
    "duration": 22,
    "start_time": "2024-02-02T07:34:22.361Z"
   },
   {
    "duration": 19,
    "start_time": "2024-02-02T07:34:22.389Z"
   },
   {
    "duration": 8,
    "start_time": "2024-02-02T07:34:22.409Z"
   },
   {
    "duration": 163,
    "start_time": "2024-02-02T07:34:22.419Z"
   },
   {
    "duration": 8,
    "start_time": "2024-02-02T07:34:22.584Z"
   },
   {
    "duration": 5,
    "start_time": "2024-02-02T07:34:22.594Z"
   },
   {
    "duration": 6,
    "start_time": "2024-02-02T07:34:22.601Z"
   },
   {
    "duration": 7,
    "start_time": "2024-02-02T07:34:22.608Z"
   },
   {
    "duration": 7,
    "start_time": "2024-02-02T07:34:22.616Z"
   },
   {
    "duration": 10,
    "start_time": "2024-02-02T07:34:22.625Z"
   },
   {
    "duration": 8,
    "start_time": "2024-02-02T07:34:22.665Z"
   },
   {
    "duration": 10,
    "start_time": "2024-02-02T07:34:22.675Z"
   },
   {
    "duration": 127,
    "start_time": "2024-02-02T07:34:22.686Z"
   },
   {
    "duration": 202,
    "start_time": "2024-02-02T07:34:22.815Z"
   },
   {
    "duration": 8,
    "start_time": "2024-02-02T07:34:23.018Z"
   },
   {
    "duration": 8,
    "start_time": "2024-02-02T07:34:23.028Z"
   },
   {
    "duration": 153,
    "start_time": "2024-02-02T07:34:23.037Z"
   },
   {
    "duration": 8,
    "start_time": "2024-02-02T07:34:23.192Z"
   },
   {
    "duration": 198,
    "start_time": "2024-02-02T07:34:23.201Z"
   },
   {
    "duration": 4,
    "start_time": "2024-02-02T07:34:23.401Z"
   },
   {
    "duration": 17,
    "start_time": "2024-02-02T07:34:23.406Z"
   },
   {
    "duration": 12,
    "start_time": "2024-02-02T07:34:23.424Z"
   },
   {
    "duration": 10,
    "start_time": "2024-02-02T07:34:23.437Z"
   },
   {
    "duration": 17,
    "start_time": "2024-02-02T07:34:23.448Z"
   },
   {
    "duration": 138,
    "start_time": "2024-02-02T07:34:23.466Z"
   },
   {
    "duration": 8,
    "start_time": "2024-02-02T07:34:23.606Z"
   },
   {
    "duration": 4,
    "start_time": "2024-02-02T07:34:23.616Z"
   },
   {
    "duration": 17,
    "start_time": "2024-02-02T07:34:23.621Z"
   },
   {
    "duration": 26,
    "start_time": "2024-02-02T07:34:23.639Z"
   },
   {
    "duration": 149,
    "start_time": "2024-02-02T07:34:23.666Z"
   },
   {
    "duration": 8,
    "start_time": "2024-02-02T07:34:23.817Z"
   },
   {
    "duration": 30,
    "start_time": "2024-02-02T07:34:23.826Z"
   },
   {
    "duration": 9,
    "start_time": "2024-02-02T07:34:23.858Z"
   },
   {
    "duration": 7,
    "start_time": "2024-02-02T07:34:23.869Z"
   },
   {
    "duration": 1293,
    "start_time": "2024-02-02T07:34:23.877Z"
   },
   {
    "duration": 0,
    "start_time": "2024-02-02T07:34:25.172Z"
   },
   {
    "duration": 0,
    "start_time": "2024-02-02T07:34:25.173Z"
   },
   {
    "duration": 0,
    "start_time": "2024-02-02T07:34:25.174Z"
   },
   {
    "duration": 0,
    "start_time": "2024-02-02T07:34:25.175Z"
   },
   {
    "duration": 0,
    "start_time": "2024-02-02T07:34:25.176Z"
   },
   {
    "duration": 0,
    "start_time": "2024-02-02T07:34:25.177Z"
   },
   {
    "duration": 0,
    "start_time": "2024-02-02T07:34:25.177Z"
   },
   {
    "duration": 0,
    "start_time": "2024-02-02T07:34:25.179Z"
   },
   {
    "duration": 0,
    "start_time": "2024-02-02T07:34:25.180Z"
   },
   {
    "duration": 0,
    "start_time": "2024-02-02T07:34:25.181Z"
   },
   {
    "duration": 0,
    "start_time": "2024-02-02T07:34:25.182Z"
   },
   {
    "duration": 0,
    "start_time": "2024-02-02T07:34:25.183Z"
   },
   {
    "duration": 0,
    "start_time": "2024-02-02T07:34:25.184Z"
   },
   {
    "duration": 0,
    "start_time": "2024-02-02T07:34:25.185Z"
   },
   {
    "duration": 0,
    "start_time": "2024-02-02T07:34:25.186Z"
   },
   {
    "duration": 0,
    "start_time": "2024-02-02T07:34:25.186Z"
   },
   {
    "duration": 0,
    "start_time": "2024-02-02T07:34:25.187Z"
   },
   {
    "duration": 0,
    "start_time": "2024-02-02T07:34:25.188Z"
   },
   {
    "duration": 0,
    "start_time": "2024-02-02T07:34:25.189Z"
   },
   {
    "duration": 0,
    "start_time": "2024-02-02T07:34:25.190Z"
   },
   {
    "duration": 0,
    "start_time": "2024-02-02T07:34:25.190Z"
   },
   {
    "duration": 0,
    "start_time": "2024-02-02T07:34:25.191Z"
   },
   {
    "duration": 0,
    "start_time": "2024-02-02T07:34:25.192Z"
   },
   {
    "duration": 0,
    "start_time": "2024-02-02T07:34:25.193Z"
   },
   {
    "duration": 0,
    "start_time": "2024-02-02T07:34:25.193Z"
   },
   {
    "duration": 1157,
    "start_time": "2024-02-02T07:36:37.500Z"
   },
   {
    "duration": 1113,
    "start_time": "2024-02-02T07:36:46.356Z"
   },
   {
    "duration": 861,
    "start_time": "2024-02-02T07:36:57.373Z"
   },
   {
    "duration": 1276,
    "start_time": "2024-02-02T07:37:24.972Z"
   },
   {
    "duration": 1264,
    "start_time": "2024-02-02T07:37:35.797Z"
   },
   {
    "duration": 1204,
    "start_time": "2024-02-02T07:37:41.733Z"
   },
   {
    "duration": 9,
    "start_time": "2024-02-02T07:38:17.932Z"
   },
   {
    "duration": 555,
    "start_time": "2024-02-02T07:38:56.813Z"
   },
   {
    "duration": 688,
    "start_time": "2024-02-02T07:39:09.100Z"
   },
   {
    "duration": 6,
    "start_time": "2024-02-02T07:39:23.035Z"
   },
   {
    "duration": 9,
    "start_time": "2024-02-02T07:39:48.848Z"
   },
   {
    "duration": 1286,
    "start_time": "2024-02-02T07:40:06.630Z"
   },
   {
    "duration": 3,
    "start_time": "2024-02-02T07:40:24.926Z"
   },
   {
    "duration": 3,
    "start_time": "2024-02-02T07:40:53.223Z"
   },
   {
    "duration": 28,
    "start_time": "2024-02-02T07:40:57.360Z"
   },
   {
    "duration": 9,
    "start_time": "2024-02-02T07:41:16.831Z"
   },
   {
    "duration": 28,
    "start_time": "2024-02-02T07:41:22.245Z"
   },
   {
    "duration": 1229,
    "start_time": "2024-02-02T07:42:50.345Z"
   },
   {
    "duration": 22,
    "start_time": "2024-02-02T07:45:26.263Z"
   },
   {
    "duration": 3,
    "start_time": "2024-02-02T07:46:16.055Z"
   },
   {
    "duration": 9,
    "start_time": "2024-02-02T07:46:23.025Z"
   },
   {
    "duration": 9,
    "start_time": "2024-02-02T07:46:53.193Z"
   },
   {
    "duration": 8,
    "start_time": "2024-02-02T07:49:44.279Z"
   },
   {
    "duration": 621,
    "start_time": "2024-02-02T07:53:06.896Z"
   },
   {
    "duration": 100,
    "start_time": "2024-02-02T07:53:07.518Z"
   },
   {
    "duration": 26,
    "start_time": "2024-02-02T07:53:07.620Z"
   },
   {
    "duration": 29,
    "start_time": "2024-02-02T07:53:07.648Z"
   },
   {
    "duration": 1981,
    "start_time": "2024-02-02T07:53:07.679Z"
   },
   {
    "duration": 10,
    "start_time": "2024-02-02T07:53:09.661Z"
   },
   {
    "duration": 13,
    "start_time": "2024-02-02T07:53:09.673Z"
   },
   {
    "duration": 6,
    "start_time": "2024-02-02T07:53:09.687Z"
   },
   {
    "duration": 25,
    "start_time": "2024-02-02T07:53:09.695Z"
   },
   {
    "duration": 8,
    "start_time": "2024-02-02T07:53:09.724Z"
   },
   {
    "duration": 13,
    "start_time": "2024-02-02T07:53:09.733Z"
   },
   {
    "duration": 23,
    "start_time": "2024-02-02T07:53:09.748Z"
   },
   {
    "duration": 8,
    "start_time": "2024-02-02T07:53:09.772Z"
   },
   {
    "duration": 15,
    "start_time": "2024-02-02T07:53:09.790Z"
   },
   {
    "duration": 11,
    "start_time": "2024-02-02T07:53:09.807Z"
   },
   {
    "duration": 16,
    "start_time": "2024-02-02T07:53:09.819Z"
   },
   {
    "duration": 4,
    "start_time": "2024-02-02T07:53:09.837Z"
   },
   {
    "duration": 23,
    "start_time": "2024-02-02T07:53:09.843Z"
   },
   {
    "duration": 21,
    "start_time": "2024-02-02T07:53:09.868Z"
   },
   {
    "duration": 6,
    "start_time": "2024-02-02T07:53:09.891Z"
   },
   {
    "duration": 5,
    "start_time": "2024-02-02T07:53:09.899Z"
   },
   {
    "duration": 190,
    "start_time": "2024-02-02T07:53:09.906Z"
   },
   {
    "duration": 5,
    "start_time": "2024-02-02T07:53:10.097Z"
   },
   {
    "duration": 10,
    "start_time": "2024-02-02T07:53:10.103Z"
   },
   {
    "duration": 17,
    "start_time": "2024-02-02T07:53:10.115Z"
   },
   {
    "duration": 317,
    "start_time": "2024-02-02T07:53:10.133Z"
   },
   {
    "duration": 26,
    "start_time": "2024-02-02T07:53:10.452Z"
   },
   {
    "duration": 14,
    "start_time": "2024-02-02T07:53:10.482Z"
   },
   {
    "duration": 8,
    "start_time": "2024-02-02T07:53:10.498Z"
   },
   {
    "duration": 165,
    "start_time": "2024-02-02T07:53:10.508Z"
   },
   {
    "duration": 8,
    "start_time": "2024-02-02T07:53:10.675Z"
   },
   {
    "duration": 7,
    "start_time": "2024-02-02T07:53:10.684Z"
   },
   {
    "duration": 7,
    "start_time": "2024-02-02T07:53:10.692Z"
   },
   {
    "duration": 7,
    "start_time": "2024-02-02T07:53:10.701Z"
   },
   {
    "duration": 10,
    "start_time": "2024-02-02T07:53:10.709Z"
   },
   {
    "duration": 8,
    "start_time": "2024-02-02T07:53:10.720Z"
   },
   {
    "duration": 43,
    "start_time": "2024-02-02T07:53:10.729Z"
   },
   {
    "duration": 8,
    "start_time": "2024-02-02T07:53:10.773Z"
   },
   {
    "duration": 125,
    "start_time": "2024-02-02T07:53:10.783Z"
   },
   {
    "duration": 218,
    "start_time": "2024-02-02T07:53:10.910Z"
   },
   {
    "duration": 8,
    "start_time": "2024-02-02T07:53:11.129Z"
   },
   {
    "duration": 13,
    "start_time": "2024-02-02T07:53:11.139Z"
   },
   {
    "duration": 156,
    "start_time": "2024-02-02T07:53:11.154Z"
   },
   {
    "duration": 8,
    "start_time": "2024-02-02T07:53:11.312Z"
   },
   {
    "duration": 188,
    "start_time": "2024-02-02T07:53:11.322Z"
   },
   {
    "duration": 6,
    "start_time": "2024-02-02T07:53:11.511Z"
   },
   {
    "duration": 11,
    "start_time": "2024-02-02T07:53:11.518Z"
   },
   {
    "duration": 9,
    "start_time": "2024-02-02T07:53:11.531Z"
   },
   {
    "duration": 10,
    "start_time": "2024-02-02T07:53:11.565Z"
   },
   {
    "duration": 6,
    "start_time": "2024-02-02T07:53:11.576Z"
   },
   {
    "duration": 145,
    "start_time": "2024-02-02T07:53:11.584Z"
   },
   {
    "duration": 10,
    "start_time": "2024-02-02T07:53:11.730Z"
   },
   {
    "duration": 8,
    "start_time": "2024-02-02T07:53:11.741Z"
   },
   {
    "duration": 10,
    "start_time": "2024-02-02T07:53:11.765Z"
   },
   {
    "duration": 10,
    "start_time": "2024-02-02T07:53:11.777Z"
   },
   {
    "duration": 171,
    "start_time": "2024-02-02T07:53:11.789Z"
   },
   {
    "duration": 11,
    "start_time": "2024-02-02T07:53:11.961Z"
   },
   {
    "duration": 7,
    "start_time": "2024-02-02T07:53:11.973Z"
   },
   {
    "duration": 6,
    "start_time": "2024-02-02T07:53:11.982Z"
   },
   {
    "duration": 10,
    "start_time": "2024-02-02T07:53:11.989Z"
   },
   {
    "duration": 11,
    "start_time": "2024-02-02T07:53:12.000Z"
   },
   {
    "duration": 18,
    "start_time": "2024-02-02T07:53:12.012Z"
   },
   {
    "duration": 182,
    "start_time": "2024-02-02T07:53:12.031Z"
   },
   {
    "duration": 9,
    "start_time": "2024-02-02T07:53:12.215Z"
   },
   {
    "duration": 186,
    "start_time": "2024-02-02T07:53:12.226Z"
   },
   {
    "duration": 173,
    "start_time": "2024-02-02T07:53:12.414Z"
   },
   {
    "duration": 7,
    "start_time": "2024-02-02T07:53:12.588Z"
   },
   {
    "duration": 121,
    "start_time": "2024-02-02T07:53:12.597Z"
   },
   {
    "duration": 149,
    "start_time": "2024-02-02T07:53:12.720Z"
   },
   {
    "duration": 8,
    "start_time": "2024-02-02T07:53:12.871Z"
   },
   {
    "duration": 10,
    "start_time": "2024-02-02T07:53:12.880Z"
   },
   {
    "duration": 145,
    "start_time": "2024-02-02T07:53:12.891Z"
   },
   {
    "duration": 8,
    "start_time": "2024-02-02T07:53:13.037Z"
   },
   {
    "duration": 235,
    "start_time": "2024-02-02T07:53:13.047Z"
   },
   {
    "duration": 23,
    "start_time": "2024-02-02T07:53:13.284Z"
   },
   {
    "duration": 203,
    "start_time": "2024-02-02T07:53:13.308Z"
   },
   {
    "duration": 198,
    "start_time": "2024-02-02T07:53:13.513Z"
   },
   {
    "duration": 6,
    "start_time": "2024-02-02T07:53:13.712Z"
   },
   {
    "duration": 26,
    "start_time": "2024-02-02T07:53:13.719Z"
   },
   {
    "duration": 1146,
    "start_time": "2024-02-02T07:53:13.747Z"
   },
   {
    "duration": 22,
    "start_time": "2024-02-02T07:53:14.894Z"
   },
   {
    "duration": 7,
    "start_time": "2024-02-02T07:53:14.921Z"
   },
   {
    "duration": 46,
    "start_time": "2024-02-02T07:53:14.930Z"
   },
   {
    "duration": 205,
    "start_time": "2024-02-02T07:53:14.978Z"
   },
   {
    "duration": 25,
    "start_time": "2024-02-02T07:53:15.185Z"
   },
   {
    "duration": 196,
    "start_time": "2024-02-02T07:53:15.212Z"
   },
   {
    "duration": 171,
    "start_time": "2024-02-02T07:53:15.410Z"
   },
   {
    "duration": 147,
    "start_time": "2024-02-02T07:54:32.305Z"
   },
   {
    "duration": 211,
    "start_time": "2024-02-02T07:56:42.729Z"
   },
   {
    "duration": 324,
    "start_time": "2024-02-02T07:57:03.513Z"
   },
   {
    "duration": 156,
    "start_time": "2024-02-02T07:57:16.784Z"
   },
   {
    "duration": 238,
    "start_time": "2024-02-02T07:57:35.018Z"
   },
   {
    "duration": 68,
    "start_time": "2024-02-02T07:57:55.364Z"
   },
   {
    "duration": 81,
    "start_time": "2024-02-02T07:58:02.563Z"
   },
   {
    "duration": 173,
    "start_time": "2024-02-02T08:00:37.950Z"
   },
   {
    "duration": 278,
    "start_time": "2024-02-02T08:01:21.455Z"
   },
   {
    "duration": 68,
    "start_time": "2024-02-02T08:02:49.933Z"
   },
   {
    "duration": 102,
    "start_time": "2024-02-02T08:03:09.514Z"
   },
   {
    "duration": 291,
    "start_time": "2024-02-02T08:03:16.535Z"
   },
   {
    "duration": 780,
    "start_time": "2024-02-02T08:30:27.746Z"
   },
   {
    "duration": 97,
    "start_time": "2024-02-02T08:30:28.528Z"
   },
   {
    "duration": 23,
    "start_time": "2024-02-02T08:30:28.627Z"
   },
   {
    "duration": 23,
    "start_time": "2024-02-02T08:30:28.652Z"
   },
   {
    "duration": 1991,
    "start_time": "2024-02-02T08:30:28.677Z"
   },
   {
    "duration": 10,
    "start_time": "2024-02-02T08:30:30.669Z"
   },
   {
    "duration": 39,
    "start_time": "2024-02-02T08:30:30.680Z"
   },
   {
    "duration": 28,
    "start_time": "2024-02-02T08:30:30.720Z"
   },
   {
    "duration": 55,
    "start_time": "2024-02-02T08:30:30.749Z"
   },
   {
    "duration": 45,
    "start_time": "2024-02-02T08:30:30.807Z"
   },
   {
    "duration": 51,
    "start_time": "2024-02-02T08:30:30.853Z"
   },
   {
    "duration": 79,
    "start_time": "2024-02-02T08:30:30.905Z"
   },
   {
    "duration": 59,
    "start_time": "2024-02-02T08:30:30.986Z"
   },
   {
    "duration": 56,
    "start_time": "2024-02-02T08:30:31.046Z"
   },
   {
    "duration": 37,
    "start_time": "2024-02-02T08:30:31.103Z"
   },
   {
    "duration": 44,
    "start_time": "2024-02-02T08:30:31.141Z"
   },
   {
    "duration": 61,
    "start_time": "2024-02-02T08:30:31.187Z"
   },
   {
    "duration": 37,
    "start_time": "2024-02-02T08:30:31.250Z"
   },
   {
    "duration": 43,
    "start_time": "2024-02-02T08:30:31.288Z"
   },
   {
    "duration": 21,
    "start_time": "2024-02-02T08:30:31.333Z"
   },
   {
    "duration": 27,
    "start_time": "2024-02-02T08:30:31.356Z"
   },
   {
    "duration": 159,
    "start_time": "2024-02-02T08:30:31.385Z"
   },
   {
    "duration": 5,
    "start_time": "2024-02-02T08:30:31.546Z"
   },
   {
    "duration": 25,
    "start_time": "2024-02-02T08:30:31.552Z"
   },
   {
    "duration": 46,
    "start_time": "2024-02-02T08:30:31.578Z"
   },
   {
    "duration": 320,
    "start_time": "2024-02-02T08:30:31.625Z"
   },
   {
    "duration": 25,
    "start_time": "2024-02-02T08:30:31.947Z"
   },
   {
    "duration": 28,
    "start_time": "2024-02-02T08:30:31.976Z"
   },
   {
    "duration": 9,
    "start_time": "2024-02-02T08:30:32.006Z"
   },
   {
    "duration": 157,
    "start_time": "2024-02-02T08:30:32.016Z"
   },
   {
    "duration": 9,
    "start_time": "2024-02-02T08:30:32.174Z"
   },
   {
    "duration": 17,
    "start_time": "2024-02-02T08:30:32.185Z"
   },
   {
    "duration": 9,
    "start_time": "2024-02-02T08:30:32.203Z"
   },
   {
    "duration": 13,
    "start_time": "2024-02-02T08:30:32.213Z"
   },
   {
    "duration": 13,
    "start_time": "2024-02-02T08:30:32.228Z"
   },
   {
    "duration": 8,
    "start_time": "2024-02-02T08:30:32.242Z"
   },
   {
    "duration": 21,
    "start_time": "2024-02-02T08:30:32.251Z"
   },
   {
    "duration": 10,
    "start_time": "2024-02-02T08:30:32.273Z"
   },
   {
    "duration": 129,
    "start_time": "2024-02-02T08:30:32.284Z"
   },
   {
    "duration": 219,
    "start_time": "2024-02-02T08:30:32.415Z"
   },
   {
    "duration": 7,
    "start_time": "2024-02-02T08:30:32.636Z"
   },
   {
    "duration": 21,
    "start_time": "2024-02-02T08:30:32.645Z"
   },
   {
    "duration": 142,
    "start_time": "2024-02-02T08:30:32.668Z"
   },
   {
    "duration": 8,
    "start_time": "2024-02-02T08:30:32.812Z"
   },
   {
    "duration": 184,
    "start_time": "2024-02-02T08:30:32.822Z"
   },
   {
    "duration": 6,
    "start_time": "2024-02-02T08:30:33.007Z"
   },
   {
    "duration": 15,
    "start_time": "2024-02-02T08:30:33.014Z"
   },
   {
    "duration": 8,
    "start_time": "2024-02-02T08:30:33.030Z"
   },
   {
    "duration": 27,
    "start_time": "2024-02-02T08:30:33.040Z"
   },
   {
    "duration": 5,
    "start_time": "2024-02-02T08:30:33.069Z"
   },
   {
    "duration": 140,
    "start_time": "2024-02-02T08:30:33.076Z"
   },
   {
    "duration": 9,
    "start_time": "2024-02-02T08:30:33.217Z"
   },
   {
    "duration": 4,
    "start_time": "2024-02-02T08:30:33.228Z"
   },
   {
    "duration": 10,
    "start_time": "2024-02-02T08:30:33.233Z"
   },
   {
    "duration": 28,
    "start_time": "2024-02-02T08:30:33.244Z"
   },
   {
    "duration": 165,
    "start_time": "2024-02-02T08:30:33.273Z"
   },
   {
    "duration": 9,
    "start_time": "2024-02-02T08:30:33.440Z"
   },
   {
    "duration": 20,
    "start_time": "2024-02-02T08:30:33.450Z"
   },
   {
    "duration": 14,
    "start_time": "2024-02-02T08:30:33.471Z"
   },
   {
    "duration": 7,
    "start_time": "2024-02-02T08:30:33.486Z"
   },
   {
    "duration": 9,
    "start_time": "2024-02-02T08:30:33.495Z"
   },
   {
    "duration": 8,
    "start_time": "2024-02-02T08:30:33.506Z"
   },
   {
    "duration": 176,
    "start_time": "2024-02-02T08:30:33.516Z"
   },
   {
    "duration": 8,
    "start_time": "2024-02-02T08:30:33.694Z"
   },
   {
    "duration": 177,
    "start_time": "2024-02-02T08:30:33.704Z"
   },
   {
    "duration": 161,
    "start_time": "2024-02-02T08:30:33.883Z"
   },
   {
    "duration": 7,
    "start_time": "2024-02-02T08:30:34.046Z"
   },
   {
    "duration": 114,
    "start_time": "2024-02-02T08:30:34.065Z"
   },
   {
    "duration": 151,
    "start_time": "2024-02-02T08:30:34.180Z"
   },
   {
    "duration": 8,
    "start_time": "2024-02-02T08:30:34.332Z"
   },
   {
    "duration": 7,
    "start_time": "2024-02-02T08:30:34.341Z"
   },
   {
    "duration": 148,
    "start_time": "2024-02-02T08:30:34.350Z"
   },
   {
    "duration": 8,
    "start_time": "2024-02-02T08:30:34.500Z"
   },
   {
    "duration": 232,
    "start_time": "2024-02-02T08:30:34.509Z"
   },
   {
    "duration": 23,
    "start_time": "2024-02-02T08:30:34.743Z"
   },
   {
    "duration": 186,
    "start_time": "2024-02-02T08:30:34.770Z"
   },
   {
    "duration": 207,
    "start_time": "2024-02-02T08:30:34.958Z"
   },
   {
    "duration": 6,
    "start_time": "2024-02-02T08:30:35.166Z"
   },
   {
    "duration": 24,
    "start_time": "2024-02-02T08:30:35.173Z"
   },
   {
    "duration": 644,
    "start_time": "2024-02-02T08:32:03.657Z"
   },
   {
    "duration": 92,
    "start_time": "2024-02-02T08:32:04.303Z"
   },
   {
    "duration": 23,
    "start_time": "2024-02-02T08:32:04.397Z"
   },
   {
    "duration": 20,
    "start_time": "2024-02-02T08:32:04.422Z"
   },
   {
    "duration": 2009,
    "start_time": "2024-02-02T08:32:04.443Z"
   },
   {
    "duration": 9,
    "start_time": "2024-02-02T08:32:06.453Z"
   },
   {
    "duration": 24,
    "start_time": "2024-02-02T08:32:06.464Z"
   },
   {
    "duration": 18,
    "start_time": "2024-02-02T08:32:06.490Z"
   },
   {
    "duration": 33,
    "start_time": "2024-02-02T08:32:06.510Z"
   },
   {
    "duration": 27,
    "start_time": "2024-02-02T08:32:06.546Z"
   },
   {
    "duration": 31,
    "start_time": "2024-02-02T08:32:06.575Z"
   },
   {
    "duration": 21,
    "start_time": "2024-02-02T08:32:06.608Z"
   },
   {
    "duration": 31,
    "start_time": "2024-02-02T08:32:06.631Z"
   },
   {
    "duration": 24,
    "start_time": "2024-02-02T08:32:06.663Z"
   },
   {
    "duration": 21,
    "start_time": "2024-02-02T08:32:06.689Z"
   },
   {
    "duration": 33,
    "start_time": "2024-02-02T08:32:06.712Z"
   },
   {
    "duration": 44,
    "start_time": "2024-02-02T08:32:06.746Z"
   },
   {
    "duration": 22,
    "start_time": "2024-02-02T08:32:06.791Z"
   },
   {
    "duration": 32,
    "start_time": "2024-02-02T08:32:06.815Z"
   },
   {
    "duration": 10,
    "start_time": "2024-02-02T08:32:06.849Z"
   },
   {
    "duration": 17,
    "start_time": "2024-02-02T08:32:06.860Z"
   },
   {
    "duration": 196,
    "start_time": "2024-02-02T08:32:06.879Z"
   },
   {
    "duration": 4,
    "start_time": "2024-02-02T08:32:07.077Z"
   },
   {
    "duration": 31,
    "start_time": "2024-02-02T08:32:07.082Z"
   },
   {
    "duration": 42,
    "start_time": "2024-02-02T08:32:07.115Z"
   },
   {
    "duration": 317,
    "start_time": "2024-02-02T08:32:07.158Z"
   },
   {
    "duration": 24,
    "start_time": "2024-02-02T08:32:07.477Z"
   },
   {
    "duration": 21,
    "start_time": "2024-02-02T08:32:07.505Z"
   },
   {
    "duration": 18,
    "start_time": "2024-02-02T08:32:07.528Z"
   },
   {
    "duration": 182,
    "start_time": "2024-02-02T08:32:07.548Z"
   },
   {
    "duration": 10,
    "start_time": "2024-02-02T08:32:07.732Z"
   },
   {
    "duration": 38,
    "start_time": "2024-02-02T08:32:07.744Z"
   },
   {
    "duration": 28,
    "start_time": "2024-02-02T08:32:07.784Z"
   },
   {
    "duration": 33,
    "start_time": "2024-02-02T08:32:07.814Z"
   },
   {
    "duration": 26,
    "start_time": "2024-02-02T08:32:07.849Z"
   },
   {
    "duration": 34,
    "start_time": "2024-02-02T08:32:07.877Z"
   },
   {
    "duration": 15,
    "start_time": "2024-02-02T08:32:07.913Z"
   },
   {
    "duration": 30,
    "start_time": "2024-02-02T08:32:07.930Z"
   },
   {
    "duration": 130,
    "start_time": "2024-02-02T08:32:07.962Z"
   },
   {
    "duration": 216,
    "start_time": "2024-02-02T08:32:08.094Z"
   },
   {
    "duration": 9,
    "start_time": "2024-02-02T08:32:08.312Z"
   },
   {
    "duration": 32,
    "start_time": "2024-02-02T08:32:08.323Z"
   },
   {
    "duration": 159,
    "start_time": "2024-02-02T08:32:08.357Z"
   },
   {
    "duration": 10,
    "start_time": "2024-02-02T08:32:08.517Z"
   },
   {
    "duration": 193,
    "start_time": "2024-02-02T08:32:08.528Z"
   },
   {
    "duration": 5,
    "start_time": "2024-02-02T08:32:08.723Z"
   },
   {
    "duration": 30,
    "start_time": "2024-02-02T08:32:08.730Z"
   },
   {
    "duration": 16,
    "start_time": "2024-02-02T08:32:08.762Z"
   },
   {
    "duration": 13,
    "start_time": "2024-02-02T08:32:08.779Z"
   },
   {
    "duration": 5,
    "start_time": "2024-02-02T08:32:08.793Z"
   },
   {
    "duration": 148,
    "start_time": "2024-02-02T08:32:08.799Z"
   },
   {
    "duration": 20,
    "start_time": "2024-02-02T08:32:08.948Z"
   },
   {
    "duration": 9,
    "start_time": "2024-02-02T08:32:08.970Z"
   },
   {
    "duration": 52,
    "start_time": "2024-02-02T08:32:08.981Z"
   },
   {
    "duration": 8,
    "start_time": "2024-02-02T08:32:09.035Z"
   },
   {
    "duration": 142,
    "start_time": "2024-02-02T08:32:09.045Z"
   },
   {
    "duration": 7,
    "start_time": "2024-02-02T08:32:09.189Z"
   },
   {
    "duration": 20,
    "start_time": "2024-02-02T08:32:09.198Z"
   },
   {
    "duration": 6,
    "start_time": "2024-02-02T08:32:09.220Z"
   },
   {
    "duration": 7,
    "start_time": "2024-02-02T08:32:09.227Z"
   },
   {
    "duration": 12,
    "start_time": "2024-02-02T08:32:09.236Z"
   },
   {
    "duration": 21,
    "start_time": "2024-02-02T08:32:09.249Z"
   },
   {
    "duration": 174,
    "start_time": "2024-02-02T08:32:09.272Z"
   },
   {
    "duration": 8,
    "start_time": "2024-02-02T08:32:09.447Z"
   },
   {
    "duration": 177,
    "start_time": "2024-02-02T08:32:09.457Z"
   },
   {
    "duration": 160,
    "start_time": "2024-02-02T08:32:09.636Z"
   },
   {
    "duration": 7,
    "start_time": "2024-02-02T08:32:09.797Z"
   },
   {
    "duration": 107,
    "start_time": "2024-02-02T08:32:09.805Z"
   },
   {
    "duration": 140,
    "start_time": "2024-02-02T08:32:09.914Z"
   },
   {
    "duration": 15,
    "start_time": "2024-02-02T08:32:10.056Z"
   },
   {
    "duration": 9,
    "start_time": "2024-02-02T08:32:10.073Z"
   },
   {
    "duration": 144,
    "start_time": "2024-02-02T08:32:10.084Z"
   },
   {
    "duration": 10,
    "start_time": "2024-02-02T08:32:10.230Z"
   },
   {
    "duration": 226,
    "start_time": "2024-02-02T08:32:10.241Z"
   },
   {
    "duration": 16,
    "start_time": "2024-02-02T08:32:10.469Z"
   },
   {
    "duration": 198,
    "start_time": "2024-02-02T08:32:10.486Z"
   },
   {
    "duration": 183,
    "start_time": "2024-02-02T08:32:10.686Z"
   },
   {
    "duration": 6,
    "start_time": "2024-02-02T08:32:10.871Z"
   },
   {
    "duration": 30,
    "start_time": "2024-02-02T08:32:10.878Z"
   },
   {
    "duration": 876115,
    "start_time": "2024-02-02T08:32:10.909Z"
   },
   {
    "duration": 22,
    "start_time": "2024-02-02T08:46:47.026Z"
   },
   {
    "duration": 16,
    "start_time": "2024-02-02T08:46:47.053Z"
   },
   {
    "duration": 33,
    "start_time": "2024-02-02T08:46:47.071Z"
   },
   {
    "duration": 170,
    "start_time": "2024-02-02T08:46:47.105Z"
   },
   {
    "duration": 19,
    "start_time": "2024-02-02T08:46:47.276Z"
   },
   {
    "duration": 310,
    "start_time": "2024-02-02T08:46:47.297Z"
   },
   {
    "duration": 288,
    "start_time": "2024-02-02T08:46:47.609Z"
   },
   {
    "duration": 638,
    "start_time": "2024-02-02T10:25:56.032Z"
   },
   {
    "duration": 97,
    "start_time": "2024-02-02T10:27:20.138Z"
   },
   {
    "duration": 623,
    "start_time": "2024-02-02T10:27:36.854Z"
   },
   {
    "duration": 9,
    "start_time": "2024-02-02T13:24:27.021Z"
   },
   {
    "duration": 107,
    "start_time": "2024-02-02T13:24:44.673Z"
   },
   {
    "duration": 99,
    "start_time": "2024-02-02T13:24:56.899Z"
   },
   {
    "duration": 97,
    "start_time": "2024-02-02T13:25:51.121Z"
   },
   {
    "duration": 118,
    "start_time": "2024-02-02T13:39:53.197Z"
   },
   {
    "duration": 100,
    "start_time": "2024-02-02T13:40:18.055Z"
   },
   {
    "duration": 101,
    "start_time": "2024-02-02T13:40:28.734Z"
   },
   {
    "duration": 131,
    "start_time": "2024-02-02T13:40:44.449Z"
   },
   {
    "duration": 131,
    "start_time": "2024-02-02T13:41:07.597Z"
   },
   {
    "duration": 140,
    "start_time": "2024-02-02T13:42:01.326Z"
   },
   {
    "duration": 124,
    "start_time": "2024-02-02T13:44:32.874Z"
   },
   {
    "duration": 102,
    "start_time": "2024-02-02T13:44:41.422Z"
   },
   {
    "duration": 74,
    "start_time": "2024-02-02T13:47:37.833Z"
   },
   {
    "duration": 163,
    "start_time": "2024-02-02T13:47:56.025Z"
   },
   {
    "duration": 104,
    "start_time": "2024-02-02T13:49:51.251Z"
   },
   {
    "duration": 695,
    "start_time": "2024-02-02T13:52:35.783Z"
   },
   {
    "duration": 101,
    "start_time": "2024-02-02T13:52:36.480Z"
   },
   {
    "duration": 26,
    "start_time": "2024-02-02T13:52:36.583Z"
   },
   {
    "duration": 15,
    "start_time": "2024-02-02T13:52:36.610Z"
   },
   {
    "duration": 2237,
    "start_time": "2024-02-02T13:52:36.627Z"
   },
   {
    "duration": 13,
    "start_time": "2024-02-02T13:52:38.866Z"
   },
   {
    "duration": 11,
    "start_time": "2024-02-02T13:52:38.881Z"
   },
   {
    "duration": 5,
    "start_time": "2024-02-02T13:52:38.894Z"
   },
   {
    "duration": 17,
    "start_time": "2024-02-02T13:52:38.900Z"
   },
   {
    "duration": 9,
    "start_time": "2024-02-02T13:52:38.919Z"
   },
   {
    "duration": 46,
    "start_time": "2024-02-02T13:52:38.929Z"
   },
   {
    "duration": 12,
    "start_time": "2024-02-02T13:52:38.977Z"
   },
   {
    "duration": 8,
    "start_time": "2024-02-02T13:52:38.991Z"
   },
   {
    "duration": 8,
    "start_time": "2024-02-02T13:52:39.001Z"
   },
   {
    "duration": 4,
    "start_time": "2024-02-02T13:52:39.011Z"
   },
   {
    "duration": 12,
    "start_time": "2024-02-02T13:52:39.017Z"
   },
   {
    "duration": 5,
    "start_time": "2024-02-02T13:52:39.030Z"
   },
   {
    "duration": 29,
    "start_time": "2024-02-02T13:52:39.037Z"
   },
   {
    "duration": 30,
    "start_time": "2024-02-02T13:52:39.068Z"
   },
   {
    "duration": 7,
    "start_time": "2024-02-02T13:52:39.099Z"
   },
   {
    "duration": 7,
    "start_time": "2024-02-02T13:52:39.108Z"
   },
   {
    "duration": 204,
    "start_time": "2024-02-02T13:52:39.116Z"
   },
   {
    "duration": 6,
    "start_time": "2024-02-02T13:52:39.322Z"
   },
   {
    "duration": 7,
    "start_time": "2024-02-02T13:52:39.329Z"
   },
   {
    "duration": 34,
    "start_time": "2024-02-02T13:52:39.337Z"
   },
   {
    "duration": 349,
    "start_time": "2024-02-02T13:52:39.373Z"
   },
   {
    "duration": 24,
    "start_time": "2024-02-02T13:52:39.723Z"
   },
   {
    "duration": 28,
    "start_time": "2024-02-02T13:52:39.751Z"
   },
   {
    "duration": 11,
    "start_time": "2024-02-02T13:52:39.781Z"
   },
   {
    "duration": 172,
    "start_time": "2024-02-02T13:52:39.793Z"
   },
   {
    "duration": 19,
    "start_time": "2024-02-02T13:52:39.968Z"
   },
   {
    "duration": 4,
    "start_time": "2024-02-02T13:52:39.990Z"
   },
   {
    "duration": 6,
    "start_time": "2024-02-02T13:52:39.996Z"
   },
   {
    "duration": 7,
    "start_time": "2024-02-02T13:52:40.003Z"
   },
   {
    "duration": 19,
    "start_time": "2024-02-02T13:52:40.011Z"
   },
   {
    "duration": 23,
    "start_time": "2024-02-02T13:52:40.031Z"
   },
   {
    "duration": 14,
    "start_time": "2024-02-02T13:52:40.055Z"
   },
   {
    "duration": 18,
    "start_time": "2024-02-02T13:52:40.072Z"
   },
   {
    "duration": 118,
    "start_time": "2024-02-02T13:52:40.091Z"
   },
   {
    "duration": 229,
    "start_time": "2024-02-02T13:52:40.211Z"
   },
   {
    "duration": 8,
    "start_time": "2024-02-02T13:52:40.442Z"
   },
   {
    "duration": 15,
    "start_time": "2024-02-02T13:52:40.452Z"
   },
   {
    "duration": 160,
    "start_time": "2024-02-02T13:52:40.468Z"
   },
   {
    "duration": 8,
    "start_time": "2024-02-02T13:52:40.629Z"
   },
   {
    "duration": 190,
    "start_time": "2024-02-02T13:52:40.638Z"
   },
   {
    "duration": 4,
    "start_time": "2024-02-02T13:52:40.829Z"
   },
   {
    "duration": 10,
    "start_time": "2024-02-02T13:52:40.835Z"
   },
   {
    "duration": 26,
    "start_time": "2024-02-02T13:52:40.846Z"
   },
   {
    "duration": 16,
    "start_time": "2024-02-02T13:52:40.874Z"
   },
   {
    "duration": 5,
    "start_time": "2024-02-02T13:52:40.892Z"
   },
   {
    "duration": 154,
    "start_time": "2024-02-02T13:52:40.899Z"
   },
   {
    "duration": 20,
    "start_time": "2024-02-02T13:52:41.055Z"
   },
   {
    "duration": 5,
    "start_time": "2024-02-02T13:52:41.077Z"
   },
   {
    "duration": 10,
    "start_time": "2024-02-02T13:52:41.083Z"
   },
   {
    "duration": 8,
    "start_time": "2024-02-02T13:52:41.094Z"
   },
   {
    "duration": 176,
    "start_time": "2024-02-02T13:52:41.103Z"
   },
   {
    "duration": 8,
    "start_time": "2024-02-02T13:52:41.281Z"
   },
   {
    "duration": 6,
    "start_time": "2024-02-02T13:52:41.291Z"
   },
   {
    "duration": 5,
    "start_time": "2024-02-02T13:52:41.299Z"
   },
   {
    "duration": 12,
    "start_time": "2024-02-02T13:52:41.305Z"
   },
   {
    "duration": 8,
    "start_time": "2024-02-02T13:52:41.319Z"
   },
   {
    "duration": 7,
    "start_time": "2024-02-02T13:52:41.328Z"
   },
   {
    "duration": 164,
    "start_time": "2024-02-02T13:52:41.364Z"
   },
   {
    "duration": 8,
    "start_time": "2024-02-02T13:52:41.530Z"
   },
   {
    "duration": 190,
    "start_time": "2024-02-02T13:52:41.540Z"
   },
   {
    "duration": 185,
    "start_time": "2024-02-02T13:52:41.731Z"
   },
   {
    "duration": 7,
    "start_time": "2024-02-02T13:52:41.917Z"
   },
   {
    "duration": 123,
    "start_time": "2024-02-02T13:52:41.925Z"
   },
   {
    "duration": 155,
    "start_time": "2024-02-02T13:52:42.049Z"
   },
   {
    "duration": 8,
    "start_time": "2024-02-02T13:52:42.205Z"
   },
   {
    "duration": 8,
    "start_time": "2024-02-02T13:52:42.214Z"
   },
   {
    "duration": 155,
    "start_time": "2024-02-02T13:52:42.223Z"
   },
   {
    "duration": 13,
    "start_time": "2024-02-02T13:52:42.381Z"
   },
   {
    "duration": 229,
    "start_time": "2024-02-02T13:52:42.396Z"
   },
   {
    "duration": 15,
    "start_time": "2024-02-02T13:52:42.626Z"
   },
   {
    "duration": 221,
    "start_time": "2024-02-02T13:52:42.643Z"
   },
   {
    "duration": 214,
    "start_time": "2024-02-02T13:52:42.866Z"
   },
   {
    "duration": 6,
    "start_time": "2024-02-02T13:52:43.082Z"
   },
   {
    "duration": 26,
    "start_time": "2024-02-02T13:52:43.091Z"
   },
   {
    "duration": 636,
    "start_time": "2024-02-02T13:52:43.119Z"
   },
   {
    "duration": 28,
    "start_time": "2024-02-02T13:52:43.757Z"
   },
   {
    "duration": 106,
    "start_time": "2024-02-02T13:52:43.790Z"
   },
   {
    "duration": 111,
    "start_time": "2024-02-02T13:52:43.897Z"
   },
   {
    "duration": 137,
    "start_time": "2024-02-02T13:52:44.009Z"
   },
   {
    "duration": 143,
    "start_time": "2024-02-02T13:52:44.148Z"
   },
   {
    "duration": 7,
    "start_time": "2024-02-02T13:52:44.293Z"
   },
   {
    "duration": 18,
    "start_time": "2024-02-02T13:52:44.302Z"
   },
   {
    "duration": 198,
    "start_time": "2024-02-02T13:52:44.322Z"
   },
   {
    "duration": 17,
    "start_time": "2024-02-02T13:52:44.522Z"
   },
   {
    "duration": 367,
    "start_time": "2024-02-02T13:52:44.540Z"
   },
   {
    "duration": 293,
    "start_time": "2024-02-02T13:52:44.908Z"
   },
   {
    "duration": 819,
    "start_time": "2024-02-02T20:31:47.493Z"
   },
   {
    "duration": 317,
    "start_time": "2024-02-02T20:31:48.315Z"
   },
   {
    "duration": 26,
    "start_time": "2024-02-02T20:31:48.634Z"
   },
   {
    "duration": 35,
    "start_time": "2024-02-02T20:31:48.661Z"
   },
   {
    "duration": 2061,
    "start_time": "2024-02-02T20:31:48.698Z"
   },
   {
    "duration": 11,
    "start_time": "2024-02-02T20:31:50.760Z"
   },
   {
    "duration": 35,
    "start_time": "2024-02-02T20:31:50.773Z"
   },
   {
    "duration": 52,
    "start_time": "2024-02-02T20:31:50.810Z"
   },
   {
    "duration": 27,
    "start_time": "2024-02-02T20:31:50.864Z"
   },
   {
    "duration": 22,
    "start_time": "2024-02-02T20:31:50.892Z"
   },
   {
    "duration": 29,
    "start_time": "2024-02-02T20:31:50.915Z"
   },
   {
    "duration": 31,
    "start_time": "2024-02-02T20:31:50.946Z"
   },
   {
    "duration": 36,
    "start_time": "2024-02-02T20:31:50.979Z"
   },
   {
    "duration": 24,
    "start_time": "2024-02-02T20:31:51.019Z"
   },
   {
    "duration": 25,
    "start_time": "2024-02-02T20:31:51.044Z"
   },
   {
    "duration": 21,
    "start_time": "2024-02-02T20:31:51.071Z"
   },
   {
    "duration": 18,
    "start_time": "2024-02-02T20:31:51.093Z"
   },
   {
    "duration": 38,
    "start_time": "2024-02-02T20:31:51.112Z"
   },
   {
    "duration": 42,
    "start_time": "2024-02-02T20:31:51.152Z"
   },
   {
    "duration": 11,
    "start_time": "2024-02-02T20:31:51.195Z"
   },
   {
    "duration": 22,
    "start_time": "2024-02-02T20:31:51.208Z"
   },
   {
    "duration": 183,
    "start_time": "2024-02-02T20:31:51.231Z"
   },
   {
    "duration": 5,
    "start_time": "2024-02-02T20:31:51.415Z"
   },
   {
    "duration": 21,
    "start_time": "2024-02-02T20:31:51.421Z"
   },
   {
    "duration": 45,
    "start_time": "2024-02-02T20:31:51.444Z"
   },
   {
    "duration": 320,
    "start_time": "2024-02-02T20:31:51.490Z"
   },
   {
    "duration": 24,
    "start_time": "2024-02-02T20:31:51.812Z"
   },
   {
    "duration": 36,
    "start_time": "2024-02-02T20:31:51.837Z"
   },
   {
    "duration": 8,
    "start_time": "2024-02-02T20:31:51.875Z"
   },
   {
    "duration": 172,
    "start_time": "2024-02-02T20:31:51.884Z"
   },
   {
    "duration": 12,
    "start_time": "2024-02-02T20:31:52.058Z"
   },
   {
    "duration": 29,
    "start_time": "2024-02-02T20:31:52.072Z"
   },
   {
    "duration": 20,
    "start_time": "2024-02-02T20:31:52.103Z"
   },
   {
    "duration": 35,
    "start_time": "2024-02-02T20:31:52.124Z"
   },
   {
    "duration": 20,
    "start_time": "2024-02-02T20:31:52.160Z"
   },
   {
    "duration": 20,
    "start_time": "2024-02-02T20:31:52.182Z"
   },
   {
    "duration": 28,
    "start_time": "2024-02-02T20:31:52.203Z"
   },
   {
    "duration": 20,
    "start_time": "2024-02-02T20:31:52.233Z"
   },
   {
    "duration": 126,
    "start_time": "2024-02-02T20:31:52.254Z"
   },
   {
    "duration": 211,
    "start_time": "2024-02-02T20:31:52.382Z"
   },
   {
    "duration": 9,
    "start_time": "2024-02-02T20:31:52.597Z"
   },
   {
    "duration": 29,
    "start_time": "2024-02-02T20:31:52.607Z"
   },
   {
    "duration": 165,
    "start_time": "2024-02-02T20:31:52.637Z"
   },
   {
    "duration": 8,
    "start_time": "2024-02-02T20:31:52.803Z"
   },
   {
    "duration": 185,
    "start_time": "2024-02-02T20:31:52.813Z"
   },
   {
    "duration": 5,
    "start_time": "2024-02-02T20:31:53.000Z"
   },
   {
    "duration": 20,
    "start_time": "2024-02-02T20:31:53.007Z"
   },
   {
    "duration": 10,
    "start_time": "2024-02-02T20:31:53.029Z"
   },
   {
    "duration": 18,
    "start_time": "2024-02-02T20:31:53.040Z"
   },
   {
    "duration": 4,
    "start_time": "2024-02-02T20:31:53.066Z"
   },
   {
    "duration": 138,
    "start_time": "2024-02-02T20:31:53.072Z"
   },
   {
    "duration": 8,
    "start_time": "2024-02-02T20:31:53.212Z"
   },
   {
    "duration": 6,
    "start_time": "2024-02-02T20:31:53.222Z"
   },
   {
    "duration": 13,
    "start_time": "2024-02-02T20:31:53.230Z"
   },
   {
    "duration": 25,
    "start_time": "2024-02-02T20:31:53.245Z"
   },
   {
    "duration": 154,
    "start_time": "2024-02-02T20:31:53.271Z"
   },
   {
    "duration": 8,
    "start_time": "2024-02-02T20:31:53.426Z"
   },
   {
    "duration": 7,
    "start_time": "2024-02-02T20:31:53.435Z"
   },
   {
    "duration": 24,
    "start_time": "2024-02-02T20:31:53.443Z"
   },
   {
    "duration": 8,
    "start_time": "2024-02-02T20:31:53.469Z"
   },
   {
    "duration": 10,
    "start_time": "2024-02-02T20:31:53.479Z"
   },
   {
    "duration": 9,
    "start_time": "2024-02-02T20:31:53.491Z"
   },
   {
    "duration": 197,
    "start_time": "2024-02-02T20:31:53.501Z"
   },
   {
    "duration": 10,
    "start_time": "2024-02-02T20:31:53.700Z"
   },
   {
    "duration": 178,
    "start_time": "2024-02-02T20:31:53.712Z"
   },
   {
    "duration": 179,
    "start_time": "2024-02-02T20:31:53.892Z"
   },
   {
    "duration": 7,
    "start_time": "2024-02-02T20:31:54.073Z"
   },
   {
    "duration": 123,
    "start_time": "2024-02-02T20:31:54.081Z"
   },
   {
    "duration": 144,
    "start_time": "2024-02-02T20:31:54.205Z"
   },
   {
    "duration": 15,
    "start_time": "2024-02-02T20:31:54.351Z"
   },
   {
    "duration": 8,
    "start_time": "2024-02-02T20:31:54.367Z"
   },
   {
    "duration": 145,
    "start_time": "2024-02-02T20:31:54.376Z"
   },
   {
    "duration": 8,
    "start_time": "2024-02-02T20:31:54.522Z"
   },
   {
    "duration": 237,
    "start_time": "2024-02-02T20:31:54.532Z"
   },
   {
    "duration": 15,
    "start_time": "2024-02-02T20:31:54.771Z"
   },
   {
    "duration": 230,
    "start_time": "2024-02-02T20:31:54.788Z"
   },
   {
    "duration": 188,
    "start_time": "2024-02-02T20:31:55.020Z"
   },
   {
    "duration": 6,
    "start_time": "2024-02-02T20:31:55.209Z"
   },
   {
    "duration": 26,
    "start_time": "2024-02-02T20:31:55.216Z"
   },
   {
    "duration": 646,
    "start_time": "2024-02-02T20:31:55.244Z"
   },
   {
    "duration": 30,
    "start_time": "2024-02-02T20:31:55.892Z"
   },
   {
    "duration": 111,
    "start_time": "2024-02-02T20:31:55.924Z"
   },
   {
    "duration": 120,
    "start_time": "2024-02-02T20:31:56.037Z"
   },
   {
    "duration": 142,
    "start_time": "2024-02-02T20:31:56.159Z"
   },
   {
    "duration": 119,
    "start_time": "2024-02-02T20:31:56.302Z"
   },
   {
    "duration": 8,
    "start_time": "2024-02-02T20:31:56.422Z"
   },
   {
    "duration": 34,
    "start_time": "2024-02-02T20:31:56.432Z"
   },
   {
    "duration": 167,
    "start_time": "2024-02-02T20:31:56.468Z"
   },
   {
    "duration": 33,
    "start_time": "2024-02-02T20:31:56.636Z"
   },
   {
    "duration": 331,
    "start_time": "2024-02-02T20:31:56.671Z"
   },
   {
    "duration": 281,
    "start_time": "2024-02-02T20:31:57.004Z"
   },
   {
    "duration": 6,
    "start_time": "2024-02-02T20:36:49.937Z"
   },
   {
    "duration": 160,
    "start_time": "2024-02-02T20:36:57.061Z"
   },
   {
    "duration": 157,
    "start_time": "2024-02-02T20:37:22.000Z"
   },
   {
    "duration": 161,
    "start_time": "2024-02-02T20:37:27.388Z"
   },
   {
    "duration": 167,
    "start_time": "2024-02-02T20:37:36.664Z"
   },
   {
    "duration": 456,
    "start_time": "2024-02-02T20:38:25.860Z"
   },
   {
    "duration": 694,
    "start_time": "2024-02-02T20:40:50.011Z"
   },
   {
    "duration": 182,
    "start_time": "2024-02-02T20:43:36.716Z"
   },
   {
    "duration": 187,
    "start_time": "2024-02-02T20:43:45.369Z"
   },
   {
    "duration": 619,
    "start_time": "2024-02-02T20:44:19.224Z"
   },
   {
    "duration": 181,
    "start_time": "2024-02-02T20:48:19.086Z"
   },
   {
    "duration": 235,
    "start_time": "2024-02-02T20:48:27.458Z"
   },
   {
    "duration": 215,
    "start_time": "2024-02-02T20:49:55.829Z"
   },
   {
    "duration": 182,
    "start_time": "2024-02-02T20:50:11.112Z"
   },
   {
    "duration": 156,
    "start_time": "2024-02-02T20:50:18.055Z"
   },
   {
    "duration": 185,
    "start_time": "2024-02-02T20:50:24.985Z"
   },
   {
    "duration": 253,
    "start_time": "2024-02-02T20:50:36.295Z"
   },
   {
    "duration": 276,
    "start_time": "2024-02-02T20:51:04.735Z"
   },
   {
    "duration": 5,
    "start_time": "2024-02-02T21:01:44.667Z"
   },
   {
    "duration": 8,
    "start_time": "2024-02-02T21:01:47.690Z"
   },
   {
    "duration": 6,
    "start_time": "2024-02-02T21:01:52.266Z"
   },
   {
    "duration": 10,
    "start_time": "2024-02-02T21:02:01.576Z"
   },
   {
    "duration": 8,
    "start_time": "2024-02-02T21:02:08.051Z"
   },
   {
    "duration": 612,
    "start_time": "2024-02-02T21:02:16.704Z"
   },
   {
    "duration": 96,
    "start_time": "2024-02-02T21:02:17.318Z"
   },
   {
    "duration": 23,
    "start_time": "2024-02-02T21:02:17.416Z"
   },
   {
    "duration": 14,
    "start_time": "2024-02-02T21:02:17.441Z"
   },
   {
    "duration": 1997,
    "start_time": "2024-02-02T21:02:17.466Z"
   },
   {
    "duration": 13,
    "start_time": "2024-02-02T21:02:19.465Z"
   },
   {
    "duration": 38,
    "start_time": "2024-02-02T21:02:19.480Z"
   },
   {
    "duration": 14,
    "start_time": "2024-02-02T21:02:19.520Z"
   },
   {
    "duration": 23,
    "start_time": "2024-02-02T21:02:19.536Z"
   },
   {
    "duration": 5,
    "start_time": "2024-02-02T21:02:19.562Z"
   },
   {
    "duration": 25,
    "start_time": "2024-02-02T21:02:19.569Z"
   },
   {
    "duration": 11,
    "start_time": "2024-02-02T21:02:19.595Z"
   },
   {
    "duration": 12,
    "start_time": "2024-02-02T21:02:19.608Z"
   },
   {
    "duration": 9,
    "start_time": "2024-02-02T21:02:19.622Z"
   },
   {
    "duration": 8,
    "start_time": "2024-02-02T21:02:19.632Z"
   },
   {
    "duration": 19,
    "start_time": "2024-02-02T21:02:19.641Z"
   },
   {
    "duration": 11,
    "start_time": "2024-02-02T21:02:19.662Z"
   },
   {
    "duration": 22,
    "start_time": "2024-02-02T21:02:19.675Z"
   },
   {
    "duration": 35,
    "start_time": "2024-02-02T21:02:19.699Z"
   },
   {
    "duration": 7,
    "start_time": "2024-02-02T21:02:19.736Z"
   },
   {
    "duration": 14,
    "start_time": "2024-02-02T21:02:19.745Z"
   },
   {
    "duration": 145,
    "start_time": "2024-02-02T21:02:19.761Z"
   },
   {
    "duration": 6,
    "start_time": "2024-02-02T21:02:19.908Z"
   },
   {
    "duration": 35,
    "start_time": "2024-02-02T21:02:19.915Z"
   },
   {
    "duration": 16,
    "start_time": "2024-02-02T21:02:19.951Z"
   },
   {
    "duration": 316,
    "start_time": "2024-02-02T21:02:19.969Z"
   },
   {
    "duration": 25,
    "start_time": "2024-02-02T21:02:20.286Z"
   },
   {
    "duration": 15,
    "start_time": "2024-02-02T21:02:20.315Z"
   },
   {
    "duration": 14,
    "start_time": "2024-02-02T21:02:20.331Z"
   },
   {
    "duration": 171,
    "start_time": "2024-02-02T21:02:20.347Z"
   },
   {
    "duration": 9,
    "start_time": "2024-02-02T21:02:20.519Z"
   },
   {
    "duration": 32,
    "start_time": "2024-02-02T21:02:20.530Z"
   },
   {
    "duration": 45,
    "start_time": "2024-02-02T21:02:20.563Z"
   },
   {
    "duration": 49,
    "start_time": "2024-02-02T21:02:20.609Z"
   },
   {
    "duration": 40,
    "start_time": "2024-02-02T21:02:20.660Z"
   },
   {
    "duration": 35,
    "start_time": "2024-02-02T21:02:20.701Z"
   },
   {
    "duration": 35,
    "start_time": "2024-02-02T21:02:20.738Z"
   },
   {
    "duration": 20,
    "start_time": "2024-02-02T21:02:20.775Z"
   },
   {
    "duration": 156,
    "start_time": "2024-02-02T21:02:20.797Z"
   },
   {
    "duration": 223,
    "start_time": "2024-02-02T21:02:20.954Z"
   },
   {
    "duration": 8,
    "start_time": "2024-02-02T21:02:21.179Z"
   },
   {
    "duration": 11,
    "start_time": "2024-02-02T21:02:21.189Z"
   },
   {
    "duration": 158,
    "start_time": "2024-02-02T21:02:21.202Z"
   },
   {
    "duration": 9,
    "start_time": "2024-02-02T21:02:21.365Z"
   },
   {
    "duration": 187,
    "start_time": "2024-02-02T21:02:21.375Z"
   },
   {
    "duration": 4,
    "start_time": "2024-02-02T21:02:21.565Z"
   },
   {
    "duration": 18,
    "start_time": "2024-02-02T21:02:21.571Z"
   },
   {
    "duration": 9,
    "start_time": "2024-02-02T21:02:21.590Z"
   },
   {
    "duration": 24,
    "start_time": "2024-02-02T21:02:21.600Z"
   },
   {
    "duration": 5,
    "start_time": "2024-02-02T21:02:21.625Z"
   },
   {
    "duration": 154,
    "start_time": "2024-02-02T21:02:21.631Z"
   },
   {
    "duration": 9,
    "start_time": "2024-02-02T21:02:21.786Z"
   },
   {
    "duration": 6,
    "start_time": "2024-02-02T21:02:21.797Z"
   },
   {
    "duration": 12,
    "start_time": "2024-02-02T21:02:21.804Z"
   },
   {
    "duration": 11,
    "start_time": "2024-02-02T21:02:21.817Z"
   },
   {
    "duration": 179,
    "start_time": "2024-02-02T21:02:21.829Z"
   },
   {
    "duration": 8,
    "start_time": "2024-02-02T21:02:22.009Z"
   },
   {
    "duration": 12,
    "start_time": "2024-02-02T21:02:22.018Z"
   },
   {
    "duration": 9,
    "start_time": "2024-02-02T21:02:22.032Z"
   },
   {
    "duration": 8,
    "start_time": "2024-02-02T21:02:22.065Z"
   },
   {
    "duration": 9,
    "start_time": "2024-02-02T21:02:22.075Z"
   },
   {
    "duration": 23,
    "start_time": "2024-02-02T21:02:22.085Z"
   },
   {
    "duration": 180,
    "start_time": "2024-02-02T21:02:22.110Z"
   },
   {
    "duration": 9,
    "start_time": "2024-02-02T21:02:22.292Z"
   },
   {
    "duration": 171,
    "start_time": "2024-02-02T21:02:22.302Z"
   },
   {
    "duration": 159,
    "start_time": "2024-02-02T21:02:22.475Z"
   },
   {
    "duration": 8,
    "start_time": "2024-02-02T21:02:22.636Z"
   },
   {
    "duration": 128,
    "start_time": "2024-02-02T21:02:22.645Z"
   },
   {
    "duration": 142,
    "start_time": "2024-02-02T21:02:22.774Z"
   },
   {
    "duration": 8,
    "start_time": "2024-02-02T21:02:22.917Z"
   },
   {
    "duration": 8,
    "start_time": "2024-02-02T21:02:22.926Z"
   },
   {
    "duration": 151,
    "start_time": "2024-02-02T21:02:22.935Z"
   },
   {
    "duration": 9,
    "start_time": "2024-02-02T21:02:23.087Z"
   },
   {
    "duration": 228,
    "start_time": "2024-02-02T21:02:23.097Z"
   },
   {
    "duration": 16,
    "start_time": "2024-02-02T21:02:23.327Z"
   },
   {
    "duration": 312,
    "start_time": "2024-02-02T21:02:23.344Z"
   },
   {
    "duration": 185,
    "start_time": "2024-02-02T21:02:23.658Z"
   },
   {
    "duration": 6,
    "start_time": "2024-02-02T21:02:23.844Z"
   },
   {
    "duration": 34,
    "start_time": "2024-02-02T21:02:23.851Z"
   },
   {
    "duration": 607,
    "start_time": "2024-02-02T21:02:23.886Z"
   },
   {
    "duration": 538,
    "start_time": "2024-02-02T21:02:24.494Z"
   },
   {
    "duration": 7,
    "start_time": "2024-02-02T21:02:25.037Z"
   },
   {
    "duration": 29,
    "start_time": "2024-02-02T21:02:25.045Z"
   },
   {
    "duration": 178,
    "start_time": "2024-02-02T21:02:25.076Z"
   },
   {
    "duration": 23,
    "start_time": "2024-02-02T21:02:25.255Z"
   },
   {
    "duration": 276,
    "start_time": "2024-02-02T21:02:25.280Z"
   },
   {
    "duration": 291,
    "start_time": "2024-02-02T21:02:25.557Z"
   },
   {
    "duration": 783,
    "start_time": "2024-02-03T14:27:55.412Z"
   },
   {
    "duration": 181,
    "start_time": "2024-02-03T14:27:56.199Z"
   },
   {
    "duration": 37,
    "start_time": "2024-02-03T14:27:56.381Z"
   },
   {
    "duration": 18,
    "start_time": "2024-02-03T14:27:56.421Z"
   },
   {
    "duration": 6091,
    "start_time": "2024-02-03T14:27:56.442Z"
   },
   {
    "duration": 30,
    "start_time": "2024-02-03T14:28:02.591Z"
   },
   {
    "duration": 73,
    "start_time": "2024-02-03T14:28:02.626Z"
   },
   {
    "duration": 11,
    "start_time": "2024-02-03T14:28:02.701Z"
   },
   {
    "duration": 18,
    "start_time": "2024-02-03T14:28:02.715Z"
   },
   {
    "duration": 18,
    "start_time": "2024-02-03T14:28:02.793Z"
   },
   {
    "duration": 94,
    "start_time": "2024-02-03T14:28:02.814Z"
   },
   {
    "duration": 13,
    "start_time": "2024-02-03T14:28:02.910Z"
   },
   {
    "duration": 84,
    "start_time": "2024-02-03T14:28:02.925Z"
   },
   {
    "duration": 13,
    "start_time": "2024-02-03T14:28:03.018Z"
   },
   {
    "duration": 78,
    "start_time": "2024-02-03T14:28:03.033Z"
   },
   {
    "duration": 17,
    "start_time": "2024-02-03T14:28:03.114Z"
   },
   {
    "duration": 6,
    "start_time": "2024-02-03T14:28:03.133Z"
   },
   {
    "duration": 17,
    "start_time": "2024-02-03T14:28:03.193Z"
   },
   {
    "duration": 116,
    "start_time": "2024-02-03T14:28:03.212Z"
   },
   {
    "duration": 112,
    "start_time": "2024-02-03T14:28:03.330Z"
   },
   {
    "duration": 57,
    "start_time": "2024-02-03T14:28:03.444Z"
   },
   {
    "duration": 603,
    "start_time": "2024-02-03T14:28:03.506Z"
   },
   {
    "duration": 11,
    "start_time": "2024-02-03T14:28:04.112Z"
   },
   {
    "duration": 76,
    "start_time": "2024-02-03T14:28:04.124Z"
   },
   {
    "duration": 102,
    "start_time": "2024-02-03T14:28:04.203Z"
   },
   {
    "duration": 1111,
    "start_time": "2024-02-03T14:28:04.308Z"
   },
   {
    "duration": 86,
    "start_time": "2024-02-03T14:28:05.422Z"
   },
   {
    "duration": 91,
    "start_time": "2024-02-03T14:28:05.511Z"
   },
   {
    "duration": 16,
    "start_time": "2024-02-03T14:28:05.607Z"
   },
   {
    "duration": 505,
    "start_time": "2024-02-03T14:28:05.627Z"
   },
   {
    "duration": 60,
    "start_time": "2024-02-03T14:28:06.133Z"
   },
   {
    "duration": 35,
    "start_time": "2024-02-03T14:28:06.199Z"
   },
   {
    "duration": 58,
    "start_time": "2024-02-03T14:28:06.236Z"
   },
   {
    "duration": 37,
    "start_time": "2024-02-03T14:28:06.296Z"
   },
   {
    "duration": 59,
    "start_time": "2024-02-03T14:28:06.335Z"
   },
   {
    "duration": 39,
    "start_time": "2024-02-03T14:28:06.397Z"
   },
   {
    "duration": 68,
    "start_time": "2024-02-03T14:28:06.438Z"
   },
   {
    "duration": 13,
    "start_time": "2024-02-03T14:28:06.509Z"
   },
   {
    "duration": 401,
    "start_time": "2024-02-03T14:28:06.524Z"
   },
   {
    "duration": 667,
    "start_time": "2024-02-03T14:28:06.927Z"
   },
   {
    "duration": 13,
    "start_time": "2024-02-03T14:28:07.618Z"
   },
   {
    "duration": 69,
    "start_time": "2024-02-03T14:28:07.633Z"
   },
   {
    "duration": 491,
    "start_time": "2024-02-03T14:28:07.704Z"
   },
   {
    "duration": 30,
    "start_time": "2024-02-03T14:28:08.197Z"
   },
   {
    "duration": 569,
    "start_time": "2024-02-03T14:28:08.229Z"
   },
   {
    "duration": 8,
    "start_time": "2024-02-03T14:28:08.801Z"
   },
   {
    "duration": 15,
    "start_time": "2024-02-03T14:28:08.818Z"
   },
   {
    "duration": 19,
    "start_time": "2024-02-03T14:28:08.895Z"
   },
   {
    "duration": 16,
    "start_time": "2024-02-03T14:28:08.919Z"
   },
   {
    "duration": 74,
    "start_time": "2024-02-03T14:28:08.937Z"
   },
   {
    "duration": 405,
    "start_time": "2024-02-03T14:28:09.013Z"
   },
   {
    "duration": 10,
    "start_time": "2024-02-03T14:28:09.420Z"
   },
   {
    "duration": 68,
    "start_time": "2024-02-03T14:28:09.431Z"
   },
   {
    "duration": 21,
    "start_time": "2024-02-03T14:28:09.503Z"
   },
   {
    "duration": 70,
    "start_time": "2024-02-03T14:28:09.526Z"
   },
   {
    "duration": 493,
    "start_time": "2024-02-03T14:28:09.603Z"
   },
   {
    "duration": 23,
    "start_time": "2024-02-03T14:28:10.104Z"
   },
   {
    "duration": 7,
    "start_time": "2024-02-03T14:28:10.129Z"
   },
   {
    "duration": 68,
    "start_time": "2024-02-03T14:28:10.138Z"
   },
   {
    "duration": 13,
    "start_time": "2024-02-03T14:28:10.214Z"
   },
   {
    "duration": 73,
    "start_time": "2024-02-03T14:28:10.230Z"
   },
   {
    "duration": 27,
    "start_time": "2024-02-03T14:28:10.309Z"
   },
   {
    "duration": 488,
    "start_time": "2024-02-03T14:28:10.337Z"
   },
   {
    "duration": 69,
    "start_time": "2024-02-03T14:28:10.828Z"
   },
   {
    "duration": 512,
    "start_time": "2024-02-03T14:28:10.899Z"
   },
   {
    "duration": 507,
    "start_time": "2024-02-03T14:28:11.414Z"
   },
   {
    "duration": 10,
    "start_time": "2024-02-03T14:28:11.923Z"
   },
   {
    "duration": 329,
    "start_time": "2024-02-03T14:28:11.992Z"
   },
   {
    "duration": 485,
    "start_time": "2024-02-03T14:28:12.324Z"
   },
   {
    "duration": 12,
    "start_time": "2024-02-03T14:28:12.813Z"
   },
   {
    "duration": 9,
    "start_time": "2024-02-03T14:28:12.828Z"
   },
   {
    "duration": 479,
    "start_time": "2024-02-03T14:28:12.839Z"
   },
   {
    "duration": 70,
    "start_time": "2024-02-03T14:28:13.322Z"
   },
   {
    "duration": 703,
    "start_time": "2024-02-03T14:28:13.400Z"
   },
   {
    "duration": 27,
    "start_time": "2024-02-03T14:28:14.107Z"
   },
   {
    "duration": 978,
    "start_time": "2024-02-03T14:28:14.136Z"
   },
   {
    "duration": 603,
    "start_time": "2024-02-03T14:28:15.117Z"
   },
   {
    "duration": 7,
    "start_time": "2024-02-03T14:28:15.723Z"
   },
   {
    "duration": 110,
    "start_time": "2024-02-03T14:28:15.731Z"
   },
   {
    "duration": 2068,
    "start_time": "2024-02-03T14:28:15.842Z"
   },
   {
    "duration": 1621,
    "start_time": "2024-02-03T14:28:17.914Z"
   },
   {
    "duration": 67,
    "start_time": "2024-02-03T14:28:19.536Z"
   },
   {
    "duration": 108,
    "start_time": "2024-02-03T14:28:19.606Z"
   },
   {
    "duration": 577,
    "start_time": "2024-02-03T14:28:19.716Z"
   },
   {
    "duration": 36,
    "start_time": "2024-02-03T14:28:20.295Z"
   },
   {
    "duration": 906,
    "start_time": "2024-02-03T14:28:20.333Z"
   },
   {
    "duration": 840,
    "start_time": "2024-02-03T14:28:21.292Z"
   }
  ],
  "colab": {
   "provenance": []
  },
  "kernelspec": {
   "display_name": "Python 3 (ipykernel)",
   "language": "python",
   "name": "python3"
  },
  "language_info": {
   "codemirror_mode": {
    "name": "ipython",
    "version": 3
   },
   "file_extension": ".py",
   "mimetype": "text/x-python",
   "name": "python",
   "nbconvert_exporter": "python",
   "pygments_lexer": "ipython3",
   "version": "3.9.5"
  },
  "toc": {
   "base_numbering": 1,
   "nav_menu": {},
   "number_sections": true,
   "sideBar": true,
   "skip_h1_title": true,
   "title_cell": "Table of Contents",
   "title_sidebar": "Contents",
   "toc_cell": false,
   "toc_position": {},
   "toc_section_display": true,
   "toc_window_display": false
  }
 },
 "nbformat": 4,
 "nbformat_minor": 1
}
